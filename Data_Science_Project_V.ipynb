{
  "nbformat": 4,
  "nbformat_minor": 0,
  "metadata": {
    "colab": {
      "provenance": [],
      "collapsed_sections": []
    },
    "kernelspec": {
      "name": "python3",
      "display_name": "Python 3"
    },
    "language_info": {
      "name": "python"
    }
  },
  "cells": [
    {
      "cell_type": "markdown",
      "source": [
        "#Mounting"
      ],
      "metadata": {
        "id": "S_zhgN-ZSbfk"
      }
    },
    {
      "cell_type": "code",
      "execution_count": null,
      "metadata": {
        "colab": {
          "base_uri": "https://localhost:8080/"
        },
        "id": "fTxryUeUKuz4",
        "outputId": "2e1dbde8-025b-44c4-aebe-2fdd0fd7d0bd"
      },
      "outputs": [
        {
          "output_type": "stream",
          "name": "stdout",
          "text": [
            "Drive already mounted at /content/drive; to attempt to forcibly remount, call drive.mount(\"/content/drive\", force_remount=True).\n"
          ]
        }
      ],
      "source": [
        "from google.colab import drive\n",
        "drive.mount('/content/drive')\n",
        "import os\n",
        "myDirFiles = \"/content/drive/MyDrive/Pandas\"\n",
        "os.chdir(myDirFiles)"
      ]
    },
    {
      "cell_type": "markdown",
      "source": [
        "#Import Library"
      ],
      "metadata": {
        "id": "Zo8Fyq6HSqTf"
      }
    },
    {
      "cell_type": "code",
      "source": [
        "import os\n",
        "import sys\n",
        "import pandas as pd\n",
        "import numpy as np\n",
        "import seaborn as sns"
      ],
      "metadata": {
        "id": "iVw2WUx-SvHY"
      },
      "execution_count": null,
      "outputs": []
    },
    {
      "cell_type": "markdown",
      "source": [
        "#Data Loading"
      ],
      "metadata": {
        "id": "9UbxIa5JSw9y"
      }
    },
    {
      "cell_type": "code",
      "source": [
        "df = pd.read_csv('marketing-churn.csv')\n",
        "df.head()"
      ],
      "metadata": {
        "colab": {
          "base_uri": "https://localhost:8080/",
          "height": 299
        },
        "id": "s-s7nlFDSzBA",
        "outputId": "49c9d852-7fbc-410c-9842-3c7037c83f95"
      },
      "execution_count": null,
      "outputs": [
        {
          "output_type": "execute_result",
          "data": {
            "text/plain": [
              "      ID  Year_Birth   Education Marital_Status      Income   Kidhome  \\\n",
              "0   1826        1970  Graduation       Divorced  $84,835.00         0   \n",
              "1      1        1961  Graduation         Single  $57,091.00         0   \n",
              "2  10476        1958  Graduation        Married  $67,267.00         0   \n",
              "3   1386        1967  Graduation       Together  $32,474.00         1   \n",
              "4   5371        1989  Graduation         Single  $21,474.00         1   \n",
              "\n",
              "   Teenhome Dt_Customer  Recency  MntWines  ...  NumStorePurchases  \\\n",
              "0         0     6/16/14        0       189  ...                  6   \n",
              "1         0     6/15/14        0       464  ...                  7   \n",
              "2         1     5/13/14        0       134  ...                  5   \n",
              "3         1     5/11/14        0        10  ...                  2   \n",
              "4         0      4/8/14        0         6  ...                  2   \n",
              "\n",
              "   NumWebVisitsMonth  AcceptedCmp3  AcceptedCmp4  AcceptedCmp5  AcceptedCmp1  \\\n",
              "0                  1             0             0             0             0   \n",
              "1                  5             0             0             0             0   \n",
              "2                  2             0             0             0             0   \n",
              "3                  7             0             0             0             0   \n",
              "4                  7             1             0             0             0   \n",
              "\n",
              "   AcceptedCmp2  Response  Complain  Country  \n",
              "0             0         1         0       SP  \n",
              "1             1         1         0       CA  \n",
              "2             0         0         0       US  \n",
              "3             0         0         0      AUS  \n",
              "4             0         1         0       SP  \n",
              "\n",
              "[5 rows x 28 columns]"
            ],
            "text/html": [
              "\n",
              "  <div id=\"df-a4a6bf0e-bd25-41de-8609-53bbb6ed19bf\">\n",
              "    <div class=\"colab-df-container\">\n",
              "      <div>\n",
              "<style scoped>\n",
              "    .dataframe tbody tr th:only-of-type {\n",
              "        vertical-align: middle;\n",
              "    }\n",
              "\n",
              "    .dataframe tbody tr th {\n",
              "        vertical-align: top;\n",
              "    }\n",
              "\n",
              "    .dataframe thead th {\n",
              "        text-align: right;\n",
              "    }\n",
              "</style>\n",
              "<table border=\"1\" class=\"dataframe\">\n",
              "  <thead>\n",
              "    <tr style=\"text-align: right;\">\n",
              "      <th></th>\n",
              "      <th>ID</th>\n",
              "      <th>Year_Birth</th>\n",
              "      <th>Education</th>\n",
              "      <th>Marital_Status</th>\n",
              "      <th>Income</th>\n",
              "      <th>Kidhome</th>\n",
              "      <th>Teenhome</th>\n",
              "      <th>Dt_Customer</th>\n",
              "      <th>Recency</th>\n",
              "      <th>MntWines</th>\n",
              "      <th>...</th>\n",
              "      <th>NumStorePurchases</th>\n",
              "      <th>NumWebVisitsMonth</th>\n",
              "      <th>AcceptedCmp3</th>\n",
              "      <th>AcceptedCmp4</th>\n",
              "      <th>AcceptedCmp5</th>\n",
              "      <th>AcceptedCmp1</th>\n",
              "      <th>AcceptedCmp2</th>\n",
              "      <th>Response</th>\n",
              "      <th>Complain</th>\n",
              "      <th>Country</th>\n",
              "    </tr>\n",
              "  </thead>\n",
              "  <tbody>\n",
              "    <tr>\n",
              "      <th>0</th>\n",
              "      <td>1826</td>\n",
              "      <td>1970</td>\n",
              "      <td>Graduation</td>\n",
              "      <td>Divorced</td>\n",
              "      <td>$84,835.00</td>\n",
              "      <td>0</td>\n",
              "      <td>0</td>\n",
              "      <td>6/16/14</td>\n",
              "      <td>0</td>\n",
              "      <td>189</td>\n",
              "      <td>...</td>\n",
              "      <td>6</td>\n",
              "      <td>1</td>\n",
              "      <td>0</td>\n",
              "      <td>0</td>\n",
              "      <td>0</td>\n",
              "      <td>0</td>\n",
              "      <td>0</td>\n",
              "      <td>1</td>\n",
              "      <td>0</td>\n",
              "      <td>SP</td>\n",
              "    </tr>\n",
              "    <tr>\n",
              "      <th>1</th>\n",
              "      <td>1</td>\n",
              "      <td>1961</td>\n",
              "      <td>Graduation</td>\n",
              "      <td>Single</td>\n",
              "      <td>$57,091.00</td>\n",
              "      <td>0</td>\n",
              "      <td>0</td>\n",
              "      <td>6/15/14</td>\n",
              "      <td>0</td>\n",
              "      <td>464</td>\n",
              "      <td>...</td>\n",
              "      <td>7</td>\n",
              "      <td>5</td>\n",
              "      <td>0</td>\n",
              "      <td>0</td>\n",
              "      <td>0</td>\n",
              "      <td>0</td>\n",
              "      <td>1</td>\n",
              "      <td>1</td>\n",
              "      <td>0</td>\n",
              "      <td>CA</td>\n",
              "    </tr>\n",
              "    <tr>\n",
              "      <th>2</th>\n",
              "      <td>10476</td>\n",
              "      <td>1958</td>\n",
              "      <td>Graduation</td>\n",
              "      <td>Married</td>\n",
              "      <td>$67,267.00</td>\n",
              "      <td>0</td>\n",
              "      <td>1</td>\n",
              "      <td>5/13/14</td>\n",
              "      <td>0</td>\n",
              "      <td>134</td>\n",
              "      <td>...</td>\n",
              "      <td>5</td>\n",
              "      <td>2</td>\n",
              "      <td>0</td>\n",
              "      <td>0</td>\n",
              "      <td>0</td>\n",
              "      <td>0</td>\n",
              "      <td>0</td>\n",
              "      <td>0</td>\n",
              "      <td>0</td>\n",
              "      <td>US</td>\n",
              "    </tr>\n",
              "    <tr>\n",
              "      <th>3</th>\n",
              "      <td>1386</td>\n",
              "      <td>1967</td>\n",
              "      <td>Graduation</td>\n",
              "      <td>Together</td>\n",
              "      <td>$32,474.00</td>\n",
              "      <td>1</td>\n",
              "      <td>1</td>\n",
              "      <td>5/11/14</td>\n",
              "      <td>0</td>\n",
              "      <td>10</td>\n",
              "      <td>...</td>\n",
              "      <td>2</td>\n",
              "      <td>7</td>\n",
              "      <td>0</td>\n",
              "      <td>0</td>\n",
              "      <td>0</td>\n",
              "      <td>0</td>\n",
              "      <td>0</td>\n",
              "      <td>0</td>\n",
              "      <td>0</td>\n",
              "      <td>AUS</td>\n",
              "    </tr>\n",
              "    <tr>\n",
              "      <th>4</th>\n",
              "      <td>5371</td>\n",
              "      <td>1989</td>\n",
              "      <td>Graduation</td>\n",
              "      <td>Single</td>\n",
              "      <td>$21,474.00</td>\n",
              "      <td>1</td>\n",
              "      <td>0</td>\n",
              "      <td>4/8/14</td>\n",
              "      <td>0</td>\n",
              "      <td>6</td>\n",
              "      <td>...</td>\n",
              "      <td>2</td>\n",
              "      <td>7</td>\n",
              "      <td>1</td>\n",
              "      <td>0</td>\n",
              "      <td>0</td>\n",
              "      <td>0</td>\n",
              "      <td>0</td>\n",
              "      <td>1</td>\n",
              "      <td>0</td>\n",
              "      <td>SP</td>\n",
              "    </tr>\n",
              "  </tbody>\n",
              "</table>\n",
              "<p>5 rows × 28 columns</p>\n",
              "</div>\n",
              "      <button class=\"colab-df-convert\" onclick=\"convertToInteractive('df-a4a6bf0e-bd25-41de-8609-53bbb6ed19bf')\"\n",
              "              title=\"Convert this dataframe to an interactive table.\"\n",
              "              style=\"display:none;\">\n",
              "        \n",
              "  <svg xmlns=\"http://www.w3.org/2000/svg\" height=\"24px\"viewBox=\"0 0 24 24\"\n",
              "       width=\"24px\">\n",
              "    <path d=\"M0 0h24v24H0V0z\" fill=\"none\"/>\n",
              "    <path d=\"M18.56 5.44l.94 2.06.94-2.06 2.06-.94-2.06-.94-.94-2.06-.94 2.06-2.06.94zm-11 1L8.5 8.5l.94-2.06 2.06-.94-2.06-.94L8.5 2.5l-.94 2.06-2.06.94zm10 10l.94 2.06.94-2.06 2.06-.94-2.06-.94-.94-2.06-.94 2.06-2.06.94z\"/><path d=\"M17.41 7.96l-1.37-1.37c-.4-.4-.92-.59-1.43-.59-.52 0-1.04.2-1.43.59L10.3 9.45l-7.72 7.72c-.78.78-.78 2.05 0 2.83L4 21.41c.39.39.9.59 1.41.59.51 0 1.02-.2 1.41-.59l7.78-7.78 2.81-2.81c.8-.78.8-2.07 0-2.86zM5.41 20L4 18.59l7.72-7.72 1.47 1.35L5.41 20z\"/>\n",
              "  </svg>\n",
              "      </button>\n",
              "      \n",
              "  <style>\n",
              "    .colab-df-container {\n",
              "      display:flex;\n",
              "      flex-wrap:wrap;\n",
              "      gap: 12px;\n",
              "    }\n",
              "\n",
              "    .colab-df-convert {\n",
              "      background-color: #E8F0FE;\n",
              "      border: none;\n",
              "      border-radius: 50%;\n",
              "      cursor: pointer;\n",
              "      display: none;\n",
              "      fill: #1967D2;\n",
              "      height: 32px;\n",
              "      padding: 0 0 0 0;\n",
              "      width: 32px;\n",
              "    }\n",
              "\n",
              "    .colab-df-convert:hover {\n",
              "      background-color: #E2EBFA;\n",
              "      box-shadow: 0px 1px 2px rgba(60, 64, 67, 0.3), 0px 1px 3px 1px rgba(60, 64, 67, 0.15);\n",
              "      fill: #174EA6;\n",
              "    }\n",
              "\n",
              "    [theme=dark] .colab-df-convert {\n",
              "      background-color: #3B4455;\n",
              "      fill: #D2E3FC;\n",
              "    }\n",
              "\n",
              "    [theme=dark] .colab-df-convert:hover {\n",
              "      background-color: #434B5C;\n",
              "      box-shadow: 0px 1px 3px 1px rgba(0, 0, 0, 0.15);\n",
              "      filter: drop-shadow(0px 1px 2px rgba(0, 0, 0, 0.3));\n",
              "      fill: #FFFFFF;\n",
              "    }\n",
              "  </style>\n",
              "\n",
              "      <script>\n",
              "        const buttonEl =\n",
              "          document.querySelector('#df-a4a6bf0e-bd25-41de-8609-53bbb6ed19bf button.colab-df-convert');\n",
              "        buttonEl.style.display =\n",
              "          google.colab.kernel.accessAllowed ? 'block' : 'none';\n",
              "\n",
              "        async function convertToInteractive(key) {\n",
              "          const element = document.querySelector('#df-a4a6bf0e-bd25-41de-8609-53bbb6ed19bf');\n",
              "          const dataTable =\n",
              "            await google.colab.kernel.invokeFunction('convertToInteractive',\n",
              "                                                     [key], {});\n",
              "          if (!dataTable) return;\n",
              "\n",
              "          const docLinkHtml = 'Like what you see? Visit the ' +\n",
              "            '<a target=\"_blank\" href=https://colab.research.google.com/notebooks/data_table.ipynb>data table notebook</a>'\n",
              "            + ' to learn more about interactive tables.';\n",
              "          element.innerHTML = '';\n",
              "          dataTable['output_type'] = 'display_data';\n",
              "          await google.colab.output.renderOutput(dataTable, element);\n",
              "          const docLink = document.createElement('div');\n",
              "          docLink.innerHTML = docLinkHtml;\n",
              "          element.appendChild(docLink);\n",
              "        }\n",
              "      </script>\n",
              "    </div>\n",
              "  </div>\n",
              "  "
            ]
          },
          "metadata": {},
          "execution_count": 3
        }
      ]
    },
    {
      "cell_type": "markdown",
      "source": [
        "Cek ukuran data"
      ],
      "metadata": {
        "id": "131tS7bWTQTb"
      }
    },
    {
      "cell_type": "code",
      "source": [
        "df.shape"
      ],
      "metadata": {
        "colab": {
          "base_uri": "https://localhost:8080/"
        },
        "id": "ToY-sm0xS-__",
        "outputId": "1d2e01d3-c51d-4af9-931b-2a08da24b7a5"
      },
      "execution_count": null,
      "outputs": [
        {
          "output_type": "execute_result",
          "data": {
            "text/plain": [
              "(2240, 28)"
            ]
          },
          "metadata": {},
          "execution_count": 4
        }
      ]
    },
    {
      "cell_type": "markdown",
      "source": [
        "Cek tipe data"
      ],
      "metadata": {
        "id": "QKB1vuOLTOjV"
      }
    },
    {
      "cell_type": "code",
      "source": [
        "df.dtypes"
      ],
      "metadata": {
        "colab": {
          "base_uri": "https://localhost:8080/"
        },
        "id": "uWHrhtr9TC6q",
        "outputId": "dd656da7-9fed-46d4-9451-11290a416d67"
      },
      "execution_count": null,
      "outputs": [
        {
          "output_type": "execute_result",
          "data": {
            "text/plain": [
              "ID                      int64\n",
              "Year_Birth              int64\n",
              "Education              object\n",
              "Marital_Status         object\n",
              " Income                object\n",
              "Kidhome                 int64\n",
              "Teenhome                int64\n",
              "Dt_Customer            object\n",
              "Recency                 int64\n",
              "MntWines                int64\n",
              "MntFruits               int64\n",
              "MntMeatProducts         int64\n",
              "MntFishProducts         int64\n",
              "MntSweetProducts        int64\n",
              "MntGoldProds            int64\n",
              "NumDealsPurchases       int64\n",
              "NumWebPurchases         int64\n",
              "NumCatalogPurchases     int64\n",
              "NumStorePurchases       int64\n",
              "NumWebVisitsMonth       int64\n",
              "AcceptedCmp3            int64\n",
              "AcceptedCmp4            int64\n",
              "AcceptedCmp5            int64\n",
              "AcceptedCmp1            int64\n",
              "AcceptedCmp2            int64\n",
              "Response                int64\n",
              "Complain                int64\n",
              "Country                object\n",
              "dtype: object"
            ]
          },
          "metadata": {},
          "execution_count": 5
        }
      ]
    },
    {
      "cell_type": "markdown",
      "source": [
        "Cek Missing Value"
      ],
      "metadata": {
        "id": "wascfBVlTLiM"
      }
    },
    {
      "cell_type": "code",
      "source": [
        "df.isna().sum()"
      ],
      "metadata": {
        "colab": {
          "base_uri": "https://localhost:8080/"
        },
        "id": "c-ofHe-fTGQr",
        "outputId": "de998b12-fd4a-4a23-f7e4-9610c5897d87"
      },
      "execution_count": null,
      "outputs": [
        {
          "output_type": "execute_result",
          "data": {
            "text/plain": [
              "ID                      0\n",
              "Year_Birth              0\n",
              "Education               0\n",
              "Marital_Status          0\n",
              " Income                24\n",
              "Kidhome                 0\n",
              "Teenhome                0\n",
              "Dt_Customer             0\n",
              "Recency                 0\n",
              "MntWines                0\n",
              "MntFruits               0\n",
              "MntMeatProducts         0\n",
              "MntFishProducts         0\n",
              "MntSweetProducts        0\n",
              "MntGoldProds            0\n",
              "NumDealsPurchases       0\n",
              "NumWebPurchases         0\n",
              "NumCatalogPurchases     0\n",
              "NumStorePurchases       0\n",
              "NumWebVisitsMonth       0\n",
              "AcceptedCmp3            0\n",
              "AcceptedCmp4            0\n",
              "AcceptedCmp5            0\n",
              "AcceptedCmp1            0\n",
              "AcceptedCmp2            0\n",
              "Response                0\n",
              "Complain                0\n",
              "Country                 0\n",
              "dtype: int64"
            ]
          },
          "metadata": {},
          "execution_count": 6
        }
      ]
    },
    {
      "cell_type": "markdown",
      "source": [
        "Variable Income ada tanda spasi di depannya dan juga memiliki missing value sebanyak 24"
      ],
      "metadata": {
        "id": "ON3uFJm0TeRU"
      }
    },
    {
      "cell_type": "code",
      "source": [
        "df.columns"
      ],
      "metadata": {
        "colab": {
          "base_uri": "https://localhost:8080/"
        },
        "id": "Q_FGQJSKTqpV",
        "outputId": "d9e5099a-40b4-4c33-a74d-41edec1a8fdd"
      },
      "execution_count": null,
      "outputs": [
        {
          "output_type": "execute_result",
          "data": {
            "text/plain": [
              "Index(['ID', 'Year_Birth', 'Education', 'Marital_Status', ' Income ',\n",
              "       'Kidhome', 'Teenhome', 'Dt_Customer', 'Recency', 'MntWines',\n",
              "       'MntFruits', 'MntMeatProducts', 'MntFishProducts', 'MntSweetProducts',\n",
              "       'MntGoldProds', 'NumDealsPurchases', 'NumWebPurchases',\n",
              "       'NumCatalogPurchases', 'NumStorePurchases', 'NumWebVisitsMonth',\n",
              "       'AcceptedCmp3', 'AcceptedCmp4', 'AcceptedCmp5', 'AcceptedCmp1',\n",
              "       'AcceptedCmp2', 'Response', 'Complain', 'Country'],\n",
              "      dtype='object')"
            ]
          },
          "metadata": {},
          "execution_count": 7
        }
      ]
    },
    {
      "cell_type": "code",
      "source": [
        "#cek distribusi target\n",
        "df['Response'].value_counts()"
      ],
      "metadata": {
        "colab": {
          "base_uri": "https://localhost:8080/"
        },
        "id": "Mw-5u_fTUjol",
        "outputId": "5ea9a659-4106-4be9-a2d2-1cb447af0d0c"
      },
      "execution_count": null,
      "outputs": [
        {
          "output_type": "execute_result",
          "data": {
            "text/plain": [
              "0    1906\n",
              "1     334\n",
              "Name: Response, dtype: int64"
            ]
          },
          "metadata": {},
          "execution_count": 8
        }
      ]
    },
    {
      "cell_type": "markdown",
      "source": [
        "0 adalah tidak merespon campaign\n",
        "dan 1 adalah yang merespon campaign\n",
        "Maka dari itu pada kasus ini datanya adalah Imbalance"
      ],
      "metadata": {
        "id": "G1RzUwwUUvFv"
      }
    },
    {
      "cell_type": "code",
      "source": [
        "#Memperbaiki penamaan variable Income\n",
        "df['Income']=df[' Income ']\n",
        "df = df.drop(' Income ', axis = 1)"
      ],
      "metadata": {
        "id": "uR4WshxgTuXd"
      },
      "execution_count": null,
      "outputs": []
    },
    {
      "cell_type": "code",
      "source": [
        "df.isna().sum()"
      ],
      "metadata": {
        "colab": {
          "base_uri": "https://localhost:8080/"
        },
        "id": "zoymF6dnT8Dd",
        "outputId": "743eae7c-35f4-4134-acef-7655f6c1d8c7"
      },
      "execution_count": null,
      "outputs": [
        {
          "output_type": "execute_result",
          "data": {
            "text/plain": [
              "ID                      0\n",
              "Year_Birth              0\n",
              "Education               0\n",
              "Marital_Status          0\n",
              "Kidhome                 0\n",
              "Teenhome                0\n",
              "Dt_Customer             0\n",
              "Recency                 0\n",
              "MntWines                0\n",
              "MntFruits               0\n",
              "MntMeatProducts         0\n",
              "MntFishProducts         0\n",
              "MntSweetProducts        0\n",
              "MntGoldProds            0\n",
              "NumDealsPurchases       0\n",
              "NumWebPurchases         0\n",
              "NumCatalogPurchases     0\n",
              "NumStorePurchases       0\n",
              "NumWebVisitsMonth       0\n",
              "AcceptedCmp3            0\n",
              "AcceptedCmp4            0\n",
              "AcceptedCmp5            0\n",
              "AcceptedCmp1            0\n",
              "AcceptedCmp2            0\n",
              "Response                0\n",
              "Complain                0\n",
              "Country                 0\n",
              "Income                 24\n",
              "dtype: int64"
            ]
          },
          "metadata": {},
          "execution_count": 10
        }
      ]
    },
    {
      "cell_type": "markdown",
      "source": [
        "Nama variable Income sudah diperbaiki dan sekarang kita akan melakukan perlakuan pada variable Income dengan cara menangani missing value dan mengubah isi data menjadi numerik"
      ],
      "metadata": {
        "id": "UqR8eh67UPFb"
      }
    },
    {
      "cell_type": "markdown",
      "source": [
        "#Univariate Analysis"
      ],
      "metadata": {
        "id": "1EybkuboS3tH"
      }
    },
    {
      "cell_type": "markdown",
      "source": [
        "##Income"
      ],
      "metadata": {
        "id": "Edeu2iRrVCnJ"
      }
    },
    {
      "cell_type": "code",
      "source": [
        " df['Income']"
      ],
      "metadata": {
        "colab": {
          "base_uri": "https://localhost:8080/"
        },
        "id": "ZYDp1DZgVE1_",
        "outputId": "4f5449d1-c914-470e-b40b-1c7ceb34445a"
      },
      "execution_count": null,
      "outputs": [
        {
          "output_type": "execute_result",
          "data": {
            "text/plain": [
              "0       $84,835.00 \n",
              "1       $57,091.00 \n",
              "2       $67,267.00 \n",
              "3       $32,474.00 \n",
              "4       $21,474.00 \n",
              "           ...     \n",
              "2235    $66,476.00 \n",
              "2236    $31,056.00 \n",
              "2237    $46,310.00 \n",
              "2238    $65,819.00 \n",
              "2239    $94,871.00 \n",
              "Name: Income, Length: 2240, dtype: object"
            ]
          },
          "metadata": {},
          "execution_count": 11
        }
      ]
    },
    {
      "cell_type": "markdown",
      "source": [
        "Kita akan mengubah menjadi integer"
      ],
      "metadata": {
        "id": "Hh7YXCQfVnr0"
      }
    },
    {
      "cell_type": "code",
      "source": [
        "def dollar_to_int(d):\n",
        "  #input: d: String\n",
        "  #kalau null, tidak perlu di convert\n",
        "  if pd.isnull(d):\n",
        "    return d\n",
        "  else:\n",
        "    d = d.strip() #menghilangkan spasi di depan dan belakang\n",
        "    d = d[1:] #menghilangkan tanda dollar di awal dan menampilkan sisanya\n",
        "    d = d[:-3] #menghilangkan 3 karakter yang di belakang\n",
        "    d = d.replace(',','') #mengubah koma menjadi fungsi kosong\n",
        "    return int(d)\n",
        "\n",
        "#Idenya\n",
        "input_dollar = '       $84,835.00       '\n",
        "print(input_dollar)\n",
        "print('output:', dollar_to_int (input_dollar)) #ekspektasi output: 84835)\n",
        "\n",
        "#NaN --> di pandas tipenya float\n",
        "df['Income_Real'] = df['Income'].apply(dollar_to_int)\n",
        "df['Income_Real']"
      ],
      "metadata": {
        "colab": {
          "base_uri": "https://localhost:8080/"
        },
        "id": "MFw1sCCAV1LX",
        "outputId": "34933dd8-d37e-4fd3-b3e0-c7e8191db03e"
      },
      "execution_count": null,
      "outputs": [
        {
          "output_type": "stream",
          "name": "stdout",
          "text": [
            "       $84,835.00       \n",
            "output: 84835\n"
          ]
        },
        {
          "output_type": "execute_result",
          "data": {
            "text/plain": [
              "0       84835.0\n",
              "1       57091.0\n",
              "2       67267.0\n",
              "3       32474.0\n",
              "4       21474.0\n",
              "         ...   \n",
              "2235    66476.0\n",
              "2236    31056.0\n",
              "2237    46310.0\n",
              "2238    65819.0\n",
              "2239    94871.0\n",
              "Name: Income_Real, Length: 2240, dtype: float64"
            ]
          },
          "metadata": {},
          "execution_count": 12
        }
      ]
    },
    {
      "cell_type": "markdown",
      "source": [
        "Kita ingin melihat sebaran data Income terhadapa Response"
      ],
      "metadata": {
        "id": "MwCDYw_7ak3H"
      }
    },
    {
      "cell_type": "code",
      "source": [
        "sns.histplot(df, x='Income_Real')"
      ],
      "metadata": {
        "colab": {
          "base_uri": "https://localhost:8080/",
          "height": 298
        },
        "id": "ZCe-onbMa0rZ",
        "outputId": "ed97c936-65f0-4dc7-ee8c-de922616ea1c"
      },
      "execution_count": null,
      "outputs": [
        {
          "output_type": "execute_result",
          "data": {
            "text/plain": [
              "<matplotlib.axes._subplots.AxesSubplot at 0x7f9ccf860710>"
            ]
          },
          "metadata": {},
          "execution_count": 13
        },
        {
          "output_type": "display_data",
          "data": {
            "text/plain": [
              "<Figure size 432x288 with 1 Axes>"
            ],
            "image/png": "[encoded data removed]"
          },
          "metadata": {
            "needs_background": "light"
          }
        }
      ]
    },
    {
      "cell_type": "markdown",
      "source": [
        "Ternyata ada data yang terpisah yang disebabkan oleh outliers"
      ],
      "metadata": {
        "id": "6qhq2QfKbFEc"
      }
    },
    {
      "cell_type": "code",
      "source": [
        "#menghilangkan outliers\n",
        "sns.boxplot(data = df, x='Income_Real')"
      ],
      "metadata": {
        "colab": {
          "base_uri": "https://localhost:8080/",
          "height": 298
        },
        "id": "5cGS8vuJbPc1",
        "outputId": "f992157d-f718-48e5-db51-f2c0e81e1844"
      },
      "execution_count": null,
      "outputs": [
        {
          "output_type": "execute_result",
          "data": {
            "text/plain": [
              "<matplotlib.axes._subplots.AxesSubplot at 0x7f9ccf592f10>"
            ]
          },
          "metadata": {},
          "execution_count": 14
        },
        {
          "output_type": "display_data",
          "data": {
            "text/plain": [
              "<Figure size 432x288 with 1 Axes>"
            ],
            "image/png": "[encoded data removed]"
          },
          "metadata": {
            "needs_background": "light"
          }
        }
      ]
    },
    {
      "cell_type": "markdown",
      "source": [
        "Titik-titik tersebut merupakan outliers. Maka kita akan menggunakan IQR"
      ],
      "metadata": {
        "id": "LB9P9dclbdUL"
      }
    },
    {
      "cell_type": "code",
      "source": [
        "#IQR\n",
        "Q1 = df['Income_Real'].quantile(.3)\n",
        "Q3 = df['Income_Real'].quantile(.7)\n",
        "IQR = Q3- Q1"
      ],
      "metadata": {
        "id": "PcZM65Pbbn7J"
      },
      "execution_count": null,
      "outputs": []
    },
    {
      "cell_type": "code",
      "source": [
        "Q3 + (1.5 * IQR)"
      ],
      "metadata": {
        "colab": {
          "base_uri": "https://localhost:8080/"
        },
        "id": "fapWb-z3b9fE",
        "outputId": "2448acc7-6fec-4778-8410-c81224eadfc2"
      },
      "execution_count": null,
      "outputs": [
        {
          "output_type": "execute_result",
          "data": {
            "text/plain": [
              "105821.0"
            ]
          },
          "metadata": {},
          "execution_count": 16
        }
      ]
    },
    {
      "cell_type": "code",
      "source": [
        "UPPER_LIMIT = Q3 + (1.5 * IQR)\n",
        "df = df[df['Income_Real'] <= UPPER_LIMIT]"
      ],
      "metadata": {
        "id": "_fh4joCqcKiE"
      },
      "execution_count": null,
      "outputs": []
    },
    {
      "cell_type": "markdown",
      "source": [
        "Kita lihat lagi histplot dan boxplotnya"
      ],
      "metadata": {
        "id": "vv8LsTJwcZIR"
      }
    },
    {
      "cell_type": "code",
      "source": [
        "sns.histplot(df, x='Income_Real')"
      ],
      "metadata": {
        "colab": {
          "base_uri": "https://localhost:8080/",
          "height": 298
        },
        "id": "FdjRLVGaccAH",
        "outputId": "aadad9c2-443c-4924-f439-4373b8324a67"
      },
      "execution_count": null,
      "outputs": [
        {
          "output_type": "execute_result",
          "data": {
            "text/plain": [
              "<matplotlib.axes._subplots.AxesSubplot at 0x7f9ccf0ecf90>"
            ]
          },
          "metadata": {},
          "execution_count": 18
        },
        {
          "output_type": "display_data",
          "data": {
            "text/plain": [
              "<Figure size 432x288 with 1 Axes>"
            ],
            "image/png": "[encoded data removed]"
          },
          "metadata": {
            "needs_background": "light"
          }
        }
      ]
    },
    {
      "cell_type": "code",
      "source": [
        "sns.boxplot(data = df, x='Income_Real')"
      ],
      "metadata": {
        "colab": {
          "base_uri": "https://localhost:8080/",
          "height": 298
        },
        "id": "Tsg2kNiaceQH",
        "outputId": "0a78007b-8fef-4f36-c1e2-a4198349144f"
      },
      "execution_count": null,
      "outputs": [
        {
          "output_type": "execute_result",
          "data": {
            "text/plain": [
              "<matplotlib.axes._subplots.AxesSubplot at 0x7f9ccf02c0d0>"
            ]
          },
          "metadata": {},
          "execution_count": 19
        },
        {
          "output_type": "display_data",
          "data": {
            "text/plain": [
              "<Figure size 432x288 with 1 Axes>"
            ],
            "image/png": "[encoded data removed]"
          },
          "metadata": {
            "needs_background": "light"
          }
        }
      ]
    },
    {
      "cell_type": "code",
      "source": [
        "sns.histplot(df, x='Income_Real', hue='Response')"
      ],
      "metadata": {
        "colab": {
          "base_uri": "https://localhost:8080/",
          "height": 298
        },
        "id": "s12jBpEHdWN3",
        "outputId": "0c046fbe-a5bd-48ac-c43a-1461a6f120b6"
      },
      "execution_count": null,
      "outputs": [
        {
          "output_type": "execute_result",
          "data": {
            "text/plain": [
              "<matplotlib.axes._subplots.AxesSubplot at 0x7f9ccef86ad0>"
            ]
          },
          "metadata": {},
          "execution_count": 20
        },
        {
          "output_type": "display_data",
          "data": {
            "text/plain": [
              "<Figure size 432x288 with 1 Axes>"
            ],
            "image/png": "[encoded data removed]"
          },
          "metadata": {
            "needs_background": "light"
          }
        }
      ]
    },
    {
      "cell_type": "markdown",
      "source": [
        "Bootstrap \\\n",
        "Membedakan antara dua buah distribusi \n",
        "\n",
        "- Ide: dari setiap kelas, kita ambil sample. Kita cari rata-rata/median. \n",
        "- Lakukan sebanyak n kali. Rata-rata ini yang akan kita plot."
      ],
      "metadata": {
        "id": "1yb0GsLOdf9Z"
      }
    },
    {
      "cell_type": "code",
      "source": [
        "BOOTS_RESULT =[]\n",
        "for i in range(200):\n",
        "  #sampling kelas response = 0\n",
        "  mean_0 = df[df['Response'] == 0]['Income_Real'].sample(100).mean()\n",
        "  mean_1 = df[df['Response'] == 1]['Income_Real'].sample(100).mean()\n",
        "\n",
        "  BOOTS_RESULT.append((mean_0,0))\n",
        "  BOOTS_RESULT.append((mean_1,1))\n",
        "\n",
        "df_boots = pd.DataFrame(BOOTS_RESULT,columns = ['Avg_Income','Response'])"
      ],
      "metadata": {
        "id": "DMkRHPjGd8sW"
      },
      "execution_count": null,
      "outputs": []
    },
    {
      "cell_type": "code",
      "source": [
        "df_boots"
      ],
      "metadata": {
        "colab": {
          "base_uri": "https://localhost:8080/",
          "height": 424
        },
        "id": "GGnViTLHeyOg",
        "outputId": "fc156382-a1e5-4346-b812-c5d341ccef0f"
      },
      "execution_count": null,
      "outputs": [
        {
          "output_type": "execute_result",
          "data": {
            "text/plain": [
              "     Avg_Income  Response\n",
              "0      47069.90         0\n",
              "1      60771.39         1\n",
              "2      51646.12         0\n",
              "3      62075.15         1\n",
              "4      52961.73         0\n",
              "..          ...       ...\n",
              "395    57355.67         1\n",
              "396    47930.01         0\n",
              "397    62174.57         1\n",
              "398    49694.87         0\n",
              "399    60140.24         1\n",
              "\n",
              "[400 rows x 2 columns]"
            ],
            "text/html": [
              "\n",
              "  <div id=\"df-206ec612-75c4-4f44-be4d-987e87e82f1a\">\n",
              "    <div class=\"colab-df-container\">\n",
              "      <div>\n",
              "<style scoped>\n",
              "    .dataframe tbody tr th:only-of-type {\n",
              "        vertical-align: middle;\n",
              "    }\n",
              "\n",
              "    .dataframe tbody tr th {\n",
              "        vertical-align: top;\n",
              "    }\n",
              "\n",
              "    .dataframe thead th {\n",
              "        text-align: right;\n",
              "    }\n",
              "</style>\n",
              "<table border=\"1\" class=\"dataframe\">\n",
              "  <thead>\n",
              "    <tr style=\"text-align: right;\">\n",
              "      <th></th>\n",
              "      <th>Avg_Income</th>\n",
              "      <th>Response</th>\n",
              "    </tr>\n",
              "  </thead>\n",
              "  <tbody>\n",
              "    <tr>\n",
              "      <th>0</th>\n",
              "      <td>47069.90</td>\n",
              "      <td>0</td>\n",
              "    </tr>\n",
              "    <tr>\n",
              "      <th>1</th>\n",
              "      <td>60771.39</td>\n",
              "      <td>1</td>\n",
              "    </tr>\n",
              "    <tr>\n",
              "      <th>2</th>\n",
              "      <td>51646.12</td>\n",
              "      <td>0</td>\n",
              "    </tr>\n",
              "    <tr>\n",
              "      <th>3</th>\n",
              "      <td>62075.15</td>\n",
              "      <td>1</td>\n",
              "    </tr>\n",
              "    <tr>\n",
              "      <th>4</th>\n",
              "      <td>52961.73</td>\n",
              "      <td>0</td>\n",
              "    </tr>\n",
              "    <tr>\n",
              "      <th>...</th>\n",
              "      <td>...</td>\n",
              "      <td>...</td>\n",
              "    </tr>\n",
              "    <tr>\n",
              "      <th>395</th>\n",
              "      <td>57355.67</td>\n",
              "      <td>1</td>\n",
              "    </tr>\n",
              "    <tr>\n",
              "      <th>396</th>\n",
              "      <td>47930.01</td>\n",
              "      <td>0</td>\n",
              "    </tr>\n",
              "    <tr>\n",
              "      <th>397</th>\n",
              "      <td>62174.57</td>\n",
              "      <td>1</td>\n",
              "    </tr>\n",
              "    <tr>\n",
              "      <th>398</th>\n",
              "      <td>49694.87</td>\n",
              "      <td>0</td>\n",
              "    </tr>\n",
              "    <tr>\n",
              "      <th>399</th>\n",
              "      <td>60140.24</td>\n",
              "      <td>1</td>\n",
              "    </tr>\n",
              "  </tbody>\n",
              "</table>\n",
              "<p>400 rows × 2 columns</p>\n",
              "</div>\n",
              "      <button class=\"colab-df-convert\" onclick=\"convertToInteractive('df-206ec612-75c4-4f44-be4d-987e87e82f1a')\"\n",
              "              title=\"Convert this dataframe to an interactive table.\"\n",
              "              style=\"display:none;\">\n",
              "        \n",
              "  <svg xmlns=\"http://www.w3.org/2000/svg\" height=\"24px\"viewBox=\"0 0 24 24\"\n",
              "       width=\"24px\">\n",
              "    <path d=\"M0 0h24v24H0V0z\" fill=\"none\"/>\n",
              "    <path d=\"M18.56 5.44l.94 2.06.94-2.06 2.06-.94-2.06-.94-.94-2.06-.94 2.06-2.06.94zm-11 1L8.5 8.5l.94-2.06 2.06-.94-2.06-.94L8.5 2.5l-.94 2.06-2.06.94zm10 10l.94 2.06.94-2.06 2.06-.94-2.06-.94-.94-2.06-.94 2.06-2.06.94z\"/><path d=\"M17.41 7.96l-1.37-1.37c-.4-.4-.92-.59-1.43-.59-.52 0-1.04.2-1.43.59L10.3 9.45l-7.72 7.72c-.78.78-.78 2.05 0 2.83L4 21.41c.39.39.9.59 1.41.59.51 0 1.02-.2 1.41-.59l7.78-7.78 2.81-2.81c.8-.78.8-2.07 0-2.86zM5.41 20L4 18.59l7.72-7.72 1.47 1.35L5.41 20z\"/>\n",
              "  </svg>\n",
              "      </button>\n",
              "      \n",
              "  <style>\n",
              "    .colab-df-container {\n",
              "      display:flex;\n",
              "      flex-wrap:wrap;\n",
              "      gap: 12px;\n",
              "    }\n",
              "\n",
              "    .colab-df-convert {\n",
              "      background-color: #E8F0FE;\n",
              "      border: none;\n",
              "      border-radius: 50%;\n",
              "      cursor: pointer;\n",
              "      display: none;\n",
              "      fill: #1967D2;\n",
              "      height: 32px;\n",
              "      padding: 0 0 0 0;\n",
              "      width: 32px;\n",
              "    }\n",
              "\n",
              "    .colab-df-convert:hover {\n",
              "      background-color: #E2EBFA;\n",
              "      box-shadow: 0px 1px 2px rgba(60, 64, 67, 0.3), 0px 1px 3px 1px rgba(60, 64, 67, 0.15);\n",
              "      fill: #174EA6;\n",
              "    }\n",
              "\n",
              "    [theme=dark] .colab-df-convert {\n",
              "      background-color: #3B4455;\n",
              "      fill: #D2E3FC;\n",
              "    }\n",
              "\n",
              "    [theme=dark] .colab-df-convert:hover {\n",
              "      background-color: #434B5C;\n",
              "      box-shadow: 0px 1px 3px 1px rgba(0, 0, 0, 0.15);\n",
              "      filter: drop-shadow(0px 1px 2px rgba(0, 0, 0, 0.3));\n",
              "      fill: #FFFFFF;\n",
              "    }\n",
              "  </style>\n",
              "\n",
              "      <script>\n",
              "        const buttonEl =\n",
              "          document.querySelector('#df-206ec612-75c4-4f44-be4d-987e87e82f1a button.colab-df-convert');\n",
              "        buttonEl.style.display =\n",
              "          google.colab.kernel.accessAllowed ? 'block' : 'none';\n",
              "\n",
              "        async function convertToInteractive(key) {\n",
              "          const element = document.querySelector('#df-206ec612-75c4-4f44-be4d-987e87e82f1a');\n",
              "          const dataTable =\n",
              "            await google.colab.kernel.invokeFunction('convertToInteractive',\n",
              "                                                     [key], {});\n",
              "          if (!dataTable) return;\n",
              "\n",
              "          const docLinkHtml = 'Like what you see? Visit the ' +\n",
              "            '<a target=\"_blank\" href=https://colab.research.google.com/notebooks/data_table.ipynb>data table notebook</a>'\n",
              "            + ' to learn more about interactive tables.';\n",
              "          element.innerHTML = '';\n",
              "          dataTable['output_type'] = 'display_data';\n",
              "          await google.colab.output.renderOutput(dataTable, element);\n",
              "          const docLink = document.createElement('div');\n",
              "          docLink.innerHTML = docLinkHtml;\n",
              "          element.appendChild(docLink);\n",
              "        }\n",
              "      </script>\n",
              "    </div>\n",
              "  </div>\n",
              "  "
            ]
          },
          "metadata": {},
          "execution_count": 22
        }
      ]
    },
    {
      "cell_type": "code",
      "source": [
        "sns.histplot(df_boots, x='Avg_Income', hue='Response')"
      ],
      "metadata": {
        "colab": {
          "base_uri": "https://localhost:8080/",
          "height": 298
        },
        "id": "7KHrUqb6e0iN",
        "outputId": "b1e72772-28b5-4c1e-a152-714122e37134"
      },
      "execution_count": null,
      "outputs": [
        {
          "output_type": "execute_result",
          "data": {
            "text/plain": [
              "<matplotlib.axes._subplots.AxesSubplot at 0x7f9ccf046dd0>"
            ]
          },
          "metadata": {},
          "execution_count": 23
        },
        {
          "output_type": "display_data",
          "data": {
            "text/plain": [
              "<Figure size 432x288 with 1 Axes>"
            ],
            "image/png": "[encoded data removed]"
          },
          "metadata": {
            "needs_background": "light"
          }
        }
      ]
    },
    {
      "cell_type": "markdown",
      "source": [
        "Ternyata yang kemungkinan merespon campaign adalah yang memiliki income rata-rata 60k "
      ],
      "metadata": {
        "id": "9oX5UEsDfbtT"
      }
    },
    {
      "cell_type": "markdown",
      "source": [
        "##Education"
      ],
      "metadata": {
        "id": "8jckFcgDfpu0"
      }
    },
    {
      "cell_type": "code",
      "source": [
        "df['Education'].value_counts()"
      ],
      "metadata": {
        "colab": {
          "base_uri": "https://localhost:8080/"
        },
        "id": "bjpxTckefs5O",
        "outputId": "90d04003-b006-44f7-efa8-49dc39a93075"
      },
      "execution_count": null,
      "outputs": [
        {
          "output_type": "execute_result",
          "data": {
            "text/plain": [
              "Graduation    1113\n",
              "PhD            476\n",
              "Master         364\n",
              "2n Cycle       200\n",
              "Basic           54\n",
              "Name: Education, dtype: int64"
            ]
          },
          "metadata": {},
          "execution_count": 24
        }
      ]
    },
    {
      "cell_type": "code",
      "source": [
        "sns.countplot( data=df, x='Education')"
      ],
      "metadata": {
        "colab": {
          "base_uri": "https://localhost:8080/",
          "height": 297
        },
        "id": "G_Fd8kP9fxJk",
        "outputId": "bd9f1e5d-3095-4106-940e-92288af1599c"
      },
      "execution_count": null,
      "outputs": [
        {
          "output_type": "execute_result",
          "data": {
            "text/plain": [
              "<matplotlib.axes._subplots.AxesSubplot at 0x7f9cced7cc90>"
            ]
          },
          "metadata": {},
          "execution_count": 25
        },
        {
          "output_type": "display_data",
          "data": {
            "text/plain": [
              "<Figure size 432x288 with 1 Axes>"
            ],
            "image/png": "[encoded data removed]"
          },
          "metadata": {
            "needs_background": "light"
          }
        }
      ]
    },
    {
      "cell_type": "code",
      "source": [
        "df_edu = df.groupby(['Education','Response']).size()\n",
        "df_edu"
      ],
      "metadata": {
        "colab": {
          "base_uri": "https://localhost:8080/"
        },
        "id": "pUr79rd2f1na",
        "outputId": "5529a628-fd55-4bfb-8fc9-ff726d2bf5df"
      },
      "execution_count": null,
      "outputs": [
        {
          "output_type": "execute_result",
          "data": {
            "text/plain": [
              "Education   Response\n",
              "2n Cycle    0           178\n",
              "            1            22\n",
              "Basic       0            52\n",
              "            1             2\n",
              "Graduation  0           961\n",
              "            1           152\n",
              "Master      0           308\n",
              "            1            56\n",
              "PhD         0           375\n",
              "            1           101\n",
              "dtype: int64"
            ]
          },
          "metadata": {},
          "execution_count": 26
        }
      ]
    },
    {
      "cell_type": "markdown",
      "source": [
        "Kita akan melakukan ploting terhadap hasil groupby"
      ],
      "metadata": {
        "id": "zRvtKEDUgJYU"
      }
    },
    {
      "cell_type": "code",
      "source": [
        "df_edu.to_frame('Total_User')"
      ],
      "metadata": {
        "colab": {
          "base_uri": "https://localhost:8080/",
          "height": 394
        },
        "id": "Zmnh9IsMgSNu",
        "outputId": "8b57fa75-3468-4dea-ec5b-5dc133e8912c"
      },
      "execution_count": null,
      "outputs": [
        {
          "output_type": "execute_result",
          "data": {
            "text/plain": [
              "                     Total_User\n",
              "Education  Response            \n",
              "2n Cycle   0                178\n",
              "           1                 22\n",
              "Basic      0                 52\n",
              "           1                  2\n",
              "Graduation 0                961\n",
              "           1                152\n",
              "Master     0                308\n",
              "           1                 56\n",
              "PhD        0                375\n",
              "           1                101"
            ],
            "text/html": [
              "\n",
              "  <div id=\"df-eb3595e4-0064-4a8f-a3a3-107f548d0402\">\n",
              "    <div class=\"colab-df-container\">\n",
              "      <div>\n",
              "<style scoped>\n",
              "    .dataframe tbody tr th:only-of-type {\n",
              "        vertical-align: middle;\n",
              "    }\n",
              "\n",
              "    .dataframe tbody tr th {\n",
              "        vertical-align: top;\n",
              "    }\n",
              "\n",
              "    .dataframe thead th {\n",
              "        text-align: right;\n",
              "    }\n",
              "</style>\n",
              "<table border=\"1\" class=\"dataframe\">\n",
              "  <thead>\n",
              "    <tr style=\"text-align: right;\">\n",
              "      <th></th>\n",
              "      <th></th>\n",
              "      <th>Total_User</th>\n",
              "    </tr>\n",
              "    <tr>\n",
              "      <th>Education</th>\n",
              "      <th>Response</th>\n",
              "      <th></th>\n",
              "    </tr>\n",
              "  </thead>\n",
              "  <tbody>\n",
              "    <tr>\n",
              "      <th rowspan=\"2\" valign=\"top\">2n Cycle</th>\n",
              "      <th>0</th>\n",
              "      <td>178</td>\n",
              "    </tr>\n",
              "    <tr>\n",
              "      <th>1</th>\n",
              "      <td>22</td>\n",
              "    </tr>\n",
              "    <tr>\n",
              "      <th rowspan=\"2\" valign=\"top\">Basic</th>\n",
              "      <th>0</th>\n",
              "      <td>52</td>\n",
              "    </tr>\n",
              "    <tr>\n",
              "      <th>1</th>\n",
              "      <td>2</td>\n",
              "    </tr>\n",
              "    <tr>\n",
              "      <th rowspan=\"2\" valign=\"top\">Graduation</th>\n",
              "      <th>0</th>\n",
              "      <td>961</td>\n",
              "    </tr>\n",
              "    <tr>\n",
              "      <th>1</th>\n",
              "      <td>152</td>\n",
              "    </tr>\n",
              "    <tr>\n",
              "      <th rowspan=\"2\" valign=\"top\">Master</th>\n",
              "      <th>0</th>\n",
              "      <td>308</td>\n",
              "    </tr>\n",
              "    <tr>\n",
              "      <th>1</th>\n",
              "      <td>56</td>\n",
              "    </tr>\n",
              "    <tr>\n",
              "      <th rowspan=\"2\" valign=\"top\">PhD</th>\n",
              "      <th>0</th>\n",
              "      <td>375</td>\n",
              "    </tr>\n",
              "    <tr>\n",
              "      <th>1</th>\n",
              "      <td>101</td>\n",
              "    </tr>\n",
              "  </tbody>\n",
              "</table>\n",
              "</div>\n",
              "      <button class=\"colab-df-convert\" onclick=\"convertToInteractive('df-eb3595e4-0064-4a8f-a3a3-107f548d0402')\"\n",
              "              title=\"Convert this dataframe to an interactive table.\"\n",
              "              style=\"display:none;\">\n",
              "        \n",
              "  <svg xmlns=\"http://www.w3.org/2000/svg\" height=\"24px\"viewBox=\"0 0 24 24\"\n",
              "       width=\"24px\">\n",
              "    <path d=\"M0 0h24v24H0V0z\" fill=\"none\"/>\n",
              "    <path d=\"M18.56 5.44l.94 2.06.94-2.06 2.06-.94-2.06-.94-.94-2.06-.94 2.06-2.06.94zm-11 1L8.5 8.5l.94-2.06 2.06-.94-2.06-.94L8.5 2.5l-.94 2.06-2.06.94zm10 10l.94 2.06.94-2.06 2.06-.94-2.06-.94-.94-2.06-.94 2.06-2.06.94z\"/><path d=\"M17.41 7.96l-1.37-1.37c-.4-.4-.92-.59-1.43-.59-.52 0-1.04.2-1.43.59L10.3 9.45l-7.72 7.72c-.78.78-.78 2.05 0 2.83L4 21.41c.39.39.9.59 1.41.59.51 0 1.02-.2 1.41-.59l7.78-7.78 2.81-2.81c.8-.78.8-2.07 0-2.86zM5.41 20L4 18.59l7.72-7.72 1.47 1.35L5.41 20z\"/>\n",
              "  </svg>\n",
              "      </button>\n",
              "      \n",
              "  <style>\n",
              "    .colab-df-container {\n",
              "      display:flex;\n",
              "      flex-wrap:wrap;\n",
              "      gap: 12px;\n",
              "    }\n",
              "\n",
              "    .colab-df-convert {\n",
              "      background-color: #E8F0FE;\n",
              "      border: none;\n",
              "      border-radius: 50%;\n",
              "      cursor: pointer;\n",
              "      display: none;\n",
              "      fill: #1967D2;\n",
              "      height: 32px;\n",
              "      padding: 0 0 0 0;\n",
              "      width: 32px;\n",
              "    }\n",
              "\n",
              "    .colab-df-convert:hover {\n",
              "      background-color: #E2EBFA;\n",
              "      box-shadow: 0px 1px 2px rgba(60, 64, 67, 0.3), 0px 1px 3px 1px rgba(60, 64, 67, 0.15);\n",
              "      fill: #174EA6;\n",
              "    }\n",
              "\n",
              "    [theme=dark] .colab-df-convert {\n",
              "      background-color: #3B4455;\n",
              "      fill: #D2E3FC;\n",
              "    }\n",
              "\n",
              "    [theme=dark] .colab-df-convert:hover {\n",
              "      background-color: #434B5C;\n",
              "      box-shadow: 0px 1px 3px 1px rgba(0, 0, 0, 0.15);\n",
              "      filter: drop-shadow(0px 1px 2px rgba(0, 0, 0, 0.3));\n",
              "      fill: #FFFFFF;\n",
              "    }\n",
              "  </style>\n",
              "\n",
              "      <script>\n",
              "        const buttonEl =\n",
              "          document.querySelector('#df-eb3595e4-0064-4a8f-a3a3-107f548d0402 button.colab-df-convert');\n",
              "        buttonEl.style.display =\n",
              "          google.colab.kernel.accessAllowed ? 'block' : 'none';\n",
              "\n",
              "        async function convertToInteractive(key) {\n",
              "          const element = document.querySelector('#df-eb3595e4-0064-4a8f-a3a3-107f548d0402');\n",
              "          const dataTable =\n",
              "            await google.colab.kernel.invokeFunction('convertToInteractive',\n",
              "                                                     [key], {});\n",
              "          if (!dataTable) return;\n",
              "\n",
              "          const docLinkHtml = 'Like what you see? Visit the ' +\n",
              "            '<a target=\"_blank\" href=https://colab.research.google.com/notebooks/data_table.ipynb>data table notebook</a>'\n",
              "            + ' to learn more about interactive tables.';\n",
              "          element.innerHTML = '';\n",
              "          dataTable['output_type'] = 'display_data';\n",
              "          await google.colab.output.renderOutput(dataTable, element);\n",
              "          const docLink = document.createElement('div');\n",
              "          docLink.innerHTML = docLinkHtml;\n",
              "          element.appendChild(docLink);\n",
              "        }\n",
              "      </script>\n",
              "    </div>\n",
              "  </div>\n",
              "  "
            ]
          },
          "metadata": {},
          "execution_count": 27
        }
      ]
    },
    {
      "cell_type": "code",
      "source": [
        "per_response = df.groupby(['Education','Response']).size().to_frame('Total_Per_Response')\n",
        "per_education = df.groupby('Education').size().to_frame('Total_Per_Edu')"
      ],
      "metadata": {
        "id": "_5XeTI7AgmIl"
      },
      "execution_count": null,
      "outputs": []
    },
    {
      "cell_type": "code",
      "source": [
        "per_education"
      ],
      "metadata": {
        "colab": {
          "base_uri": "https://localhost:8080/",
          "height": 237
        },
        "id": "szDx6CNsh3PK",
        "outputId": "f21511c8-1f20-491f-ea5e-5d2af75b3e32"
      },
      "execution_count": null,
      "outputs": [
        {
          "output_type": "execute_result",
          "data": {
            "text/plain": [
              "            Total_Per_Edu\n",
              "Education                \n",
              "2n Cycle              200\n",
              "Basic                  54\n",
              "Graduation           1113\n",
              "Master                364\n",
              "PhD                   476"
            ],
            "text/html": [
              "\n",
              "  <div id=\"df-29820006-6a59-4964-b7e5-713087c2f7cd\">\n",
              "    <div class=\"colab-df-container\">\n",
              "      <div>\n",
              "<style scoped>\n",
              "    .dataframe tbody tr th:only-of-type {\n",
              "        vertical-align: middle;\n",
              "    }\n",
              "\n",
              "    .dataframe tbody tr th {\n",
              "        vertical-align: top;\n",
              "    }\n",
              "\n",
              "    .dataframe thead th {\n",
              "        text-align: right;\n",
              "    }\n",
              "</style>\n",
              "<table border=\"1\" class=\"dataframe\">\n",
              "  <thead>\n",
              "    <tr style=\"text-align: right;\">\n",
              "      <th></th>\n",
              "      <th>Total_Per_Edu</th>\n",
              "    </tr>\n",
              "    <tr>\n",
              "      <th>Education</th>\n",
              "      <th></th>\n",
              "    </tr>\n",
              "  </thead>\n",
              "  <tbody>\n",
              "    <tr>\n",
              "      <th>2n Cycle</th>\n",
              "      <td>200</td>\n",
              "    </tr>\n",
              "    <tr>\n",
              "      <th>Basic</th>\n",
              "      <td>54</td>\n",
              "    </tr>\n",
              "    <tr>\n",
              "      <th>Graduation</th>\n",
              "      <td>1113</td>\n",
              "    </tr>\n",
              "    <tr>\n",
              "      <th>Master</th>\n",
              "      <td>364</td>\n",
              "    </tr>\n",
              "    <tr>\n",
              "      <th>PhD</th>\n",
              "      <td>476</td>\n",
              "    </tr>\n",
              "  </tbody>\n",
              "</table>\n",
              "</div>\n",
              "      <button class=\"colab-df-convert\" onclick=\"convertToInteractive('df-29820006-6a59-4964-b7e5-713087c2f7cd')\"\n",
              "              title=\"Convert this dataframe to an interactive table.\"\n",
              "              style=\"display:none;\">\n",
              "        \n",
              "  <svg xmlns=\"http://www.w3.org/2000/svg\" height=\"24px\"viewBox=\"0 0 24 24\"\n",
              "       width=\"24px\">\n",
              "    <path d=\"M0 0h24v24H0V0z\" fill=\"none\"/>\n",
              "    <path d=\"M18.56 5.44l.94 2.06.94-2.06 2.06-.94-2.06-.94-.94-2.06-.94 2.06-2.06.94zm-11 1L8.5 8.5l.94-2.06 2.06-.94-2.06-.94L8.5 2.5l-.94 2.06-2.06.94zm10 10l.94 2.06.94-2.06 2.06-.94-2.06-.94-.94-2.06-.94 2.06-2.06.94z\"/><path d=\"M17.41 7.96l-1.37-1.37c-.4-.4-.92-.59-1.43-.59-.52 0-1.04.2-1.43.59L10.3 9.45l-7.72 7.72c-.78.78-.78 2.05 0 2.83L4 21.41c.39.39.9.59 1.41.59.51 0 1.02-.2 1.41-.59l7.78-7.78 2.81-2.81c.8-.78.8-2.07 0-2.86zM5.41 20L4 18.59l7.72-7.72 1.47 1.35L5.41 20z\"/>\n",
              "  </svg>\n",
              "      </button>\n",
              "      \n",
              "  <style>\n",
              "    .colab-df-container {\n",
              "      display:flex;\n",
              "      flex-wrap:wrap;\n",
              "      gap: 12px;\n",
              "    }\n",
              "\n",
              "    .colab-df-convert {\n",
              "      background-color: #E8F0FE;\n",
              "      border: none;\n",
              "      border-radius: 50%;\n",
              "      cursor: pointer;\n",
              "      display: none;\n",
              "      fill: #1967D2;\n",
              "      height: 32px;\n",
              "      padding: 0 0 0 0;\n",
              "      width: 32px;\n",
              "    }\n",
              "\n",
              "    .colab-df-convert:hover {\n",
              "      background-color: #E2EBFA;\n",
              "      box-shadow: 0px 1px 2px rgba(60, 64, 67, 0.3), 0px 1px 3px 1px rgba(60, 64, 67, 0.15);\n",
              "      fill: #174EA6;\n",
              "    }\n",
              "\n",
              "    [theme=dark] .colab-df-convert {\n",
              "      background-color: #3B4455;\n",
              "      fill: #D2E3FC;\n",
              "    }\n",
              "\n",
              "    [theme=dark] .colab-df-convert:hover {\n",
              "      background-color: #434B5C;\n",
              "      box-shadow: 0px 1px 3px 1px rgba(0, 0, 0, 0.15);\n",
              "      filter: drop-shadow(0px 1px 2px rgba(0, 0, 0, 0.3));\n",
              "      fill: #FFFFFF;\n",
              "    }\n",
              "  </style>\n",
              "\n",
              "      <script>\n",
              "        const buttonEl =\n",
              "          document.querySelector('#df-29820006-6a59-4964-b7e5-713087c2f7cd button.colab-df-convert');\n",
              "        buttonEl.style.display =\n",
              "          google.colab.kernel.accessAllowed ? 'block' : 'none';\n",
              "\n",
              "        async function convertToInteractive(key) {\n",
              "          const element = document.querySelector('#df-29820006-6a59-4964-b7e5-713087c2f7cd');\n",
              "          const dataTable =\n",
              "            await google.colab.kernel.invokeFunction('convertToInteractive',\n",
              "                                                     [key], {});\n",
              "          if (!dataTable) return;\n",
              "\n",
              "          const docLinkHtml = 'Like what you see? Visit the ' +\n",
              "            '<a target=\"_blank\" href=https://colab.research.google.com/notebooks/data_table.ipynb>data table notebook</a>'\n",
              "            + ' to learn more about interactive tables.';\n",
              "          element.innerHTML = '';\n",
              "          dataTable['output_type'] = 'display_data';\n",
              "          await google.colab.output.renderOutput(dataTable, element);\n",
              "          const docLink = document.createElement('div');\n",
              "          docLink.innerHTML = docLinkHtml;\n",
              "          element.appendChild(docLink);\n",
              "        }\n",
              "      </script>\n",
              "    </div>\n",
              "  </div>\n",
              "  "
            ]
          },
          "metadata": {},
          "execution_count": 29
        }
      ]
    },
    {
      "cell_type": "code",
      "source": [
        "joined = per_response.join(\n",
        "    per_education,\n",
        "    on='Education'\n",
        ").reset_index()\n",
        "joined"
      ],
      "metadata": {
        "colab": {
          "base_uri": "https://localhost:8080/",
          "height": 363
        },
        "id": "KQ79TLrriE5N",
        "outputId": "41d96f5f-738a-403e-dd78-487794475bf1"
      },
      "execution_count": null,
      "outputs": [
        {
          "output_type": "execute_result",
          "data": {
            "text/plain": [
              "    Education  Response  Total_Per_Response  Total_Per_Edu\n",
              "0    2n Cycle         0                 178            200\n",
              "1    2n Cycle         1                  22            200\n",
              "2       Basic         0                  52             54\n",
              "3       Basic         1                   2             54\n",
              "4  Graduation         0                 961           1113\n",
              "5  Graduation         1                 152           1113\n",
              "6      Master         0                 308            364\n",
              "7      Master         1                  56            364\n",
              "8         PhD         0                 375            476\n",
              "9         PhD         1                 101            476"
            ],
            "text/html": [
              "\n",
              "  <div id=\"df-fe1def3a-7335-4fd5-b947-c45ace3dac6d\">\n",
              "    <div class=\"colab-df-container\">\n",
              "      <div>\n",
              "<style scoped>\n",
              "    .dataframe tbody tr th:only-of-type {\n",
              "        vertical-align: middle;\n",
              "    }\n",
              "\n",
              "    .dataframe tbody tr th {\n",
              "        vertical-align: top;\n",
              "    }\n",
              "\n",
              "    .dataframe thead th {\n",
              "        text-align: right;\n",
              "    }\n",
              "</style>\n",
              "<table border=\"1\" class=\"dataframe\">\n",
              "  <thead>\n",
              "    <tr style=\"text-align: right;\">\n",
              "      <th></th>\n",
              "      <th>Education</th>\n",
              "      <th>Response</th>\n",
              "      <th>Total_Per_Response</th>\n",
              "      <th>Total_Per_Edu</th>\n",
              "    </tr>\n",
              "  </thead>\n",
              "  <tbody>\n",
              "    <tr>\n",
              "      <th>0</th>\n",
              "      <td>2n Cycle</td>\n",
              "      <td>0</td>\n",
              "      <td>178</td>\n",
              "      <td>200</td>\n",
              "    </tr>\n",
              "    <tr>\n",
              "      <th>1</th>\n",
              "      <td>2n Cycle</td>\n",
              "      <td>1</td>\n",
              "      <td>22</td>\n",
              "      <td>200</td>\n",
              "    </tr>\n",
              "    <tr>\n",
              "      <th>2</th>\n",
              "      <td>Basic</td>\n",
              "      <td>0</td>\n",
              "      <td>52</td>\n",
              "      <td>54</td>\n",
              "    </tr>\n",
              "    <tr>\n",
              "      <th>3</th>\n",
              "      <td>Basic</td>\n",
              "      <td>1</td>\n",
              "      <td>2</td>\n",
              "      <td>54</td>\n",
              "    </tr>\n",
              "    <tr>\n",
              "      <th>4</th>\n",
              "      <td>Graduation</td>\n",
              "      <td>0</td>\n",
              "      <td>961</td>\n",
              "      <td>1113</td>\n",
              "    </tr>\n",
              "    <tr>\n",
              "      <th>5</th>\n",
              "      <td>Graduation</td>\n",
              "      <td>1</td>\n",
              "      <td>152</td>\n",
              "      <td>1113</td>\n",
              "    </tr>\n",
              "    <tr>\n",
              "      <th>6</th>\n",
              "      <td>Master</td>\n",
              "      <td>0</td>\n",
              "      <td>308</td>\n",
              "      <td>364</td>\n",
              "    </tr>\n",
              "    <tr>\n",
              "      <th>7</th>\n",
              "      <td>Master</td>\n",
              "      <td>1</td>\n",
              "      <td>56</td>\n",
              "      <td>364</td>\n",
              "    </tr>\n",
              "    <tr>\n",
              "      <th>8</th>\n",
              "      <td>PhD</td>\n",
              "      <td>0</td>\n",
              "      <td>375</td>\n",
              "      <td>476</td>\n",
              "    </tr>\n",
              "    <tr>\n",
              "      <th>9</th>\n",
              "      <td>PhD</td>\n",
              "      <td>1</td>\n",
              "      <td>101</td>\n",
              "      <td>476</td>\n",
              "    </tr>\n",
              "  </tbody>\n",
              "</table>\n",
              "</div>\n",
              "      <button class=\"colab-df-convert\" onclick=\"convertToInteractive('df-fe1def3a-7335-4fd5-b947-c45ace3dac6d')\"\n",
              "              title=\"Convert this dataframe to an interactive table.\"\n",
              "              style=\"display:none;\">\n",
              "        \n",
              "  <svg xmlns=\"http://www.w3.org/2000/svg\" height=\"24px\"viewBox=\"0 0 24 24\"\n",
              "       width=\"24px\">\n",
              "    <path d=\"M0 0h24v24H0V0z\" fill=\"none\"/>\n",
              "    <path d=\"M18.56 5.44l.94 2.06.94-2.06 2.06-.94-2.06-.94-.94-2.06-.94 2.06-2.06.94zm-11 1L8.5 8.5l.94-2.06 2.06-.94-2.06-.94L8.5 2.5l-.94 2.06-2.06.94zm10 10l.94 2.06.94-2.06 2.06-.94-2.06-.94-.94-2.06-.94 2.06-2.06.94z\"/><path d=\"M17.41 7.96l-1.37-1.37c-.4-.4-.92-.59-1.43-.59-.52 0-1.04.2-1.43.59L10.3 9.45l-7.72 7.72c-.78.78-.78 2.05 0 2.83L4 21.41c.39.39.9.59 1.41.59.51 0 1.02-.2 1.41-.59l7.78-7.78 2.81-2.81c.8-.78.8-2.07 0-2.86zM5.41 20L4 18.59l7.72-7.72 1.47 1.35L5.41 20z\"/>\n",
              "  </svg>\n",
              "      </button>\n",
              "      \n",
              "  <style>\n",
              "    .colab-df-container {\n",
              "      display:flex;\n",
              "      flex-wrap:wrap;\n",
              "      gap: 12px;\n",
              "    }\n",
              "\n",
              "    .colab-df-convert {\n",
              "      background-color: #E8F0FE;\n",
              "      border: none;\n",
              "      border-radius: 50%;\n",
              "      cursor: pointer;\n",
              "      display: none;\n",
              "      fill: #1967D2;\n",
              "      height: 32px;\n",
              "      padding: 0 0 0 0;\n",
              "      width: 32px;\n",
              "    }\n",
              "\n",
              "    .colab-df-convert:hover {\n",
              "      background-color: #E2EBFA;\n",
              "      box-shadow: 0px 1px 2px rgba(60, 64, 67, 0.3), 0px 1px 3px 1px rgba(60, 64, 67, 0.15);\n",
              "      fill: #174EA6;\n",
              "    }\n",
              "\n",
              "    [theme=dark] .colab-df-convert {\n",
              "      background-color: #3B4455;\n",
              "      fill: #D2E3FC;\n",
              "    }\n",
              "\n",
              "    [theme=dark] .colab-df-convert:hover {\n",
              "      background-color: #434B5C;\n",
              "      box-shadow: 0px 1px 3px 1px rgba(0, 0, 0, 0.15);\n",
              "      filter: drop-shadow(0px 1px 2px rgba(0, 0, 0, 0.3));\n",
              "      fill: #FFFFFF;\n",
              "    }\n",
              "  </style>\n",
              "\n",
              "      <script>\n",
              "        const buttonEl =\n",
              "          document.querySelector('#df-fe1def3a-7335-4fd5-b947-c45ace3dac6d button.colab-df-convert');\n",
              "        buttonEl.style.display =\n",
              "          google.colab.kernel.accessAllowed ? 'block' : 'none';\n",
              "\n",
              "        async function convertToInteractive(key) {\n",
              "          const element = document.querySelector('#df-fe1def3a-7335-4fd5-b947-c45ace3dac6d');\n",
              "          const dataTable =\n",
              "            await google.colab.kernel.invokeFunction('convertToInteractive',\n",
              "                                                     [key], {});\n",
              "          if (!dataTable) return;\n",
              "\n",
              "          const docLinkHtml = 'Like what you see? Visit the ' +\n",
              "            '<a target=\"_blank\" href=https://colab.research.google.com/notebooks/data_table.ipynb>data table notebook</a>'\n",
              "            + ' to learn more about interactive tables.';\n",
              "          element.innerHTML = '';\n",
              "          dataTable['output_type'] = 'display_data';\n",
              "          await google.colab.output.renderOutput(dataTable, element);\n",
              "          const docLink = document.createElement('div');\n",
              "          docLink.innerHTML = docLinkHtml;\n",
              "          element.appendChild(docLink);\n",
              "        }\n",
              "      </script>\n",
              "    </div>\n",
              "  </div>\n",
              "  "
            ]
          },
          "metadata": {},
          "execution_count": 30
        }
      ]
    },
    {
      "cell_type": "code",
      "source": [
        "joined['ratio'] = joined['Total_Per_Response'] / joined['Total_Per_Edu']\n",
        "joined"
      ],
      "metadata": {
        "colab": {
          "base_uri": "https://localhost:8080/",
          "height": 363
        },
        "id": "HG5iXN03iKho",
        "outputId": "d8d4ef09-90a2-48e3-f08c-41337bd676c4"
      },
      "execution_count": null,
      "outputs": [
        {
          "output_type": "execute_result",
          "data": {
            "text/plain": [
              "    Education  Response  Total_Per_Response  Total_Per_Edu     ratio\n",
              "0    2n Cycle         0                 178            200  0.890000\n",
              "1    2n Cycle         1                  22            200  0.110000\n",
              "2       Basic         0                  52             54  0.962963\n",
              "3       Basic         1                   2             54  0.037037\n",
              "4  Graduation         0                 961           1113  0.863432\n",
              "5  Graduation         1                 152           1113  0.136568\n",
              "6      Master         0                 308            364  0.846154\n",
              "7      Master         1                  56            364  0.153846\n",
              "8         PhD         0                 375            476  0.787815\n",
              "9         PhD         1                 101            476  0.212185"
            ],
            "text/html": [
              "\n",
              "  <div id=\"df-9963c7b9-6f97-4b95-9c86-916727c775b7\">\n",
              "    <div class=\"colab-df-container\">\n",
              "      <div>\n",
              "<style scoped>\n",
              "    .dataframe tbody tr th:only-of-type {\n",
              "        vertical-align: middle;\n",
              "    }\n",
              "\n",
              "    .dataframe tbody tr th {\n",
              "        vertical-align: top;\n",
              "    }\n",
              "\n",
              "    .dataframe thead th {\n",
              "        text-align: right;\n",
              "    }\n",
              "</style>\n",
              "<table border=\"1\" class=\"dataframe\">\n",
              "  <thead>\n",
              "    <tr style=\"text-align: right;\">\n",
              "      <th></th>\n",
              "      <th>Education</th>\n",
              "      <th>Response</th>\n",
              "      <th>Total_Per_Response</th>\n",
              "      <th>Total_Per_Edu</th>\n",
              "      <th>ratio</th>\n",
              "    </tr>\n",
              "  </thead>\n",
              "  <tbody>\n",
              "    <tr>\n",
              "      <th>0</th>\n",
              "      <td>2n Cycle</td>\n",
              "      <td>0</td>\n",
              "      <td>178</td>\n",
              "      <td>200</td>\n",
              "      <td>0.890000</td>\n",
              "    </tr>\n",
              "    <tr>\n",
              "      <th>1</th>\n",
              "      <td>2n Cycle</td>\n",
              "      <td>1</td>\n",
              "      <td>22</td>\n",
              "      <td>200</td>\n",
              "      <td>0.110000</td>\n",
              "    </tr>\n",
              "    <tr>\n",
              "      <th>2</th>\n",
              "      <td>Basic</td>\n",
              "      <td>0</td>\n",
              "      <td>52</td>\n",
              "      <td>54</td>\n",
              "      <td>0.962963</td>\n",
              "    </tr>\n",
              "    <tr>\n",
              "      <th>3</th>\n",
              "      <td>Basic</td>\n",
              "      <td>1</td>\n",
              "      <td>2</td>\n",
              "      <td>54</td>\n",
              "      <td>0.037037</td>\n",
              "    </tr>\n",
              "    <tr>\n",
              "      <th>4</th>\n",
              "      <td>Graduation</td>\n",
              "      <td>0</td>\n",
              "      <td>961</td>\n",
              "      <td>1113</td>\n",
              "      <td>0.863432</td>\n",
              "    </tr>\n",
              "    <tr>\n",
              "      <th>5</th>\n",
              "      <td>Graduation</td>\n",
              "      <td>1</td>\n",
              "      <td>152</td>\n",
              "      <td>1113</td>\n",
              "      <td>0.136568</td>\n",
              "    </tr>\n",
              "    <tr>\n",
              "      <th>6</th>\n",
              "      <td>Master</td>\n",
              "      <td>0</td>\n",
              "      <td>308</td>\n",
              "      <td>364</td>\n",
              "      <td>0.846154</td>\n",
              "    </tr>\n",
              "    <tr>\n",
              "      <th>7</th>\n",
              "      <td>Master</td>\n",
              "      <td>1</td>\n",
              "      <td>56</td>\n",
              "      <td>364</td>\n",
              "      <td>0.153846</td>\n",
              "    </tr>\n",
              "    <tr>\n",
              "      <th>8</th>\n",
              "      <td>PhD</td>\n",
              "      <td>0</td>\n",
              "      <td>375</td>\n",
              "      <td>476</td>\n",
              "      <td>0.787815</td>\n",
              "    </tr>\n",
              "    <tr>\n",
              "      <th>9</th>\n",
              "      <td>PhD</td>\n",
              "      <td>1</td>\n",
              "      <td>101</td>\n",
              "      <td>476</td>\n",
              "      <td>0.212185</td>\n",
              "    </tr>\n",
              "  </tbody>\n",
              "</table>\n",
              "</div>\n",
              "      <button class=\"colab-df-convert\" onclick=\"convertToInteractive('df-9963c7b9-6f97-4b95-9c86-916727c775b7')\"\n",
              "              title=\"Convert this dataframe to an interactive table.\"\n",
              "              style=\"display:none;\">\n",
              "        \n",
              "  <svg xmlns=\"http://www.w3.org/2000/svg\" height=\"24px\"viewBox=\"0 0 24 24\"\n",
              "       width=\"24px\">\n",
              "    <path d=\"M0 0h24v24H0V0z\" fill=\"none\"/>\n",
              "    <path d=\"M18.56 5.44l.94 2.06.94-2.06 2.06-.94-2.06-.94-.94-2.06-.94 2.06-2.06.94zm-11 1L8.5 8.5l.94-2.06 2.06-.94-2.06-.94L8.5 2.5l-.94 2.06-2.06.94zm10 10l.94 2.06.94-2.06 2.06-.94-2.06-.94-.94-2.06-.94 2.06-2.06.94z\"/><path d=\"M17.41 7.96l-1.37-1.37c-.4-.4-.92-.59-1.43-.59-.52 0-1.04.2-1.43.59L10.3 9.45l-7.72 7.72c-.78.78-.78 2.05 0 2.83L4 21.41c.39.39.9.59 1.41.59.51 0 1.02-.2 1.41-.59l7.78-7.78 2.81-2.81c.8-.78.8-2.07 0-2.86zM5.41 20L4 18.59l7.72-7.72 1.47 1.35L5.41 20z\"/>\n",
              "  </svg>\n",
              "      </button>\n",
              "      \n",
              "  <style>\n",
              "    .colab-df-container {\n",
              "      display:flex;\n",
              "      flex-wrap:wrap;\n",
              "      gap: 12px;\n",
              "    }\n",
              "\n",
              "    .colab-df-convert {\n",
              "      background-color: #E8F0FE;\n",
              "      border: none;\n",
              "      border-radius: 50%;\n",
              "      cursor: pointer;\n",
              "      display: none;\n",
              "      fill: #1967D2;\n",
              "      height: 32px;\n",
              "      padding: 0 0 0 0;\n",
              "      width: 32px;\n",
              "    }\n",
              "\n",
              "    .colab-df-convert:hover {\n",
              "      background-color: #E2EBFA;\n",
              "      box-shadow: 0px 1px 2px rgba(60, 64, 67, 0.3), 0px 1px 3px 1px rgba(60, 64, 67, 0.15);\n",
              "      fill: #174EA6;\n",
              "    }\n",
              "\n",
              "    [theme=dark] .colab-df-convert {\n",
              "      background-color: #3B4455;\n",
              "      fill: #D2E3FC;\n",
              "    }\n",
              "\n",
              "    [theme=dark] .colab-df-convert:hover {\n",
              "      background-color: #434B5C;\n",
              "      box-shadow: 0px 1px 3px 1px rgba(0, 0, 0, 0.15);\n",
              "      filter: drop-shadow(0px 1px 2px rgba(0, 0, 0, 0.3));\n",
              "      fill: #FFFFFF;\n",
              "    }\n",
              "  </style>\n",
              "\n",
              "      <script>\n",
              "        const buttonEl =\n",
              "          document.querySelector('#df-9963c7b9-6f97-4b95-9c86-916727c775b7 button.colab-df-convert');\n",
              "        buttonEl.style.display =\n",
              "          google.colab.kernel.accessAllowed ? 'block' : 'none';\n",
              "\n",
              "        async function convertToInteractive(key) {\n",
              "          const element = document.querySelector('#df-9963c7b9-6f97-4b95-9c86-916727c775b7');\n",
              "          const dataTable =\n",
              "            await google.colab.kernel.invokeFunction('convertToInteractive',\n",
              "                                                     [key], {});\n",
              "          if (!dataTable) return;\n",
              "\n",
              "          const docLinkHtml = 'Like what you see? Visit the ' +\n",
              "            '<a target=\"_blank\" href=https://colab.research.google.com/notebooks/data_table.ipynb>data table notebook</a>'\n",
              "            + ' to learn more about interactive tables.';\n",
              "          element.innerHTML = '';\n",
              "          dataTable['output_type'] = 'display_data';\n",
              "          await google.colab.output.renderOutput(dataTable, element);\n",
              "          const docLink = document.createElement('div');\n",
              "          docLink.innerHTML = docLinkHtml;\n",
              "          element.appendChild(docLink);\n",
              "        }\n",
              "      </script>\n",
              "    </div>\n",
              "  </div>\n",
              "  "
            ]
          },
          "metadata": {},
          "execution_count": 31
        }
      ]
    },
    {
      "cell_type": "code",
      "source": [
        "sns.barplot( data=joined, y='ratio', hue='Response', x='Education')"
      ],
      "metadata": {
        "colab": {
          "base_uri": "https://localhost:8080/",
          "height": 299
        },
        "id": "VxTCLPrSilnv",
        "outputId": "5b4fc58b-6c18-4bfb-ebb2-6f49d7b039af"
      },
      "execution_count": null,
      "outputs": [
        {
          "output_type": "execute_result",
          "data": {
            "text/plain": [
              "<matplotlib.axes._subplots.AxesSubplot at 0x7f9cced728d0>"
            ]
          },
          "metadata": {},
          "execution_count": 32
        },
        {
          "output_type": "display_data",
          "data": {
            "text/plain": [
              "<Figure size 432x288 with 1 Axes>"
            ],
            "image/png": "[encoded data removed]"
          },
          "metadata": {
            "needs_background": "light"
          }
        }
      ]
    },
    {
      "cell_type": "markdown",
      "source": [
        "Di sini kita melihat pola di mana semakin tinggi tingkat education maka kemungkinan meresponse campaign semakin tinggi"
      ],
      "metadata": {
        "id": "-23UoVY8i0NQ"
      }
    },
    {
      "cell_type": "code",
      "source": [
        "# #Full code at once\n",
        "\n",
        "# per_response = df.groupby(['Education','Response']).size().to_frame('Total_Per_Response')\n",
        "# per_education = df.groupby('Education').size().to_frame('Total_Per_Edu')\n",
        "\n",
        "# joined = per_response.join(\n",
        "#     per_education,\n",
        "#     on='Education'\n",
        "# ).reset_index()\n",
        "\n",
        "# joined['ratio'] = joined['Total_Per_Response'] / joined['Total_Per_Edu']\n",
        "# joined"
      ],
      "metadata": {
        "id": "HOrkLBXEn_S5"
      },
      "execution_count": null,
      "outputs": []
    },
    {
      "cell_type": "markdown",
      "source": [
        "##Marital Status"
      ],
      "metadata": {
        "id": "koaujflljH4i"
      }
    },
    {
      "cell_type": "code",
      "source": [
        "df['Marital_Status'].value_counts()"
      ],
      "metadata": {
        "colab": {
          "base_uri": "https://localhost:8080/"
        },
        "id": "CE4GQz0rjNp0",
        "outputId": "17435146-2a88-4efb-f41f-d807d5f82b40"
      },
      "execution_count": null,
      "outputs": [
        {
          "output_type": "execute_result",
          "data": {
            "text/plain": [
              "Married     854\n",
              "Together    569\n",
              "Single      470\n",
              "Divorced    231\n",
              "Widow        76\n",
              "Alone         3\n",
              "YOLO          2\n",
              "Absurd        2\n",
              "Name: Marital_Status, dtype: int64"
            ]
          },
          "metadata": {},
          "execution_count": 34
        }
      ]
    },
    {
      "cell_type": "code",
      "source": [
        "sns.countplot(data=df, x='Marital_Status')"
      ],
      "metadata": {
        "colab": {
          "base_uri": "https://localhost:8080/",
          "height": 298
        },
        "id": "wHCw8oRIjSfT",
        "outputId": "26f33392-a881-40f3-8dfd-8c8ef5cec03e"
      },
      "execution_count": null,
      "outputs": [
        {
          "output_type": "execute_result",
          "data": {
            "text/plain": [
              "<matplotlib.axes._subplots.AxesSubplot at 0x7f9ccec93a50>"
            ]
          },
          "metadata": {},
          "execution_count": 35
        },
        {
          "output_type": "display_data",
          "data": {
            "text/plain": [
              "<Figure size 432x288 with 1 Axes>"
            ],
            "image/png": "[encoded data removed]"
          },
          "metadata": {
            "needs_background": "light"
          }
        }
      ]
    },
    {
      "cell_type": "markdown",
      "source": [
        "Kemudian lakukan hal yang sama seperti pada Educuation"
      ],
      "metadata": {
        "id": "J-6KV0qtkDgW"
      }
    },
    {
      "cell_type": "code",
      "source": [
        "per_response = df.groupby(['Marital_Status','Response']).size().to_frame('Total_Per_Response')\n",
        "per_Marital_Status= df.groupby('Marital_Status').size().to_frame('Total_Per_Marital_Status')"
      ],
      "metadata": {
        "id": "xaY1EvlLj-Tg"
      },
      "execution_count": null,
      "outputs": []
    },
    {
      "cell_type": "code",
      "source": [
        "joined = per_response.join(\n",
        "    per_Marital_Status,\n",
        "    on='Marital_Status'\n",
        ").reset_index()\n",
        "joined"
      ],
      "metadata": {
        "colab": {
          "base_uri": "https://localhost:8080/",
          "height": 551
        },
        "id": "38LTDE2akX0p",
        "outputId": "c9288472-e5f8-45e3-e5b4-83039425b04d"
      },
      "execution_count": null,
      "outputs": [
        {
          "output_type": "execute_result",
          "data": {
            "text/plain": [
              "   Marital_Status  Response  Total_Per_Response  Total_Per_Marital_Status\n",
              "0          Absurd         0                   1                         2\n",
              "1          Absurd         1                   1                         2\n",
              "2           Alone         0                   2                         3\n",
              "3           Alone         1                   1                         3\n",
              "4        Divorced         0                 183                       231\n",
              "5        Divorced         1                  48                       231\n",
              "6         Married         0                 756                       854\n",
              "7         Married         1                  98                       854\n",
              "8          Single         0                 364                       470\n",
              "9          Single         1                 106                       470\n",
              "10       Together         0                 509                       569\n",
              "11       Together         1                  60                       569\n",
              "12          Widow         0                  58                        76\n",
              "13          Widow         1                  18                        76\n",
              "14           YOLO         0                   1                         2\n",
              "15           YOLO         1                   1                         2"
            ],
            "text/html": [
              "\n",
              "  <div id=\"df-80b383a3-0d6d-4dcf-aa6a-734b5cf58df7\">\n",
              "    <div class=\"colab-df-container\">\n",
              "      <div>\n",
              "<style scoped>\n",
              "    .dataframe tbody tr th:only-of-type {\n",
              "        vertical-align: middle;\n",
              "    }\n",
              "\n",
              "    .dataframe tbody tr th {\n",
              "        vertical-align: top;\n",
              "    }\n",
              "\n",
              "    .dataframe thead th {\n",
              "        text-align: right;\n",
              "    }\n",
              "</style>\n",
              "<table border=\"1\" class=\"dataframe\">\n",
              "  <thead>\n",
              "    <tr style=\"text-align: right;\">\n",
              "      <th></th>\n",
              "      <th>Marital_Status</th>\n",
              "      <th>Response</th>\n",
              "      <th>Total_Per_Response</th>\n",
              "      <th>Total_Per_Marital_Status</th>\n",
              "    </tr>\n",
              "  </thead>\n",
              "  <tbody>\n",
              "    <tr>\n",
              "      <th>0</th>\n",
              "      <td>Absurd</td>\n",
              "      <td>0</td>\n",
              "      <td>1</td>\n",
              "      <td>2</td>\n",
              "    </tr>\n",
              "    <tr>\n",
              "      <th>1</th>\n",
              "      <td>Absurd</td>\n",
              "      <td>1</td>\n",
              "      <td>1</td>\n",
              "      <td>2</td>\n",
              "    </tr>\n",
              "    <tr>\n",
              "      <th>2</th>\n",
              "      <td>Alone</td>\n",
              "      <td>0</td>\n",
              "      <td>2</td>\n",
              "      <td>3</td>\n",
              "    </tr>\n",
              "    <tr>\n",
              "      <th>3</th>\n",
              "      <td>Alone</td>\n",
              "      <td>1</td>\n",
              "      <td>1</td>\n",
              "      <td>3</td>\n",
              "    </tr>\n",
              "    <tr>\n",
              "      <th>4</th>\n",
              "      <td>Divorced</td>\n",
              "      <td>0</td>\n",
              "      <td>183</td>\n",
              "      <td>231</td>\n",
              "    </tr>\n",
              "    <tr>\n",
              "      <th>5</th>\n",
              "      <td>Divorced</td>\n",
              "      <td>1</td>\n",
              "      <td>48</td>\n",
              "      <td>231</td>\n",
              "    </tr>\n",
              "    <tr>\n",
              "      <th>6</th>\n",
              "      <td>Married</td>\n",
              "      <td>0</td>\n",
              "      <td>756</td>\n",
              "      <td>854</td>\n",
              "    </tr>\n",
              "    <tr>\n",
              "      <th>7</th>\n",
              "      <td>Married</td>\n",
              "      <td>1</td>\n",
              "      <td>98</td>\n",
              "      <td>854</td>\n",
              "    </tr>\n",
              "    <tr>\n",
              "      <th>8</th>\n",
              "      <td>Single</td>\n",
              "      <td>0</td>\n",
              "      <td>364</td>\n",
              "      <td>470</td>\n",
              "    </tr>\n",
              "    <tr>\n",
              "      <th>9</th>\n",
              "      <td>Single</td>\n",
              "      <td>1</td>\n",
              "      <td>106</td>\n",
              "      <td>470</td>\n",
              "    </tr>\n",
              "    <tr>\n",
              "      <th>10</th>\n",
              "      <td>Together</td>\n",
              "      <td>0</td>\n",
              "      <td>509</td>\n",
              "      <td>569</td>\n",
              "    </tr>\n",
              "    <tr>\n",
              "      <th>11</th>\n",
              "      <td>Together</td>\n",
              "      <td>1</td>\n",
              "      <td>60</td>\n",
              "      <td>569</td>\n",
              "    </tr>\n",
              "    <tr>\n",
              "      <th>12</th>\n",
              "      <td>Widow</td>\n",
              "      <td>0</td>\n",
              "      <td>58</td>\n",
              "      <td>76</td>\n",
              "    </tr>\n",
              "    <tr>\n",
              "      <th>13</th>\n",
              "      <td>Widow</td>\n",
              "      <td>1</td>\n",
              "      <td>18</td>\n",
              "      <td>76</td>\n",
              "    </tr>\n",
              "    <tr>\n",
              "      <th>14</th>\n",
              "      <td>YOLO</td>\n",
              "      <td>0</td>\n",
              "      <td>1</td>\n",
              "      <td>2</td>\n",
              "    </tr>\n",
              "    <tr>\n",
              "      <th>15</th>\n",
              "      <td>YOLO</td>\n",
              "      <td>1</td>\n",
              "      <td>1</td>\n",
              "      <td>2</td>\n",
              "    </tr>\n",
              "  </tbody>\n",
              "</table>\n",
              "</div>\n",
              "      <button class=\"colab-df-convert\" onclick=\"convertToInteractive('df-80b383a3-0d6d-4dcf-aa6a-734b5cf58df7')\"\n",
              "              title=\"Convert this dataframe to an interactive table.\"\n",
              "              style=\"display:none;\">\n",
              "        \n",
              "  <svg xmlns=\"http://www.w3.org/2000/svg\" height=\"24px\"viewBox=\"0 0 24 24\"\n",
              "       width=\"24px\">\n",
              "    <path d=\"M0 0h24v24H0V0z\" fill=\"none\"/>\n",
              "    <path d=\"M18.56 5.44l.94 2.06.94-2.06 2.06-.94-2.06-.94-.94-2.06-.94 2.06-2.06.94zm-11 1L8.5 8.5l.94-2.06 2.06-.94-2.06-.94L8.5 2.5l-.94 2.06-2.06.94zm10 10l.94 2.06.94-2.06 2.06-.94-2.06-.94-.94-2.06-.94 2.06-2.06.94z\"/><path d=\"M17.41 7.96l-1.37-1.37c-.4-.4-.92-.59-1.43-.59-.52 0-1.04.2-1.43.59L10.3 9.45l-7.72 7.72c-.78.78-.78 2.05 0 2.83L4 21.41c.39.39.9.59 1.41.59.51 0 1.02-.2 1.41-.59l7.78-7.78 2.81-2.81c.8-.78.8-2.07 0-2.86zM5.41 20L4 18.59l7.72-7.72 1.47 1.35L5.41 20z\"/>\n",
              "  </svg>\n",
              "      </button>\n",
              "      \n",
              "  <style>\n",
              "    .colab-df-container {\n",
              "      display:flex;\n",
              "      flex-wrap:wrap;\n",
              "      gap: 12px;\n",
              "    }\n",
              "\n",
              "    .colab-df-convert {\n",
              "      background-color: #E8F0FE;\n",
              "      border: none;\n",
              "      border-radius: 50%;\n",
              "      cursor: pointer;\n",
              "      display: none;\n",
              "      fill: #1967D2;\n",
              "      height: 32px;\n",
              "      padding: 0 0 0 0;\n",
              "      width: 32px;\n",
              "    }\n",
              "\n",
              "    .colab-df-convert:hover {\n",
              "      background-color: #E2EBFA;\n",
              "      box-shadow: 0px 1px 2px rgba(60, 64, 67, 0.3), 0px 1px 3px 1px rgba(60, 64, 67, 0.15);\n",
              "      fill: #174EA6;\n",
              "    }\n",
              "\n",
              "    [theme=dark] .colab-df-convert {\n",
              "      background-color: #3B4455;\n",
              "      fill: #D2E3FC;\n",
              "    }\n",
              "\n",
              "    [theme=dark] .colab-df-convert:hover {\n",
              "      background-color: #434B5C;\n",
              "      box-shadow: 0px 1px 3px 1px rgba(0, 0, 0, 0.15);\n",
              "      filter: drop-shadow(0px 1px 2px rgba(0, 0, 0, 0.3));\n",
              "      fill: #FFFFFF;\n",
              "    }\n",
              "  </style>\n",
              "\n",
              "      <script>\n",
              "        const buttonEl =\n",
              "          document.querySelector('#df-80b383a3-0d6d-4dcf-aa6a-734b5cf58df7 button.colab-df-convert');\n",
              "        buttonEl.style.display =\n",
              "          google.colab.kernel.accessAllowed ? 'block' : 'none';\n",
              "\n",
              "        async function convertToInteractive(key) {\n",
              "          const element = document.querySelector('#df-80b383a3-0d6d-4dcf-aa6a-734b5cf58df7');\n",
              "          const dataTable =\n",
              "            await google.colab.kernel.invokeFunction('convertToInteractive',\n",
              "                                                     [key], {});\n",
              "          if (!dataTable) return;\n",
              "\n",
              "          const docLinkHtml = 'Like what you see? Visit the ' +\n",
              "            '<a target=\"_blank\" href=https://colab.research.google.com/notebooks/data_table.ipynb>data table notebook</a>'\n",
              "            + ' to learn more about interactive tables.';\n",
              "          element.innerHTML = '';\n",
              "          dataTable['output_type'] = 'display_data';\n",
              "          await google.colab.output.renderOutput(dataTable, element);\n",
              "          const docLink = document.createElement('div');\n",
              "          docLink.innerHTML = docLinkHtml;\n",
              "          element.appendChild(docLink);\n",
              "        }\n",
              "      </script>\n",
              "    </div>\n",
              "  </div>\n",
              "  "
            ]
          },
          "metadata": {},
          "execution_count": 37
        }
      ]
    },
    {
      "cell_type": "code",
      "source": [
        "joined['ratio'] = joined['Total_Per_Response'] / joined['Total_Per_Marital_Status']\n",
        "joined"
      ],
      "metadata": {
        "colab": {
          "base_uri": "https://localhost:8080/",
          "height": 551
        },
        "id": "JmPiJvg5kgZ2",
        "outputId": "c752ba4f-72a2-428b-a115-a5ec8185138e"
      },
      "execution_count": null,
      "outputs": [
        {
          "output_type": "execute_result",
          "data": {
            "text/plain": [
              "   Marital_Status  Response  Total_Per_Response  Total_Per_Marital_Status  \\\n",
              "0          Absurd         0                   1                         2   \n",
              "1          Absurd         1                   1                         2   \n",
              "2           Alone         0                   2                         3   \n",
              "3           Alone         1                   1                         3   \n",
              "4        Divorced         0                 183                       231   \n",
              "5        Divorced         1                  48                       231   \n",
              "6         Married         0                 756                       854   \n",
              "7         Married         1                  98                       854   \n",
              "8          Single         0                 364                       470   \n",
              "9          Single         1                 106                       470   \n",
              "10       Together         0                 509                       569   \n",
              "11       Together         1                  60                       569   \n",
              "12          Widow         0                  58                        76   \n",
              "13          Widow         1                  18                        76   \n",
              "14           YOLO         0                   1                         2   \n",
              "15           YOLO         1                   1                         2   \n",
              "\n",
              "       ratio  \n",
              "0   0.500000  \n",
              "1   0.500000  \n",
              "2   0.666667  \n",
              "3   0.333333  \n",
              "4   0.792208  \n",
              "5   0.207792  \n",
              "6   0.885246  \n",
              "7   0.114754  \n",
              "8   0.774468  \n",
              "9   0.225532  \n",
              "10  0.894552  \n",
              "11  0.105448  \n",
              "12  0.763158  \n",
              "13  0.236842  \n",
              "14  0.500000  \n",
              "15  0.500000  "
            ],
            "text/html": [
              "\n",
              "  <div id=\"df-6aa67615-17ae-438d-acc9-3c28a5ae087b\">\n",
              "    <div class=\"colab-df-container\">\n",
              "      <div>\n",
              "<style scoped>\n",
              "    .dataframe tbody tr th:only-of-type {\n",
              "        vertical-align: middle;\n",
              "    }\n",
              "\n",
              "    .dataframe tbody tr th {\n",
              "        vertical-align: top;\n",
              "    }\n",
              "\n",
              "    .dataframe thead th {\n",
              "        text-align: right;\n",
              "    }\n",
              "</style>\n",
              "<table border=\"1\" class=\"dataframe\">\n",
              "  <thead>\n",
              "    <tr style=\"text-align: right;\">\n",
              "      <th></th>\n",
              "      <th>Marital_Status</th>\n",
              "      <th>Response</th>\n",
              "      <th>Total_Per_Response</th>\n",
              "      <th>Total_Per_Marital_Status</th>\n",
              "      <th>ratio</th>\n",
              "    </tr>\n",
              "  </thead>\n",
              "  <tbody>\n",
              "    <tr>\n",
              "      <th>0</th>\n",
              "      <td>Absurd</td>\n",
              "      <td>0</td>\n",
              "      <td>1</td>\n",
              "      <td>2</td>\n",
              "      <td>0.500000</td>\n",
              "    </tr>\n",
              "    <tr>\n",
              "      <th>1</th>\n",
              "      <td>Absurd</td>\n",
              "      <td>1</td>\n",
              "      <td>1</td>\n",
              "      <td>2</td>\n",
              "      <td>0.500000</td>\n",
              "    </tr>\n",
              "    <tr>\n",
              "      <th>2</th>\n",
              "      <td>Alone</td>\n",
              "      <td>0</td>\n",
              "      <td>2</td>\n",
              "      <td>3</td>\n",
              "      <td>0.666667</td>\n",
              "    </tr>\n",
              "    <tr>\n",
              "      <th>3</th>\n",
              "      <td>Alone</td>\n",
              "      <td>1</td>\n",
              "      <td>1</td>\n",
              "      <td>3</td>\n",
              "      <td>0.333333</td>\n",
              "    </tr>\n",
              "    <tr>\n",
              "      <th>4</th>\n",
              "      <td>Divorced</td>\n",
              "      <td>0</td>\n",
              "      <td>183</td>\n",
              "      <td>231</td>\n",
              "      <td>0.792208</td>\n",
              "    </tr>\n",
              "    <tr>\n",
              "      <th>5</th>\n",
              "      <td>Divorced</td>\n",
              "      <td>1</td>\n",
              "      <td>48</td>\n",
              "      <td>231</td>\n",
              "      <td>0.207792</td>\n",
              "    </tr>\n",
              "    <tr>\n",
              "      <th>6</th>\n",
              "      <td>Married</td>\n",
              "      <td>0</td>\n",
              "      <td>756</td>\n",
              "      <td>854</td>\n",
              "      <td>0.885246</td>\n",
              "    </tr>\n",
              "    <tr>\n",
              "      <th>7</th>\n",
              "      <td>Married</td>\n",
              "      <td>1</td>\n",
              "      <td>98</td>\n",
              "      <td>854</td>\n",
              "      <td>0.114754</td>\n",
              "    </tr>\n",
              "    <tr>\n",
              "      <th>8</th>\n",
              "      <td>Single</td>\n",
              "      <td>0</td>\n",
              "      <td>364</td>\n",
              "      <td>470</td>\n",
              "      <td>0.774468</td>\n",
              "    </tr>\n",
              "    <tr>\n",
              "      <th>9</th>\n",
              "      <td>Single</td>\n",
              "      <td>1</td>\n",
              "      <td>106</td>\n",
              "      <td>470</td>\n",
              "      <td>0.225532</td>\n",
              "    </tr>\n",
              "    <tr>\n",
              "      <th>10</th>\n",
              "      <td>Together</td>\n",
              "      <td>0</td>\n",
              "      <td>509</td>\n",
              "      <td>569</td>\n",
              "      <td>0.894552</td>\n",
              "    </tr>\n",
              "    <tr>\n",
              "      <th>11</th>\n",
              "      <td>Together</td>\n",
              "      <td>1</td>\n",
              "      <td>60</td>\n",
              "      <td>569</td>\n",
              "      <td>0.105448</td>\n",
              "    </tr>\n",
              "    <tr>\n",
              "      <th>12</th>\n",
              "      <td>Widow</td>\n",
              "      <td>0</td>\n",
              "      <td>58</td>\n",
              "      <td>76</td>\n",
              "      <td>0.763158</td>\n",
              "    </tr>\n",
              "    <tr>\n",
              "      <th>13</th>\n",
              "      <td>Widow</td>\n",
              "      <td>1</td>\n",
              "      <td>18</td>\n",
              "      <td>76</td>\n",
              "      <td>0.236842</td>\n",
              "    </tr>\n",
              "    <tr>\n",
              "      <th>14</th>\n",
              "      <td>YOLO</td>\n",
              "      <td>0</td>\n",
              "      <td>1</td>\n",
              "      <td>2</td>\n",
              "      <td>0.500000</td>\n",
              "    </tr>\n",
              "    <tr>\n",
              "      <th>15</th>\n",
              "      <td>YOLO</td>\n",
              "      <td>1</td>\n",
              "      <td>1</td>\n",
              "      <td>2</td>\n",
              "      <td>0.500000</td>\n",
              "    </tr>\n",
              "  </tbody>\n",
              "</table>\n",
              "</div>\n",
              "      <button class=\"colab-df-convert\" onclick=\"convertToInteractive('df-6aa67615-17ae-438d-acc9-3c28a5ae087b')\"\n",
              "              title=\"Convert this dataframe to an interactive table.\"\n",
              "              style=\"display:none;\">\n",
              "        \n",
              "  <svg xmlns=\"http://www.w3.org/2000/svg\" height=\"24px\"viewBox=\"0 0 24 24\"\n",
              "       width=\"24px\">\n",
              "    <path d=\"M0 0h24v24H0V0z\" fill=\"none\"/>\n",
              "    <path d=\"M18.56 5.44l.94 2.06.94-2.06 2.06-.94-2.06-.94-.94-2.06-.94 2.06-2.06.94zm-11 1L8.5 8.5l.94-2.06 2.06-.94-2.06-.94L8.5 2.5l-.94 2.06-2.06.94zm10 10l.94 2.06.94-2.06 2.06-.94-2.06-.94-.94-2.06-.94 2.06-2.06.94z\"/><path d=\"M17.41 7.96l-1.37-1.37c-.4-.4-.92-.59-1.43-.59-.52 0-1.04.2-1.43.59L10.3 9.45l-7.72 7.72c-.78.78-.78 2.05 0 2.83L4 21.41c.39.39.9.59 1.41.59.51 0 1.02-.2 1.41-.59l7.78-7.78 2.81-2.81c.8-.78.8-2.07 0-2.86zM5.41 20L4 18.59l7.72-7.72 1.47 1.35L5.41 20z\"/>\n",
              "  </svg>\n",
              "      </button>\n",
              "      \n",
              "  <style>\n",
              "    .colab-df-container {\n",
              "      display:flex;\n",
              "      flex-wrap:wrap;\n",
              "      gap: 12px;\n",
              "    }\n",
              "\n",
              "    .colab-df-convert {\n",
              "      background-color: #E8F0FE;\n",
              "      border: none;\n",
              "      border-radius: 50%;\n",
              "      cursor: pointer;\n",
              "      display: none;\n",
              "      fill: #1967D2;\n",
              "      height: 32px;\n",
              "      padding: 0 0 0 0;\n",
              "      width: 32px;\n",
              "    }\n",
              "\n",
              "    .colab-df-convert:hover {\n",
              "      background-color: #E2EBFA;\n",
              "      box-shadow: 0px 1px 2px rgba(60, 64, 67, 0.3), 0px 1px 3px 1px rgba(60, 64, 67, 0.15);\n",
              "      fill: #174EA6;\n",
              "    }\n",
              "\n",
              "    [theme=dark] .colab-df-convert {\n",
              "      background-color: #3B4455;\n",
              "      fill: #D2E3FC;\n",
              "    }\n",
              "\n",
              "    [theme=dark] .colab-df-convert:hover {\n",
              "      background-color: #434B5C;\n",
              "      box-shadow: 0px 1px 3px 1px rgba(0, 0, 0, 0.15);\n",
              "      filter: drop-shadow(0px 1px 2px rgba(0, 0, 0, 0.3));\n",
              "      fill: #FFFFFF;\n",
              "    }\n",
              "  </style>\n",
              "\n",
              "      <script>\n",
              "        const buttonEl =\n",
              "          document.querySelector('#df-6aa67615-17ae-438d-acc9-3c28a5ae087b button.colab-df-convert');\n",
              "        buttonEl.style.display =\n",
              "          google.colab.kernel.accessAllowed ? 'block' : 'none';\n",
              "\n",
              "        async function convertToInteractive(key) {\n",
              "          const element = document.querySelector('#df-6aa67615-17ae-438d-acc9-3c28a5ae087b');\n",
              "          const dataTable =\n",
              "            await google.colab.kernel.invokeFunction('convertToInteractive',\n",
              "                                                     [key], {});\n",
              "          if (!dataTable) return;\n",
              "\n",
              "          const docLinkHtml = 'Like what you see? Visit the ' +\n",
              "            '<a target=\"_blank\" href=https://colab.research.google.com/notebooks/data_table.ipynb>data table notebook</a>'\n",
              "            + ' to learn more about interactive tables.';\n",
              "          element.innerHTML = '';\n",
              "          dataTable['output_type'] = 'display_data';\n",
              "          await google.colab.output.renderOutput(dataTable, element);\n",
              "          const docLink = document.createElement('div');\n",
              "          docLink.innerHTML = docLinkHtml;\n",
              "          element.appendChild(docLink);\n",
              "        }\n",
              "      </script>\n",
              "    </div>\n",
              "  </div>\n",
              "  "
            ]
          },
          "metadata": {},
          "execution_count": 38
        }
      ]
    },
    {
      "cell_type": "code",
      "source": [
        "sns.barplot( data=joined, y='ratio', hue='Response', x='Marital_Status')"
      ],
      "metadata": {
        "colab": {
          "base_uri": "https://localhost:8080/",
          "height": 298
        },
        "id": "5lnE9vYYkr89",
        "outputId": "96b884fa-16c6-4d93-b3ba-80defcaa16de"
      },
      "execution_count": null,
      "outputs": [
        {
          "output_type": "execute_result",
          "data": {
            "text/plain": [
              "<matplotlib.axes._subplots.AxesSubplot at 0x7f9ccecb0b90>"
            ]
          },
          "metadata": {},
          "execution_count": 39
        },
        {
          "output_type": "display_data",
          "data": {
            "text/plain": [
              "<Figure size 432x288 with 1 Axes>"
            ],
            "image/png": "[encoded data removed]"
          },
          "metadata": {
            "needs_background": "light"
          }
        }
      ]
    },
    {
      "cell_type": "markdown",
      "source": [
        "Kita hiraukan data yang berlabel Absurd,Alone, dan YOLO karena jumlahnya sedikit, sehingga urutan yang cenderung merespon campaign adalah Widow,Single, dan Divorced secara berturut-turut"
      ],
      "metadata": {
        "id": "L-8tuDXDkxLY"
      }
    },
    {
      "cell_type": "code",
      "source": [
        "#menghilangkan kategori yang minim data\n",
        "df= df[~df['Marital_Status'].isin(['Absurd','Alone','YOLO'])]"
      ],
      "metadata": {
        "id": "QrW8EerHlLo2"
      },
      "execution_count": null,
      "outputs": []
    },
    {
      "cell_type": "markdown",
      "source": [
        "##Age"
      ],
      "metadata": {
        "id": "xYPeZq76ombt"
      }
    },
    {
      "cell_type": "code",
      "source": [
        "df['Age'] = 2022 - df['Year_Birth']\n",
        "df['Age']"
      ],
      "metadata": {
        "colab": {
          "base_uri": "https://localhost:8080/"
        },
        "id": "m8xs980PopF2",
        "outputId": "55317d46-e4ab-4494-f941-1ae318ffa690"
      },
      "execution_count": null,
      "outputs": [
        {
          "output_type": "stream",
          "name": "stderr",
          "text": [
            "/usr/local/lib/python3.7/dist-packages/ipykernel_launcher.py:1: SettingWithCopyWarning: \n",
            "A value is trying to be set on a copy of a slice from a DataFrame.\n",
            "Try using .loc[row_indexer,col_indexer] = value instead\n",
            "\n",
            "See the caveats in the documentation: https://pandas.pydata.org/pandas-docs/stable/user_guide/indexing.html#returning-a-view-versus-a-copy\n",
            "  \"\"\"Entry point for launching an IPython kernel.\n"
          ]
        },
        {
          "output_type": "execute_result",
          "data": {
            "text/plain": [
              "0       52\n",
              "1       61\n",
              "2       64\n",
              "3       55\n",
              "4       33\n",
              "        ..\n",
              "2235    46\n",
              "2236    45\n",
              "2237    46\n",
              "2238    44\n",
              "2239    53\n",
              "Name: Age, Length: 2200, dtype: int64"
            ]
          },
          "metadata": {},
          "execution_count": 41
        }
      ]
    },
    {
      "cell_type": "code",
      "source": [
        "sns.histplot(data=df, x='Age', hue='Response')"
      ],
      "metadata": {
        "colab": {
          "base_uri": "https://localhost:8080/",
          "height": 297
        },
        "id": "UFRrE5iBpCey",
        "outputId": "4960f3b9-7da1-488d-83e9-5453fc87f529"
      },
      "execution_count": null,
      "outputs": [
        {
          "output_type": "execute_result",
          "data": {
            "text/plain": [
              "<matplotlib.axes._subplots.AxesSubplot at 0x7f9ccf081610>"
            ]
          },
          "metadata": {},
          "execution_count": 42
        },
        {
          "output_type": "display_data",
          "data": {
            "text/plain": [
              "<Figure size 432x288 with 1 Axes>"
            ],
            "image/png": "[encoded data removed]"
          },
          "metadata": {
            "needs_background": "light"
          }
        }
      ]
    },
    {
      "cell_type": "markdown",
      "source": [
        "Terlihat ada data yang terpisah berarti ada outliers"
      ],
      "metadata": {
        "id": "ntm-IEjZpKwv"
      }
    },
    {
      "cell_type": "code",
      "source": [
        "sns.boxplot(data=df, x='Age')"
      ],
      "metadata": {
        "colab": {
          "base_uri": "https://localhost:8080/",
          "height": 297
        },
        "id": "BjC3BWxmpJY7",
        "outputId": "6ffda8cc-30ca-4923-f091-5e39381bc856"
      },
      "execution_count": null,
      "outputs": [
        {
          "output_type": "execute_result",
          "data": {
            "text/plain": [
              "<matplotlib.axes._subplots.AxesSubplot at 0x7f9ccf02cfd0>"
            ]
          },
          "metadata": {},
          "execution_count": 43
        },
        {
          "output_type": "display_data",
          "data": {
            "text/plain": [
              "<Figure size 432x288 with 1 Axes>"
            ],
            "image/png": "[encoded data removed]"
          },
          "metadata": {
            "needs_background": "light"
          }
        }
      ]
    },
    {
      "cell_type": "code",
      "source": [
        "df[df['Age'] >= 100 ].shape"
      ],
      "metadata": {
        "colab": {
          "base_uri": "https://localhost:8080/"
        },
        "id": "VIX1JcT1pl65",
        "outputId": "8ff771fd-e784-4e15-df0f-40ed28cfa620"
      },
      "execution_count": null,
      "outputs": [
        {
          "output_type": "execute_result",
          "data": {
            "text/plain": [
              "(3, 30)"
            ]
          },
          "metadata": {},
          "execution_count": 44
        }
      ]
    },
    {
      "cell_type": "markdown",
      "source": [
        "Hanya ada 3 data di atas 100 tahun maka dari itu, kita bisa hapus data tersebut"
      ],
      "metadata": {
        "id": "OXNuVoc4pseW"
      }
    },
    {
      "cell_type": "code",
      "source": [
        "df = df[df['Age'] <= 100 ]\n",
        "df.shape"
      ],
      "metadata": {
        "colab": {
          "base_uri": "https://localhost:8080/"
        },
        "id": "E-wpunNhp2uJ",
        "outputId": "00839fdb-bd04-4e79-e2e7-664719d28075"
      },
      "execution_count": null,
      "outputs": [
        {
          "output_type": "execute_result",
          "data": {
            "text/plain": [
              "(2197, 30)"
            ]
          },
          "metadata": {},
          "execution_count": 45
        }
      ]
    },
    {
      "cell_type": "markdown",
      "source": [
        "Dikarenakan kita akan sering menggunakan bootsrap, maka kita akan membuat fungsi bootstrap"
      ],
      "metadata": {
        "id": "g3gZfd3fqHF0"
      }
    },
    {
      "cell_type": "code",
      "source": [
        "def bootstrap (df,column):\n",
        "\n",
        "  BOOTS_RESULT =[]\n",
        "  for i in range(200):\n",
        "    #sampling kelas response = 0\n",
        "    mean_0 = df[df['Response'] == 0][column].sample(100).mean()\n",
        "    mean_1 = df[df['Response'] == 1][ column].sample(100).mean()\n",
        "\n",
        "    BOOTS_RESULT.append((mean_0,0))\n",
        "    BOOTS_RESULT.append((mean_1,1))\n",
        "\n",
        "  df_boots = pd.DataFrame(BOOTS_RESULT,columns = [column,'Response'])\n",
        "  return df_boots"
      ],
      "metadata": {
        "id": "Hk8EgVLGqOYj"
      },
      "execution_count": null,
      "outputs": []
    },
    {
      "cell_type": "markdown",
      "source": [
        "###Bootstrapping"
      ],
      "metadata": {
        "id": "6Be4QDK6rBUl"
      }
    },
    {
      "cell_type": "code",
      "source": [
        "df_boots = bootstrap(df,'Age')"
      ],
      "metadata": {
        "id": "KVej_tPPrEVx"
      },
      "execution_count": null,
      "outputs": []
    },
    {
      "cell_type": "code",
      "source": [
        "sns.histplot(data = df_boots, x='Age', hue='Response')"
      ],
      "metadata": {
        "colab": {
          "base_uri": "https://localhost:8080/",
          "height": 297
        },
        "id": "X7blrXATri0w",
        "outputId": "5a82a790-097e-4d61-d630-854dcb44048c"
      },
      "execution_count": null,
      "outputs": [
        {
          "output_type": "execute_result",
          "data": {
            "text/plain": [
              "<matplotlib.axes._subplots.AxesSubplot at 0x7f9cce990690>"
            ]
          },
          "metadata": {},
          "execution_count": 48
        },
        {
          "output_type": "display_data",
          "data": {
            "text/plain": [
              "<Figure size 432x288 with 1 Axes>"
            ],
            "image/png": "[encoded data removed]"
          },
          "metadata": {
            "needs_background": "light"
          }
        }
      ]
    },
    {
      "cell_type": "markdown",
      "source": [
        "##Day User Active"
      ],
      "metadata": {
        "id": "4YZK4oS5r5WX"
      }
    },
    {
      "cell_type": "code",
      "source": [
        "#membuat sebuah fungsi untuk mengubah object menjadi tipe date time\n",
        "from datetime import datetime\n",
        "\n",
        "\n",
        "def get_user_active(s):\n",
        "  month, day, year = s.split('/')\n",
        "  year = '20'+ year\n",
        "  base = datetime(int(year),int(month),int(day)) #harus digunakan int\n",
        "  elapse_days = datetime.now() - base\n",
        "  return elapse_days.days #kita ingin mengambil jumlah hati saja\n",
        "\n",
        "# input_s = '6/16/14' #\n",
        "# print(input_s) \n",
        "# print(get_user_active(input_s))\n",
        "\n",
        "df['Active_For'] = df['Dt_Customer'].apply(get_user_active)\n",
        "df['Active_For']"
      ],
      "metadata": {
        "colab": {
          "base_uri": "https://localhost:8080/"
        },
        "id": "O-sGuPdqr9Wl",
        "outputId": "bca3c85d-2646-4e3e-849a-8afe11bab437"
      },
      "execution_count": null,
      "outputs": [
        {
          "output_type": "execute_result",
          "data": {
            "text/plain": [
              "0       3026\n",
              "1       3027\n",
              "2       3060\n",
              "3       3062\n",
              "4       3095\n",
              "        ... \n",
              "2235    3492\n",
              "2236    3536\n",
              "2237    3586\n",
              "2238    3590\n",
              "2239    3679\n",
              "Name: Active_For, Length: 2197, dtype: int64"
            ]
          },
          "metadata": {},
          "execution_count": 49
        }
      ]
    },
    {
      "cell_type": "code",
      "source": [
        "df_boots = bootstrap(df,'Active_For')"
      ],
      "metadata": {
        "id": "nFguDNqUuFVV"
      },
      "execution_count": null,
      "outputs": []
    },
    {
      "cell_type": "code",
      "source": [
        "sns.histplot(data = df_boots, x='Active_For', hue='Response')"
      ],
      "metadata": {
        "colab": {
          "base_uri": "https://localhost:8080/",
          "height": 298
        },
        "id": "BTnSDUAduH_h",
        "outputId": "08fb3b18-a909-47e1-fbc8-2e3857947d4a"
      },
      "execution_count": null,
      "outputs": [
        {
          "output_type": "execute_result",
          "data": {
            "text/plain": [
              "<matplotlib.axes._subplots.AxesSubplot at 0x7f9cce89a290>"
            ]
          },
          "metadata": {},
          "execution_count": 51
        },
        {
          "output_type": "display_data",
          "data": {
            "text/plain": [
              "<Figure size 432x288 with 1 Axes>"
            ],
            "image/png": "[encoded data removed]"
          },
          "metadata": {
            "needs_background": "light"
          }
        }
      ]
    },
    {
      "cell_type": "markdown",
      "source": [
        "Ternyata User dengan rata-rata 3450 hari akan cenderung merespon campaign kita dibanding dengan yang rata-rata 3350 hari"
      ],
      "metadata": {
        "id": "yYQxRkGnuRUp"
      }
    },
    {
      "cell_type": "markdown",
      "source": [
        "##Ratio Accepted Campaign"
      ],
      "metadata": {
        "id": "Ld99J9arugym"
      }
    },
    {
      "cell_type": "code",
      "source": [
        "df['Accpt_Cmp_Ratio'] = (df['AcceptedCmp1'] + df['AcceptedCmp2'] + df['AcceptedCmp3'] + df['AcceptedCmp4'] + df['AcceptedCmp5']) / 5"
      ],
      "metadata": {
        "id": "w4ZirWZYurHb"
      },
      "execution_count": null,
      "outputs": []
    },
    {
      "cell_type": "code",
      "source": [
        "df_boots = bootstrap(df,'Accpt_Cmp_Ratio')"
      ],
      "metadata": {
        "id": "XzO0HFd8vB-A"
      },
      "execution_count": null,
      "outputs": []
    },
    {
      "cell_type": "code",
      "source": [
        "sns.histplot(data = df_boots, x='Accpt_Cmp_Ratio', hue='Response')"
      ],
      "metadata": {
        "colab": {
          "base_uri": "https://localhost:8080/",
          "height": 298
        },
        "id": "YN4qrh90vDTu",
        "outputId": "49b92fe9-2aff-42fd-924c-0caf4ac5056c"
      },
      "execution_count": null,
      "outputs": [
        {
          "output_type": "execute_result",
          "data": {
            "text/plain": [
              "<matplotlib.axes._subplots.AxesSubplot at 0x7f9cce7dc510>"
            ]
          },
          "metadata": {},
          "execution_count": 54
        },
        {
          "output_type": "display_data",
          "data": {
            "text/plain": [
              "<Figure size 432x288 with 1 Axes>"
            ],
            "image/png": "[encoded data removed]"
          },
          "metadata": {
            "needs_background": "light"
          }
        }
      ]
    },
    {
      "cell_type": "markdown",
      "source": [
        "Kemungkinan user yang mengambil campaign biasanya sudah pernah mengambil paling tidak 1 campaign sebelumnya terlihat dari ratio 0.2"
      ],
      "metadata": {
        "id": "1-Bea5SVvNgE"
      }
    },
    {
      "cell_type": "markdown",
      "source": [
        "##Correlation Analysis"
      ],
      "metadata": {
        "id": "PWwY4gL5veGl"
      }
    },
    {
      "cell_type": "code",
      "source": [
        "FEATURE = [\n",
        "    'Income_Real',\n",
        "    'Education',\n",
        "    'Marital_Status', \n",
        "    'Age',\n",
        "    'Active_For',\n",
        "    'Accpt_Cmp_Ratio'\n",
        "]\n",
        "\n",
        "TARGET = 'Response'"
      ],
      "metadata": {
        "id": "84YjnPoIvg2c"
      },
      "execution_count": null,
      "outputs": []
    },
    {
      "cell_type": "code",
      "source": [
        "X = df[FEATURE]\n",
        "y = df[TARGET]"
      ],
      "metadata": {
        "id": "6Rxke274vynQ"
      },
      "execution_count": null,
      "outputs": []
    },
    {
      "cell_type": "code",
      "source": [
        "X.shape"
      ],
      "metadata": {
        "colab": {
          "base_uri": "https://localhost:8080/"
        },
        "id": "DhLRTawQv_2b",
        "outputId": "71b69f98-c1f0-4866-febd-46f6dca5ba3b"
      },
      "execution_count": null,
      "outputs": [
        {
          "output_type": "execute_result",
          "data": {
            "text/plain": [
              "(2197, 6)"
            ]
          },
          "metadata": {},
          "execution_count": 57
        }
      ]
    },
    {
      "cell_type": "markdown",
      "source": [
        "#Train & Testing"
      ],
      "metadata": {
        "id": "PCj_V_icwCmT"
      }
    },
    {
      "cell_type": "code",
      "source": [
        "from sklearn.model_selection import train_test_split"
      ],
      "metadata": {
        "id": "ixRrHFsFwGMT"
      },
      "execution_count": null,
      "outputs": []
    },
    {
      "cell_type": "code",
      "source": [
        "X_train, X_test, y_train, y_test = train_test_split(X, y, stratify=y, test_size=0.2)\n",
        "X_train"
      ],
      "metadata": {
        "colab": {
          "base_uri": "https://localhost:8080/",
          "height": 424
        },
        "id": "KwZPPFFiwKws",
        "outputId": "a50f8493-fd1b-4dce-d77f-8b2db1fffc81"
      },
      "execution_count": null,
      "outputs": [
        {
          "output_type": "execute_result",
          "data": {
            "text/plain": [
              "      Income_Real   Education Marital_Status  Age  Active_For  Accpt_Cmp_Ratio\n",
              "2         67267.0  Graduation        Married   64        3060              0.0\n",
              "1613      80910.0    2n Cycle         Single   36        3619              0.0\n",
              "425       83003.0  Graduation       Together   57        3496              0.2\n",
              "1276      21255.0      Master       Together   48        3172              0.0\n",
              "1428      52332.0  Graduation       Divorced   63        3318              0.2\n",
              "...           ...         ...            ...  ...         ...              ...\n",
              "1398      73803.0  Graduation        Married   65        3710              0.2\n",
              "2056      76542.0         PhD       Together   66        3469              0.0\n",
              "1678      54342.0    2n Cycle       Together   66        3374              0.0\n",
              "740        9548.0       Basic       Divorced   46        3703              0.0\n",
              "1377      53593.0         PhD       Together   69        3704              0.0\n",
              "\n",
              "[1757 rows x 6 columns]"
            ],
            "text/html": [
              "\n",
              "  <div id=\"df-8d01100f-924c-421e-b0da-0a4017412b9c\">\n",
              "    <div class=\"colab-df-container\">\n",
              "      <div>\n",
              "<style scoped>\n",
              "    .dataframe tbody tr th:only-of-type {\n",
              "        vertical-align: middle;\n",
              "    }\n",
              "\n",
              "    .dataframe tbody tr th {\n",
              "        vertical-align: top;\n",
              "    }\n",
              "\n",
              "    .dataframe thead th {\n",
              "        text-align: right;\n",
              "    }\n",
              "</style>\n",
              "<table border=\"1\" class=\"dataframe\">\n",
              "  <thead>\n",
              "    <tr style=\"text-align: right;\">\n",
              "      <th></th>\n",
              "      <th>Income_Real</th>\n",
              "      <th>Education</th>\n",
              "      <th>Marital_Status</th>\n",
              "      <th>Age</th>\n",
              "      <th>Active_For</th>\n",
              "      <th>Accpt_Cmp_Ratio</th>\n",
              "    </tr>\n",
              "  </thead>\n",
              "  <tbody>\n",
              "    <tr>\n",
              "      <th>2</th>\n",
              "      <td>67267.0</td>\n",
              "      <td>Graduation</td>\n",
              "      <td>Married</td>\n",
              "      <td>64</td>\n",
              "      <td>3060</td>\n",
              "      <td>0.0</td>\n",
              "    </tr>\n",
              "    <tr>\n",
              "      <th>1613</th>\n",
              "      <td>80910.0</td>\n",
              "      <td>2n Cycle</td>\n",
              "      <td>Single</td>\n",
              "      <td>36</td>\n",
              "      <td>3619</td>\n",
              "      <td>0.0</td>\n",
              "    </tr>\n",
              "    <tr>\n",
              "      <th>425</th>\n",
              "      <td>83003.0</td>\n",
              "      <td>Graduation</td>\n",
              "      <td>Together</td>\n",
              "      <td>57</td>\n",
              "      <td>3496</td>\n",
              "      <td>0.2</td>\n",
              "    </tr>\n",
              "    <tr>\n",
              "      <th>1276</th>\n",
              "      <td>21255.0</td>\n",
              "      <td>Master</td>\n",
              "      <td>Together</td>\n",
              "      <td>48</td>\n",
              "      <td>3172</td>\n",
              "      <td>0.0</td>\n",
              "    </tr>\n",
              "    <tr>\n",
              "      <th>1428</th>\n",
              "      <td>52332.0</td>\n",
              "      <td>Graduation</td>\n",
              "      <td>Divorced</td>\n",
              "      <td>63</td>\n",
              "      <td>3318</td>\n",
              "      <td>0.2</td>\n",
              "    </tr>\n",
              "    <tr>\n",
              "      <th>...</th>\n",
              "      <td>...</td>\n",
              "      <td>...</td>\n",
              "      <td>...</td>\n",
              "      <td>...</td>\n",
              "      <td>...</td>\n",
              "      <td>...</td>\n",
              "    </tr>\n",
              "    <tr>\n",
              "      <th>1398</th>\n",
              "      <td>73803.0</td>\n",
              "      <td>Graduation</td>\n",
              "      <td>Married</td>\n",
              "      <td>65</td>\n",
              "      <td>3710</td>\n",
              "      <td>0.2</td>\n",
              "    </tr>\n",
              "    <tr>\n",
              "      <th>2056</th>\n",
              "      <td>76542.0</td>\n",
              "      <td>PhD</td>\n",
              "      <td>Together</td>\n",
              "      <td>66</td>\n",
              "      <td>3469</td>\n",
              "      <td>0.0</td>\n",
              "    </tr>\n",
              "    <tr>\n",
              "      <th>1678</th>\n",
              "      <td>54342.0</td>\n",
              "      <td>2n Cycle</td>\n",
              "      <td>Together</td>\n",
              "      <td>66</td>\n",
              "      <td>3374</td>\n",
              "      <td>0.0</td>\n",
              "    </tr>\n",
              "    <tr>\n",
              "      <th>740</th>\n",
              "      <td>9548.0</td>\n",
              "      <td>Basic</td>\n",
              "      <td>Divorced</td>\n",
              "      <td>46</td>\n",
              "      <td>3703</td>\n",
              "      <td>0.0</td>\n",
              "    </tr>\n",
              "    <tr>\n",
              "      <th>1377</th>\n",
              "      <td>53593.0</td>\n",
              "      <td>PhD</td>\n",
              "      <td>Together</td>\n",
              "      <td>69</td>\n",
              "      <td>3704</td>\n",
              "      <td>0.0</td>\n",
              "    </tr>\n",
              "  </tbody>\n",
              "</table>\n",
              "<p>1757 rows × 6 columns</p>\n",
              "</div>\n",
              "      <button class=\"colab-df-convert\" onclick=\"convertToInteractive('df-8d01100f-924c-421e-b0da-0a4017412b9c')\"\n",
              "              title=\"Convert this dataframe to an interactive table.\"\n",
              "              style=\"display:none;\">\n",
              "        \n",
              "  <svg xmlns=\"http://www.w3.org/2000/svg\" height=\"24px\"viewBox=\"0 0 24 24\"\n",
              "       width=\"24px\">\n",
              "    <path d=\"M0 0h24v24H0V0z\" fill=\"none\"/>\n",
              "    <path d=\"M18.56 5.44l.94 2.06.94-2.06 2.06-.94-2.06-.94-.94-2.06-.94 2.06-2.06.94zm-11 1L8.5 8.5l.94-2.06 2.06-.94-2.06-.94L8.5 2.5l-.94 2.06-2.06.94zm10 10l.94 2.06.94-2.06 2.06-.94-2.06-.94-.94-2.06-.94 2.06-2.06.94z\"/><path d=\"M17.41 7.96l-1.37-1.37c-.4-.4-.92-.59-1.43-.59-.52 0-1.04.2-1.43.59L10.3 9.45l-7.72 7.72c-.78.78-.78 2.05 0 2.83L4 21.41c.39.39.9.59 1.41.59.51 0 1.02-.2 1.41-.59l7.78-7.78 2.81-2.81c.8-.78.8-2.07 0-2.86zM5.41 20L4 18.59l7.72-7.72 1.47 1.35L5.41 20z\"/>\n",
              "  </svg>\n",
              "      </button>\n",
              "      \n",
              "  <style>\n",
              "    .colab-df-container {\n",
              "      display:flex;\n",
              "      flex-wrap:wrap;\n",
              "      gap: 12px;\n",
              "    }\n",
              "\n",
              "    .colab-df-convert {\n",
              "      background-color: #E8F0FE;\n",
              "      border: none;\n",
              "      border-radius: 50%;\n",
              "      cursor: pointer;\n",
              "      display: none;\n",
              "      fill: #1967D2;\n",
              "      height: 32px;\n",
              "      padding: 0 0 0 0;\n",
              "      width: 32px;\n",
              "    }\n",
              "\n",
              "    .colab-df-convert:hover {\n",
              "      background-color: #E2EBFA;\n",
              "      box-shadow: 0px 1px 2px rgba(60, 64, 67, 0.3), 0px 1px 3px 1px rgba(60, 64, 67, 0.15);\n",
              "      fill: #174EA6;\n",
              "    }\n",
              "\n",
              "    [theme=dark] .colab-df-convert {\n",
              "      background-color: #3B4455;\n",
              "      fill: #D2E3FC;\n",
              "    }\n",
              "\n",
              "    [theme=dark] .colab-df-convert:hover {\n",
              "      background-color: #434B5C;\n",
              "      box-shadow: 0px 1px 3px 1px rgba(0, 0, 0, 0.15);\n",
              "      filter: drop-shadow(0px 1px 2px rgba(0, 0, 0, 0.3));\n",
              "      fill: #FFFFFF;\n",
              "    }\n",
              "  </style>\n",
              "\n",
              "      <script>\n",
              "        const buttonEl =\n",
              "          document.querySelector('#df-8d01100f-924c-421e-b0da-0a4017412b9c button.colab-df-convert');\n",
              "        buttonEl.style.display =\n",
              "          google.colab.kernel.accessAllowed ? 'block' : 'none';\n",
              "\n",
              "        async function convertToInteractive(key) {\n",
              "          const element = document.querySelector('#df-8d01100f-924c-421e-b0da-0a4017412b9c');\n",
              "          const dataTable =\n",
              "            await google.colab.kernel.invokeFunction('convertToInteractive',\n",
              "                                                     [key], {});\n",
              "          if (!dataTable) return;\n",
              "\n",
              "          const docLinkHtml = 'Like what you see? Visit the ' +\n",
              "            '<a target=\"_blank\" href=https://colab.research.google.com/notebooks/data_table.ipynb>data table notebook</a>'\n",
              "            + ' to learn more about interactive tables.';\n",
              "          element.innerHTML = '';\n",
              "          dataTable['output_type'] = 'display_data';\n",
              "          await google.colab.output.renderOutput(dataTable, element);\n",
              "          const docLink = document.createElement('div');\n",
              "          docLink.innerHTML = docLinkHtml;\n",
              "          element.appendChild(docLink);\n",
              "        }\n",
              "      </script>\n",
              "    </div>\n",
              "  </div>\n",
              "  "
            ]
          },
          "metadata": {},
          "execution_count": 59
        }
      ]
    },
    {
      "cell_type": "code",
      "source": [
        "print(\"Shape of X_train: \", X_train.shape)\n",
        "print(\"Shape of y_train: \\n\", y_train.value_counts())\n",
        "print(\"Shape of X_test: \", X_test.shape)\n",
        "print(\"Shape of y_test: \\n\", y_test.value_counts())"
      ],
      "metadata": {
        "colab": {
          "base_uri": "https://localhost:8080/"
        },
        "id": "JrUjOpEJJOjW",
        "outputId": "e4ede616-3302-4e05-8429-eecffb185091"
      },
      "execution_count": null,
      "outputs": [
        {
          "output_type": "stream",
          "name": "stdout",
          "text": [
            "Shape of X_train:  (1757, 6)\n",
            "Shape of y_train: \n",
            " 0    1493\n",
            "1     264\n",
            "Name: Response, dtype: int64\n",
            "Shape of X_test:  (440, 6)\n",
            "Shape of y_test: \n",
            " 0    374\n",
            "1     66\n",
            "Name: Response, dtype: int64\n"
          ]
        }
      ]
    },
    {
      "cell_type": "code",
      "source": [
        "from sklearn.preprocessing import StandardScaler, OneHotEncoder\n",
        "import numpy as np\n",
        "FEATURE_CAT = ['Education', 'Marital_Status']\n",
        "FEATURE_NUM = ['Income_Real','Age', 'Active_For', 'Accpt_Cmp_Ratio']\n",
        "\n",
        "scaler = StandardScaler()\n",
        "encoder = OneHotEncoder(sparse=False) #Sparse adalah matiks yang isinya kebanyakan 0. False berarti mengambil yang isinya 1 saja\n",
        "\n",
        "#Fit data hanya digunakan data Training\n",
        "scaler.fit(X_train[FEATURE_NUM])\n",
        "encoder.fit(X_train[FEATURE_CAT])"
      ],
      "metadata": {
        "colab": {
          "base_uri": "https://localhost:8080/"
        },
        "id": "_J-ZIFJTwQND",
        "outputId": "c2e8660e-724a-4c3a-e675-cdb4a5246ba3"
      },
      "execution_count": null,
      "outputs": [
        {
          "output_type": "execute_result",
          "data": {
            "text/plain": [
              "OneHotEncoder(sparse=False)"
            ]
          },
          "metadata": {},
          "execution_count": 61
        }
      ]
    },
    {
      "cell_type": "code",
      "source": [
        "X_train_scaled = scaler.transform(X_train[FEATURE_NUM])\n",
        "X_train_encoded = encoder.transform(X_train[FEATURE_CAT])"
      ],
      "metadata": {
        "id": "X-zMfU3ALk-z"
      },
      "execution_count": null,
      "outputs": []
    },
    {
      "cell_type": "code",
      "source": [
        "X_train_encoded"
      ],
      "metadata": {
        "colab": {
          "base_uri": "https://localhost:8080/"
        },
        "id": "9J11VOmqMRO4",
        "outputId": "0489f9a9-1bf5-479f-e418-2c3df627bdec"
      },
      "execution_count": null,
      "outputs": [
        {
          "output_type": "execute_result",
          "data": {
            "text/plain": [
              "array([[0., 0., 1., ..., 0., 0., 0.],\n",
              "       [1., 0., 0., ..., 1., 0., 0.],\n",
              "       [0., 0., 1., ..., 0., 1., 0.],\n",
              "       ...,\n",
              "       [1., 0., 0., ..., 0., 1., 0.],\n",
              "       [0., 1., 0., ..., 0., 0., 0.],\n",
              "       [0., 0., 0., ..., 0., 1., 0.]])"
            ]
          },
          "metadata": {},
          "execution_count": 63
        }
      ]
    },
    {
      "cell_type": "code",
      "source": [
        "X_train_encoded.shape , X_train_scaled.shape"
      ],
      "metadata": {
        "colab": {
          "base_uri": "https://localhost:8080/"
        },
        "id": "0U-aJXvjM64K",
        "outputId": "8b718a1f-e72f-408b-bb2e-c574e6a56028"
      },
      "execution_count": null,
      "outputs": [
        {
          "output_type": "execute_result",
          "data": {
            "text/plain": [
              "((1757, 10), (1757, 4))"
            ]
          },
          "metadata": {},
          "execution_count": 73
        }
      ]
    },
    {
      "cell_type": "code",
      "source": [
        "X_stack = np.hstack((X_train_scaled, X_train_encoded))"
      ],
      "metadata": {
        "id": "Gbvgm9T3NDT5"
      },
      "execution_count": null,
      "outputs": []
    },
    {
      "cell_type": "code",
      "source": [
        "X_stack.shape"
      ],
      "metadata": {
        "colab": {
          "base_uri": "https://localhost:8080/"
        },
        "id": "uTVQPar-NKta",
        "outputId": "6cea1faa-a244-49d9-93db-c9f478c657ee"
      },
      "execution_count": null,
      "outputs": [
        {
          "output_type": "execute_result",
          "data": {
            "text/plain": [
              "(1757, 14)"
            ]
          },
          "metadata": {},
          "execution_count": 75
        }
      ]
    },
    {
      "cell_type": "markdown",
      "source": [
        "Kemudian kita akan membuat fungsi untuk transform di atas"
      ],
      "metadata": {
        "id": "Kl3QCVIlNSDE"
      }
    },
    {
      "cell_type": "code",
      "source": [
        "def transform(X):\n",
        "  X_scaled = scaler.transform(X[FEATURE_NUM])\n",
        "  X_encoded = encoder.transform(X[FEATURE_CAT])\n",
        "  X_stack = np.hstack((X_scaled, X_encoded))\n",
        "  return X_stack\n",
        "\n",
        "X_train_stack = transform(X_train)\n",
        "X_test_stack = transform(X_test)"
      ],
      "metadata": {
        "id": "eZ7PO01uNXUE"
      },
      "execution_count": null,
      "outputs": []
    },
    {
      "cell_type": "code",
      "source": [
        "X_train_stack.shape"
      ],
      "metadata": {
        "colab": {
          "base_uri": "https://localhost:8080/"
        },
        "id": "jxWMXpLuOIBY",
        "outputId": "f98e2750-4327-4d93-d32d-b023a5030075"
      },
      "execution_count": null,
      "outputs": [
        {
          "output_type": "execute_result",
          "data": {
            "text/plain": [
              "(1757, 14)"
            ]
          },
          "metadata": {},
          "execution_count": 77
        }
      ]
    },
    {
      "cell_type": "code",
      "source": [
        "#Pembuatan model Machine Learning\n",
        "from sklearn.metrics import precision_score, recall_score\n",
        "from sklearn.linear_model import LogisticRegression\n",
        "from sklearn.svm import SVC\n",
        "from sklearn.ensemble import RandomForestClassifier\n",
        "\n",
        "models = [\n",
        "    ('svm',SVC()),\n",
        "    ('RF',RandomForestClassifier()),\n",
        "    ('LogReg',LogisticRegression())\n",
        "]\n",
        "\n",
        "for model_name, model in models:\n",
        "  print('Training {}'.format(model_name))\n",
        "\n",
        "  model.fit(X_train_stack, y_train)\n",
        "  predicted = model.predict(X_test_stack)\n",
        "\n",
        "  prec = precision_score (y_test,predicted)\n",
        "  recall = recall_score(y_test,predicted)\n",
        "\n",
        "  print(\"Model:{},Prec: {:.2F},Recall: {:.2F}\".format(\n",
        "      model_name,prec,recall\n",
        "  ))\n",
        "\n",
        "# Model:svm,Prec: 0.77,Recall: 0.26\n",
        "# Model dengan class_weight = balanced\n",
        "# Model:svm,Prec: 0.43,Recall: 0.65\n"
      ],
      "metadata": {
        "colab": {
          "base_uri": "https://localhost:8080/"
        },
        "id": "ffj3I2_IKjXK",
        "outputId": "7f6c605c-2606-4e44-899d-7a884a0be1a0"
      },
      "execution_count": null,
      "outputs": [
        {
          "output_type": "stream",
          "name": "stdout",
          "text": [
            "Training svm\n",
            "Model:svm,Prec: 0.77,Recall: 0.26\n",
            "Training RF\n",
            "Model:RF,Prec: 0.75,Recall: 0.32\n",
            "Training LogReg\n",
            "Model:LogReg,Prec: 0.67,Recall: 0.24\n"
          ]
        }
      ]
    },
    {
      "cell_type": "markdown",
      "source": [
        "Kita akan fokus ke precision sehinggan SVM dipilih sebagai model kita. Seperti kita lihat Ada trade off dimana recallnya makin besar tetapi precision makin kecil ketika kita menggunakan parameter class weight = 'Balanced'."
      ],
      "metadata": {
        "id": "Ghc5G01nP2yb"
      }
    },
    {
      "cell_type": "markdown",
      "source": [
        "#Sampling Method"
      ],
      "metadata": {
        "id": "5bMQOX86JyNe"
      }
    },
    {
      "cell_type": "code",
      "source": [
        "from imblearn.over_sampling import RandomOverSampler\n",
        "from imblearn.under_sampling import RandomUnderSampler\n",
        "\n",
        "over = RandomOverSampler(sampling_strategy={1: 500}) #Class yg kecil ingin kita banyakan\n",
        "under = RandomUnderSampler(sampling_strategy={0: 500}) #Class yg banyak ingin kita sedikitkan\n",
        "\n",
        "X_train_sample, y_train_sample = over.fit_resample(X_train, y_train)\n",
        "X_train_sample, y_train_sample = under.fit_resample(X_train_sample, y_train_sample)"
      ],
      "metadata": {
        "id": "yAnVEt7XRJbu"
      },
      "execution_count": null,
      "outputs": []
    },
    {
      "cell_type": "code",
      "source": [
        "y_train_sample.value_counts()"
      ],
      "metadata": {
        "colab": {
          "base_uri": "https://localhost:8080/"
        },
        "id": "54NMJvupRpZS",
        "outputId": "a94c9f25-f670-490e-9c2e-8c2008e35cd8"
      },
      "execution_count": null,
      "outputs": [
        {
          "output_type": "execute_result",
          "data": {
            "text/plain": [
              "0    500\n",
              "1    500\n",
              "Name: Response, dtype: int64"
            ]
          },
          "metadata": {},
          "execution_count": 87
        }
      ]
    },
    {
      "cell_type": "markdown",
      "source": [
        "Kita lihat bahwa datanya sudah balanced sekarang. Jangan terlalu banyak melakukan oversampling dikarenakan data yang sama bisa muncul kembali/berulang."
      ],
      "metadata": {
        "id": "n-XSm-idRuQP"
      }
    },
    {
      "cell_type": "code",
      "source": [
        "X_train_sample_stack = transform(X_train_sample)\n",
        "\n",
        "models = [\n",
        "    ('svm',SVC()),\n",
        "    ('RF',RandomForestClassifier()),\n",
        "    ('LogReg',LogisticRegression())\n",
        "]\n",
        "\n",
        "for model_name, model in models:\n",
        "  print('Training {}'.format(model_name))\n",
        "\n",
        "  model.fit(X_train_sample_stack, y_train_sample)\n",
        "  predicted = model.predict(X_test_stack)\n",
        "\n",
        "  prec = precision_score (y_test,predicted)\n",
        "  recall = recall_score(y_test,predicted)\n",
        "\n",
        "  print(\"Model:{},Prec: {:.2F},Recall: {:.2F}\".format(\n",
        "      model_name,prec,recall\n",
        "  ))\n"
      ],
      "metadata": {
        "colab": {
          "base_uri": "https://localhost:8080/"
        },
        "id": "BEuIsoK-SKIj",
        "outputId": "7e8aa616-5ddb-482e-fe13-fbc53cecd3e4"
      },
      "execution_count": null,
      "outputs": [
        {
          "output_type": "stream",
          "name": "stdout",
          "text": [
            "Training svm\n",
            "Model:svm,Prec: 0.39,Recall: 0.62\n",
            "Training RF\n",
            "Model:RF,Prec: 0.37,Recall: 0.58\n",
            "Training LogReg\n",
            "Model:LogReg,Prec: 0.40,Recall: 0.65\n"
          ]
        }
      ]
    },
    {
      "cell_type": "markdown",
      "source": [
        "Tenyata hasil model svm kita menghasilkan precision yang lebih kecil dibandingkan hasil sebelumnya. Maka dari itu, sebaiknya tidak dilakukan oversampling/undersampling."
      ],
      "metadata": {
        "id": "iJ0qVX6OSlhh"
      }
    },
    {
      "cell_type": "markdown",
      "source": [
        "#Hyperparameter Search"
      ],
      "metadata": {
        "id": "oIDWF8LfS7Sy"
      }
    },
    {
      "cell_type": "markdown",
      "source": [
        "Di sini kita akan menentukan parameter apa yang terbaik dari suatu algoritma pada kasus ini adalah SVM"
      ],
      "metadata": {
        "id": "TCsEIlqeTIr1"
      }
    },
    {
      "cell_type": "code",
      "source": [
        "from sklearn.model_selection import GridSearchCV\n",
        "\n",
        "PARAMETER_GRID ={\n",
        "    'C' : [0.1,0.01,0.05,0.5],\n",
        "    'kernel': ['linear', 'poly', 'rbf', 'sigmoid'],\n",
        "    'gamma' : ['scale', 'auto'],\n",
        "    'class_weight': ['balanced', {0: 1, 1: 2}, {0: 1, 1: 10}]\n",
        "}\n",
        "\n",
        "cv= GridSearchCV(SVC(),PARAMETER_GRID, verbose=2, scoring='precision') #verbose agar terlihat prosesnya"
      ],
      "metadata": {
        "id": "Hc73JdRVS_x8"
      },
      "execution_count": null,
      "outputs": []
    },
    {
      "cell_type": "code",
      "source": [
        "cv.fit(X_train_stack, y_train)"
      ],
      "metadata": {
        "colab": {
          "base_uri": "https://localhost:8080/"
        },
        "id": "EW5zaO23UO5y",
        "outputId": "4fac1f76-f0c6-4012-8a0f-a67908cc8289"
      },
      "execution_count": null,
      "outputs": [
        {
          "output_type": "stream",
          "name": "stdout",
          "text": [
            "Fitting 5 folds for each of 96 candidates, totalling 480 fits\n",
            "[CV] END C=0.1, class_weight=balanced, gamma=scale, kernel=linear; total time=   0.1s\n",
            "[CV] END C=0.1, class_weight=balanced, gamma=scale, kernel=linear; total time=   0.1s\n",
            "[CV] END C=0.1, class_weight=balanced, gamma=scale, kernel=linear; total time=   0.1s\n",
            "[CV] END C=0.1, class_weight=balanced, gamma=scale, kernel=linear; total time=   0.1s\n",
            "[CV] END C=0.1, class_weight=balanced, gamma=scale, kernel=linear; total time=   0.1s\n",
            "[CV] END C=0.1, class_weight=balanced, gamma=scale, kernel=poly; total time=   0.1s\n",
            "[CV] END C=0.1, class_weight=balanced, gamma=scale, kernel=poly; total time=   0.1s\n",
            "[CV] END C=0.1, class_weight=balanced, gamma=scale, kernel=poly; total time=   0.1s\n",
            "[CV] END C=0.1, class_weight=balanced, gamma=scale, kernel=poly; total time=   0.1s\n",
            "[CV] END C=0.1, class_weight=balanced, gamma=scale, kernel=poly; total time=   0.1s\n",
            "[CV] END C=0.1, class_weight=balanced, gamma=scale, kernel=rbf; total time=   0.1s\n",
            "[CV] END C=0.1, class_weight=balanced, gamma=scale, kernel=rbf; total time=   0.1s\n",
            "[CV] END C=0.1, class_weight=balanced, gamma=scale, kernel=rbf; total time=   0.1s\n",
            "[CV] END C=0.1, class_weight=balanced, gamma=scale, kernel=rbf; total time=   0.1s\n",
            "[CV] END C=0.1, class_weight=balanced, gamma=scale, kernel=rbf; total time=   0.1s\n",
            "[CV] END C=0.1, class_weight=balanced, gamma=scale, kernel=sigmoid; total time=   0.1s\n",
            "[CV] END C=0.1, class_weight=balanced, gamma=scale, kernel=sigmoid; total time=   0.1s\n",
            "[CV] END C=0.1, class_weight=balanced, gamma=scale, kernel=sigmoid; total time=   0.1s\n",
            "[CV] END C=0.1, class_weight=balanced, gamma=scale, kernel=sigmoid; total time=   0.1s\n",
            "[CV] END C=0.1, class_weight=balanced, gamma=scale, kernel=sigmoid; total time=   0.1s\n",
            "[CV] END C=0.1, class_weight=balanced, gamma=auto, kernel=linear; total time=   0.1s\n",
            "[CV] END C=0.1, class_weight=balanced, gamma=auto, kernel=linear; total time=   0.1s\n",
            "[CV] END C=0.1, class_weight=balanced, gamma=auto, kernel=linear; total time=   0.1s\n",
            "[CV] END C=0.1, class_weight=balanced, gamma=auto, kernel=linear; total time=   0.1s\n",
            "[CV] END C=0.1, class_weight=balanced, gamma=auto, kernel=linear; total time=   0.1s\n",
            "[CV] END C=0.1, class_weight=balanced, gamma=auto, kernel=poly; total time=   0.1s\n",
            "[CV] END C=0.1, class_weight=balanced, gamma=auto, kernel=poly; total time=   0.1s\n",
            "[CV] END C=0.1, class_weight=balanced, gamma=auto, kernel=poly; total time=   0.1s\n",
            "[CV] END C=0.1, class_weight=balanced, gamma=auto, kernel=poly; total time=   0.1s\n",
            "[CV] END C=0.1, class_weight=balanced, gamma=auto, kernel=poly; total time=   0.1s\n",
            "[CV] END C=0.1, class_weight=balanced, gamma=auto, kernel=rbf; total time=   0.1s\n",
            "[CV] END C=0.1, class_weight=balanced, gamma=auto, kernel=rbf; total time=   0.1s\n",
            "[CV] END C=0.1, class_weight=balanced, gamma=auto, kernel=rbf; total time=   0.1s\n",
            "[CV] END C=0.1, class_weight=balanced, gamma=auto, kernel=rbf; total time=   0.1s\n",
            "[CV] END C=0.1, class_weight=balanced, gamma=auto, kernel=rbf; total time=   0.1s\n",
            "[CV] END C=0.1, class_weight=balanced, gamma=auto, kernel=sigmoid; total time=   0.1s\n",
            "[CV] END C=0.1, class_weight=balanced, gamma=auto, kernel=sigmoid; total time=   0.1s\n",
            "[CV] END C=0.1, class_weight=balanced, gamma=auto, kernel=sigmoid; total time=   0.1s\n",
            "[CV] END C=0.1, class_weight=balanced, gamma=auto, kernel=sigmoid; total time=   0.1s\n",
            "[CV] END C=0.1, class_weight=balanced, gamma=auto, kernel=sigmoid; total time=   0.1s\n",
            "[CV] END C=0.1, class_weight={0: 1, 1: 2}, gamma=scale, kernel=linear; total time=   0.0s\n",
            "[CV] END C=0.1, class_weight={0: 1, 1: 2}, gamma=scale, kernel=linear; total time=   0.0s\n",
            "[CV] END C=0.1, class_weight={0: 1, 1: 2}, gamma=scale, kernel=linear; total time=   0.0s\n",
            "[CV] END C=0.1, class_weight={0: 1, 1: 2}, gamma=scale, kernel=linear; total time=   0.0s\n",
            "[CV] END C=0.1, class_weight={0: 1, 1: 2}, gamma=scale, kernel=linear; total time=   0.0s\n",
            "[CV] END C=0.1, class_weight={0: 1, 1: 2}, gamma=scale, kernel=poly; total time=   0.1s\n",
            "[CV] END C=0.1, class_weight={0: 1, 1: 2}, gamma=scale, kernel=poly; total time=   0.0s\n",
            "[CV] END C=0.1, class_weight={0: 1, 1: 2}, gamma=scale, kernel=poly; total time=   0.0s\n",
            "[CV] END C=0.1, class_weight={0: 1, 1: 2}, gamma=scale, kernel=poly; total time=   0.0s\n",
            "[CV] END C=0.1, class_weight={0: 1, 1: 2}, gamma=scale, kernel=poly; total time=   0.1s\n",
            "[CV] END C=0.1, class_weight={0: 1, 1: 2}, gamma=scale, kernel=rbf; total time=   0.1s\n",
            "[CV] END C=0.1, class_weight={0: 1, 1: 2}, gamma=scale, kernel=rbf; total time=   0.1s\n",
            "[CV] END C=0.1, class_weight={0: 1, 1: 2}, gamma=scale, kernel=rbf; total time=   0.1s\n",
            "[CV] END C=0.1, class_weight={0: 1, 1: 2}, gamma=scale, kernel=rbf; total time=   0.1s\n",
            "[CV] END C=0.1, class_weight={0: 1, 1: 2}, gamma=scale, kernel=rbf; total time=   0.1s\n",
            "[CV] END C=0.1, class_weight={0: 1, 1: 2}, gamma=scale, kernel=sigmoid; total time=   0.1s\n",
            "[CV] END C=0.1, class_weight={0: 1, 1: 2}, gamma=scale, kernel=sigmoid; total time=   0.1s\n",
            "[CV] END C=0.1, class_weight={0: 1, 1: 2}, gamma=scale, kernel=sigmoid; total time=   0.1s\n",
            "[CV] END C=0.1, class_weight={0: 1, 1: 2}, gamma=scale, kernel=sigmoid; total time=   0.1s\n",
            "[CV] END C=0.1, class_weight={0: 1, 1: 2}, gamma=scale, kernel=sigmoid; total time=   0.1s\n",
            "[CV] END C=0.1, class_weight={0: 1, 1: 2}, gamma=auto, kernel=linear; total time=   0.0s\n",
            "[CV] END C=0.1, class_weight={0: 1, 1: 2}, gamma=auto, kernel=linear; total time=   0.0s\n",
            "[CV] END C=0.1, class_weight={0: 1, 1: 2}, gamma=auto, kernel=linear; total time=   0.1s\n",
            "[CV] END C=0.1, class_weight={0: 1, 1: 2}, gamma=auto, kernel=linear; total time=   0.0s\n",
            "[CV] END C=0.1, class_weight={0: 1, 1: 2}, gamma=auto, kernel=linear; total time=   0.0s\n",
            "[CV] END C=0.1, class_weight={0: 1, 1: 2}, gamma=auto, kernel=poly; total time=   0.0s\n",
            "[CV] END C=0.1, class_weight={0: 1, 1: 2}, gamma=auto, kernel=poly; total time=   0.1s\n",
            "[CV] END C=0.1, class_weight={0: 1, 1: 2}, gamma=auto, kernel=poly; total time=   0.1s\n",
            "[CV] END C=0.1, class_weight={0: 1, 1: 2}, gamma=auto, kernel=poly; total time=   0.0s\n",
            "[CV] END C=0.1, class_weight={0: 1, 1: 2}, gamma=auto, kernel=poly; total time=   0.0s\n",
            "[CV] END C=0.1, class_weight={0: 1, 1: 2}, gamma=auto, kernel=rbf; total time=   0.1s\n",
            "[CV] END C=0.1, class_weight={0: 1, 1: 2}, gamma=auto, kernel=rbf; total time=   0.1s\n",
            "[CV] END C=0.1, class_weight={0: 1, 1: 2}, gamma=auto, kernel=rbf; total time=   0.1s\n",
            "[CV] END C=0.1, class_weight={0: 1, 1: 2}, gamma=auto, kernel=rbf; total time=   0.1s\n",
            "[CV] END C=0.1, class_weight={0: 1, 1: 2}, gamma=auto, kernel=rbf; total time=   0.1s\n",
            "[CV] END C=0.1, class_weight={0: 1, 1: 2}, gamma=auto, kernel=sigmoid; total time=   0.1s\n",
            "[CV] END C=0.1, class_weight={0: 1, 1: 2}, gamma=auto, kernel=sigmoid; total time=   0.1s\n",
            "[CV] END C=0.1, class_weight={0: 1, 1: 2}, gamma=auto, kernel=sigmoid; total time=   0.1s\n",
            "[CV] END C=0.1, class_weight={0: 1, 1: 2}, gamma=auto, kernel=sigmoid; total time=   0.1s\n",
            "[CV] END C=0.1, class_weight={0: 1, 1: 2}, gamma=auto, kernel=sigmoid; total time=   0.1s\n",
            "[CV] END C=0.1, class_weight={0: 1, 1: 10}, gamma=scale, kernel=linear; total time=   0.1s\n",
            "[CV] END C=0.1, class_weight={0: 1, 1: 10}, gamma=scale, kernel=linear; total time=   0.1s\n",
            "[CV] END C=0.1, class_weight={0: 1, 1: 10}, gamma=scale, kernel=linear; total time=   0.1s\n",
            "[CV] END C=0.1, class_weight={0: 1, 1: 10}, gamma=scale, kernel=linear; total time=   0.1s\n",
            "[CV] END C=0.1, class_weight={0: 1, 1: 10}, gamma=scale, kernel=linear; total time=   0.1s\n",
            "[CV] END C=0.1, class_weight={0: 1, 1: 10}, gamma=scale, kernel=poly; total time=   0.1s\n",
            "[CV] END C=0.1, class_weight={0: 1, 1: 10}, gamma=scale, kernel=poly; total time=   0.1s\n",
            "[CV] END C=0.1, class_weight={0: 1, 1: 10}, gamma=scale, kernel=poly; total time=   0.1s\n",
            "[CV] END C=0.1, class_weight={0: 1, 1: 10}, gamma=scale, kernel=poly; total time=   0.1s\n",
            "[CV] END C=0.1, class_weight={0: 1, 1: 10}, gamma=scale, kernel=poly; total time=   0.1s\n",
            "[CV] END C=0.1, class_weight={0: 1, 1: 10}, gamma=scale, kernel=rbf; total time=   0.1s\n",
            "[CV] END C=0.1, class_weight={0: 1, 1: 10}, gamma=scale, kernel=rbf; total time=   0.2s\n",
            "[CV] END C=0.1, class_weight={0: 1, 1: 10}, gamma=scale, kernel=rbf; total time=   0.1s\n",
            "[CV] END C=0.1, class_weight={0: 1, 1: 10}, gamma=scale, kernel=rbf; total time=   0.1s\n",
            "[CV] END C=0.1, class_weight={0: 1, 1: 10}, gamma=scale, kernel=rbf; total time=   0.1s\n",
            "[CV] END C=0.1, class_weight={0: 1, 1: 10}, gamma=scale, kernel=sigmoid; total time=   0.1s\n",
            "[CV] END C=0.1, class_weight={0: 1, 1: 10}, gamma=scale, kernel=sigmoid; total time=   0.1s\n",
            "[CV] END C=0.1, class_weight={0: 1, 1: 10}, gamma=scale, kernel=sigmoid; total time=   0.2s\n",
            "[CV] END C=0.1, class_weight={0: 1, 1: 10}, gamma=scale, kernel=sigmoid; total time=   0.1s\n",
            "[CV] END C=0.1, class_weight={0: 1, 1: 10}, gamma=scale, kernel=sigmoid; total time=   0.1s\n",
            "[CV] END C=0.1, class_weight={0: 1, 1: 10}, gamma=auto, kernel=linear; total time=   0.1s\n",
            "[CV] END C=0.1, class_weight={0: 1, 1: 10}, gamma=auto, kernel=linear; total time=   0.1s\n",
            "[CV] END C=0.1, class_weight={0: 1, 1: 10}, gamma=auto, kernel=linear; total time=   0.1s\n",
            "[CV] END C=0.1, class_weight={0: 1, 1: 10}, gamma=auto, kernel=linear; total time=   0.1s\n",
            "[CV] END C=0.1, class_weight={0: 1, 1: 10}, gamma=auto, kernel=linear; total time=   0.1s\n",
            "[CV] END C=0.1, class_weight={0: 1, 1: 10}, gamma=auto, kernel=poly; total time=   0.1s\n",
            "[CV] END C=0.1, class_weight={0: 1, 1: 10}, gamma=auto, kernel=poly; total time=   0.1s\n",
            "[CV] END C=0.1, class_weight={0: 1, 1: 10}, gamma=auto, kernel=poly; total time=   0.1s\n",
            "[CV] END C=0.1, class_weight={0: 1, 1: 10}, gamma=auto, kernel=poly; total time=   0.1s\n",
            "[CV] END C=0.1, class_weight={0: 1, 1: 10}, gamma=auto, kernel=poly; total time=   0.1s\n",
            "[CV] END C=0.1, class_weight={0: 1, 1: 10}, gamma=auto, kernel=rbf; total time=   0.2s\n",
            "[CV] END C=0.1, class_weight={0: 1, 1: 10}, gamma=auto, kernel=rbf; total time=   0.1s\n",
            "[CV] END C=0.1, class_weight={0: 1, 1: 10}, gamma=auto, kernel=rbf; total time=   0.1s\n",
            "[CV] END C=0.1, class_weight={0: 1, 1: 10}, gamma=auto, kernel=rbf; total time=   0.1s\n",
            "[CV] END C=0.1, class_weight={0: 1, 1: 10}, gamma=auto, kernel=rbf; total time=   0.1s\n",
            "[CV] END C=0.1, class_weight={0: 1, 1: 10}, gamma=auto, kernel=sigmoid; total time=   0.2s\n",
            "[CV] END C=0.1, class_weight={0: 1, 1: 10}, gamma=auto, kernel=sigmoid; total time=   0.2s\n",
            "[CV] END C=0.1, class_weight={0: 1, 1: 10}, gamma=auto, kernel=sigmoid; total time=   0.2s\n",
            "[CV] END C=0.1, class_weight={0: 1, 1: 10}, gamma=auto, kernel=sigmoid; total time=   0.1s\n",
            "[CV] END C=0.1, class_weight={0: 1, 1: 10}, gamma=auto, kernel=sigmoid; total time=   0.1s\n",
            "[CV] END C=0.01, class_weight=balanced, gamma=scale, kernel=linear; total time=   0.1s\n",
            "[CV] END C=0.01, class_weight=balanced, gamma=scale, kernel=linear; total time=   0.1s\n",
            "[CV] END C=0.01, class_weight=balanced, gamma=scale, kernel=linear; total time=   0.1s\n",
            "[CV] END C=0.01, class_weight=balanced, gamma=scale, kernel=linear; total time=   0.1s\n",
            "[CV] END C=0.01, class_weight=balanced, gamma=scale, kernel=linear; total time=   0.1s\n",
            "[CV] END C=0.01, class_weight=balanced, gamma=scale, kernel=poly; total time=   0.1s\n",
            "[CV] END C=0.01, class_weight=balanced, gamma=scale, kernel=poly; total time=   0.1s\n",
            "[CV] END C=0.01, class_weight=balanced, gamma=scale, kernel=poly; total time=   0.1s\n",
            "[CV] END C=0.01, class_weight=balanced, gamma=scale, kernel=poly; total time=   0.1s\n",
            "[CV] END C=0.01, class_weight=balanced, gamma=scale, kernel=poly; total time=   0.1s\n",
            "[CV] END C=0.01, class_weight=balanced, gamma=scale, kernel=rbf; total time=   0.2s\n",
            "[CV] END C=0.01, class_weight=balanced, gamma=scale, kernel=rbf; total time=   0.2s\n",
            "[CV] END C=0.01, class_weight=balanced, gamma=scale, kernel=rbf; total time=   0.2s\n",
            "[CV] END C=0.01, class_weight=balanced, gamma=scale, kernel=rbf; total time=   0.2s\n",
            "[CV] END C=0.01, class_weight=balanced, gamma=scale, kernel=rbf; total time=   0.2s\n",
            "[CV] END C=0.01, class_weight=balanced, gamma=scale, kernel=sigmoid; total time=   0.2s\n",
            "[CV] END C=0.01, class_weight=balanced, gamma=scale, kernel=sigmoid; total time=   0.2s\n",
            "[CV] END C=0.01, class_weight=balanced, gamma=scale, kernel=sigmoid; total time=   0.2s\n",
            "[CV] END C=0.01, class_weight=balanced, gamma=scale, kernel=sigmoid; total time=   0.2s\n",
            "[CV] END C=0.01, class_weight=balanced, gamma=scale, kernel=sigmoid; total time=   0.2s\n",
            "[CV] END C=0.01, class_weight=balanced, gamma=auto, kernel=linear; total time=   0.1s\n",
            "[CV] END C=0.01, class_weight=balanced, gamma=auto, kernel=linear; total time=   0.1s\n",
            "[CV] END C=0.01, class_weight=balanced, gamma=auto, kernel=linear; total time=   0.1s\n",
            "[CV] END C=0.01, class_weight=balanced, gamma=auto, kernel=linear; total time=   0.1s\n",
            "[CV] END C=0.01, class_weight=balanced, gamma=auto, kernel=linear; total time=   0.1s\n",
            "[CV] END C=0.01, class_weight=balanced, gamma=auto, kernel=poly; total time=   0.1s\n",
            "[CV] END C=0.01, class_weight=balanced, gamma=auto, kernel=poly; total time=   0.1s\n",
            "[CV] END C=0.01, class_weight=balanced, gamma=auto, kernel=poly; total time=   0.1s\n",
            "[CV] END C=0.01, class_weight=balanced, gamma=auto, kernel=poly; total time=   0.1s\n",
            "[CV] END C=0.01, class_weight=balanced, gamma=auto, kernel=poly; total time=   0.1s\n",
            "[CV] END C=0.01, class_weight=balanced, gamma=auto, kernel=rbf; total time=   0.2s\n",
            "[CV] END C=0.01, class_weight=balanced, gamma=auto, kernel=rbf; total time=   0.2s\n",
            "[CV] END C=0.01, class_weight=balanced, gamma=auto, kernel=rbf; total time=   0.2s\n",
            "[CV] END C=0.01, class_weight=balanced, gamma=auto, kernel=rbf; total time=   0.2s\n",
            "[CV] END C=0.01, class_weight=balanced, gamma=auto, kernel=rbf; total time=   0.2s\n",
            "[CV] END C=0.01, class_weight=balanced, gamma=auto, kernel=sigmoid; total time=   0.2s\n",
            "[CV] END C=0.01, class_weight=balanced, gamma=auto, kernel=sigmoid; total time=   0.2s\n",
            "[CV] END C=0.01, class_weight=balanced, gamma=auto, kernel=sigmoid; total time=   0.2s\n",
            "[CV] END C=0.01, class_weight=balanced, gamma=auto, kernel=sigmoid; total time=   0.2s\n",
            "[CV] END C=0.01, class_weight=balanced, gamma=auto, kernel=sigmoid; total time=   0.2s\n",
            "[CV] END C=0.01, class_weight={0: 1, 1: 2}, gamma=scale, kernel=linear; total time=   0.0s\n",
            "[CV] END C=0.01, class_weight={0: 1, 1: 2}, gamma=scale, kernel=linear; total time=   0.0s\n",
            "[CV] END C=0.01, class_weight={0: 1, 1: 2}, gamma=scale, kernel=linear; total time=   0.0s\n",
            "[CV] END C=0.01, class_weight={0: 1, 1: 2}, gamma=scale, kernel=linear; total time=   0.0s\n",
            "[CV] END C=0.01, class_weight={0: 1, 1: 2}, gamma=scale, kernel=linear; total time=   0.1s\n",
            "[CV] END C=0.01, class_weight={0: 1, 1: 2}, gamma=scale, kernel=poly; total time=   0.1s\n",
            "[CV] END C=0.01, class_weight={0: 1, 1: 2}, gamma=scale, kernel=poly; total time=   0.0s\n",
            "[CV] END C=0.01, class_weight={0: 1, 1: 2}, gamma=scale, kernel=poly; total time=   0.0s\n",
            "[CV] END C=0.01, class_weight={0: 1, 1: 2}, gamma=scale, kernel=poly; total time=   0.0s\n",
            "[CV] END C=0.01, class_weight={0: 1, 1: 2}, gamma=scale, kernel=poly; total time=   0.0s\n"
          ]
        },
        {
          "output_type": "stream",
          "name": "stderr",
          "text": [
            "/usr/local/lib/python3.7/dist-packages/sklearn/metrics/_classification.py:1318: UndefinedMetricWarning: Precision is ill-defined and being set to 0.0 due to no predicted samples. Use `zero_division` parameter to control this behavior.\n",
            "  _warn_prf(average, modifier, msg_start, len(result))\n",
            "/usr/local/lib/python3.7/dist-packages/sklearn/metrics/_classification.py:1318: UndefinedMetricWarning: Precision is ill-defined and being set to 0.0 due to no predicted samples. Use `zero_division` parameter to control this behavior.\n",
            "  _warn_prf(average, modifier, msg_start, len(result))\n",
            "/usr/local/lib/python3.7/dist-packages/sklearn/metrics/_classification.py:1318: UndefinedMetricWarning: Precision is ill-defined and being set to 0.0 due to no predicted samples. Use `zero_division` parameter to control this behavior.\n",
            "  _warn_prf(average, modifier, msg_start, len(result))\n"
          ]
        },
        {
          "output_type": "stream",
          "name": "stdout",
          "text": [
            "[CV] END C=0.01, class_weight={0: 1, 1: 2}, gamma=scale, kernel=rbf; total time=   0.1s\n",
            "[CV] END C=0.01, class_weight={0: 1, 1: 2}, gamma=scale, kernel=rbf; total time=   0.1s\n",
            "[CV] END C=0.01, class_weight={0: 1, 1: 2}, gamma=scale, kernel=rbf; total time=   0.1s\n"
          ]
        },
        {
          "output_type": "stream",
          "name": "stderr",
          "text": [
            "/usr/local/lib/python3.7/dist-packages/sklearn/metrics/_classification.py:1318: UndefinedMetricWarning: Precision is ill-defined and being set to 0.0 due to no predicted samples. Use `zero_division` parameter to control this behavior.\n",
            "  _warn_prf(average, modifier, msg_start, len(result))\n",
            "/usr/local/lib/python3.7/dist-packages/sklearn/metrics/_classification.py:1318: UndefinedMetricWarning: Precision is ill-defined and being set to 0.0 due to no predicted samples. Use `zero_division` parameter to control this behavior.\n",
            "  _warn_prf(average, modifier, msg_start, len(result))\n",
            "/usr/local/lib/python3.7/dist-packages/sklearn/metrics/_classification.py:1318: UndefinedMetricWarning: Precision is ill-defined and being set to 0.0 due to no predicted samples. Use `zero_division` parameter to control this behavior.\n",
            "  _warn_prf(average, modifier, msg_start, len(result))\n"
          ]
        },
        {
          "output_type": "stream",
          "name": "stdout",
          "text": [
            "[CV] END C=0.01, class_weight={0: 1, 1: 2}, gamma=scale, kernel=rbf; total time=   0.1s\n",
            "[CV] END C=0.01, class_weight={0: 1, 1: 2}, gamma=scale, kernel=rbf; total time=   0.1s\n",
            "[CV] END C=0.01, class_weight={0: 1, 1: 2}, gamma=scale, kernel=sigmoid; total time=   0.1s\n",
            "[CV] END C=0.01, class_weight={0: 1, 1: 2}, gamma=scale, kernel=sigmoid; total time=   0.1s\n",
            "[CV] END C=0.01, class_weight={0: 1, 1: 2}, gamma=scale, kernel=sigmoid; total time=   0.1s\n",
            "[CV] END C=0.01, class_weight={0: 1, 1: 2}, gamma=scale, kernel=sigmoid; total time=   0.1s\n"
          ]
        },
        {
          "output_type": "stream",
          "name": "stderr",
          "text": [
            "/usr/local/lib/python3.7/dist-packages/sklearn/metrics/_classification.py:1318: UndefinedMetricWarning: Precision is ill-defined and being set to 0.0 due to no predicted samples. Use `zero_division` parameter to control this behavior.\n",
            "  _warn_prf(average, modifier, msg_start, len(result))\n",
            "/usr/local/lib/python3.7/dist-packages/sklearn/metrics/_classification.py:1318: UndefinedMetricWarning: Precision is ill-defined and being set to 0.0 due to no predicted samples. Use `zero_division` parameter to control this behavior.\n",
            "  _warn_prf(average, modifier, msg_start, len(result))\n"
          ]
        },
        {
          "output_type": "stream",
          "name": "stdout",
          "text": [
            "[CV] END C=0.01, class_weight={0: 1, 1: 2}, gamma=scale, kernel=sigmoid; total time=   0.1s\n",
            "[CV] END C=0.01, class_weight={0: 1, 1: 2}, gamma=auto, kernel=linear; total time=   0.0s\n",
            "[CV] END C=0.01, class_weight={0: 1, 1: 2}, gamma=auto, kernel=linear; total time=   0.0s\n",
            "[CV] END C=0.01, class_weight={0: 1, 1: 2}, gamma=auto, kernel=linear; total time=   0.0s\n",
            "[CV] END C=0.01, class_weight={0: 1, 1: 2}, gamma=auto, kernel=linear; total time=   0.0s\n",
            "[CV] END C=0.01, class_weight={0: 1, 1: 2}, gamma=auto, kernel=linear; total time=   0.0s\n",
            "[CV] END C=0.01, class_weight={0: 1, 1: 2}, gamma=auto, kernel=poly; total time=   0.0s\n",
            "[CV] END C=0.01, class_weight={0: 1, 1: 2}, gamma=auto, kernel=poly; total time=   0.0s\n",
            "[CV] END C=0.01, class_weight={0: 1, 1: 2}, gamma=auto, kernel=poly; total time=   0.0s\n",
            "[CV] END C=0.01, class_weight={0: 1, 1: 2}, gamma=auto, kernel=poly; total time=   0.1s\n",
            "[CV] END C=0.01, class_weight={0: 1, 1: 2}, gamma=auto, kernel=poly; total time=   0.1s\n",
            "[CV] END C=0.01, class_weight={0: 1, 1: 2}, gamma=auto, kernel=rbf; total time=   0.1s\n"
          ]
        },
        {
          "output_type": "stream",
          "name": "stderr",
          "text": [
            "/usr/local/lib/python3.7/dist-packages/sklearn/metrics/_classification.py:1318: UndefinedMetricWarning: Precision is ill-defined and being set to 0.0 due to no predicted samples. Use `zero_division` parameter to control this behavior.\n",
            "  _warn_prf(average, modifier, msg_start, len(result))\n",
            "/usr/local/lib/python3.7/dist-packages/sklearn/metrics/_classification.py:1318: UndefinedMetricWarning: Precision is ill-defined and being set to 0.0 due to no predicted samples. Use `zero_division` parameter to control this behavior.\n",
            "  _warn_prf(average, modifier, msg_start, len(result))\n",
            "/usr/local/lib/python3.7/dist-packages/sklearn/metrics/_classification.py:1318: UndefinedMetricWarning: Precision is ill-defined and being set to 0.0 due to no predicted samples. Use `zero_division` parameter to control this behavior.\n",
            "  _warn_prf(average, modifier, msg_start, len(result))\n"
          ]
        },
        {
          "output_type": "stream",
          "name": "stdout",
          "text": [
            "[CV] END C=0.01, class_weight={0: 1, 1: 2}, gamma=auto, kernel=rbf; total time=   0.1s\n",
            "[CV] END C=0.01, class_weight={0: 1, 1: 2}, gamma=auto, kernel=rbf; total time=   0.1s\n",
            "[CV] END C=0.01, class_weight={0: 1, 1: 2}, gamma=auto, kernel=rbf; total time=   0.1s\n"
          ]
        },
        {
          "output_type": "stream",
          "name": "stderr",
          "text": [
            "/usr/local/lib/python3.7/dist-packages/sklearn/metrics/_classification.py:1318: UndefinedMetricWarning: Precision is ill-defined and being set to 0.0 due to no predicted samples. Use `zero_division` parameter to control this behavior.\n",
            "  _warn_prf(average, modifier, msg_start, len(result))\n",
            "/usr/local/lib/python3.7/dist-packages/sklearn/metrics/_classification.py:1318: UndefinedMetricWarning: Precision is ill-defined and being set to 0.0 due to no predicted samples. Use `zero_division` parameter to control this behavior.\n",
            "  _warn_prf(average, modifier, msg_start, len(result))\n",
            "/usr/local/lib/python3.7/dist-packages/sklearn/metrics/_classification.py:1318: UndefinedMetricWarning: Precision is ill-defined and being set to 0.0 due to no predicted samples. Use `zero_division` parameter to control this behavior.\n",
            "  _warn_prf(average, modifier, msg_start, len(result))\n"
          ]
        },
        {
          "output_type": "stream",
          "name": "stdout",
          "text": [
            "[CV] END C=0.01, class_weight={0: 1, 1: 2}, gamma=auto, kernel=rbf; total time=   0.1s\n",
            "[CV] END C=0.01, class_weight={0: 1, 1: 2}, gamma=auto, kernel=sigmoid; total time=   0.1s\n",
            "[CV] END C=0.01, class_weight={0: 1, 1: 2}, gamma=auto, kernel=sigmoid; total time=   0.1s\n"
          ]
        },
        {
          "output_type": "stream",
          "name": "stderr",
          "text": [
            "/usr/local/lib/python3.7/dist-packages/sklearn/metrics/_classification.py:1318: UndefinedMetricWarning: Precision is ill-defined and being set to 0.0 due to no predicted samples. Use `zero_division` parameter to control this behavior.\n",
            "  _warn_prf(average, modifier, msg_start, len(result))\n",
            "/usr/local/lib/python3.7/dist-packages/sklearn/metrics/_classification.py:1318: UndefinedMetricWarning: Precision is ill-defined and being set to 0.0 due to no predicted samples. Use `zero_division` parameter to control this behavior.\n",
            "  _warn_prf(average, modifier, msg_start, len(result))\n",
            "/usr/local/lib/python3.7/dist-packages/sklearn/metrics/_classification.py:1318: UndefinedMetricWarning: Precision is ill-defined and being set to 0.0 due to no predicted samples. Use `zero_division` parameter to control this behavior.\n",
            "  _warn_prf(average, modifier, msg_start, len(result))\n"
          ]
        },
        {
          "output_type": "stream",
          "name": "stdout",
          "text": [
            "[CV] END C=0.01, class_weight={0: 1, 1: 2}, gamma=auto, kernel=sigmoid; total time=   0.1s\n",
            "[CV] END C=0.01, class_weight={0: 1, 1: 2}, gamma=auto, kernel=sigmoid; total time=   0.1s\n",
            "[CV] END C=0.01, class_weight={0: 1, 1: 2}, gamma=auto, kernel=sigmoid; total time=   0.1s\n"
          ]
        },
        {
          "output_type": "stream",
          "name": "stderr",
          "text": [
            "/usr/local/lib/python3.7/dist-packages/sklearn/metrics/_classification.py:1318: UndefinedMetricWarning: Precision is ill-defined and being set to 0.0 due to no predicted samples. Use `zero_division` parameter to control this behavior.\n",
            "  _warn_prf(average, modifier, msg_start, len(result))\n"
          ]
        },
        {
          "output_type": "stream",
          "name": "stdout",
          "text": [
            "[CV] END C=0.01, class_weight={0: 1, 1: 10}, gamma=scale, kernel=linear; total time=   0.1s\n",
            "[CV] END C=0.01, class_weight={0: 1, 1: 10}, gamma=scale, kernel=linear; total time=   0.1s\n",
            "[CV] END C=0.01, class_weight={0: 1, 1: 10}, gamma=scale, kernel=linear; total time=   0.1s\n",
            "[CV] END C=0.01, class_weight={0: 1, 1: 10}, gamma=scale, kernel=linear; total time=   0.1s\n",
            "[CV] END C=0.01, class_weight={0: 1, 1: 10}, gamma=scale, kernel=linear; total time=   0.1s\n",
            "[CV] END C=0.01, class_weight={0: 1, 1: 10}, gamma=scale, kernel=poly; total time=   0.1s\n",
            "[CV] END C=0.01, class_weight={0: 1, 1: 10}, gamma=scale, kernel=poly; total time=   0.1s\n",
            "[CV] END C=0.01, class_weight={0: 1, 1: 10}, gamma=scale, kernel=poly; total time=   0.1s\n",
            "[CV] END C=0.01, class_weight={0: 1, 1: 10}, gamma=scale, kernel=poly; total time=   0.1s\n",
            "[CV] END C=0.01, class_weight={0: 1, 1: 10}, gamma=scale, kernel=poly; total time=   0.1s\n",
            "[CV] END C=0.01, class_weight={0: 1, 1: 10}, gamma=scale, kernel=rbf; total time=   0.2s\n",
            "[CV] END C=0.01, class_weight={0: 1, 1: 10}, gamma=scale, kernel=rbf; total time=   0.2s\n",
            "[CV] END C=0.01, class_weight={0: 1, 1: 10}, gamma=scale, kernel=rbf; total time=   0.2s\n",
            "[CV] END C=0.01, class_weight={0: 1, 1: 10}, gamma=scale, kernel=rbf; total time=   0.2s\n",
            "[CV] END C=0.01, class_weight={0: 1, 1: 10}, gamma=scale, kernel=rbf; total time=   0.2s\n",
            "[CV] END C=0.01, class_weight={0: 1, 1: 10}, gamma=scale, kernel=sigmoid; total time=   0.2s\n",
            "[CV] END C=0.01, class_weight={0: 1, 1: 10}, gamma=scale, kernel=sigmoid; total time=   0.2s\n",
            "[CV] END C=0.01, class_weight={0: 1, 1: 10}, gamma=scale, kernel=sigmoid; total time=   0.2s\n",
            "[CV] END C=0.01, class_weight={0: 1, 1: 10}, gamma=scale, kernel=sigmoid; total time=   0.2s\n",
            "[CV] END C=0.01, class_weight={0: 1, 1: 10}, gamma=scale, kernel=sigmoid; total time=   0.2s\n",
            "[CV] END C=0.01, class_weight={0: 1, 1: 10}, gamma=auto, kernel=linear; total time=   0.1s\n",
            "[CV] END C=0.01, class_weight={0: 1, 1: 10}, gamma=auto, kernel=linear; total time=   0.1s\n",
            "[CV] END C=0.01, class_weight={0: 1, 1: 10}, gamma=auto, kernel=linear; total time=   0.1s\n",
            "[CV] END C=0.01, class_weight={0: 1, 1: 10}, gamma=auto, kernel=linear; total time=   0.1s\n",
            "[CV] END C=0.01, class_weight={0: 1, 1: 10}, gamma=auto, kernel=linear; total time=   0.1s\n",
            "[CV] END C=0.01, class_weight={0: 1, 1: 10}, gamma=auto, kernel=poly; total time=   0.1s\n",
            "[CV] END C=0.01, class_weight={0: 1, 1: 10}, gamma=auto, kernel=poly; total time=   0.1s\n",
            "[CV] END C=0.01, class_weight={0: 1, 1: 10}, gamma=auto, kernel=poly; total time=   0.1s\n",
            "[CV] END C=0.01, class_weight={0: 1, 1: 10}, gamma=auto, kernel=poly; total time=   0.1s\n",
            "[CV] END C=0.01, class_weight={0: 1, 1: 10}, gamma=auto, kernel=poly; total time=   0.1s\n",
            "[CV] END C=0.01, class_weight={0: 1, 1: 10}, gamma=auto, kernel=rbf; total time=   0.2s\n",
            "[CV] END C=0.01, class_weight={0: 1, 1: 10}, gamma=auto, kernel=rbf; total time=   0.2s\n",
            "[CV] END C=0.01, class_weight={0: 1, 1: 10}, gamma=auto, kernel=rbf; total time=   0.2s\n",
            "[CV] END C=0.01, class_weight={0: 1, 1: 10}, gamma=auto, kernel=rbf; total time=   0.2s\n",
            "[CV] END C=0.01, class_weight={0: 1, 1: 10}, gamma=auto, kernel=rbf; total time=   0.2s\n",
            "[CV] END C=0.01, class_weight={0: 1, 1: 10}, gamma=auto, kernel=sigmoid; total time=   0.2s\n",
            "[CV] END C=0.01, class_weight={0: 1, 1: 10}, gamma=auto, kernel=sigmoid; total time=   0.2s\n",
            "[CV] END C=0.01, class_weight={0: 1, 1: 10}, gamma=auto, kernel=sigmoid; total time=   0.2s\n",
            "[CV] END C=0.01, class_weight={0: 1, 1: 10}, gamma=auto, kernel=sigmoid; total time=   0.2s\n",
            "[CV] END C=0.01, class_weight={0: 1, 1: 10}, gamma=auto, kernel=sigmoid; total time=   0.2s\n",
            "[CV] END C=0.05, class_weight=balanced, gamma=scale, kernel=linear; total time=   0.1s\n",
            "[CV] END C=0.05, class_weight=balanced, gamma=scale, kernel=linear; total time=   0.1s\n",
            "[CV] END C=0.05, class_weight=balanced, gamma=scale, kernel=linear; total time=   0.1s\n",
            "[CV] END C=0.05, class_weight=balanced, gamma=scale, kernel=linear; total time=   0.1s\n",
            "[CV] END C=0.05, class_weight=balanced, gamma=scale, kernel=linear; total time=   0.1s\n",
            "[CV] END C=0.05, class_weight=balanced, gamma=scale, kernel=poly; total time=   0.1s\n",
            "[CV] END C=0.05, class_weight=balanced, gamma=scale, kernel=poly; total time=   0.1s\n",
            "[CV] END C=0.05, class_weight=balanced, gamma=scale, kernel=poly; total time=   0.1s\n",
            "[CV] END C=0.05, class_weight=balanced, gamma=scale, kernel=poly; total time=   0.1s\n",
            "[CV] END C=0.05, class_weight=balanced, gamma=scale, kernel=poly; total time=   0.1s\n",
            "[CV] END C=0.05, class_weight=balanced, gamma=scale, kernel=rbf; total time=   0.1s\n",
            "[CV] END C=0.05, class_weight=balanced, gamma=scale, kernel=rbf; total time=   0.1s\n",
            "[CV] END C=0.05, class_weight=balanced, gamma=scale, kernel=rbf; total time=   0.1s\n",
            "[CV] END C=0.05, class_weight=balanced, gamma=scale, kernel=rbf; total time=   0.1s\n",
            "[CV] END C=0.05, class_weight=balanced, gamma=scale, kernel=rbf; total time=   0.1s\n",
            "[CV] END C=0.05, class_weight=balanced, gamma=scale, kernel=sigmoid; total time=   0.1s\n",
            "[CV] END C=0.05, class_weight=balanced, gamma=scale, kernel=sigmoid; total time=   0.2s\n",
            "[CV] END C=0.05, class_weight=balanced, gamma=scale, kernel=sigmoid; total time=   0.1s\n",
            "[CV] END C=0.05, class_weight=balanced, gamma=scale, kernel=sigmoid; total time=   0.1s\n",
            "[CV] END C=0.05, class_weight=balanced, gamma=scale, kernel=sigmoid; total time=   0.1s\n",
            "[CV] END C=0.05, class_weight=balanced, gamma=auto, kernel=linear; total time=   0.1s\n",
            "[CV] END C=0.05, class_weight=balanced, gamma=auto, kernel=linear; total time=   0.1s\n",
            "[CV] END C=0.05, class_weight=balanced, gamma=auto, kernel=linear; total time=   0.1s\n",
            "[CV] END C=0.05, class_weight=balanced, gamma=auto, kernel=linear; total time=   0.1s\n",
            "[CV] END C=0.05, class_weight=balanced, gamma=auto, kernel=linear; total time=   0.1s\n",
            "[CV] END C=0.05, class_weight=balanced, gamma=auto, kernel=poly; total time=   0.1s\n",
            "[CV] END C=0.05, class_weight=balanced, gamma=auto, kernel=poly; total time=   0.1s\n",
            "[CV] END C=0.05, class_weight=balanced, gamma=auto, kernel=poly; total time=   0.1s\n",
            "[CV] END C=0.05, class_weight=balanced, gamma=auto, kernel=poly; total time=   0.1s\n",
            "[CV] END C=0.05, class_weight=balanced, gamma=auto, kernel=poly; total time=   0.1s\n",
            "[CV] END C=0.05, class_weight=balanced, gamma=auto, kernel=rbf; total time=   0.1s\n",
            "[CV] END C=0.05, class_weight=balanced, gamma=auto, kernel=rbf; total time=   0.1s\n",
            "[CV] END C=0.05, class_weight=balanced, gamma=auto, kernel=rbf; total time=   0.1s\n",
            "[CV] END C=0.05, class_weight=balanced, gamma=auto, kernel=rbf; total time=   0.1s\n",
            "[CV] END C=0.05, class_weight=balanced, gamma=auto, kernel=rbf; total time=   0.1s\n",
            "[CV] END C=0.05, class_weight=balanced, gamma=auto, kernel=sigmoid; total time=   0.1s\n",
            "[CV] END C=0.05, class_weight=balanced, gamma=auto, kernel=sigmoid; total time=   0.1s\n",
            "[CV] END C=0.05, class_weight=balanced, gamma=auto, kernel=sigmoid; total time=   0.2s\n",
            "[CV] END C=0.05, class_weight=balanced, gamma=auto, kernel=sigmoid; total time=   0.1s\n",
            "[CV] END C=0.05, class_weight=balanced, gamma=auto, kernel=sigmoid; total time=   0.1s\n",
            "[CV] END C=0.05, class_weight={0: 1, 1: 2}, gamma=scale, kernel=linear; total time=   0.0s\n",
            "[CV] END C=0.05, class_weight={0: 1, 1: 2}, gamma=scale, kernel=linear; total time=   0.0s\n",
            "[CV] END C=0.05, class_weight={0: 1, 1: 2}, gamma=scale, kernel=linear; total time=   0.0s\n",
            "[CV] END C=0.05, class_weight={0: 1, 1: 2}, gamma=scale, kernel=linear; total time=   0.0s\n",
            "[CV] END C=0.05, class_weight={0: 1, 1: 2}, gamma=scale, kernel=linear; total time=   0.0s\n",
            "[CV] END C=0.05, class_weight={0: 1, 1: 2}, gamma=scale, kernel=poly; total time=   0.0s\n",
            "[CV] END C=0.05, class_weight={0: 1, 1: 2}, gamma=scale, kernel=poly; total time=   0.0s\n",
            "[CV] END C=0.05, class_weight={0: 1, 1: 2}, gamma=scale, kernel=poly; total time=   0.0s\n",
            "[CV] END C=0.05, class_weight={0: 1, 1: 2}, gamma=scale, kernel=poly; total time=   0.1s\n",
            "[CV] END C=0.05, class_weight={0: 1, 1: 2}, gamma=scale, kernel=poly; total time=   0.1s\n",
            "[CV] END C=0.05, class_weight={0: 1, 1: 2}, gamma=scale, kernel=rbf; total time=   0.1s\n",
            "[CV] END C=0.05, class_weight={0: 1, 1: 2}, gamma=scale, kernel=rbf; total time=   0.1s\n",
            "[CV] END C=0.05, class_weight={0: 1, 1: 2}, gamma=scale, kernel=rbf; total time=   0.1s\n",
            "[CV] END C=0.05, class_weight={0: 1, 1: 2}, gamma=scale, kernel=rbf; total time=   0.1s\n",
            "[CV] END C=0.05, class_weight={0: 1, 1: 2}, gamma=scale, kernel=rbf; total time=   0.1s\n",
            "[CV] END C=0.05, class_weight={0: 1, 1: 2}, gamma=scale, kernel=sigmoid; total time=   0.1s\n",
            "[CV] END C=0.05, class_weight={0: 1, 1: 2}, gamma=scale, kernel=sigmoid; total time=   0.1s\n",
            "[CV] END C=0.05, class_weight={0: 1, 1: 2}, gamma=scale, kernel=sigmoid; total time=   0.1s\n",
            "[CV] END C=0.05, class_weight={0: 1, 1: 2}, gamma=scale, kernel=sigmoid; total time=   0.1s\n",
            "[CV] END C=0.05, class_weight={0: 1, 1: 2}, gamma=scale, kernel=sigmoid; total time=   0.1s\n",
            "[CV] END C=0.05, class_weight={0: 1, 1: 2}, gamma=auto, kernel=linear; total time=   0.0s\n",
            "[CV] END C=0.05, class_weight={0: 1, 1: 2}, gamma=auto, kernel=linear; total time=   0.0s\n",
            "[CV] END C=0.05, class_weight={0: 1, 1: 2}, gamma=auto, kernel=linear; total time=   0.0s\n",
            "[CV] END C=0.05, class_weight={0: 1, 1: 2}, gamma=auto, kernel=linear; total time=   0.1s\n",
            "[CV] END C=0.05, class_weight={0: 1, 1: 2}, gamma=auto, kernel=linear; total time=   0.0s\n",
            "[CV] END C=0.05, class_weight={0: 1, 1: 2}, gamma=auto, kernel=poly; total time=   0.0s\n",
            "[CV] END C=0.05, class_weight={0: 1, 1: 2}, gamma=auto, kernel=poly; total time=   0.0s\n",
            "[CV] END C=0.05, class_weight={0: 1, 1: 2}, gamma=auto, kernel=poly; total time=   0.1s\n",
            "[CV] END C=0.05, class_weight={0: 1, 1: 2}, gamma=auto, kernel=poly; total time=   0.1s\n",
            "[CV] END C=0.05, class_weight={0: 1, 1: 2}, gamma=auto, kernel=poly; total time=   0.0s\n",
            "[CV] END C=0.05, class_weight={0: 1, 1: 2}, gamma=auto, kernel=rbf; total time=   0.1s\n",
            "[CV] END C=0.05, class_weight={0: 1, 1: 2}, gamma=auto, kernel=rbf; total time=   0.1s\n",
            "[CV] END C=0.05, class_weight={0: 1, 1: 2}, gamma=auto, kernel=rbf; total time=   0.1s\n",
            "[CV] END C=0.05, class_weight={0: 1, 1: 2}, gamma=auto, kernel=rbf; total time=   0.1s\n",
            "[CV] END C=0.05, class_weight={0: 1, 1: 2}, gamma=auto, kernel=rbf; total time=   0.1s\n",
            "[CV] END C=0.05, class_weight={0: 1, 1: 2}, gamma=auto, kernel=sigmoid; total time=   0.1s\n",
            "[CV] END C=0.05, class_weight={0: 1, 1: 2}, gamma=auto, kernel=sigmoid; total time=   0.1s\n",
            "[CV] END C=0.05, class_weight={0: 1, 1: 2}, gamma=auto, kernel=sigmoid; total time=   0.1s\n",
            "[CV] END C=0.05, class_weight={0: 1, 1: 2}, gamma=auto, kernel=sigmoid; total time=   0.1s\n",
            "[CV] END C=0.05, class_weight={0: 1, 1: 2}, gamma=auto, kernel=sigmoid; total time=   0.1s\n",
            "[CV] END C=0.05, class_weight={0: 1, 1: 10}, gamma=scale, kernel=linear; total time=   0.1s\n",
            "[CV] END C=0.05, class_weight={0: 1, 1: 10}, gamma=scale, kernel=linear; total time=   0.1s\n",
            "[CV] END C=0.05, class_weight={0: 1, 1: 10}, gamma=scale, kernel=linear; total time=   0.1s\n",
            "[CV] END C=0.05, class_weight={0: 1, 1: 10}, gamma=scale, kernel=linear; total time=   0.1s\n",
            "[CV] END C=0.05, class_weight={0: 1, 1: 10}, gamma=scale, kernel=linear; total time=   0.1s\n",
            "[CV] END C=0.05, class_weight={0: 1, 1: 10}, gamma=scale, kernel=poly; total time=   0.1s\n",
            "[CV] END C=0.05, class_weight={0: 1, 1: 10}, gamma=scale, kernel=poly; total time=   0.1s\n",
            "[CV] END C=0.05, class_weight={0: 1, 1: 10}, gamma=scale, kernel=poly; total time=   0.1s\n",
            "[CV] END C=0.05, class_weight={0: 1, 1: 10}, gamma=scale, kernel=poly; total time=   0.1s\n",
            "[CV] END C=0.05, class_weight={0: 1, 1: 10}, gamma=scale, kernel=poly; total time=   0.1s\n",
            "[CV] END C=0.05, class_weight={0: 1, 1: 10}, gamma=scale, kernel=rbf; total time=   0.2s\n",
            "[CV] END C=0.05, class_weight={0: 1, 1: 10}, gamma=scale, kernel=rbf; total time=   0.2s\n",
            "[CV] END C=0.05, class_weight={0: 1, 1: 10}, gamma=scale, kernel=rbf; total time=   0.2s\n",
            "[CV] END C=0.05, class_weight={0: 1, 1: 10}, gamma=scale, kernel=rbf; total time=   0.1s\n",
            "[CV] END C=0.05, class_weight={0: 1, 1: 10}, gamma=scale, kernel=rbf; total time=   0.1s\n",
            "[CV] END C=0.05, class_weight={0: 1, 1: 10}, gamma=scale, kernel=sigmoid; total time=   0.2s\n",
            "[CV] END C=0.05, class_weight={0: 1, 1: 10}, gamma=scale, kernel=sigmoid; total time=   0.2s\n",
            "[CV] END C=0.05, class_weight={0: 1, 1: 10}, gamma=scale, kernel=sigmoid; total time=   0.2s\n",
            "[CV] END C=0.05, class_weight={0: 1, 1: 10}, gamma=scale, kernel=sigmoid; total time=   0.2s\n",
            "[CV] END C=0.05, class_weight={0: 1, 1: 10}, gamma=scale, kernel=sigmoid; total time=   0.1s\n",
            "[CV] END C=0.05, class_weight={0: 1, 1: 10}, gamma=auto, kernel=linear; total time=   0.1s\n",
            "[CV] END C=0.05, class_weight={0: 1, 1: 10}, gamma=auto, kernel=linear; total time=   0.1s\n",
            "[CV] END C=0.05, class_weight={0: 1, 1: 10}, gamma=auto, kernel=linear; total time=   0.1s\n",
            "[CV] END C=0.05, class_weight={0: 1, 1: 10}, gamma=auto, kernel=linear; total time=   0.1s\n",
            "[CV] END C=0.05, class_weight={0: 1, 1: 10}, gamma=auto, kernel=linear; total time=   0.1s\n",
            "[CV] END C=0.05, class_weight={0: 1, 1: 10}, gamma=auto, kernel=poly; total time=   0.1s\n",
            "[CV] END C=0.05, class_weight={0: 1, 1: 10}, gamma=auto, kernel=poly; total time=   0.1s\n",
            "[CV] END C=0.05, class_weight={0: 1, 1: 10}, gamma=auto, kernel=poly; total time=   0.1s\n",
            "[CV] END C=0.05, class_weight={0: 1, 1: 10}, gamma=auto, kernel=poly; total time=   0.1s\n",
            "[CV] END C=0.05, class_weight={0: 1, 1: 10}, gamma=auto, kernel=poly; total time=   0.1s\n",
            "[CV] END C=0.05, class_weight={0: 1, 1: 10}, gamma=auto, kernel=rbf; total time=   0.2s\n",
            "[CV] END C=0.05, class_weight={0: 1, 1: 10}, gamma=auto, kernel=rbf; total time=   0.1s\n",
            "[CV] END C=0.05, class_weight={0: 1, 1: 10}, gamma=auto, kernel=rbf; total time=   0.2s\n",
            "[CV] END C=0.05, class_weight={0: 1, 1: 10}, gamma=auto, kernel=rbf; total time=   0.1s\n",
            "[CV] END C=0.05, class_weight={0: 1, 1: 10}, gamma=auto, kernel=rbf; total time=   0.2s\n",
            "[CV] END C=0.05, class_weight={0: 1, 1: 10}, gamma=auto, kernel=sigmoid; total time=   0.2s\n",
            "[CV] END C=0.05, class_weight={0: 1, 1: 10}, gamma=auto, kernel=sigmoid; total time=   0.2s\n",
            "[CV] END C=0.05, class_weight={0: 1, 1: 10}, gamma=auto, kernel=sigmoid; total time=   0.2s\n",
            "[CV] END C=0.05, class_weight={0: 1, 1: 10}, gamma=auto, kernel=sigmoid; total time=   0.2s\n",
            "[CV] END C=0.05, class_weight={0: 1, 1: 10}, gamma=auto, kernel=sigmoid; total time=   0.2s\n",
            "[CV] END C=0.5, class_weight=balanced, gamma=scale, kernel=linear; total time=   0.1s\n",
            "[CV] END C=0.5, class_weight=balanced, gamma=scale, kernel=linear; total time=   0.1s\n",
            "[CV] END C=0.5, class_weight=balanced, gamma=scale, kernel=linear; total time=   0.1s\n",
            "[CV] END C=0.5, class_weight=balanced, gamma=scale, kernel=linear; total time=   0.1s\n",
            "[CV] END C=0.5, class_weight=balanced, gamma=scale, kernel=linear; total time=   0.1s\n",
            "[CV] END C=0.5, class_weight=balanced, gamma=scale, kernel=poly; total time=   0.1s\n",
            "[CV] END C=0.5, class_weight=balanced, gamma=scale, kernel=poly; total time=   0.1s\n",
            "[CV] END C=0.5, class_weight=balanced, gamma=scale, kernel=poly; total time=   0.1s\n",
            "[CV] END C=0.5, class_weight=balanced, gamma=scale, kernel=poly; total time=   0.1s\n",
            "[CV] END C=0.5, class_weight=balanced, gamma=scale, kernel=poly; total time=   0.1s\n",
            "[CV] END C=0.5, class_weight=balanced, gamma=scale, kernel=rbf; total time=   0.1s\n",
            "[CV] END C=0.5, class_weight=balanced, gamma=scale, kernel=rbf; total time=   0.1s\n",
            "[CV] END C=0.5, class_weight=balanced, gamma=scale, kernel=rbf; total time=   0.1s\n",
            "[CV] END C=0.5, class_weight=balanced, gamma=scale, kernel=rbf; total time=   0.1s\n",
            "[CV] END C=0.5, class_weight=balanced, gamma=scale, kernel=rbf; total time=   0.1s\n",
            "[CV] END C=0.5, class_weight=balanced, gamma=scale, kernel=sigmoid; total time=   0.1s\n",
            "[CV] END C=0.5, class_weight=balanced, gamma=scale, kernel=sigmoid; total time=   0.1s\n",
            "[CV] END C=0.5, class_weight=balanced, gamma=scale, kernel=sigmoid; total time=   0.1s\n",
            "[CV] END C=0.5, class_weight=balanced, gamma=scale, kernel=sigmoid; total time=   0.1s\n",
            "[CV] END C=0.5, class_weight=balanced, gamma=scale, kernel=sigmoid; total time=   0.1s\n",
            "[CV] END C=0.5, class_weight=balanced, gamma=auto, kernel=linear; total time=   0.1s\n",
            "[CV] END C=0.5, class_weight=balanced, gamma=auto, kernel=linear; total time=   0.1s\n",
            "[CV] END C=0.5, class_weight=balanced, gamma=auto, kernel=linear; total time=   0.1s\n",
            "[CV] END C=0.5, class_weight=balanced, gamma=auto, kernel=linear; total time=   0.1s\n",
            "[CV] END C=0.5, class_weight=balanced, gamma=auto, kernel=linear; total time=   0.1s\n",
            "[CV] END C=0.5, class_weight=balanced, gamma=auto, kernel=poly; total time=   0.1s\n",
            "[CV] END C=0.5, class_weight=balanced, gamma=auto, kernel=poly; total time=   0.1s\n",
            "[CV] END C=0.5, class_weight=balanced, gamma=auto, kernel=poly; total time=   0.1s\n",
            "[CV] END C=0.5, class_weight=balanced, gamma=auto, kernel=poly; total time=   0.1s\n",
            "[CV] END C=0.5, class_weight=balanced, gamma=auto, kernel=poly; total time=   0.1s\n",
            "[CV] END C=0.5, class_weight=balanced, gamma=auto, kernel=rbf; total time=   0.1s\n",
            "[CV] END C=0.5, class_weight=balanced, gamma=auto, kernel=rbf; total time=   0.1s\n",
            "[CV] END C=0.5, class_weight=balanced, gamma=auto, kernel=rbf; total time=   0.1s\n",
            "[CV] END C=0.5, class_weight=balanced, gamma=auto, kernel=rbf; total time=   0.1s\n",
            "[CV] END C=0.5, class_weight=balanced, gamma=auto, kernel=rbf; total time=   0.1s\n",
            "[CV] END C=0.5, class_weight=balanced, gamma=auto, kernel=sigmoid; total time=   0.1s\n",
            "[CV] END C=0.5, class_weight=balanced, gamma=auto, kernel=sigmoid; total time=   0.1s\n",
            "[CV] END C=0.5, class_weight=balanced, gamma=auto, kernel=sigmoid; total time=   0.1s\n",
            "[CV] END C=0.5, class_weight=balanced, gamma=auto, kernel=sigmoid; total time=   0.1s\n",
            "[CV] END C=0.5, class_weight=balanced, gamma=auto, kernel=sigmoid; total time=   0.1s\n",
            "[CV] END C=0.5, class_weight={0: 1, 1: 2}, gamma=scale, kernel=linear; total time=   0.1s\n",
            "[CV] END C=0.5, class_weight={0: 1, 1: 2}, gamma=scale, kernel=linear; total time=   0.1s\n",
            "[CV] END C=0.5, class_weight={0: 1, 1: 2}, gamma=scale, kernel=linear; total time=   0.1s\n",
            "[CV] END C=0.5, class_weight={0: 1, 1: 2}, gamma=scale, kernel=linear; total time=   0.0s\n",
            "[CV] END C=0.5, class_weight={0: 1, 1: 2}, gamma=scale, kernel=linear; total time=   0.1s\n",
            "[CV] END C=0.5, class_weight={0: 1, 1: 2}, gamma=scale, kernel=poly; total time=   0.1s\n",
            "[CV] END C=0.5, class_weight={0: 1, 1: 2}, gamma=scale, kernel=poly; total time=   0.1s\n",
            "[CV] END C=0.5, class_weight={0: 1, 1: 2}, gamma=scale, kernel=poly; total time=   0.1s\n",
            "[CV] END C=0.5, class_weight={0: 1, 1: 2}, gamma=scale, kernel=poly; total time=   0.1s\n",
            "[CV] END C=0.5, class_weight={0: 1, 1: 2}, gamma=scale, kernel=poly; total time=   0.1s\n",
            "[CV] END C=0.5, class_weight={0: 1, 1: 2}, gamma=scale, kernel=rbf; total time=   0.1s\n",
            "[CV] END C=0.5, class_weight={0: 1, 1: 2}, gamma=scale, kernel=rbf; total time=   0.1s\n",
            "[CV] END C=0.5, class_weight={0: 1, 1: 2}, gamma=scale, kernel=rbf; total time=   0.1s\n",
            "[CV] END C=0.5, class_weight={0: 1, 1: 2}, gamma=scale, kernel=rbf; total time=   0.1s\n",
            "[CV] END C=0.5, class_weight={0: 1, 1: 2}, gamma=scale, kernel=rbf; total time=   0.1s\n",
            "[CV] END C=0.5, class_weight={0: 1, 1: 2}, gamma=scale, kernel=sigmoid; total time=   0.1s\n",
            "[CV] END C=0.5, class_weight={0: 1, 1: 2}, gamma=scale, kernel=sigmoid; total time=   0.1s\n",
            "[CV] END C=0.5, class_weight={0: 1, 1: 2}, gamma=scale, kernel=sigmoid; total time=   0.1s\n",
            "[CV] END C=0.5, class_weight={0: 1, 1: 2}, gamma=scale, kernel=sigmoid; total time=   0.1s\n",
            "[CV] END C=0.5, class_weight={0: 1, 1: 2}, gamma=scale, kernel=sigmoid; total time=   0.1s\n",
            "[CV] END C=0.5, class_weight={0: 1, 1: 2}, gamma=auto, kernel=linear; total time=   0.1s\n",
            "[CV] END C=0.5, class_weight={0: 1, 1: 2}, gamma=auto, kernel=linear; total time=   0.1s\n",
            "[CV] END C=0.5, class_weight={0: 1, 1: 2}, gamma=auto, kernel=linear; total time=   0.1s\n",
            "[CV] END C=0.5, class_weight={0: 1, 1: 2}, gamma=auto, kernel=linear; total time=   0.0s\n",
            "[CV] END C=0.5, class_weight={0: 1, 1: 2}, gamma=auto, kernel=linear; total time=   0.1s\n",
            "[CV] END C=0.5, class_weight={0: 1, 1: 2}, gamma=auto, kernel=poly; total time=   0.0s\n",
            "[CV] END C=0.5, class_weight={0: 1, 1: 2}, gamma=auto, kernel=poly; total time=   0.1s\n",
            "[CV] END C=0.5, class_weight={0: 1, 1: 2}, gamma=auto, kernel=poly; total time=   0.0s\n",
            "[CV] END C=0.5, class_weight={0: 1, 1: 2}, gamma=auto, kernel=poly; total time=   0.0s\n",
            "[CV] END C=0.5, class_weight={0: 1, 1: 2}, gamma=auto, kernel=poly; total time=   0.0s\n",
            "[CV] END C=0.5, class_weight={0: 1, 1: 2}, gamma=auto, kernel=rbf; total time=   0.1s\n",
            "[CV] END C=0.5, class_weight={0: 1, 1: 2}, gamma=auto, kernel=rbf; total time=   0.1s\n",
            "[CV] END C=0.5, class_weight={0: 1, 1: 2}, gamma=auto, kernel=rbf; total time=   0.1s\n",
            "[CV] END C=0.5, class_weight={0: 1, 1: 2}, gamma=auto, kernel=rbf; total time=   0.1s\n",
            "[CV] END C=0.5, class_weight={0: 1, 1: 2}, gamma=auto, kernel=rbf; total time=   0.1s\n",
            "[CV] END C=0.5, class_weight={0: 1, 1: 2}, gamma=auto, kernel=sigmoid; total time=   0.1s\n",
            "[CV] END C=0.5, class_weight={0: 1, 1: 2}, gamma=auto, kernel=sigmoid; total time=   0.1s\n",
            "[CV] END C=0.5, class_weight={0: 1, 1: 2}, gamma=auto, kernel=sigmoid; total time=   0.1s\n",
            "[CV] END C=0.5, class_weight={0: 1, 1: 2}, gamma=auto, kernel=sigmoid; total time=   0.1s\n",
            "[CV] END C=0.5, class_weight={0: 1, 1: 2}, gamma=auto, kernel=sigmoid; total time=   0.1s\n",
            "[CV] END C=0.5, class_weight={0: 1, 1: 10}, gamma=scale, kernel=linear; total time=   0.1s\n",
            "[CV] END C=0.5, class_weight={0: 1, 1: 10}, gamma=scale, kernel=linear; total time=   0.1s\n",
            "[CV] END C=0.5, class_weight={0: 1, 1: 10}, gamma=scale, kernel=linear; total time=   0.1s\n",
            "[CV] END C=0.5, class_weight={0: 1, 1: 10}, gamma=scale, kernel=linear; total time=   0.1s\n",
            "[CV] END C=0.5, class_weight={0: 1, 1: 10}, gamma=scale, kernel=linear; total time=   0.1s\n",
            "[CV] END C=0.5, class_weight={0: 1, 1: 10}, gamma=scale, kernel=poly; total time=   0.1s\n",
            "[CV] END C=0.5, class_weight={0: 1, 1: 10}, gamma=scale, kernel=poly; total time=   0.1s\n",
            "[CV] END C=0.5, class_weight={0: 1, 1: 10}, gamma=scale, kernel=poly; total time=   0.1s\n",
            "[CV] END C=0.5, class_weight={0: 1, 1: 10}, gamma=scale, kernel=poly; total time=   0.1s\n",
            "[CV] END C=0.5, class_weight={0: 1, 1: 10}, gamma=scale, kernel=poly; total time=   0.1s\n",
            "[CV] END C=0.5, class_weight={0: 1, 1: 10}, gamma=scale, kernel=rbf; total time=   0.1s\n",
            "[CV] END C=0.5, class_weight={0: 1, 1: 10}, gamma=scale, kernel=rbf; total time=   0.1s\n",
            "[CV] END C=0.5, class_weight={0: 1, 1: 10}, gamma=scale, kernel=rbf; total time=   0.1s\n",
            "[CV] END C=0.5, class_weight={0: 1, 1: 10}, gamma=scale, kernel=rbf; total time=   0.1s\n",
            "[CV] END C=0.5, class_weight={0: 1, 1: 10}, gamma=scale, kernel=rbf; total time=   0.1s\n",
            "[CV] END C=0.5, class_weight={0: 1, 1: 10}, gamma=scale, kernel=sigmoid; total time=   0.1s\n",
            "[CV] END C=0.5, class_weight={0: 1, 1: 10}, gamma=scale, kernel=sigmoid; total time=   0.1s\n",
            "[CV] END C=0.5, class_weight={0: 1, 1: 10}, gamma=scale, kernel=sigmoid; total time=   0.1s\n",
            "[CV] END C=0.5, class_weight={0: 1, 1: 10}, gamma=scale, kernel=sigmoid; total time=   0.3s\n",
            "[CV] END C=0.5, class_weight={0: 1, 1: 10}, gamma=scale, kernel=sigmoid; total time=   0.2s\n",
            "[CV] END C=0.5, class_weight={0: 1, 1: 10}, gamma=auto, kernel=linear; total time=   0.2s\n",
            "[CV] END C=0.5, class_weight={0: 1, 1: 10}, gamma=auto, kernel=linear; total time=   0.3s\n",
            "[CV] END C=0.5, class_weight={0: 1, 1: 10}, gamma=auto, kernel=linear; total time=   0.4s\n",
            "[CV] END C=0.5, class_weight={0: 1, 1: 10}, gamma=auto, kernel=linear; total time=   0.2s\n",
            "[CV] END C=0.5, class_weight={0: 1, 1: 10}, gamma=auto, kernel=linear; total time=   0.3s\n",
            "[CV] END C=0.5, class_weight={0: 1, 1: 10}, gamma=auto, kernel=poly; total time=   0.3s\n",
            "[CV] END C=0.5, class_weight={0: 1, 1: 10}, gamma=auto, kernel=poly; total time=   0.2s\n",
            "[CV] END C=0.5, class_weight={0: 1, 1: 10}, gamma=auto, kernel=poly; total time=   0.3s\n",
            "[CV] END C=0.5, class_weight={0: 1, 1: 10}, gamma=auto, kernel=poly; total time=   0.2s\n",
            "[CV] END C=0.5, class_weight={0: 1, 1: 10}, gamma=auto, kernel=poly; total time=   0.2s\n",
            "[CV] END C=0.5, class_weight={0: 1, 1: 10}, gamma=auto, kernel=rbf; total time=   0.1s\n",
            "[CV] END C=0.5, class_weight={0: 1, 1: 10}, gamma=auto, kernel=rbf; total time=   0.1s\n",
            "[CV] END C=0.5, class_weight={0: 1, 1: 10}, gamma=auto, kernel=rbf; total time=   0.1s\n",
            "[CV] END C=0.5, class_weight={0: 1, 1: 10}, gamma=auto, kernel=rbf; total time=   0.1s\n",
            "[CV] END C=0.5, class_weight={0: 1, 1: 10}, gamma=auto, kernel=rbf; total time=   0.1s\n",
            "[CV] END C=0.5, class_weight={0: 1, 1: 10}, gamma=auto, kernel=sigmoid; total time=   0.1s\n",
            "[CV] END C=0.5, class_weight={0: 1, 1: 10}, gamma=auto, kernel=sigmoid; total time=   0.1s\n",
            "[CV] END C=0.5, class_weight={0: 1, 1: 10}, gamma=auto, kernel=sigmoid; total time=   0.1s\n",
            "[CV] END C=0.5, class_weight={0: 1, 1: 10}, gamma=auto, kernel=sigmoid; total time=   0.1s\n",
            "[CV] END C=0.5, class_weight={0: 1, 1: 10}, gamma=auto, kernel=sigmoid; total time=   0.1s\n"
          ]
        },
        {
          "output_type": "execute_result",
          "data": {
            "text/plain": [
              "GridSearchCV(estimator=SVC(),\n",
              "             param_grid={'C': [0.1, 0.01, 0.05, 0.5],\n",
              "                         'class_weight': ['balanced', {0: 1, 1: 2},\n",
              "                                          {0: 1, 1: 10}],\n",
              "                         'gamma': ['scale', 'auto'],\n",
              "                         'kernel': ['linear', 'poly', 'rbf', 'sigmoid']},\n",
              "             scoring='precision', verbose=2)"
            ]
          },
          "metadata": {},
          "execution_count": 97
        }
      ]
    },
    {
      "cell_type": "code",
      "source": [
        "cv.best_params_"
      ],
      "metadata": {
        "colab": {
          "base_uri": "https://localhost:8080/"
        },
        "id": "57QXR0WoUpQc",
        "outputId": "236ac83c-c8e7-4c08-9b91-d4d7f558d242"
      },
      "execution_count": null,
      "outputs": [
        {
          "output_type": "execute_result",
          "data": {
            "text/plain": [
              "{'C': 0.05, 'class_weight': {0: 1, 1: 2}, 'gamma': 'auto', 'kernel': 'poly'}"
            ]
          },
          "metadata": {},
          "execution_count": 98
        }
      ]
    },
    {
      "cell_type": "code",
      "source": [
        "predicted = cv.predict(X_test_stack)\n",
        "\n",
        "prec = precision_score(y_test, predicted)\n",
        "recall = recall_score(y_test, predicted)\n",
        "    \n",
        "print(\"Prec: {:.2F}, Recall: {:.2F}\".format(\n",
        "    prec, recall\n",
        "))"
      ],
      "metadata": {
        "colab": {
          "base_uri": "https://localhost:8080/"
        },
        "id": "_hStC3KNUsU0",
        "outputId": "d4774af1-06ff-4ca9-9d6c-f33cc9b65218"
      },
      "execution_count": null,
      "outputs": [
        {
          "output_type": "stream",
          "name": "stdout",
          "text": [
            "Prec: 0.87, Recall: 0.20\n"
          ]
        }
      ]
    },
    {
      "cell_type": "markdown",
      "source": [
        "Precision tertinggi yang didapat dalah 82%"
      ],
      "metadata": {
        "id": "M2GNZ-zjVGYv"
      }
    }
  ]
}