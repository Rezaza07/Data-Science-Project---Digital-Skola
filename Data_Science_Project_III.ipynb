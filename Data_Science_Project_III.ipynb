{
  "metadata": {
    "kernelspec": {
      "language": "python",
      "display_name": "Python 3",
      "name": "python3"
    },
    "language_info": {
      "name": "python",
      "version": "3.7.12",
      "mimetype": "text/x-python",
      "codemirror_mode": {
        "name": "ipython",
        "version": 3
      },
      "pygments_lexer": "ipython3",
      "nbconvert_exporter": "python",
      "file_extension": ".py"
    },
    "colab": {
      "provenance": [],
      "collapsed_sections": []
    }
  },
  "nbformat_minor": 0,
  "nbformat": 4,
  "cells": [
    {
      "cell_type": "markdown",
      "source": [
        "#Mounting"
      ],
      "metadata": {
        "id": "zLTCVnRmz6Zu"
      }
    },
    {
      "cell_type": "code",
      "source": [
        "from google.colab import drive\n",
        "drive.mount('/content/drive')\n",
        "import os\n",
        "myDirFiles = \"/content/drive/MyDrive/Pandas\"\n",
        "os.chdir(myDirFiles)"
      ],
      "metadata": {
        "_uuid": "8f2839f25d086af736a60e9eeb907d3b93b6e0e5",
        "_cell_guid": "b1076dfc-b9ad-4769-8c92-a6c4dae69d19",
        "execution": {
          "iopub.status.busy": "2022-09-03T06:05:36.787374Z",
          "iopub.execute_input": "2022-09-03T06:05:36.787895Z",
          "iopub.status.idle": "2022-09-03T06:05:36.825802Z",
          "shell.execute_reply.started": "2022-09-03T06:05:36.787790Z",
          "shell.execute_reply": "2022-09-03T06:05:36.824950Z"
        },
        "trusted": true,
        "id": "PSNQZhS1biCk",
        "colab": {
          "base_uri": "https://localhost:8080/"
        },
        "outputId": "d346cbc8-d701-455e-e14c-5e65c6ff7ddb"
      },
      "execution_count": null,
      "outputs": [
        {
          "output_type": "stream",
          "name": "stdout",
          "text": [
            "Mounted at /content/drive\n"
          ]
        }
      ]
    },
    {
      "cell_type": "markdown",
      "source": [
        "#Pre-Processing Data"
      ],
      "metadata": {
        "id": "Xhh-7WT-ekNG"
      }
    },
    {
      "cell_type": "markdown",
      "source": [
        "##Import Library"
      ],
      "metadata": {
        "id": "oFelQoGfbiCl"
      }
    },
    {
      "cell_type": "code",
      "source": [
        "#Base\n",
        "import pandas as pd #Untuk mengolah dataset\n",
        "import numpy as np #Untuk menghitung algoritma atau rumus\n",
        "\n",
        "#Plotting\n",
        "import seaborn as sns\n",
        "import matplotlib.pyplot as plt\n",
        "\n",
        "#Disable Warnings\n",
        "import warnings\n",
        "warnings.filterwarnings(\"ignore\")\n",
        "\n",
        "#Machine learning Model\n",
        "from sklearn.tree import DecisionTreeClassifier\n",
        "from sklearn.linear_model import LogisticRegression\n",
        "from sklearn.neighbors import KNeighborsClassifier\n",
        "from sklearn.naive_bayes import GaussianNB\n",
        "from sklearn.svm import SVC, LinearSVC\n",
        "from sklearn.ensemble import RandomForestClassifier , GradientBoostingClassifier\n",
        "from sklearn.ensemble import ExtraTreesClassifier\n",
        "from lightgbm import LGBMClassifier\n",
        "from xgboost import XGBClassifier\n",
        "\n",
        "#Evaluation\n",
        "from sklearn import metrics\n",
        "from sklearn.metrics import classification_report, roc_auc_score, roc_curve\n",
        "from sklearn.metrics import make_scorer,accuracy_score,roc_auc_score,precision_score,recall_score,f1_score,log_loss\n",
        "from sklearn.metrics import confusion_matrix\n",
        "\n",
        "#Train-Test Split\n",
        "from sklearn.model_selection import train_test_split\n",
        "\n",
        "#Cross Validation Untuk menangani Imbalanced data\n",
        "from sklearn.model_selection import StratifiedKFold \n",
        "from sklearn.model_selection import RepeatedStratifiedKFold\n",
        "\n",
        "#Grid Search Untuk mencari hyperparameter terbaik\n",
        "from sklearn.model_selection import GridSearchCV\n",
        "\n",
        "#Save Model\n",
        "import pickle\n",
        "import requests\n",
        "import json"
      ],
      "metadata": {
        "execution": {
          "iopub.status.busy": "2022-09-03T06:14:59.730703Z",
          "iopub.execute_input": "2022-09-03T06:14:59.731233Z",
          "iopub.status.idle": "2022-09-03T06:15:01.873881Z",
          "shell.execute_reply.started": "2022-09-03T06:14:59.731191Z",
          "shell.execute_reply": "2022-09-03T06:15:01.872832Z"
        },
        "trusted": true,
        "id": "uoZfwWBBbiCn"
      },
      "execution_count": null,
      "outputs": []
    },
    {
      "cell_type": "code",
      "source": [
        "#Import Dataset\n",
        "df = pd.read_csv('diabetes.csv')"
      ],
      "metadata": {
        "execution": {
          "iopub.status.busy": "2022-09-03T06:17:36.268026Z",
          "iopub.execute_input": "2022-09-03T06:17:36.268463Z",
          "iopub.status.idle": "2022-09-03T06:17:36.277312Z",
          "shell.execute_reply.started": "2022-09-03T06:17:36.268424Z",
          "shell.execute_reply": "2022-09-03T06:17:36.276020Z"
        },
        "trusted": true,
        "id": "_5uZOq0obiCn"
      },
      "execution_count": null,
      "outputs": []
    },
    {
      "cell_type": "code",
      "source": [
        "#Menampilkan Dataset\n",
        "df"
      ],
      "metadata": {
        "execution": {
          "iopub.status.busy": "2022-09-03T06:18:39.913756Z",
          "iopub.execute_input": "2022-09-03T06:18:39.914175Z",
          "iopub.status.idle": "2022-09-03T06:18:39.941269Z",
          "shell.execute_reply.started": "2022-09-03T06:18:39.914141Z",
          "shell.execute_reply": "2022-09-03T06:18:39.939919Z"
        },
        "trusted": true,
        "id": "HeGNm-yubiCn",
        "colab": {
          "base_uri": "https://localhost:8080/",
          "height": 424
        },
        "outputId": "d9b56e38-8495-40e5-e012-224ad3235d8b"
      },
      "execution_count": null,
      "outputs": [
        {
          "output_type": "execute_result",
          "data": {
            "text/plain": [
              "     Pregnancies  Glucose  BloodPressure  SkinThickness  Insulin   BMI  \\\n",
              "0              6      148             72             35        0  33.6   \n",
              "1              1       85             66             29        0  26.6   \n",
              "2              8      183             64              0        0  23.3   \n",
              "3              1       89             66             23       94  28.1   \n",
              "4              0      137             40             35      168  43.1   \n",
              "..           ...      ...            ...            ...      ...   ...   \n",
              "763           10      101             76             48      180  32.9   \n",
              "764            2      122             70             27        0  36.8   \n",
              "765            5      121             72             23      112  26.2   \n",
              "766            1      126             60              0        0  30.1   \n",
              "767            1       93             70             31        0  30.4   \n",
              "\n",
              "     DiabetesPedigreeFunction  Age  Outcome  \n",
              "0                       0.627   50        1  \n",
              "1                       0.351   31        0  \n",
              "2                       0.672   32        1  \n",
              "3                       0.167   21        0  \n",
              "4                       2.288   33        1  \n",
              "..                        ...  ...      ...  \n",
              "763                     0.171   63        0  \n",
              "764                     0.340   27        0  \n",
              "765                     0.245   30        0  \n",
              "766                     0.349   47        1  \n",
              "767                     0.315   23        0  \n",
              "\n",
              "[768 rows x 9 columns]"
            ],
            "text/html": [
              "\n",
              "  <div id=\"df-d335aeb0-31e8-4784-a28b-6540880bd66d\">\n",
              "    <div class=\"colab-df-container\">\n",
              "      <div>\n",
              "<style scoped>\n",
              "    .dataframe tbody tr th:only-of-type {\n",
              "        vertical-align: middle;\n",
              "    }\n",
              "\n",
              "    .dataframe tbody tr th {\n",
              "        vertical-align: top;\n",
              "    }\n",
              "\n",
              "    .dataframe thead th {\n",
              "        text-align: right;\n",
              "    }\n",
              "</style>\n",
              "<table border=\"1\" class=\"dataframe\">\n",
              "  <thead>\n",
              "    <tr style=\"text-align: right;\">\n",
              "      <th></th>\n",
              "      <th>Pregnancies</th>\n",
              "      <th>Glucose</th>\n",
              "      <th>BloodPressure</th>\n",
              "      <th>SkinThickness</th>\n",
              "      <th>Insulin</th>\n",
              "      <th>BMI</th>\n",
              "      <th>DiabetesPedigreeFunction</th>\n",
              "      <th>Age</th>\n",
              "      <th>Outcome</th>\n",
              "    </tr>\n",
              "  </thead>\n",
              "  <tbody>\n",
              "    <tr>\n",
              "      <th>0</th>\n",
              "      <td>6</td>\n",
              "      <td>148</td>\n",
              "      <td>72</td>\n",
              "      <td>35</td>\n",
              "      <td>0</td>\n",
              "      <td>33.6</td>\n",
              "      <td>0.627</td>\n",
              "      <td>50</td>\n",
              "      <td>1</td>\n",
              "    </tr>\n",
              "    <tr>\n",
              "      <th>1</th>\n",
              "      <td>1</td>\n",
              "      <td>85</td>\n",
              "      <td>66</td>\n",
              "      <td>29</td>\n",
              "      <td>0</td>\n",
              "      <td>26.6</td>\n",
              "      <td>0.351</td>\n",
              "      <td>31</td>\n",
              "      <td>0</td>\n",
              "    </tr>\n",
              "    <tr>\n",
              "      <th>2</th>\n",
              "      <td>8</td>\n",
              "      <td>183</td>\n",
              "      <td>64</td>\n",
              "      <td>0</td>\n",
              "      <td>0</td>\n",
              "      <td>23.3</td>\n",
              "      <td>0.672</td>\n",
              "      <td>32</td>\n",
              "      <td>1</td>\n",
              "    </tr>\n",
              "    <tr>\n",
              "      <th>3</th>\n",
              "      <td>1</td>\n",
              "      <td>89</td>\n",
              "      <td>66</td>\n",
              "      <td>23</td>\n",
              "      <td>94</td>\n",
              "      <td>28.1</td>\n",
              "      <td>0.167</td>\n",
              "      <td>21</td>\n",
              "      <td>0</td>\n",
              "    </tr>\n",
              "    <tr>\n",
              "      <th>4</th>\n",
              "      <td>0</td>\n",
              "      <td>137</td>\n",
              "      <td>40</td>\n",
              "      <td>35</td>\n",
              "      <td>168</td>\n",
              "      <td>43.1</td>\n",
              "      <td>2.288</td>\n",
              "      <td>33</td>\n",
              "      <td>1</td>\n",
              "    </tr>\n",
              "    <tr>\n",
              "      <th>...</th>\n",
              "      <td>...</td>\n",
              "      <td>...</td>\n",
              "      <td>...</td>\n",
              "      <td>...</td>\n",
              "      <td>...</td>\n",
              "      <td>...</td>\n",
              "      <td>...</td>\n",
              "      <td>...</td>\n",
              "      <td>...</td>\n",
              "    </tr>\n",
              "    <tr>\n",
              "      <th>763</th>\n",
              "      <td>10</td>\n",
              "      <td>101</td>\n",
              "      <td>76</td>\n",
              "      <td>48</td>\n",
              "      <td>180</td>\n",
              "      <td>32.9</td>\n",
              "      <td>0.171</td>\n",
              "      <td>63</td>\n",
              "      <td>0</td>\n",
              "    </tr>\n",
              "    <tr>\n",
              "      <th>764</th>\n",
              "      <td>2</td>\n",
              "      <td>122</td>\n",
              "      <td>70</td>\n",
              "      <td>27</td>\n",
              "      <td>0</td>\n",
              "      <td>36.8</td>\n",
              "      <td>0.340</td>\n",
              "      <td>27</td>\n",
              "      <td>0</td>\n",
              "    </tr>\n",
              "    <tr>\n",
              "      <th>765</th>\n",
              "      <td>5</td>\n",
              "      <td>121</td>\n",
              "      <td>72</td>\n",
              "      <td>23</td>\n",
              "      <td>112</td>\n",
              "      <td>26.2</td>\n",
              "      <td>0.245</td>\n",
              "      <td>30</td>\n",
              "      <td>0</td>\n",
              "    </tr>\n",
              "    <tr>\n",
              "      <th>766</th>\n",
              "      <td>1</td>\n",
              "      <td>126</td>\n",
              "      <td>60</td>\n",
              "      <td>0</td>\n",
              "      <td>0</td>\n",
              "      <td>30.1</td>\n",
              "      <td>0.349</td>\n",
              "      <td>47</td>\n",
              "      <td>1</td>\n",
              "    </tr>\n",
              "    <tr>\n",
              "      <th>767</th>\n",
              "      <td>1</td>\n",
              "      <td>93</td>\n",
              "      <td>70</td>\n",
              "      <td>31</td>\n",
              "      <td>0</td>\n",
              "      <td>30.4</td>\n",
              "      <td>0.315</td>\n",
              "      <td>23</td>\n",
              "      <td>0</td>\n",
              "    </tr>\n",
              "  </tbody>\n",
              "</table>\n",
              "<p>768 rows × 9 columns</p>\n",
              "</div>\n",
              "      <button class=\"colab-df-convert\" onclick=\"convertToInteractive('df-d335aeb0-31e8-4784-a28b-6540880bd66d')\"\n",
              "              title=\"Convert this dataframe to an interactive table.\"\n",
              "              style=\"display:none;\">\n",
              "        \n",
              "  <svg xmlns=\"http://www.w3.org/2000/svg\" height=\"24px\"viewBox=\"0 0 24 24\"\n",
              "       width=\"24px\">\n",
              "    <path d=\"M0 0h24v24H0V0z\" fill=\"none\"/>\n",
              "    <path d=\"M18.56 5.44l.94 2.06.94-2.06 2.06-.94-2.06-.94-.94-2.06-.94 2.06-2.06.94zm-11 1L8.5 8.5l.94-2.06 2.06-.94-2.06-.94L8.5 2.5l-.94 2.06-2.06.94zm10 10l.94 2.06.94-2.06 2.06-.94-2.06-.94-.94-2.06-.94 2.06-2.06.94z\"/><path d=\"M17.41 7.96l-1.37-1.37c-.4-.4-.92-.59-1.43-.59-.52 0-1.04.2-1.43.59L10.3 9.45l-7.72 7.72c-.78.78-.78 2.05 0 2.83L4 21.41c.39.39.9.59 1.41.59.51 0 1.02-.2 1.41-.59l7.78-7.78 2.81-2.81c.8-.78.8-2.07 0-2.86zM5.41 20L4 18.59l7.72-7.72 1.47 1.35L5.41 20z\"/>\n",
              "  </svg>\n",
              "      </button>\n",
              "      \n",
              "  <style>\n",
              "    .colab-df-container {\n",
              "      display:flex;\n",
              "      flex-wrap:wrap;\n",
              "      gap: 12px;\n",
              "    }\n",
              "\n",
              "    .colab-df-convert {\n",
              "      background-color: #E8F0FE;\n",
              "      border: none;\n",
              "      border-radius: 50%;\n",
              "      cursor: pointer;\n",
              "      display: none;\n",
              "      fill: #1967D2;\n",
              "      height: 32px;\n",
              "      padding: 0 0 0 0;\n",
              "      width: 32px;\n",
              "    }\n",
              "\n",
              "    .colab-df-convert:hover {\n",
              "      background-color: #E2EBFA;\n",
              "      box-shadow: 0px 1px 2px rgba(60, 64, 67, 0.3), 0px 1px 3px 1px rgba(60, 64, 67, 0.15);\n",
              "      fill: #174EA6;\n",
              "    }\n",
              "\n",
              "    [theme=dark] .colab-df-convert {\n",
              "      background-color: #3B4455;\n",
              "      fill: #D2E3FC;\n",
              "    }\n",
              "\n",
              "    [theme=dark] .colab-df-convert:hover {\n",
              "      background-color: #434B5C;\n",
              "      box-shadow: 0px 1px 3px 1px rgba(0, 0, 0, 0.15);\n",
              "      filter: drop-shadow(0px 1px 2px rgba(0, 0, 0, 0.3));\n",
              "      fill: #FFFFFF;\n",
              "    }\n",
              "  </style>\n",
              "\n",
              "      <script>\n",
              "        const buttonEl =\n",
              "          document.querySelector('#df-d335aeb0-31e8-4784-a28b-6540880bd66d button.colab-df-convert');\n",
              "        buttonEl.style.display =\n",
              "          google.colab.kernel.accessAllowed ? 'block' : 'none';\n",
              "\n",
              "        async function convertToInteractive(key) {\n",
              "          const element = document.querySelector('#df-d335aeb0-31e8-4784-a28b-6540880bd66d');\n",
              "          const dataTable =\n",
              "            await google.colab.kernel.invokeFunction('convertToInteractive',\n",
              "                                                     [key], {});\n",
              "          if (!dataTable) return;\n",
              "\n",
              "          const docLinkHtml = 'Like what you see? Visit the ' +\n",
              "            '<a target=\"_blank\" href=https://colab.research.google.com/notebooks/data_table.ipynb>data table notebook</a>'\n",
              "            + ' to learn more about interactive tables.';\n",
              "          element.innerHTML = '';\n",
              "          dataTable['output_type'] = 'display_data';\n",
              "          await google.colab.output.renderOutput(dataTable, element);\n",
              "          const docLink = document.createElement('div');\n",
              "          docLink.innerHTML = docLinkHtml;\n",
              "          element.appendChild(docLink);\n",
              "        }\n",
              "      </script>\n",
              "    </div>\n",
              "  </div>\n",
              "  "
            ]
          },
          "metadata": {},
          "execution_count": 4
        }
      ]
    },
    {
      "cell_type": "markdown",
      "source": [
        "##Check Missing Value"
      ],
      "metadata": {
        "id": "Jc6621-FfMLg"
      }
    },
    {
      "cell_type": "markdown",
      "source": [
        "Hal pertama yang harus dilakukan adalah mengecek missing value"
      ],
      "metadata": {
        "id": "C6nMEfG8iR9y"
      }
    },
    {
      "cell_type": "code",
      "source": [
        "#Check Missing Values Dan Tipe data yang tidak sama\n",
        "df.info()"
      ],
      "metadata": {
        "execution": {
          "iopub.status.busy": "2022-09-03T06:26:32.659584Z",
          "iopub.execute_input": "2022-09-03T06:26:32.660056Z",
          "iopub.status.idle": "2022-09-03T06:26:32.682941Z",
          "shell.execute_reply.started": "2022-09-03T06:26:32.660017Z",
          "shell.execute_reply": "2022-09-03T06:26:32.681488Z"
        },
        "trusted": true,
        "id": "VD1DGrFObiCo",
        "colab": {
          "base_uri": "https://localhost:8080/"
        },
        "outputId": "8c86283c-3a0f-491f-c070-ec3fa9b63103"
      },
      "execution_count": null,
      "outputs": [
        {
          "output_type": "stream",
          "name": "stdout",
          "text": [
            "<class 'pandas.core.frame.DataFrame'>\n",
            "RangeIndex: 768 entries, 0 to 767\n",
            "Data columns (total 9 columns):\n",
            " #   Column                    Non-Null Count  Dtype  \n",
            "---  ------                    --------------  -----  \n",
            " 0   Pregnancies               768 non-null    int64  \n",
            " 1   Glucose                   768 non-null    int64  \n",
            " 2   BloodPressure             768 non-null    int64  \n",
            " 3   SkinThickness             768 non-null    int64  \n",
            " 4   Insulin                   768 non-null    int64  \n",
            " 5   BMI                       768 non-null    float64\n",
            " 6   DiabetesPedigreeFunction  768 non-null    float64\n",
            " 7   Age                       768 non-null    int64  \n",
            " 8   Outcome                   768 non-null    int64  \n",
            "dtypes: float64(2), int64(7)\n",
            "memory usage: 54.1 KB\n"
          ]
        }
      ]
    },
    {
      "cell_type": "markdown",
      "source": [
        "Ternyata tidak ada missing value, namun tipe datanya masih belum sama"
      ],
      "metadata": {
        "id": "ajjqS29CibHk"
      }
    },
    {
      "cell_type": "markdown",
      "source": [
        "##Format Data Type"
      ],
      "metadata": {
        "id": "fNA711_hfRy6"
      }
    },
    {
      "cell_type": "markdown",
      "source": [
        "Untuk membuat tipe datanya menjadi sama semua maka dilakukan format data type"
      ],
      "metadata": {
        "id": "QJb9a-Vlig0h"
      }
    },
    {
      "cell_type": "code",
      "source": [
        "#Ubah semua kolom menjadi float\n",
        "df = df.astype(float)"
      ],
      "metadata": {
        "execution": {
          "iopub.status.busy": "2022-09-03T06:33:43.140009Z",
          "iopub.execute_input": "2022-09-03T06:33:43.140485Z",
          "iopub.status.idle": "2022-09-03T06:33:43.147996Z",
          "shell.execute_reply.started": "2022-09-03T06:33:43.140448Z",
          "shell.execute_reply": "2022-09-03T06:33:43.146103Z"
        },
        "trusted": true,
        "id": "6tDDMpzybiCo"
      },
      "execution_count": null,
      "outputs": []
    },
    {
      "cell_type": "code",
      "source": [
        "df.info()"
      ],
      "metadata": {
        "execution": {
          "iopub.status.busy": "2022-09-03T06:34:01.693237Z",
          "iopub.execute_input": "2022-09-03T06:34:01.693678Z",
          "iopub.status.idle": "2022-09-03T06:34:01.707766Z",
          "shell.execute_reply.started": "2022-09-03T06:34:01.693639Z",
          "shell.execute_reply": "2022-09-03T06:34:01.706127Z"
        },
        "trusted": true,
        "id": "0SmcDwDFbiCo",
        "colab": {
          "base_uri": "https://localhost:8080/"
        },
        "outputId": "eefaeacd-862b-4fab-cf15-8de2fca071e1"
      },
      "execution_count": null,
      "outputs": [
        {
          "output_type": "stream",
          "name": "stdout",
          "text": [
            "<class 'pandas.core.frame.DataFrame'>\n",
            "RangeIndex: 768 entries, 0 to 767\n",
            "Data columns (total 9 columns):\n",
            " #   Column                    Non-Null Count  Dtype  \n",
            "---  ------                    --------------  -----  \n",
            " 0   Pregnancies               768 non-null    float64\n",
            " 1   Glucose                   768 non-null    float64\n",
            " 2   BloodPressure             768 non-null    float64\n",
            " 3   SkinThickness             768 non-null    float64\n",
            " 4   Insulin                   768 non-null    float64\n",
            " 5   BMI                       768 non-null    float64\n",
            " 6   DiabetesPedigreeFunction  768 non-null    float64\n",
            " 7   Age                       768 non-null    float64\n",
            " 8   Outcome                   768 non-null    float64\n",
            "dtypes: float64(9)\n",
            "memory usage: 54.1 KB\n"
          ]
        }
      ]
    },
    {
      "cell_type": "markdown",
      "source": [
        "Setelah dilakukan format data type maka tipe data semuanya sudah sama"
      ],
      "metadata": {
        "id": "0SJyaUlbinx8"
      }
    },
    {
      "cell_type": "markdown",
      "source": [
        "##Handling Outlier"
      ],
      "metadata": {
        "id": "lHSBHrISfh40"
      }
    },
    {
      "cell_type": "markdown",
      "source": [
        "Kemudian kita melihat ada tidaknya outlier. Pada gambar di bawah terlihat bahwa terdapat banyak outlier. Maka diharuskan melakukan handling pada nilai outlier tersebut"
      ],
      "metadata": {
        "id": "zV4eykXhivD4"
      }
    },
    {
      "cell_type": "code",
      "source": [
        "# Cek outlier Box Plot\n",
        "fig, ax = plt.subplots(figsize=(30,30))\n",
        "sns.boxplot(data=df)"
      ],
      "metadata": {
        "execution": {
          "iopub.status.busy": "2022-09-03T06:41:09.314082Z",
          "iopub.execute_input": "2022-09-03T06:41:09.314496Z",
          "iopub.status.idle": "2022-09-03T06:41:10.174520Z",
          "shell.execute_reply.started": "2022-09-03T06:41:09.314462Z",
          "shell.execute_reply": "2022-09-03T06:41:10.173232Z"
        },
        "trusted": true,
        "id": "5aOXMOoebiCo",
        "colab": {
          "base_uri": "https://localhost:8080/",
          "height": 1000
        },
        "outputId": "9d6480d1-9547-454f-c764-9cef2fe6a46a"
      },
      "execution_count": null,
      "outputs": [
        {
          "output_type": "execute_result",
          "data": {
            "text/plain": [
              "<matplotlib.axes._subplots.AxesSubplot at 0x7f5721719bd0>"
            ]
          },
          "metadata": {},
          "execution_count": 6
        },
        {
          "output_type": "display_data",
          "data": {
            "text/plain": [
              "<Figure size 2160x2160 with 1 Axes>"
            ],
            "image/png": "[encoded data removed]"
          },
          "metadata": {
            "needs_background": "light"
          }
        }
      ]
    },
    {
      "cell_type": "code",
      "source": [
        "# Handling Outlier\n",
        "Q1 = (df[df.columns]).quantile(0.25)\n",
        "Q3 = (df[df.columns]).quantile(0.75)\n",
        "IQR = Q3 - Q1\n",
        "maximum = Q3 + (1.5*IQR)\n",
        "print('Nilai Maximum dari masing-masing Variable adalah: ')\n",
        "print(maximum)\n",
        "minimum = Q1 - (1.5*IQR)\n",
        "print('\\nNilai Minimum dari masing-masing Variable adalah: ')\n",
        "print(minimum)\n",
        "more_than = (df > maximum)\n",
        "lower_than = (df < minimum)\n",
        "\n",
        "df = df.mask(more_than, maximum, axis=1) #mask ini mengganti data yang di atas outlier menjadi data maximum sehingga datanya tidak hilang\n",
        "df = df.mask(lower_than, minimum, axis=1) #mask ini mengganti data yang di bawah outlier menjadi data minimum sehingga datanya tidak hilang\n",
        "\n",
        "print('\\nPersebaran data setelah ditangani Outlier: ')\n",
        "print(df[df.columns].describe())"
      ],
      "metadata": {
        "execution": {
          "iopub.status.busy": "2022-09-03T07:20:02.857547Z",
          "iopub.execute_input": "2022-09-03T07:20:02.858877Z",
          "iopub.status.idle": "2022-09-03T07:20:02.910720Z",
          "shell.execute_reply.started": "2022-09-03T07:20:02.858822Z",
          "shell.execute_reply": "2022-09-03T07:20:02.909710Z"
        },
        "trusted": true,
        "id": "JN3M2adzbiCp",
        "colab": {
          "base_uri": "https://localhost:8080/"
        },
        "outputId": "07857ffd-e8a7-4d65-eacb-2609608f5927"
      },
      "execution_count": null,
      "outputs": [
        {
          "output_type": "stream",
          "name": "stdout",
          "text": [
            "Nilai Maximum dari masing-masing Variable adalah: \n",
            "Pregnancies                  13.500\n",
            "Glucose                     202.125\n",
            "BloodPressure               107.000\n",
            "SkinThickness                80.000\n",
            "Insulin                     318.125\n",
            "BMI                          50.550\n",
            "DiabetesPedigreeFunction      1.200\n",
            "Age                          66.500\n",
            "Outcome                       2.500\n",
            "dtype: float64\n",
            "\n",
            "Nilai Minimum dari masing-masing Variable adalah: \n",
            "Pregnancies                  -6.500\n",
            "Glucose                      37.125\n",
            "BloodPressure                35.000\n",
            "SkinThickness               -48.000\n",
            "Insulin                    -190.875\n",
            "BMI                          13.350\n",
            "DiabetesPedigreeFunction     -0.330\n",
            "Age                          -1.500\n",
            "Outcome                      -1.500\n",
            "dtype: float64\n",
            "\n",
            "Persebaran data setelah ditangani Outlier: \n",
            "       Pregnancies     Glucose  BloodPressure  SkinThickness     Insulin  \\\n",
            "count   768.000000  768.000000     768.000000     768.000000  768.000000   \n",
            "mean      3.837240  121.136230      70.684896      20.511719   73.652669   \n",
            "std       3.344157   31.187468      14.197239      15.844744   93.576029   \n",
            "min       0.000000   37.125000      35.000000       0.000000    0.000000   \n",
            "25%       1.000000   99.000000      62.000000       0.000000    0.000000   \n",
            "50%       3.000000  117.000000      72.000000      23.000000   30.500000   \n",
            "75%       6.000000  140.250000      80.000000      32.000000  127.250000   \n",
            "max      13.500000  199.000000     107.000000      80.000000  318.125000   \n",
            "\n",
            "              BMI  DiabetesPedigreeFunction         Age     Outcome  \n",
            "count  768.000000                768.000000  768.000000  768.000000  \n",
            "mean    32.125065                  0.458914   33.199870    0.348958  \n",
            "std      7.049584                  0.285596   11.628404    0.476951  \n",
            "min     13.350000                  0.078000   21.000000    0.000000  \n",
            "25%     27.300000                  0.243750   24.000000    0.000000  \n",
            "50%     32.000000                  0.372500   29.000000    0.000000  \n",
            "75%     36.600000                  0.626250   41.000000    1.000000  \n",
            "max     50.550000                  1.200000   66.500000    1.000000  \n"
          ]
        }
      ]
    },
    {
      "cell_type": "markdown",
      "source": [
        "Step ini dilakukan untuk menghandle Outlier dengan cara melakukan fungsi mask ke dalam dataset kita. Data di mana lebih dari nilai outlier maka akan diganti menjadi nilai maximum. Sebalikanya Data di mana lebih kecil dari nilai outlier maka akan diganti menjadi nilai minimum."
      ],
      "metadata": {
        "id": "PipIxXVDjKZi"
      }
    },
    {
      "cell_type": "code",
      "source": [
        "# Cek kembali outlier Box Plot\n",
        "fig, ax = plt.subplots(figsize=(30,30))\n",
        "sns.boxplot(data=df)"
      ],
      "metadata": {
        "execution": {
          "iopub.status.busy": "2022-09-03T07:08:37.102819Z",
          "iopub.execute_input": "2022-09-03T07:08:37.103359Z",
          "iopub.status.idle": "2022-09-03T07:08:37.578898Z",
          "shell.execute_reply.started": "2022-09-03T07:08:37.103312Z",
          "shell.execute_reply": "2022-09-03T07:08:37.577497Z"
        },
        "trusted": true,
        "id": "EQjUmvLebiCp",
        "colab": {
          "base_uri": "https://localhost:8080/",
          "height": 1000
        },
        "outputId": "9c1432dd-3a6e-425b-a958-e41054b6f0df"
      },
      "execution_count": null,
      "outputs": [
        {
          "output_type": "execute_result",
          "data": {
            "text/plain": [
              "<matplotlib.axes._subplots.AxesSubplot at 0x7f57210f38d0>"
            ]
          },
          "metadata": {},
          "execution_count": 8
        },
        {
          "output_type": "display_data",
          "data": {
            "text/plain": [
              "<Figure size 2160x2160 with 1 Axes>"
            ],
            "image/png": "[encoded data removed]"
          },
          "metadata": {
            "needs_background": "light"
          }
        }
      ]
    },
    {
      "cell_type": "markdown",
      "source": [
        "Setelah kita handling Outlier, dapat dilihat gambar di atas bahwa sudah tidak ada nilai-nilai yang outlier."
      ],
      "metadata": {
        "id": "wMTpYwBfi8-I"
      }
    },
    {
      "cell_type": "markdown",
      "source": [
        "##Check Imbalance Data"
      ],
      "metadata": {
        "id": "xOKvJ5hlf9dV"
      }
    },
    {
      "cell_type": "markdown",
      "source": [
        "Selanjutnya kita melihat apakah ada tidaknya imbalance data pada dataset "
      ],
      "metadata": {
        "id": "_lSaRI0Fj9tl"
      }
    },
    {
      "cell_type": "code",
      "source": [
        "# # Observe imbalance data here \n",
        "# plt.figure(figsize=(8,6))\n",
        "# sns.countplot(df.Outcome)\n",
        "\n",
        "ax = sns.countplot(x=\"Outcome\", data=df)\n",
        "plt.title(\"Outcome\")\n",
        "\n",
        "for p in ax.patches: #Add data label\n",
        "   ax.annotate('{:.0f}'.format(p.get_height()), (p.get_x()+0.25, p.get_height()+0.01))\n",
        "plt.show()"
      ],
      "metadata": {
        "execution": {
          "iopub.status.busy": "2022-09-03T07:24:05.006283Z",
          "iopub.execute_input": "2022-09-03T07:24:05.006779Z",
          "iopub.status.idle": "2022-09-03T07:24:05.573483Z",
          "shell.execute_reply.started": "2022-09-03T07:24:05.006720Z",
          "shell.execute_reply": "2022-09-03T07:24:05.572238Z"
        },
        "trusted": true,
        "id": "IqMCiZ08biCp",
        "colab": {
          "base_uri": "https://localhost:8080/",
          "height": 295
        },
        "outputId": "d9de7634-7f9c-48df-cf39-83a684031112"
      },
      "execution_count": null,
      "outputs": [
        {
          "output_type": "display_data",
          "data": {
            "text/plain": [
              "<Figure size 432x288 with 1 Axes>"
            ],
            "image/png": "[encoded data removed]"
          },
          "metadata": {
            "needs_background": "light"
          }
        }
      ]
    },
    {
      "cell_type": "markdown",
      "source": [
        "##Creating Correlation Matrix"
      ],
      "metadata": {
        "id": "OQEGrLRggEWR"
      }
    },
    {
      "cell_type": "markdown",
      "source": [
        "Langkah terakhir kita melihat correlation matrix untuk melihat korelasi antar feature"
      ],
      "metadata": {
        "id": "XGapD58jkLg9"
      }
    },
    {
      "cell_type": "code",
      "source": [
        "# Create correlation matrix\n",
        "corr_matrix = df.corr().abs()\n",
        "\n",
        "# Select upper triangle of correlation matrix\n",
        "upper = corr_matrix.where(np.triu(np.ones(corr_matrix.shape), k=1).astype(np.bool))\n",
        "\n",
        "plt.figure(figsize=(20,20))\n",
        "sns.heatmap(upper, annot=True, cmap='Blues')"
      ],
      "metadata": {
        "execution": {
          "iopub.status.busy": "2022-09-03T07:25:05.615988Z",
          "iopub.execute_input": "2022-09-03T07:25:05.616421Z",
          "iopub.status.idle": "2022-09-03T07:25:06.260472Z",
          "shell.execute_reply.started": "2022-09-03T07:25:05.616387Z",
          "shell.execute_reply": "2022-09-03T07:25:06.259231Z"
        },
        "trusted": true,
        "id": "a8UqLwTibiCq",
        "colab": {
          "base_uri": "https://localhost:8080/",
          "height": 1000
        },
        "outputId": "d33118d1-e8df-4347-a13f-3b1fabd53b66"
      },
      "execution_count": null,
      "outputs": [
        {
          "output_type": "execute_result",
          "data": {
            "text/plain": [
              "<matplotlib.axes._subplots.AxesSubplot at 0x7f5720fc3dd0>"
            ]
          },
          "metadata": {},
          "execution_count": 14
        },
        {
          "output_type": "display_data",
          "data": {
            "text/plain": [
              "<Figure size 1440x1440 with 2 Axes>"
            ],
            "image/png": "[encoded data removed]"
          },
          "metadata": {
            "needs_background": "light"
          }
        }
      ]
    },
    {
      "cell_type": "code",
      "source": [
        "plt.figure(figsize=(6,10))\n",
        "sns.heatmap(corr_matrix[['Outcome']].sort_values(by=['Outcome'],ascending=False,),annot=True)"
      ],
      "metadata": {
        "colab": {
          "base_uri": "https://localhost:8080/",
          "height": 613
        },
        "id": "_z5nOpoRbr89",
        "outputId": "c192bb5d-2721-4016-b5c8-6743af0808e0"
      },
      "execution_count": null,
      "outputs": [
        {
          "output_type": "execute_result",
          "data": {
            "text/plain": [
              "<matplotlib.axes._subplots.AxesSubplot at 0x7f571e434f90>"
            ]
          },
          "metadata": {},
          "execution_count": 15
        },
        {
          "output_type": "display_data",
          "data": {
            "text/plain": [
              "<Figure size 432x720 with 2 Axes>"
            ],
            "image/png": "[encoded data removed]"
          },
          "metadata": {
            "needs_background": "light"
          }
        }
      ]
    },
    {
      "cell_type": "code",
      "source": [
        "#Jika ada data berkorelasi tinggi, maka drop salah satu kolom,\n",
        "#misal Pregnancies dan Age berkorelasi tinggi maka salah satu didrop"
      ],
      "metadata": {
        "id": "2faZe-IPbiCq"
      },
      "execution_count": null,
      "outputs": []
    },
    {
      "cell_type": "markdown",
      "source": [
        "#Machine Learning Model"
      ],
      "metadata": {
        "id": "vviBD9fmgMkG"
      }
    },
    {
      "cell_type": "markdown",
      "source": [
        "Sekarang kita masuk ke dalam pemodelan machine learning"
      ],
      "metadata": {
        "id": "39akaQ7OkXeh"
      }
    },
    {
      "cell_type": "markdown",
      "source": [
        "## Split X and Y Variable"
      ],
      "metadata": {
        "id": "s_PxFlR0gTfC"
      }
    },
    {
      "cell_type": "markdown",
      "source": [
        "Kita harus memisahkan mana data X yang merupakan Feature dan juga Y yang merupakan target"
      ],
      "metadata": {
        "id": "fRC_6_I0kcIf"
      }
    },
    {
      "cell_type": "code",
      "source": [
        "# Memisahkan mana X dan mana y\n",
        "y= df['Outcome']\n",
        "X= df.drop(['Outcome'],1)"
      ],
      "metadata": {
        "execution": {
          "iopub.status.busy": "2022-09-03T07:34:34.497699Z",
          "iopub.execute_input": "2022-09-03T07:34:34.498232Z",
          "iopub.status.idle": "2022-09-03T07:34:34.521613Z",
          "shell.execute_reply.started": "2022-09-03T07:34:34.498191Z",
          "shell.execute_reply": "2022-09-03T07:34:34.520364Z"
        },
        "trusted": true,
        "id": "8Js4INKWbiCq"
      },
      "execution_count": null,
      "outputs": []
    },
    {
      "cell_type": "code",
      "source": [
        "X.head()"
      ],
      "metadata": {
        "colab": {
          "base_uri": "https://localhost:8080/",
          "height": 206
        },
        "id": "_LdefFz11NEJ",
        "outputId": "83a90a5f-9c4c-47a4-a657-870e616c46c2"
      },
      "execution_count": null,
      "outputs": [
        {
          "output_type": "execute_result",
          "data": {
            "text/plain": [
              "   Pregnancies  Glucose  BloodPressure  SkinThickness  Insulin   BMI  \\\n",
              "0            6      148             72             35        0  33.6   \n",
              "1            1       85             66             29        0  26.6   \n",
              "2            8      183             64              0        0  23.3   \n",
              "3            1       89             66             23       94  28.1   \n",
              "4            0      137             40             35      168  43.1   \n",
              "\n",
              "   DiabetesPedigreeFunction  Age  \n",
              "0                     0.627   50  \n",
              "1                     0.351   31  \n",
              "2                     0.672   32  \n",
              "3                     0.167   21  \n",
              "4                     2.288   33  "
            ],
            "text/html": [
              "\n",
              "  <div id=\"df-9161983a-aba6-40c7-bf6e-99725c6fa4fb\">\n",
              "    <div class=\"colab-df-container\">\n",
              "      <div>\n",
              "<style scoped>\n",
              "    .dataframe tbody tr th:only-of-type {\n",
              "        vertical-align: middle;\n",
              "    }\n",
              "\n",
              "    .dataframe tbody tr th {\n",
              "        vertical-align: top;\n",
              "    }\n",
              "\n",
              "    .dataframe thead th {\n",
              "        text-align: right;\n",
              "    }\n",
              "</style>\n",
              "<table border=\"1\" class=\"dataframe\">\n",
              "  <thead>\n",
              "    <tr style=\"text-align: right;\">\n",
              "      <th></th>\n",
              "      <th>Pregnancies</th>\n",
              "      <th>Glucose</th>\n",
              "      <th>BloodPressure</th>\n",
              "      <th>SkinThickness</th>\n",
              "      <th>Insulin</th>\n",
              "      <th>BMI</th>\n",
              "      <th>DiabetesPedigreeFunction</th>\n",
              "      <th>Age</th>\n",
              "    </tr>\n",
              "  </thead>\n",
              "  <tbody>\n",
              "    <tr>\n",
              "      <th>0</th>\n",
              "      <td>6</td>\n",
              "      <td>148</td>\n",
              "      <td>72</td>\n",
              "      <td>35</td>\n",
              "      <td>0</td>\n",
              "      <td>33.6</td>\n",
              "      <td>0.627</td>\n",
              "      <td>50</td>\n",
              "    </tr>\n",
              "    <tr>\n",
              "      <th>1</th>\n",
              "      <td>1</td>\n",
              "      <td>85</td>\n",
              "      <td>66</td>\n",
              "      <td>29</td>\n",
              "      <td>0</td>\n",
              "      <td>26.6</td>\n",
              "      <td>0.351</td>\n",
              "      <td>31</td>\n",
              "    </tr>\n",
              "    <tr>\n",
              "      <th>2</th>\n",
              "      <td>8</td>\n",
              "      <td>183</td>\n",
              "      <td>64</td>\n",
              "      <td>0</td>\n",
              "      <td>0</td>\n",
              "      <td>23.3</td>\n",
              "      <td>0.672</td>\n",
              "      <td>32</td>\n",
              "    </tr>\n",
              "    <tr>\n",
              "      <th>3</th>\n",
              "      <td>1</td>\n",
              "      <td>89</td>\n",
              "      <td>66</td>\n",
              "      <td>23</td>\n",
              "      <td>94</td>\n",
              "      <td>28.1</td>\n",
              "      <td>0.167</td>\n",
              "      <td>21</td>\n",
              "    </tr>\n",
              "    <tr>\n",
              "      <th>4</th>\n",
              "      <td>0</td>\n",
              "      <td>137</td>\n",
              "      <td>40</td>\n",
              "      <td>35</td>\n",
              "      <td>168</td>\n",
              "      <td>43.1</td>\n",
              "      <td>2.288</td>\n",
              "      <td>33</td>\n",
              "    </tr>\n",
              "  </tbody>\n",
              "</table>\n",
              "</div>\n",
              "      <button class=\"colab-df-convert\" onclick=\"convertToInteractive('df-9161983a-aba6-40c7-bf6e-99725c6fa4fb')\"\n",
              "              title=\"Convert this dataframe to an interactive table.\"\n",
              "              style=\"display:none;\">\n",
              "        \n",
              "  <svg xmlns=\"http://www.w3.org/2000/svg\" height=\"24px\"viewBox=\"0 0 24 24\"\n",
              "       width=\"24px\">\n",
              "    <path d=\"M0 0h24v24H0V0z\" fill=\"none\"/>\n",
              "    <path d=\"M18.56 5.44l.94 2.06.94-2.06 2.06-.94-2.06-.94-.94-2.06-.94 2.06-2.06.94zm-11 1L8.5 8.5l.94-2.06 2.06-.94-2.06-.94L8.5 2.5l-.94 2.06-2.06.94zm10 10l.94 2.06.94-2.06 2.06-.94-2.06-.94-.94-2.06-.94 2.06-2.06.94z\"/><path d=\"M17.41 7.96l-1.37-1.37c-.4-.4-.92-.59-1.43-.59-.52 0-1.04.2-1.43.59L10.3 9.45l-7.72 7.72c-.78.78-.78 2.05 0 2.83L4 21.41c.39.39.9.59 1.41.59.51 0 1.02-.2 1.41-.59l7.78-7.78 2.81-2.81c.8-.78.8-2.07 0-2.86zM5.41 20L4 18.59l7.72-7.72 1.47 1.35L5.41 20z\"/>\n",
              "  </svg>\n",
              "      </button>\n",
              "      \n",
              "  <style>\n",
              "    .colab-df-container {\n",
              "      display:flex;\n",
              "      flex-wrap:wrap;\n",
              "      gap: 12px;\n",
              "    }\n",
              "\n",
              "    .colab-df-convert {\n",
              "      background-color: #E8F0FE;\n",
              "      border: none;\n",
              "      border-radius: 50%;\n",
              "      cursor: pointer;\n",
              "      display: none;\n",
              "      fill: #1967D2;\n",
              "      height: 32px;\n",
              "      padding: 0 0 0 0;\n",
              "      width: 32px;\n",
              "    }\n",
              "\n",
              "    .colab-df-convert:hover {\n",
              "      background-color: #E2EBFA;\n",
              "      box-shadow: 0px 1px 2px rgba(60, 64, 67, 0.3), 0px 1px 3px 1px rgba(60, 64, 67, 0.15);\n",
              "      fill: #174EA6;\n",
              "    }\n",
              "\n",
              "    [theme=dark] .colab-df-convert {\n",
              "      background-color: #3B4455;\n",
              "      fill: #D2E3FC;\n",
              "    }\n",
              "\n",
              "    [theme=dark] .colab-df-convert:hover {\n",
              "      background-color: #434B5C;\n",
              "      box-shadow: 0px 1px 3px 1px rgba(0, 0, 0, 0.15);\n",
              "      filter: drop-shadow(0px 1px 2px rgba(0, 0, 0, 0.3));\n",
              "      fill: #FFFFFF;\n",
              "    }\n",
              "  </style>\n",
              "\n",
              "      <script>\n",
              "        const buttonEl =\n",
              "          document.querySelector('#df-9161983a-aba6-40c7-bf6e-99725c6fa4fb button.colab-df-convert');\n",
              "        buttonEl.style.display =\n",
              "          google.colab.kernel.accessAllowed ? 'block' : 'none';\n",
              "\n",
              "        async function convertToInteractive(key) {\n",
              "          const element = document.querySelector('#df-9161983a-aba6-40c7-bf6e-99725c6fa4fb');\n",
              "          const dataTable =\n",
              "            await google.colab.kernel.invokeFunction('convertToInteractive',\n",
              "                                                     [key], {});\n",
              "          if (!dataTable) return;\n",
              "\n",
              "          const docLinkHtml = 'Like what you see? Visit the ' +\n",
              "            '<a target=\"_blank\" href=https://colab.research.google.com/notebooks/data_table.ipynb>data table notebook</a>'\n",
              "            + ' to learn more about interactive tables.';\n",
              "          element.innerHTML = '';\n",
              "          dataTable['output_type'] = 'display_data';\n",
              "          await google.colab.output.renderOutput(dataTable, element);\n",
              "          const docLink = document.createElement('div');\n",
              "          docLink.innerHTML = docLinkHtml;\n",
              "          element.appendChild(docLink);\n",
              "        }\n",
              "      </script>\n",
              "    </div>\n",
              "  </div>\n",
              "  "
            ]
          },
          "metadata": {},
          "execution_count": 6
        }
      ]
    },
    {
      "cell_type": "code",
      "source": [
        "y.head()"
      ],
      "metadata": {
        "colab": {
          "base_uri": "https://localhost:8080/"
        },
        "id": "utMLyduA1PHs",
        "outputId": "d021ecdc-1a52-4710-fd5a-48c9bd71befa"
      },
      "execution_count": null,
      "outputs": [
        {
          "output_type": "execute_result",
          "data": {
            "text/plain": [
              "0    1\n",
              "1    0\n",
              "2    1\n",
              "3    0\n",
              "4    1\n",
              "Name: Outcome, dtype: int64"
            ]
          },
          "metadata": {},
          "execution_count": 7
        }
      ]
    },
    {
      "cell_type": "markdown",
      "source": [
        "##Creating Model"
      ],
      "metadata": {
        "id": "PsGR2NWEgltT"
      }
    },
    {
      "cell_type": "markdown",
      "source": [
        "Selanjutnya adalah kita mencoba membuat dengan berbagai macam model machine learning"
      ],
      "metadata": {
        "id": "bYsBOEWmkiyM"
      }
    },
    {
      "cell_type": "code",
      "source": [
        "# Modelling Algorithms\n",
        "\n",
        "kf = StratifiedKFold(n_splits=5,shuffle=True,random_state=42)\n",
        "\n",
        "## Collect all model in one list\n",
        "all_model = [DecisionTreeClassifier,\n",
        "            LogisticRegression,\n",
        "             KNeighborsClassifier,\n",
        "             GaussianNB,\n",
        "            SVC,\n",
        "            LinearSVC,\n",
        "            RandomForestClassifier,\n",
        "            GradientBoostingClassifier,\n",
        "            ExtraTreesClassifier,\n",
        "             XGBClassifier]\n",
        "\n",
        "model_name = ['DecisionTreeClassifier',\n",
        "            'LogisticRegression',\n",
        "             'KNeighborsClassifier',\n",
        "             'GaussianNB',\n",
        "            'SVC',\n",
        "            'LinearSVC',\n",
        "            'RandomForestClassifier',\n",
        "            'GradientBoostingClassifier',\n",
        "            'ExtraTreesClassifier',\n",
        "             'XGBClassifier']\n",
        "## loop for all model\n",
        "\n",
        "datatr = []\n",
        "datasc = []\n",
        "Recall =[]\n",
        "Precision =[]\n",
        "auc =[]\n",
        "\n",
        "for idx, model_type in enumerate(all_model):\n",
        "    num = 1\n",
        "    AccTrain = []\n",
        "    AccTest = []\n",
        "    RecallTemp = []\n",
        "    PrecisionTemp = []\n",
        "    AucTemp = []\n",
        "    nfold = 1\n",
        "    for train_index,test_index in kf.split(X,y): \n",
        "\n",
        "        print(\"----------BEFORE------------\")\n",
        "        print(\"{} Acc Train: {}, {} of KFold {}\".format(model_name[idx], AccTrain, nfold, kf.n_splits))\n",
        "        print(\"{} Acc Test: {}, {} of KFold {}\".format(model_name[idx], AccTest, nfold, kf.n_splits))\n",
        "        print(\"{} Recall: {}, {} of KFold {}\".format(model_name[idx], RecallTemp, nfold, kf.n_splits))\n",
        "        print(\"{} Precission: {}, {} of KFold {}\".format(model_name[idx], PrecisionTemp, nfold, kf.n_splits))\n",
        "        print(\"{} AUC: {}, {} of KFold {}\".format(model_name[idx], AucTemp, nfold, kf.n_splits))\n",
        "        print(\"---------------------------\")\n",
        "        \n",
        "        X_train, X_test = X.loc[train_index], X.loc[test_index]\n",
        "        y_train, y_test = y.loc[train_index], y.loc[test_index]\n",
        "        \n",
        "        model = model_type()\n",
        "        model.fit(X_train,y_train)\n",
        "        y_pred=model.predict(X_test)\n",
        "        \n",
        "        AccTrain.append(model.score(X_train , y_train))\n",
        "        AccTest.append(model.score(X_test , y_test))\n",
        "        RecallTemp.append(recall_score(y_test,y_pred))\n",
        "        PrecisionTemp.append(precision_score(y_test,y_pred))\n",
        "        AucTemp.append(roc_auc_score(y_test, y_pred))\n",
        "        \n",
        "        print(\"----------AFTER------------\")\n",
        "        print(\"{} Acc Train: {}, {} of KFold {}\".format(model_name[idx], AccTrain, nfold, kf.n_splits))\n",
        "        print(\"{} Acc Test: {}, {} of KFold {}\".format(model_name[idx], AccTest, nfold, kf.n_splits))\n",
        "        print(\"{} Recall: {}, {} of KFold {}\".format(model_name[idx], RecallTemp, nfold, kf.n_splits))\n",
        "        print(\"{} Precission: {}, {} of KFold {}\".format(model_name[idx], PrecisionTemp, nfold, kf.n_splits))\n",
        "        print(\"{} AUC: {}, {} of KFold {}\".format(model_name[idx], AucTemp, nfold, kf.n_splits))\n",
        "        print(\"---------------------------\")\n",
        "        \n",
        "        nfold += 1\n",
        "    \n",
        "    print(\"----------FINAL------------\")\n",
        "    print(\"{} Acc Train: {}\".format(model_name[idx], np.mean(AccTrain)))\n",
        "    print(\"{} Acc Test: {}\".format(model_name[idx], np.mean(AccTest)))\n",
        "    print(\"{} Recall: {}\".format(model_name[idx], np.mean(RecallTemp)))\n",
        "    print(\"{} Precission: {}\".format(model_name[idx], np.mean(PrecisionTemp)))\n",
        "    print(\"{} AUC: {}\".format(model_name[idx], np.mean(AucTemp)))\n",
        "    print(\"---------------------------\")\n",
        "    datatr.append(np.mean(AccTrain))\n",
        "    datasc.append(np.mean(AccTest))\n",
        "    Recall.append(np.mean(RecallTemp))\n",
        "    Precision.append(np.mean(PrecisionTemp))\n",
        "    auc.append(np.mean(AucTemp))"
      ],
      "metadata": {
        "execution": {
          "iopub.status.busy": "2022-09-03T07:36:35.566430Z",
          "iopub.execute_input": "2022-09-03T07:36:35.566937Z",
          "iopub.status.idle": "2022-09-03T07:36:41.777459Z",
          "shell.execute_reply.started": "2022-09-03T07:36:35.566898Z",
          "shell.execute_reply": "2022-09-03T07:36:41.776497Z"
        },
        "trusted": true,
        "id": "VAiZjXbVbiCq",
        "colab": {
          "base_uri": "https://localhost:8080/"
        },
        "outputId": "fae28433-c53d-449f-c260-4b0e039d762f"
      },
      "execution_count": null,
      "outputs": [
        {
          "output_type": "stream",
          "name": "stdout",
          "text": [
            "----------BEFORE------------\n",
            "DecisionTreeClassifier Acc Train: [], 1 of KFold 5\n",
            "DecisionTreeClassifier Acc Test: [], 1 of KFold 5\n",
            "DecisionTreeClassifier Recall: [], 1 of KFold 5\n",
            "DecisionTreeClassifier Precission: [], 1 of KFold 5\n",
            "DecisionTreeClassifier AUC: [], 1 of KFold 5\n",
            "---------------------------\n",
            "----------AFTER------------\n",
            "DecisionTreeClassifier Acc Train: [1.0], 1 of KFold 5\n",
            "DecisionTreeClassifier Acc Test: [0.6883116883116883], 1 of KFold 5\n",
            "DecisionTreeClassifier Recall: [0.5925925925925926], 1 of KFold 5\n",
            "DecisionTreeClassifier Precission: [0.5517241379310345], 1 of KFold 5\n",
            "DecisionTreeClassifier AUC: [0.6662962962962963], 1 of KFold 5\n",
            "---------------------------\n",
            "----------BEFORE------------\n",
            "DecisionTreeClassifier Acc Train: [1.0], 2 of KFold 5\n",
            "DecisionTreeClassifier Acc Test: [0.6883116883116883], 2 of KFold 5\n",
            "DecisionTreeClassifier Recall: [0.5925925925925926], 2 of KFold 5\n",
            "DecisionTreeClassifier Precission: [0.5517241379310345], 2 of KFold 5\n",
            "DecisionTreeClassifier AUC: [0.6662962962962963], 2 of KFold 5\n",
            "---------------------------\n",
            "----------AFTER------------\n",
            "DecisionTreeClassifier Acc Train: [1.0, 1.0], 2 of KFold 5\n",
            "DecisionTreeClassifier Acc Test: [0.6883116883116883, 0.7207792207792207], 2 of KFold 5\n",
            "DecisionTreeClassifier Recall: [0.5925925925925926, 0.5370370370370371], 2 of KFold 5\n",
            "DecisionTreeClassifier Precission: [0.5517241379310345, 0.6170212765957447], 2 of KFold 5\n",
            "DecisionTreeClassifier AUC: [0.6662962962962963, 0.6785185185185186], 2 of KFold 5\n",
            "---------------------------\n",
            "----------BEFORE------------\n",
            "DecisionTreeClassifier Acc Train: [1.0, 1.0], 3 of KFold 5\n",
            "DecisionTreeClassifier Acc Test: [0.6883116883116883, 0.7207792207792207], 3 of KFold 5\n",
            "DecisionTreeClassifier Recall: [0.5925925925925926, 0.5370370370370371], 3 of KFold 5\n",
            "DecisionTreeClassifier Precission: [0.5517241379310345, 0.6170212765957447], 3 of KFold 5\n",
            "DecisionTreeClassifier AUC: [0.6662962962962963, 0.6785185185185186], 3 of KFold 5\n",
            "---------------------------\n",
            "----------AFTER------------\n",
            "DecisionTreeClassifier Acc Train: [1.0, 1.0, 1.0], 3 of KFold 5\n",
            "DecisionTreeClassifier Acc Test: [0.6883116883116883, 0.7207792207792207, 0.7207792207792207], 3 of KFold 5\n",
            "DecisionTreeClassifier Recall: [0.5925925925925926, 0.5370370370370371, 0.5925925925925926], 3 of KFold 5\n",
            "DecisionTreeClassifier Precission: [0.5517241379310345, 0.6170212765957447, 0.6037735849056604], 3 of KFold 5\n",
            "DecisionTreeClassifier AUC: [0.6662962962962963, 0.6785185185185186, 0.6912962962962963], 3 of KFold 5\n",
            "---------------------------\n",
            "----------BEFORE------------\n",
            "DecisionTreeClassifier Acc Train: [1.0, 1.0, 1.0], 4 of KFold 5\n",
            "DecisionTreeClassifier Acc Test: [0.6883116883116883, 0.7207792207792207, 0.7207792207792207], 4 of KFold 5\n",
            "DecisionTreeClassifier Recall: [0.5925925925925926, 0.5370370370370371, 0.5925925925925926], 4 of KFold 5\n",
            "DecisionTreeClassifier Precission: [0.5517241379310345, 0.6170212765957447, 0.6037735849056604], 4 of KFold 5\n",
            "DecisionTreeClassifier AUC: [0.6662962962962963, 0.6785185185185186, 0.6912962962962963], 4 of KFold 5\n",
            "---------------------------\n",
            "----------AFTER------------\n",
            "DecisionTreeClassifier Acc Train: [1.0, 1.0, 1.0, 1.0], 4 of KFold 5\n",
            "DecisionTreeClassifier Acc Test: [0.6883116883116883, 0.7207792207792207, 0.7207792207792207, 0.7320261437908496], 4 of KFold 5\n",
            "DecisionTreeClassifier Recall: [0.5925925925925926, 0.5370370370370371, 0.5925925925925926, 0.5849056603773585], 4 of KFold 5\n",
            "DecisionTreeClassifier Precission: [0.5517241379310345, 0.6170212765957447, 0.6037735849056604, 0.62], 4 of KFold 5\n",
            "DecisionTreeClassifier AUC: [0.6662962962962963, 0.6785185185185186, 0.6912962962962963, 0.6974528301886793], 4 of KFold 5\n",
            "---------------------------\n",
            "----------BEFORE------------\n",
            "DecisionTreeClassifier Acc Train: [1.0, 1.0, 1.0, 1.0], 5 of KFold 5\n",
            "DecisionTreeClassifier Acc Test: [0.6883116883116883, 0.7207792207792207, 0.7207792207792207, 0.7320261437908496], 5 of KFold 5\n",
            "DecisionTreeClassifier Recall: [0.5925925925925926, 0.5370370370370371, 0.5925925925925926, 0.5849056603773585], 5 of KFold 5\n",
            "DecisionTreeClassifier Precission: [0.5517241379310345, 0.6170212765957447, 0.6037735849056604, 0.62], 5 of KFold 5\n",
            "DecisionTreeClassifier AUC: [0.6662962962962963, 0.6785185185185186, 0.6912962962962963, 0.6974528301886793], 5 of KFold 5\n",
            "---------------------------\n",
            "----------AFTER------------\n",
            "DecisionTreeClassifier Acc Train: [1.0, 1.0, 1.0, 1.0, 1.0], 5 of KFold 5\n",
            "DecisionTreeClassifier Acc Test: [0.6883116883116883, 0.7207792207792207, 0.7207792207792207, 0.7320261437908496, 0.6013071895424836], 5 of KFold 5\n",
            "DecisionTreeClassifier Recall: [0.5925925925925926, 0.5370370370370371, 0.5925925925925926, 0.5849056603773585, 0.5094339622641509], 5 of KFold 5\n",
            "DecisionTreeClassifier Precission: [0.5517241379310345, 0.6170212765957447, 0.6037735849056604, 0.62, 0.43548387096774194], 5 of KFold 5\n",
            "DecisionTreeClassifier AUC: [0.6662962962962963, 0.6785185185185186, 0.6912962962962963, 0.6974528301886793, 0.5797169811320755], 5 of KFold 5\n",
            "---------------------------\n",
            "----------FINAL------------\n",
            "DecisionTreeClassifier Acc Train: 1.0\n",
            "DecisionTreeClassifier Acc Test: 0.6926406926406927\n",
            "DecisionTreeClassifier Recall: 0.5633123689727464\n",
            "DecisionTreeClassifier Precission: 0.5656005740800363\n",
            "DecisionTreeClassifier AUC: 0.6626561844863732\n",
            "---------------------------\n",
            "----------BEFORE------------\n",
            "LogisticRegression Acc Train: [], 1 of KFold 5\n",
            "LogisticRegression Acc Test: [], 1 of KFold 5\n",
            "LogisticRegression Recall: [], 1 of KFold 5\n",
            "LogisticRegression Precission: [], 1 of KFold 5\n",
            "LogisticRegression AUC: [], 1 of KFold 5\n",
            "---------------------------\n",
            "----------AFTER------------\n",
            "LogisticRegression Acc Train: [0.7850162866449512], 1 of KFold 5\n",
            "LogisticRegression Acc Test: [0.7792207792207793], 1 of KFold 5\n",
            "LogisticRegression Recall: [0.5555555555555556], 1 of KFold 5\n",
            "LogisticRegression Precission: [0.75], 1 of KFold 5\n",
            "LogisticRegression AUC: [0.7277777777777779], 1 of KFold 5\n",
            "---------------------------\n",
            "----------BEFORE------------\n",
            "LogisticRegression Acc Train: [0.7850162866449512], 2 of KFold 5\n",
            "LogisticRegression Acc Test: [0.7792207792207793], 2 of KFold 5\n",
            "LogisticRegression Recall: [0.5555555555555556], 2 of KFold 5\n",
            "LogisticRegression Precission: [0.75], 2 of KFold 5\n",
            "LogisticRegression AUC: [0.7277777777777779], 2 of KFold 5\n",
            "---------------------------\n",
            "----------AFTER------------\n",
            "LogisticRegression Acc Train: [0.7850162866449512, 0.7736156351791531], 2 of KFold 5\n",
            "LogisticRegression Acc Test: [0.7792207792207793, 0.7857142857142857], 2 of KFold 5\n",
            "LogisticRegression Recall: [0.5555555555555556, 0.5555555555555556], 2 of KFold 5\n",
            "LogisticRegression Precission: [0.75, 0.7692307692307693], 2 of KFold 5\n",
            "LogisticRegression AUC: [0.7277777777777779, 0.7327777777777779], 2 of KFold 5\n",
            "---------------------------\n",
            "----------BEFORE------------\n",
            "LogisticRegression Acc Train: [0.7850162866449512, 0.7736156351791531], 3 of KFold 5\n",
            "LogisticRegression Acc Test: [0.7792207792207793, 0.7857142857142857], 3 of KFold 5\n",
            "LogisticRegression Recall: [0.5555555555555556, 0.5555555555555556], 3 of KFold 5\n",
            "LogisticRegression Precission: [0.75, 0.7692307692307693], 3 of KFold 5\n",
            "LogisticRegression AUC: [0.7277777777777779, 0.7327777777777779], 3 of KFold 5\n",
            "---------------------------\n",
            "----------AFTER------------\n",
            "LogisticRegression Acc Train: [0.7850162866449512, 0.7736156351791531, 0.7703583061889251], 3 of KFold 5\n",
            "LogisticRegression Acc Test: [0.7792207792207793, 0.7857142857142857, 0.7792207792207793], 3 of KFold 5\n",
            "LogisticRegression Recall: [0.5555555555555556, 0.5555555555555556, 0.5370370370370371], 3 of KFold 5\n",
            "LogisticRegression Precission: [0.75, 0.7692307692307693, 0.7631578947368421], 3 of KFold 5\n",
            "LogisticRegression AUC: [0.7277777777777779, 0.7327777777777779, 0.7235185185185187], 3 of KFold 5\n",
            "---------------------------\n",
            "----------BEFORE------------\n",
            "LogisticRegression Acc Train: [0.7850162866449512, 0.7736156351791531, 0.7703583061889251], 4 of KFold 5\n",
            "LogisticRegression Acc Test: [0.7792207792207793, 0.7857142857142857, 0.7792207792207793], 4 of KFold 5\n",
            "LogisticRegression Recall: [0.5555555555555556, 0.5555555555555556, 0.5370370370370371], 4 of KFold 5\n",
            "LogisticRegression Precission: [0.75, 0.7692307692307693, 0.7631578947368421], 4 of KFold 5\n",
            "LogisticRegression AUC: [0.7277777777777779, 0.7327777777777779, 0.7235185185185187], 4 of KFold 5\n",
            "---------------------------\n",
            "----------AFTER------------\n",
            "LogisticRegression Acc Train: [0.7850162866449512, 0.7736156351791531, 0.7703583061889251, 0.7772357723577236], 4 of KFold 5\n",
            "LogisticRegression Acc Test: [0.7792207792207793, 0.7857142857142857, 0.7792207792207793, 0.7647058823529411], 4 of KFold 5\n",
            "LogisticRegression Recall: [0.5555555555555556, 0.5555555555555556, 0.5370370370370371, 0.5471698113207547], 4 of KFold 5\n",
            "LogisticRegression Precission: [0.75, 0.7692307692307693, 0.7631578947368421, 0.7073170731707317], 4 of KFold 5\n",
            "LogisticRegression AUC: [0.7277777777777779, 0.7327777777777779, 0.7235185185185187, 0.7135849056603774], 4 of KFold 5\n",
            "---------------------------\n",
            "----------BEFORE------------\n",
            "LogisticRegression Acc Train: [0.7850162866449512, 0.7736156351791531, 0.7703583061889251, 0.7772357723577236], 5 of KFold 5\n",
            "LogisticRegression Acc Test: [0.7792207792207793, 0.7857142857142857, 0.7792207792207793, 0.7647058823529411], 5 of KFold 5\n",
            "LogisticRegression Recall: [0.5555555555555556, 0.5555555555555556, 0.5370370370370371, 0.5471698113207547], 5 of KFold 5\n",
            "LogisticRegression Precission: [0.75, 0.7692307692307693, 0.7631578947368421, 0.7073170731707317], 5 of KFold 5\n",
            "LogisticRegression AUC: [0.7277777777777779, 0.7327777777777779, 0.7235185185185187, 0.7135849056603774], 5 of KFold 5\n",
            "---------------------------\n",
            "----------AFTER------------\n",
            "LogisticRegression Acc Train: [0.7850162866449512, 0.7736156351791531, 0.7703583061889251, 0.7772357723577236, 0.7853658536585366], 5 of KFold 5\n",
            "LogisticRegression Acc Test: [0.7792207792207793, 0.7857142857142857, 0.7792207792207793, 0.7647058823529411, 0.7843137254901961], 5 of KFold 5\n",
            "LogisticRegression Recall: [0.5555555555555556, 0.5555555555555556, 0.5370370370370371, 0.5471698113207547, 0.6415094339622641], 5 of KFold 5\n",
            "LogisticRegression Precission: [0.75, 0.7692307692307693, 0.7631578947368421, 0.7073170731707317, 0.7083333333333334], 5 of KFold 5\n",
            "LogisticRegression AUC: [0.7277777777777779, 0.7327777777777779, 0.7235185185185187, 0.7135849056603774, 0.7507547169811319], 5 of KFold 5\n",
            "---------------------------\n",
            "----------FINAL------------\n",
            "LogisticRegression Acc Train: 0.778318370805858\n",
            "LogisticRegression Acc Test: 0.7786350903997963\n",
            "LogisticRegression Recall: 0.5673654786862334\n",
            "LogisticRegression Precission: 0.7396078140943353\n",
            "LogisticRegression AUC: 0.7296827393431167\n",
            "---------------------------\n",
            "----------BEFORE------------\n",
            "KNeighborsClassifier Acc Train: [], 1 of KFold 5\n",
            "KNeighborsClassifier Acc Test: [], 1 of KFold 5\n",
            "KNeighborsClassifier Recall: [], 1 of KFold 5\n",
            "KNeighborsClassifier Precission: [], 1 of KFold 5\n",
            "KNeighborsClassifier AUC: [], 1 of KFold 5\n",
            "---------------------------\n",
            "----------AFTER------------\n",
            "KNeighborsClassifier Acc Train: [0.7866449511400652], 1 of KFold 5\n",
            "KNeighborsClassifier Acc Test: [0.7142857142857143], 1 of KFold 5\n",
            "KNeighborsClassifier Recall: [0.5185185185185185], 1 of KFold 5\n",
            "KNeighborsClassifier Precission: [0.6086956521739131], 1 of KFold 5\n",
            "KNeighborsClassifier AUC: [0.6692592592592593], 1 of KFold 5\n",
            "---------------------------\n",
            "----------BEFORE------------\n",
            "KNeighborsClassifier Acc Train: [0.7866449511400652], 2 of KFold 5\n",
            "KNeighborsClassifier Acc Test: [0.7142857142857143], 2 of KFold 5\n",
            "KNeighborsClassifier Recall: [0.5185185185185185], 2 of KFold 5\n",
            "KNeighborsClassifier Precission: [0.6086956521739131], 2 of KFold 5\n",
            "KNeighborsClassifier AUC: [0.6692592592592593], 2 of KFold 5\n",
            "---------------------------\n",
            "----------AFTER------------\n",
            "KNeighborsClassifier Acc Train: [0.7866449511400652, 0.8061889250814332], 2 of KFold 5\n",
            "KNeighborsClassifier Acc Test: [0.7142857142857143, 0.7532467532467533], 2 of KFold 5\n",
            "KNeighborsClassifier Recall: [0.5185185185185185, 0.5740740740740741], 2 of KFold 5\n",
            "KNeighborsClassifier Precission: [0.6086956521739131, 0.6739130434782609], 2 of KFold 5\n",
            "KNeighborsClassifier AUC: [0.6692592592592593, 0.7120370370370369], 2 of KFold 5\n",
            "---------------------------\n",
            "----------BEFORE------------\n",
            "KNeighborsClassifier Acc Train: [0.7866449511400652, 0.8061889250814332], 3 of KFold 5\n",
            "KNeighborsClassifier Acc Test: [0.7142857142857143, 0.7532467532467533], 3 of KFold 5\n",
            "KNeighborsClassifier Recall: [0.5185185185185185, 0.5740740740740741], 3 of KFold 5\n",
            "KNeighborsClassifier Precission: [0.6086956521739131, 0.6739130434782609], 3 of KFold 5\n",
            "KNeighborsClassifier AUC: [0.6692592592592593, 0.7120370370370369], 3 of KFold 5\n",
            "---------------------------\n",
            "----------AFTER------------\n",
            "KNeighborsClassifier Acc Train: [0.7866449511400652, 0.8061889250814332, 0.8208469055374593], 3 of KFold 5\n",
            "KNeighborsClassifier Acc Test: [0.7142857142857143, 0.7532467532467533, 0.6623376623376623], 3 of KFold 5\n",
            "KNeighborsClassifier Recall: [0.5185185185185185, 0.5740740740740741, 0.4444444444444444], 3 of KFold 5\n",
            "KNeighborsClassifier Precission: [0.6086956521739131, 0.6739130434782609, 0.5217391304347826], 3 of KFold 5\n",
            "KNeighborsClassifier AUC: [0.6692592592592593, 0.7120370370370369, 0.6122222222222222], 3 of KFold 5\n",
            "---------------------------\n",
            "----------BEFORE------------\n",
            "KNeighborsClassifier Acc Train: [0.7866449511400652, 0.8061889250814332, 0.8208469055374593], 4 of KFold 5\n",
            "KNeighborsClassifier Acc Test: [0.7142857142857143, 0.7532467532467533, 0.6623376623376623], 4 of KFold 5\n",
            "KNeighborsClassifier Recall: [0.5185185185185185, 0.5740740740740741, 0.4444444444444444], 4 of KFold 5\n",
            "KNeighborsClassifier Precission: [0.6086956521739131, 0.6739130434782609, 0.5217391304347826], 4 of KFold 5\n",
            "KNeighborsClassifier AUC: [0.6692592592592593, 0.7120370370370369, 0.6122222222222222], 4 of KFold 5\n",
            "---------------------------\n",
            "----------AFTER------------\n",
            "KNeighborsClassifier Acc Train: [0.7866449511400652, 0.8061889250814332, 0.8208469055374593, 0.8048780487804879], 4 of KFold 5\n",
            "KNeighborsClassifier Acc Test: [0.7142857142857143, 0.7532467532467533, 0.6623376623376623, 0.6928104575163399], 4 of KFold 5\n",
            "KNeighborsClassifier Recall: [0.5185185185185185, 0.5740740740740741, 0.4444444444444444, 0.49056603773584906], 4 of KFold 5\n",
            "KNeighborsClassifier Precission: [0.6086956521739131, 0.6739130434782609, 0.5217391304347826, 0.5652173913043478], 4 of KFold 5\n",
            "KNeighborsClassifier AUC: [0.6692592592592593, 0.7120370370370369, 0.6122222222222222, 0.6452830188679245], 4 of KFold 5\n",
            "---------------------------\n",
            "----------BEFORE------------\n",
            "KNeighborsClassifier Acc Train: [0.7866449511400652, 0.8061889250814332, 0.8208469055374593, 0.8048780487804879], 5 of KFold 5\n",
            "KNeighborsClassifier Acc Test: [0.7142857142857143, 0.7532467532467533, 0.6623376623376623, 0.6928104575163399], 5 of KFold 5\n",
            "KNeighborsClassifier Recall: [0.5185185185185185, 0.5740740740740741, 0.4444444444444444, 0.49056603773584906], 5 of KFold 5\n",
            "KNeighborsClassifier Precission: [0.6086956521739131, 0.6739130434782609, 0.5217391304347826, 0.5652173913043478], 5 of KFold 5\n",
            "KNeighborsClassifier AUC: [0.6692592592592593, 0.7120370370370369, 0.6122222222222222, 0.6452830188679245], 5 of KFold 5\n",
            "---------------------------\n",
            "----------AFTER------------\n",
            "KNeighborsClassifier Acc Train: [0.7866449511400652, 0.8061889250814332, 0.8208469055374593, 0.8048780487804879, 0.8065040650406504], 5 of KFold 5\n",
            "KNeighborsClassifier Acc Test: [0.7142857142857143, 0.7532467532467533, 0.6623376623376623, 0.6928104575163399, 0.6666666666666666], 5 of KFold 5\n",
            "KNeighborsClassifier Recall: [0.5185185185185185, 0.5740740740740741, 0.4444444444444444, 0.49056603773584906, 0.49056603773584906], 5 of KFold 5\n",
            "KNeighborsClassifier Precission: [0.6086956521739131, 0.6739130434782609, 0.5217391304347826, 0.5652173913043478, 0.52], 5 of KFold 5\n",
            "KNeighborsClassifier AUC: [0.6692592592592593, 0.7120370370370369, 0.6122222222222222, 0.6452830188679245, 0.6252830188679245], 5 of KFold 5\n",
            "---------------------------\n",
            "----------FINAL------------\n",
            "KNeighborsClassifier Acc Train: 0.8050125791160193\n",
            "KNeighborsClassifier Acc Test: 0.6978694508106273\n",
            "KNeighborsClassifier Recall: 0.503633822501747\n",
            "KNeighborsClassifier Precission: 0.5779130434782609\n",
            "KNeighborsClassifier AUC: 0.6528169112508735\n",
            "---------------------------\n",
            "----------BEFORE------------\n",
            "GaussianNB Acc Train: [], 1 of KFold 5\n",
            "GaussianNB Acc Test: [], 1 of KFold 5\n",
            "GaussianNB Recall: [], 1 of KFold 5\n",
            "GaussianNB Precission: [], 1 of KFold 5\n",
            "GaussianNB AUC: [], 1 of KFold 5\n",
            "---------------------------\n",
            "----------AFTER------------\n",
            "GaussianNB Acc Train: [0.7687296416938111], 1 of KFold 5\n",
            "GaussianNB Acc Test: [0.7207792207792207], 1 of KFold 5\n",
            "GaussianNB Recall: [0.6111111111111112], 1 of KFold 5\n",
            "GaussianNB Precission: [0.6], 1 of KFold 5\n",
            "GaussianNB AUC: [0.6955555555555556], 1 of KFold 5\n",
            "---------------------------\n",
            "----------BEFORE------------\n",
            "GaussianNB Acc Train: [0.7687296416938111], 2 of KFold 5\n",
            "GaussianNB Acc Test: [0.7207792207792207], 2 of KFold 5\n",
            "GaussianNB Recall: [0.6111111111111112], 2 of KFold 5\n",
            "GaussianNB Precission: [0.6], 2 of KFold 5\n",
            "GaussianNB AUC: [0.6955555555555556], 2 of KFold 5\n",
            "---------------------------\n",
            "----------AFTER------------\n",
            "GaussianNB Acc Train: [0.7687296416938111, 0.755700325732899], 2 of KFold 5\n",
            "GaussianNB Acc Test: [0.7207792207792207, 0.8181818181818182], 2 of KFold 5\n",
            "GaussianNB Recall: [0.6111111111111112, 0.6666666666666666], 2 of KFold 5\n",
            "GaussianNB Precission: [0.6, 0.782608695652174], 2 of KFold 5\n",
            "GaussianNB AUC: [0.6955555555555556, 0.7833333333333333], 2 of KFold 5\n",
            "---------------------------\n",
            "----------BEFORE------------\n",
            "GaussianNB Acc Train: [0.7687296416938111, 0.755700325732899], 3 of KFold 5\n",
            "GaussianNB Acc Test: [0.7207792207792207, 0.8181818181818182], 3 of KFold 5\n",
            "GaussianNB Recall: [0.6111111111111112, 0.6666666666666666], 3 of KFold 5\n",
            "GaussianNB Precission: [0.6, 0.782608695652174], 3 of KFold 5\n",
            "GaussianNB AUC: [0.6955555555555556, 0.7833333333333333], 3 of KFold 5\n",
            "---------------------------\n",
            "----------AFTER------------\n",
            "GaussianNB Acc Train: [0.7687296416938111, 0.755700325732899, 0.757328990228013], 3 of KFold 5\n",
            "GaussianNB Acc Test: [0.7207792207792207, 0.8181818181818182, 0.7597402597402597], 3 of KFold 5\n",
            "GaussianNB Recall: [0.6111111111111112, 0.6666666666666666, 0.6296296296296297], 3 of KFold 5\n",
            "GaussianNB Precission: [0.6, 0.782608695652174, 0.6666666666666666], 3 of KFold 5\n",
            "GaussianNB AUC: [0.6955555555555556, 0.7833333333333333, 0.7298148148148148], 3 of KFold 5\n",
            "---------------------------\n",
            "----------BEFORE------------\n",
            "GaussianNB Acc Train: [0.7687296416938111, 0.755700325732899, 0.757328990228013], 4 of KFold 5\n",
            "GaussianNB Acc Test: [0.7207792207792207, 0.8181818181818182, 0.7597402597402597], 4 of KFold 5\n",
            "GaussianNB Recall: [0.6111111111111112, 0.6666666666666666, 0.6296296296296297], 4 of KFold 5\n",
            "GaussianNB Precission: [0.6, 0.782608695652174, 0.6666666666666666], 4 of KFold 5\n",
            "GaussianNB AUC: [0.6955555555555556, 0.7833333333333333, 0.7298148148148148], 4 of KFold 5\n",
            "---------------------------\n",
            "----------AFTER------------\n",
            "GaussianNB Acc Train: [0.7687296416938111, 0.755700325732899, 0.757328990228013, 0.7723577235772358], 4 of KFold 5\n",
            "GaussianNB Acc Test: [0.7207792207792207, 0.8181818181818182, 0.7597402597402597, 0.738562091503268], 4 of KFold 5\n",
            "GaussianNB Recall: [0.6111111111111112, 0.6666666666666666, 0.6296296296296297, 0.5660377358490566], 4 of KFold 5\n",
            "GaussianNB Precission: [0.6, 0.782608695652174, 0.6666666666666666, 0.6382978723404256], 4 of KFold 5\n",
            "GaussianNB AUC: [0.6955555555555556, 0.7833333333333333, 0.7298148148148148, 0.6980188679245283], 4 of KFold 5\n",
            "---------------------------\n",
            "----------BEFORE------------\n",
            "GaussianNB Acc Train: [0.7687296416938111, 0.755700325732899, 0.757328990228013, 0.7723577235772358], 5 of KFold 5\n",
            "GaussianNB Acc Test: [0.7207792207792207, 0.8181818181818182, 0.7597402597402597, 0.738562091503268], 5 of KFold 5\n",
            "GaussianNB Recall: [0.6111111111111112, 0.6666666666666666, 0.6296296296296297, 0.5660377358490566], 5 of KFold 5\n",
            "GaussianNB Precission: [0.6, 0.782608695652174, 0.6666666666666666, 0.6382978723404256], 5 of KFold 5\n",
            "GaussianNB AUC: [0.6955555555555556, 0.7833333333333333, 0.7298148148148148, 0.6980188679245283], 5 of KFold 5\n",
            "---------------------------\n",
            "----------AFTER------------\n",
            "GaussianNB Acc Train: [0.7687296416938111, 0.755700325732899, 0.757328990228013, 0.7723577235772358, 0.7691056910569106], 5 of KFold 5\n",
            "GaussianNB Acc Test: [0.7207792207792207, 0.8181818181818182, 0.7597402597402597, 0.738562091503268, 0.738562091503268], 5 of KFold 5\n",
            "GaussianNB Recall: [0.6111111111111112, 0.6666666666666666, 0.6296296296296297, 0.5660377358490566, 0.6226415094339622], 5 of KFold 5\n",
            "GaussianNB Precission: [0.6, 0.782608695652174, 0.6666666666666666, 0.6382978723404256, 0.6226415094339622], 5 of KFold 5\n",
            "GaussianNB AUC: [0.6955555555555556, 0.7833333333333333, 0.7298148148148148, 0.6980188679245283, 0.7113207547169812], 5 of KFold 5\n",
            "---------------------------\n",
            "----------FINAL------------\n",
            "GaussianNB Acc Train: 0.7646444744577738\n",
            "GaussianNB Acc Test: 0.7551650963415669\n",
            "GaussianNB Recall: 0.6192173305380853\n",
            "GaussianNB Precission: 0.6620429488186457\n",
            "GaussianNB AUC: 0.7236086652690427\n",
            "---------------------------\n",
            "----------BEFORE------------\n",
            "SVC Acc Train: [], 1 of KFold 5\n",
            "SVC Acc Test: [], 1 of KFold 5\n",
            "SVC Recall: [], 1 of KFold 5\n",
            "SVC Precission: [], 1 of KFold 5\n",
            "SVC AUC: [], 1 of KFold 5\n",
            "---------------------------\n",
            "----------AFTER------------\n",
            "SVC Acc Train: [0.7736156351791531], 1 of KFold 5\n",
            "SVC Acc Test: [0.7597402597402597], 1 of KFold 5\n",
            "SVC Recall: [0.4444444444444444], 1 of KFold 5\n",
            "SVC Precission: [0.7741935483870968], 1 of KFold 5\n",
            "SVC AUC: [0.6872222222222222], 1 of KFold 5\n",
            "---------------------------\n",
            "----------BEFORE------------\n",
            "SVC Acc Train: [0.7736156351791531], 2 of KFold 5\n",
            "SVC Acc Test: [0.7597402597402597], 2 of KFold 5\n",
            "SVC Recall: [0.4444444444444444], 2 of KFold 5\n",
            "SVC Precission: [0.7741935483870968], 2 of KFold 5\n",
            "SVC AUC: [0.6872222222222222], 2 of KFold 5\n",
            "---------------------------\n",
            "----------AFTER------------\n",
            "SVC Acc Train: [0.7736156351791531, 0.758957654723127], 2 of KFold 5\n",
            "SVC Acc Test: [0.7597402597402597, 0.8051948051948052], 2 of KFold 5\n",
            "SVC Recall: [0.4444444444444444, 0.5740740740740741], 2 of KFold 5\n",
            "SVC Precission: [0.7741935483870968, 0.8157894736842105], 2 of KFold 5\n",
            "SVC AUC: [0.6872222222222222, 0.7520370370370368], 2 of KFold 5\n",
            "---------------------------\n",
            "----------BEFORE------------\n",
            "SVC Acc Train: [0.7736156351791531, 0.758957654723127], 3 of KFold 5\n",
            "SVC Acc Test: [0.7597402597402597, 0.8051948051948052], 3 of KFold 5\n",
            "SVC Recall: [0.4444444444444444, 0.5740740740740741], 3 of KFold 5\n",
            "SVC Precission: [0.7741935483870968, 0.8157894736842105], 3 of KFold 5\n",
            "SVC AUC: [0.6872222222222222, 0.7520370370370368], 3 of KFold 5\n",
            "---------------------------\n",
            "----------AFTER------------\n",
            "SVC Acc Train: [0.7736156351791531, 0.758957654723127, 0.7719869706840391], 3 of KFold 5\n",
            "SVC Acc Test: [0.7597402597402597, 0.8051948051948052, 0.7532467532467533], 3 of KFold 5\n",
            "SVC Recall: [0.4444444444444444, 0.5740740740740741, 0.4444444444444444], 3 of KFold 5\n",
            "SVC Precission: [0.7741935483870968, 0.8157894736842105, 0.75], 3 of KFold 5\n",
            "SVC AUC: [0.6872222222222222, 0.7520370370370368, 0.6822222222222223], 3 of KFold 5\n",
            "---------------------------\n",
            "----------BEFORE------------\n",
            "SVC Acc Train: [0.7736156351791531, 0.758957654723127, 0.7719869706840391], 4 of KFold 5\n",
            "SVC Acc Test: [0.7597402597402597, 0.8051948051948052, 0.7532467532467533], 4 of KFold 5\n",
            "SVC Recall: [0.4444444444444444, 0.5740740740740741, 0.4444444444444444], 4 of KFold 5\n",
            "SVC Precission: [0.7741935483870968, 0.8157894736842105, 0.75], 4 of KFold 5\n",
            "SVC AUC: [0.6872222222222222, 0.7520370370370368, 0.6822222222222223], 4 of KFold 5\n",
            "---------------------------\n",
            "----------AFTER------------\n",
            "SVC Acc Train: [0.7736156351791531, 0.758957654723127, 0.7719869706840391, 0.767479674796748], 4 of KFold 5\n",
            "SVC Acc Test: [0.7597402597402597, 0.8051948051948052, 0.7532467532467533, 0.7320261437908496], 4 of KFold 5\n",
            "SVC Recall: [0.4444444444444444, 0.5740740740740741, 0.4444444444444444, 0.41509433962264153], 4 of KFold 5\n",
            "SVC Precission: [0.7741935483870968, 0.8157894736842105, 0.75, 0.6875], 4 of KFold 5\n",
            "SVC AUC: [0.6872222222222222, 0.7520370370370368, 0.6822222222222223, 0.6575471698113208], 4 of KFold 5\n",
            "---------------------------\n",
            "----------BEFORE------------\n",
            "SVC Acc Train: [0.7736156351791531, 0.758957654723127, 0.7719869706840391, 0.767479674796748], 5 of KFold 5\n",
            "SVC Acc Test: [0.7597402597402597, 0.8051948051948052, 0.7532467532467533, 0.7320261437908496], 5 of KFold 5\n",
            "SVC Recall: [0.4444444444444444, 0.5740740740740741, 0.4444444444444444, 0.41509433962264153], 5 of KFold 5\n",
            "SVC Precission: [0.7741935483870968, 0.8157894736842105, 0.75, 0.6875], 5 of KFold 5\n",
            "SVC AUC: [0.6872222222222222, 0.7520370370370368, 0.6822222222222223, 0.6575471698113208], 5 of KFold 5\n",
            "---------------------------\n",
            "----------AFTER------------\n",
            "SVC Acc Train: [0.7736156351791531, 0.758957654723127, 0.7719869706840391, 0.767479674796748, 0.7723577235772358], 5 of KFold 5\n",
            "SVC Acc Test: [0.7597402597402597, 0.8051948051948052, 0.7532467532467533, 0.7320261437908496, 0.7516339869281046], 5 of KFold 5\n",
            "SVC Recall: [0.4444444444444444, 0.5740740740740741, 0.4444444444444444, 0.41509433962264153, 0.5660377358490566], 5 of KFold 5\n",
            "SVC Precission: [0.7741935483870968, 0.8157894736842105, 0.75, 0.6875, 0.6666666666666666], 5 of KFold 5\n",
            "SVC AUC: [0.6872222222222222, 0.7520370370370368, 0.6822222222222223, 0.6575471698113208, 0.7080188679245283], 5 of KFold 5\n",
            "---------------------------\n",
            "----------FINAL------------\n",
            "SVC Acc Train: 0.7688795317920606\n",
            "SVC Acc Test: 0.7603683897801545\n",
            "SVC Recall: 0.4888190076869322\n",
            "SVC Precission: 0.7388299377475948\n",
            "SVC AUC: 0.6974095038434661\n",
            "---------------------------\n",
            "----------BEFORE------------\n",
            "LinearSVC Acc Train: [], 1 of KFold 5\n",
            "LinearSVC Acc Test: [], 1 of KFold 5\n",
            "LinearSVC Recall: [], 1 of KFold 5\n",
            "LinearSVC Precission: [], 1 of KFold 5\n",
            "LinearSVC AUC: [], 1 of KFold 5\n",
            "---------------------------\n",
            "----------AFTER------------\n",
            "LinearSVC Acc Train: [0.757328990228013], 1 of KFold 5\n",
            "LinearSVC Acc Test: [0.7597402597402597], 1 of KFold 5\n",
            "LinearSVC Recall: [0.3888888888888889], 1 of KFold 5\n",
            "LinearSVC Precission: [0.84], 1 of KFold 5\n",
            "LinearSVC AUC: [0.6744444444444444], 1 of KFold 5\n",
            "---------------------------\n",
            "----------BEFORE------------\n",
            "LinearSVC Acc Train: [0.757328990228013], 2 of KFold 5\n",
            "LinearSVC Acc Test: [0.7597402597402597], 2 of KFold 5\n",
            "LinearSVC Recall: [0.3888888888888889], 2 of KFold 5\n",
            "LinearSVC Precission: [0.84], 2 of KFold 5\n",
            "LinearSVC AUC: [0.6744444444444444], 2 of KFold 5\n",
            "---------------------------\n",
            "----------AFTER------------\n",
            "LinearSVC Acc Train: [0.757328990228013, 0.6596091205211726], 2 of KFold 5\n",
            "LinearSVC Acc Test: [0.7597402597402597, 0.6428571428571429], 2 of KFold 5\n",
            "LinearSVC Recall: [0.3888888888888889, 0.0], 2 of KFold 5\n",
            "LinearSVC Precission: [0.84, 0.0], 2 of KFold 5\n",
            "LinearSVC AUC: [0.6744444444444444, 0.495], 2 of KFold 5\n",
            "---------------------------\n",
            "----------BEFORE------------\n",
            "LinearSVC Acc Train: [0.757328990228013, 0.6596091205211726], 3 of KFold 5\n",
            "LinearSVC Acc Test: [0.7597402597402597, 0.6428571428571429], 3 of KFold 5\n",
            "LinearSVC Recall: [0.3888888888888889, 0.0], 3 of KFold 5\n",
            "LinearSVC Precission: [0.84, 0.0], 3 of KFold 5\n",
            "LinearSVC AUC: [0.6744444444444444, 0.495], 3 of KFold 5\n",
            "---------------------------\n",
            "----------AFTER------------\n",
            "LinearSVC Acc Train: [0.757328990228013, 0.6596091205211726, 0.6530944625407166], 3 of KFold 5\n",
            "LinearSVC Acc Test: [0.7597402597402597, 0.6428571428571429, 0.6883116883116883], 3 of KFold 5\n",
            "LinearSVC Recall: [0.3888888888888889, 0.0, 0.16666666666666666], 3 of KFold 5\n",
            "LinearSVC Precission: [0.84, 0.0, 0.75], 3 of KFold 5\n",
            "LinearSVC AUC: [0.6744444444444444, 0.495, 0.5683333333333332], 3 of KFold 5\n",
            "---------------------------\n",
            "----------BEFORE------------\n",
            "LinearSVC Acc Train: [0.757328990228013, 0.6596091205211726, 0.6530944625407166], 4 of KFold 5\n",
            "LinearSVC Acc Test: [0.7597402597402597, 0.6428571428571429, 0.6883116883116883], 4 of KFold 5\n",
            "LinearSVC Recall: [0.3888888888888889, 0.0, 0.16666666666666666], 4 of KFold 5\n",
            "LinearSVC Precission: [0.84, 0.0, 0.75], 4 of KFold 5\n",
            "LinearSVC AUC: [0.6744444444444444, 0.495, 0.5683333333333332], 4 of KFold 5\n",
            "---------------------------\n",
            "----------AFTER------------\n",
            "LinearSVC Acc Train: [0.757328990228013, 0.6596091205211726, 0.6530944625407166, 0.7300813008130081], 4 of KFold 5\n",
            "LinearSVC Acc Test: [0.7597402597402597, 0.6428571428571429, 0.6883116883116883, 0.6993464052287581], 4 of KFold 5\n",
            "LinearSVC Recall: [0.3888888888888889, 0.0, 0.16666666666666666, 0.2641509433962264], 4 of KFold 5\n",
            "LinearSVC Precission: [0.84, 0.0, 0.75, 0.6666666666666666], 4 of KFold 5\n",
            "LinearSVC AUC: [0.6744444444444444, 0.495, 0.5683333333333332, 0.5970754716981131], 4 of KFold 5\n",
            "---------------------------\n",
            "----------BEFORE------------\n",
            "LinearSVC Acc Train: [0.757328990228013, 0.6596091205211726, 0.6530944625407166, 0.7300813008130081], 5 of KFold 5\n",
            "LinearSVC Acc Test: [0.7597402597402597, 0.6428571428571429, 0.6883116883116883, 0.6993464052287581], 5 of KFold 5\n",
            "LinearSVC Recall: [0.3888888888888889, 0.0, 0.16666666666666666, 0.2641509433962264], 5 of KFold 5\n",
            "LinearSVC Precission: [0.84, 0.0, 0.75, 0.6666666666666666], 5 of KFold 5\n",
            "LinearSVC AUC: [0.6744444444444444, 0.495, 0.5683333333333332, 0.5970754716981131], 5 of KFold 5\n",
            "---------------------------\n",
            "----------AFTER------------\n",
            "LinearSVC Acc Train: [0.757328990228013, 0.6596091205211726, 0.6530944625407166, 0.7300813008130081, 0.6682926829268293], 5 of KFold 5\n",
            "LinearSVC Acc Test: [0.7597402597402597, 0.6428571428571429, 0.6883116883116883, 0.6993464052287581, 0.6535947712418301], 5 of KFold 5\n",
            "LinearSVC Recall: [0.3888888888888889, 0.0, 0.16666666666666666, 0.2641509433962264, 0.018867924528301886], 5 of KFold 5\n",
            "LinearSVC Precission: [0.84, 0.0, 0.75, 0.6666666666666666, 0.5], 5 of KFold 5\n",
            "LinearSVC AUC: [0.6744444444444444, 0.495, 0.5683333333333332, 0.5970754716981131, 0.5044339622641509], 5 of KFold 5\n",
            "---------------------------\n",
            "----------FINAL------------\n",
            "LinearSVC Acc Train: 0.6936813114059479\n",
            "LinearSVC Acc Test: 0.6887700534759358\n",
            "LinearSVC Recall: 0.16771488469601675\n",
            "LinearSVC Precission: 0.5513333333333332\n",
            "LinearSVC AUC: 0.5678574423480084\n",
            "---------------------------\n",
            "----------BEFORE------------\n",
            "RandomForestClassifier Acc Train: [], 1 of KFold 5\n",
            "RandomForestClassifier Acc Test: [], 1 of KFold 5\n",
            "RandomForestClassifier Recall: [], 1 of KFold 5\n",
            "RandomForestClassifier Precission: [], 1 of KFold 5\n",
            "RandomForestClassifier AUC: [], 1 of KFold 5\n",
            "---------------------------\n",
            "----------AFTER------------\n",
            "RandomForestClassifier Acc Train: [1.0], 1 of KFold 5\n",
            "RandomForestClassifier Acc Test: [0.7662337662337663], 1 of KFold 5\n",
            "RandomForestClassifier Recall: [0.5740740740740741], 1 of KFold 5\n",
            "RandomForestClassifier Precission: [0.7045454545454546], 1 of KFold 5\n",
            "RandomForestClassifier AUC: [0.7220370370370369], 1 of KFold 5\n",
            "---------------------------\n",
            "----------BEFORE------------\n",
            "RandomForestClassifier Acc Train: [1.0], 2 of KFold 5\n",
            "RandomForestClassifier Acc Test: [0.7662337662337663], 2 of KFold 5\n",
            "RandomForestClassifier Recall: [0.5740740740740741], 2 of KFold 5\n",
            "RandomForestClassifier Precission: [0.7045454545454546], 2 of KFold 5\n",
            "RandomForestClassifier AUC: [0.7220370370370369], 2 of KFold 5\n",
            "---------------------------\n",
            "----------AFTER------------\n",
            "RandomForestClassifier Acc Train: [1.0, 1.0], 2 of KFold 5\n",
            "RandomForestClassifier Acc Test: [0.7662337662337663, 0.7792207792207793], 2 of KFold 5\n",
            "RandomForestClassifier Recall: [0.5740740740740741, 0.6296296296296297], 2 of KFold 5\n",
            "RandomForestClassifier Precission: [0.7045454545454546, 0.7083333333333334], 2 of KFold 5\n",
            "RandomForestClassifier AUC: [0.7220370370370369, 0.7448148148148148], 2 of KFold 5\n",
            "---------------------------\n",
            "----------BEFORE------------\n",
            "RandomForestClassifier Acc Train: [1.0, 1.0], 3 of KFold 5\n",
            "RandomForestClassifier Acc Test: [0.7662337662337663, 0.7792207792207793], 3 of KFold 5\n",
            "RandomForestClassifier Recall: [0.5740740740740741, 0.6296296296296297], 3 of KFold 5\n",
            "RandomForestClassifier Precission: [0.7045454545454546, 0.7083333333333334], 3 of KFold 5\n",
            "RandomForestClassifier AUC: [0.7220370370370369, 0.7448148148148148], 3 of KFold 5\n",
            "---------------------------\n",
            "----------AFTER------------\n",
            "RandomForestClassifier Acc Train: [1.0, 1.0, 1.0], 3 of KFold 5\n",
            "RandomForestClassifier Acc Test: [0.7662337662337663, 0.7792207792207793, 0.7662337662337663], 3 of KFold 5\n",
            "RandomForestClassifier Recall: [0.5740740740740741, 0.6296296296296297, 0.5925925925925926], 3 of KFold 5\n",
            "RandomForestClassifier Precission: [0.7045454545454546, 0.7083333333333334, 0.6956521739130435], 3 of KFold 5\n",
            "RandomForestClassifier AUC: [0.7220370370370369, 0.7448148148148148, 0.7262962962962962], 3 of KFold 5\n",
            "---------------------------\n",
            "----------BEFORE------------\n",
            "RandomForestClassifier Acc Train: [1.0, 1.0, 1.0], 4 of KFold 5\n",
            "RandomForestClassifier Acc Test: [0.7662337662337663, 0.7792207792207793, 0.7662337662337663], 4 of KFold 5\n",
            "RandomForestClassifier Recall: [0.5740740740740741, 0.6296296296296297, 0.5925925925925926], 4 of KFold 5\n",
            "RandomForestClassifier Precission: [0.7045454545454546, 0.7083333333333334, 0.6956521739130435], 4 of KFold 5\n",
            "RandomForestClassifier AUC: [0.7220370370370369, 0.7448148148148148, 0.7262962962962962], 4 of KFold 5\n",
            "---------------------------\n",
            "----------AFTER------------\n",
            "RandomForestClassifier Acc Train: [1.0, 1.0, 1.0, 1.0], 4 of KFold 5\n",
            "RandomForestClassifier Acc Test: [0.7662337662337663, 0.7792207792207793, 0.7662337662337663, 0.7712418300653595], 4 of KFold 5\n",
            "RandomForestClassifier Recall: [0.5740740740740741, 0.6296296296296297, 0.5925925925925926, 0.6037735849056604], 4 of KFold 5\n",
            "RandomForestClassifier Precission: [0.7045454545454546, 0.7083333333333334, 0.6956521739130435, 0.6956521739130435], 4 of KFold 5\n",
            "RandomForestClassifier AUC: [0.7220370370370369, 0.7448148148148148, 0.7262962962962962, 0.7318867924528301], 4 of KFold 5\n",
            "---------------------------\n",
            "----------BEFORE------------\n",
            "RandomForestClassifier Acc Train: [1.0, 1.0, 1.0, 1.0], 5 of KFold 5\n",
            "RandomForestClassifier Acc Test: [0.7662337662337663, 0.7792207792207793, 0.7662337662337663, 0.7712418300653595], 5 of KFold 5\n",
            "RandomForestClassifier Recall: [0.5740740740740741, 0.6296296296296297, 0.5925925925925926, 0.6037735849056604], 5 of KFold 5\n",
            "RandomForestClassifier Precission: [0.7045454545454546, 0.7083333333333334, 0.6956521739130435, 0.6956521739130435], 5 of KFold 5\n",
            "RandomForestClassifier AUC: [0.7220370370370369, 0.7448148148148148, 0.7262962962962962, 0.7318867924528301], 5 of KFold 5\n",
            "---------------------------\n",
            "----------AFTER------------\n",
            "RandomForestClassifier Acc Train: [1.0, 1.0, 1.0, 1.0, 1.0], 5 of KFold 5\n",
            "RandomForestClassifier Acc Test: [0.7662337662337663, 0.7792207792207793, 0.7662337662337663, 0.7712418300653595, 0.7516339869281046], 5 of KFold 5\n",
            "RandomForestClassifier Recall: [0.5740740740740741, 0.6296296296296297, 0.5925925925925926, 0.6037735849056604, 0.6037735849056604], 5 of KFold 5\n",
            "RandomForestClassifier Precission: [0.7045454545454546, 0.7083333333333334, 0.6956521739130435, 0.6956521739130435, 0.6530612244897959], 5 of KFold 5\n",
            "RandomForestClassifier AUC: [0.7220370370370369, 0.7448148148148148, 0.7262962962962962, 0.7318867924528301, 0.7168867924528302], 5 of KFold 5\n",
            "---------------------------\n",
            "----------FINAL------------\n",
            "RandomForestClassifier Acc Train: 1.0\n",
            "RandomForestClassifier Acc Test: 0.7669128257363551\n",
            "RandomForestClassifier Recall: 0.6007686932215234\n",
            "RandomForestClassifier Precission: 0.6914488720389341\n",
            "RandomForestClassifier AUC: 0.7283843466107616\n",
            "---------------------------\n",
            "----------BEFORE------------\n",
            "GradientBoostingClassifier Acc Train: [], 1 of KFold 5\n",
            "GradientBoostingClassifier Acc Test: [], 1 of KFold 5\n",
            "GradientBoostingClassifier Recall: [], 1 of KFold 5\n",
            "GradientBoostingClassifier Precission: [], 1 of KFold 5\n",
            "GradientBoostingClassifier AUC: [], 1 of KFold 5\n",
            "---------------------------\n",
            "----------AFTER------------\n",
            "GradientBoostingClassifier Acc Train: [0.9185667752442996], 1 of KFold 5\n",
            "GradientBoostingClassifier Acc Test: [0.7792207792207793], 1 of KFold 5\n",
            "GradientBoostingClassifier Recall: [0.6111111111111112], 1 of KFold 5\n",
            "GradientBoostingClassifier Precission: [0.717391304347826], 1 of KFold 5\n",
            "GradientBoostingClassifier AUC: [0.7405555555555555], 1 of KFold 5\n",
            "---------------------------\n",
            "----------BEFORE------------\n",
            "GradientBoostingClassifier Acc Train: [0.9185667752442996], 2 of KFold 5\n",
            "GradientBoostingClassifier Acc Test: [0.7792207792207793], 2 of KFold 5\n",
            "GradientBoostingClassifier Recall: [0.6111111111111112], 2 of KFold 5\n",
            "GradientBoostingClassifier Precission: [0.717391304347826], 2 of KFold 5\n",
            "GradientBoostingClassifier AUC: [0.7405555555555555], 2 of KFold 5\n",
            "---------------------------\n",
            "----------AFTER------------\n",
            "GradientBoostingClassifier Acc Train: [0.9185667752442996, 0.9283387622149837], 2 of KFold 5\n",
            "GradientBoostingClassifier Acc Test: [0.7792207792207793, 0.7727272727272727], 2 of KFold 5\n",
            "GradientBoostingClassifier Recall: [0.6111111111111112, 0.5740740740740741], 2 of KFold 5\n",
            "GradientBoostingClassifier Precission: [0.717391304347826, 0.7209302325581395], 2 of KFold 5\n",
            "GradientBoostingClassifier AUC: [0.7405555555555555, 0.7270370370370369], 2 of KFold 5\n",
            "---------------------------\n",
            "----------BEFORE------------\n",
            "GradientBoostingClassifier Acc Train: [0.9185667752442996, 0.9283387622149837], 3 of KFold 5\n",
            "GradientBoostingClassifier Acc Test: [0.7792207792207793, 0.7727272727272727], 3 of KFold 5\n",
            "GradientBoostingClassifier Recall: [0.6111111111111112, 0.5740740740740741], 3 of KFold 5\n",
            "GradientBoostingClassifier Precission: [0.717391304347826, 0.7209302325581395], 3 of KFold 5\n",
            "GradientBoostingClassifier AUC: [0.7405555555555555, 0.7270370370370369], 3 of KFold 5\n",
            "---------------------------\n",
            "----------AFTER------------\n",
            "GradientBoostingClassifier Acc Train: [0.9185667752442996, 0.9283387622149837, 0.9218241042345277], 3 of KFold 5\n",
            "GradientBoostingClassifier Acc Test: [0.7792207792207793, 0.7727272727272727, 0.7532467532467533], 3 of KFold 5\n",
            "GradientBoostingClassifier Recall: [0.6111111111111112, 0.5740740740740741, 0.5925925925925926], 3 of KFold 5\n",
            "GradientBoostingClassifier Precission: [0.717391304347826, 0.7209302325581395, 0.6666666666666666], 3 of KFold 5\n",
            "GradientBoostingClassifier AUC: [0.7405555555555555, 0.7270370370370369, 0.7162962962962963], 3 of KFold 5\n",
            "---------------------------\n",
            "----------BEFORE------------\n",
            "GradientBoostingClassifier Acc Train: [0.9185667752442996, 0.9283387622149837, 0.9218241042345277], 4 of KFold 5\n",
            "GradientBoostingClassifier Acc Test: [0.7792207792207793, 0.7727272727272727, 0.7532467532467533], 4 of KFold 5\n",
            "GradientBoostingClassifier Recall: [0.6111111111111112, 0.5740740740740741, 0.5925925925925926], 4 of KFold 5\n",
            "GradientBoostingClassifier Precission: [0.717391304347826, 0.7209302325581395, 0.6666666666666666], 4 of KFold 5\n",
            "GradientBoostingClassifier AUC: [0.7405555555555555, 0.7270370370370369, 0.7162962962962963], 4 of KFold 5\n",
            "---------------------------\n",
            "----------AFTER------------\n",
            "GradientBoostingClassifier Acc Train: [0.9185667752442996, 0.9283387622149837, 0.9218241042345277, 0.9235772357723577], 4 of KFold 5\n",
            "GradientBoostingClassifier Acc Test: [0.7792207792207793, 0.7727272727272727, 0.7532467532467533, 0.7581699346405228], 4 of KFold 5\n",
            "GradientBoostingClassifier Recall: [0.6111111111111112, 0.5740740740740741, 0.5925925925925926, 0.6415094339622641], 4 of KFold 5\n",
            "GradientBoostingClassifier Precission: [0.717391304347826, 0.7209302325581395, 0.6666666666666666, 0.6538461538461539], 4 of KFold 5\n",
            "GradientBoostingClassifier AUC: [0.7405555555555555, 0.7270370370370369, 0.7162962962962963, 0.730754716981132], 4 of KFold 5\n",
            "---------------------------\n",
            "----------BEFORE------------\n",
            "GradientBoostingClassifier Acc Train: [0.9185667752442996, 0.9283387622149837, 0.9218241042345277, 0.9235772357723577], 5 of KFold 5\n",
            "GradientBoostingClassifier Acc Test: [0.7792207792207793, 0.7727272727272727, 0.7532467532467533, 0.7581699346405228], 5 of KFold 5\n",
            "GradientBoostingClassifier Recall: [0.6111111111111112, 0.5740740740740741, 0.5925925925925926, 0.6415094339622641], 5 of KFold 5\n",
            "GradientBoostingClassifier Precission: [0.717391304347826, 0.7209302325581395, 0.6666666666666666, 0.6538461538461539], 5 of KFold 5\n",
            "GradientBoostingClassifier AUC: [0.7405555555555555, 0.7270370370370369, 0.7162962962962963, 0.730754716981132], 5 of KFold 5\n",
            "---------------------------\n",
            "----------AFTER------------\n",
            "GradientBoostingClassifier Acc Train: [0.9185667752442996, 0.9283387622149837, 0.9218241042345277, 0.9235772357723577, 0.9186991869918699], 5 of KFold 5\n",
            "GradientBoostingClassifier Acc Test: [0.7792207792207793, 0.7727272727272727, 0.7532467532467533, 0.7581699346405228, 0.738562091503268], 5 of KFold 5\n",
            "GradientBoostingClassifier Recall: [0.6111111111111112, 0.5740740740740741, 0.5925925925925926, 0.6415094339622641, 0.660377358490566], 5 of KFold 5\n",
            "GradientBoostingClassifier Precission: [0.717391304347826, 0.7209302325581395, 0.6666666666666666, 0.6538461538461539, 0.6140350877192983], 5 of KFold 5\n",
            "GradientBoostingClassifier AUC: [0.7405555555555555, 0.7270370370370369, 0.7162962962962963, 0.730754716981132, 0.7201886792452831], 5 of KFold 5\n",
            "---------------------------\n",
            "----------FINAL------------\n",
            "GradientBoostingClassifier Acc Train: 0.9222012128916077\n",
            "GradientBoostingClassifier Acc Test: 0.7603853662677192\n",
            "GradientBoostingClassifier Recall: 0.6159329140461216\n",
            "GradientBoostingClassifier Precission: 0.6745738890276168\n",
            "GradientBoostingClassifier AUC: 0.7269664570230607\n",
            "---------------------------\n",
            "----------BEFORE------------\n",
            "ExtraTreesClassifier Acc Train: [], 1 of KFold 5\n",
            "ExtraTreesClassifier Acc Test: [], 1 of KFold 5\n",
            "ExtraTreesClassifier Recall: [], 1 of KFold 5\n",
            "ExtraTreesClassifier Precission: [], 1 of KFold 5\n",
            "ExtraTreesClassifier AUC: [], 1 of KFold 5\n",
            "---------------------------\n",
            "----------AFTER------------\n",
            "ExtraTreesClassifier Acc Train: [1.0], 1 of KFold 5\n",
            "ExtraTreesClassifier Acc Test: [0.7922077922077922], 1 of KFold 5\n",
            "ExtraTreesClassifier Recall: [0.5925925925925926], 1 of KFold 5\n",
            "ExtraTreesClassifier Precission: [0.7619047619047619], 1 of KFold 5\n",
            "ExtraTreesClassifier AUC: [0.7462962962962963], 1 of KFold 5\n",
            "---------------------------\n",
            "----------BEFORE------------\n",
            "ExtraTreesClassifier Acc Train: [1.0], 2 of KFold 5\n",
            "ExtraTreesClassifier Acc Test: [0.7922077922077922], 2 of KFold 5\n",
            "ExtraTreesClassifier Recall: [0.5925925925925926], 2 of KFold 5\n",
            "ExtraTreesClassifier Precission: [0.7619047619047619], 2 of KFold 5\n",
            "ExtraTreesClassifier AUC: [0.7462962962962963], 2 of KFold 5\n",
            "---------------------------\n",
            "----------AFTER------------\n",
            "ExtraTreesClassifier Acc Train: [1.0, 1.0], 2 of KFold 5\n",
            "ExtraTreesClassifier Acc Test: [0.7922077922077922, 0.7467532467532467], 2 of KFold 5\n",
            "ExtraTreesClassifier Recall: [0.5925925925925926, 0.5740740740740741], 2 of KFold 5\n",
            "ExtraTreesClassifier Precission: [0.7619047619047619, 0.6595744680851063], 2 of KFold 5\n",
            "ExtraTreesClassifier AUC: [0.7462962962962963, 0.7070370370370369], 2 of KFold 5\n",
            "---------------------------\n",
            "----------BEFORE------------\n",
            "ExtraTreesClassifier Acc Train: [1.0, 1.0], 3 of KFold 5\n",
            "ExtraTreesClassifier Acc Test: [0.7922077922077922, 0.7467532467532467], 3 of KFold 5\n",
            "ExtraTreesClassifier Recall: [0.5925925925925926, 0.5740740740740741], 3 of KFold 5\n",
            "ExtraTreesClassifier Precission: [0.7619047619047619, 0.6595744680851063], 3 of KFold 5\n",
            "ExtraTreesClassifier AUC: [0.7462962962962963, 0.7070370370370369], 3 of KFold 5\n",
            "---------------------------\n",
            "----------AFTER------------\n",
            "ExtraTreesClassifier Acc Train: [1.0, 1.0, 1.0], 3 of KFold 5\n",
            "ExtraTreesClassifier Acc Test: [0.7922077922077922, 0.7467532467532467, 0.7857142857142857], 3 of KFold 5\n",
            "ExtraTreesClassifier Recall: [0.5925925925925926, 0.5740740740740741, 0.5925925925925926], 3 of KFold 5\n",
            "ExtraTreesClassifier Precission: [0.7619047619047619, 0.6595744680851063, 0.7441860465116279], 3 of KFold 5\n",
            "ExtraTreesClassifier AUC: [0.7462962962962963, 0.7070370370370369, 0.7412962962962963], 3 of KFold 5\n",
            "---------------------------\n",
            "----------BEFORE------------\n",
            "ExtraTreesClassifier Acc Train: [1.0, 1.0, 1.0], 4 of KFold 5\n",
            "ExtraTreesClassifier Acc Test: [0.7922077922077922, 0.7467532467532467, 0.7857142857142857], 4 of KFold 5\n",
            "ExtraTreesClassifier Recall: [0.5925925925925926, 0.5740740740740741, 0.5925925925925926], 4 of KFold 5\n",
            "ExtraTreesClassifier Precission: [0.7619047619047619, 0.6595744680851063, 0.7441860465116279], 4 of KFold 5\n",
            "ExtraTreesClassifier AUC: [0.7462962962962963, 0.7070370370370369, 0.7412962962962963], 4 of KFold 5\n",
            "---------------------------\n",
            "----------AFTER------------\n",
            "ExtraTreesClassifier Acc Train: [1.0, 1.0, 1.0, 1.0], 4 of KFold 5\n",
            "ExtraTreesClassifier Acc Test: [0.7922077922077922, 0.7467532467532467, 0.7857142857142857, 0.7450980392156863], 4 of KFold 5\n",
            "ExtraTreesClassifier Recall: [0.5925925925925926, 0.5740740740740741, 0.5925925925925926, 0.5471698113207547], 4 of KFold 5\n",
            "ExtraTreesClassifier Precission: [0.7619047619047619, 0.6595744680851063, 0.7441860465116279, 0.6590909090909091], 4 of KFold 5\n",
            "ExtraTreesClassifier AUC: [0.7462962962962963, 0.7070370370370369, 0.7412962962962963, 0.6985849056603773], 4 of KFold 5\n",
            "---------------------------\n",
            "----------BEFORE------------\n",
            "ExtraTreesClassifier Acc Train: [1.0, 1.0, 1.0, 1.0], 5 of KFold 5\n",
            "ExtraTreesClassifier Acc Test: [0.7922077922077922, 0.7467532467532467, 0.7857142857142857, 0.7450980392156863], 5 of KFold 5\n",
            "ExtraTreesClassifier Recall: [0.5925925925925926, 0.5740740740740741, 0.5925925925925926, 0.5471698113207547], 5 of KFold 5\n",
            "ExtraTreesClassifier Precission: [0.7619047619047619, 0.6595744680851063, 0.7441860465116279, 0.6590909090909091], 5 of KFold 5\n",
            "ExtraTreesClassifier AUC: [0.7462962962962963, 0.7070370370370369, 0.7412962962962963, 0.6985849056603773], 5 of KFold 5\n",
            "---------------------------\n",
            "----------AFTER------------\n",
            "ExtraTreesClassifier Acc Train: [1.0, 1.0, 1.0, 1.0, 1.0], 5 of KFold 5\n",
            "ExtraTreesClassifier Acc Test: [0.7922077922077922, 0.7467532467532467, 0.7857142857142857, 0.7450980392156863, 0.7516339869281046], 5 of KFold 5\n",
            "ExtraTreesClassifier Recall: [0.5925925925925926, 0.5740740740740741, 0.5925925925925926, 0.5471698113207547, 0.5660377358490566], 5 of KFold 5\n",
            "ExtraTreesClassifier Precission: [0.7619047619047619, 0.6595744680851063, 0.7441860465116279, 0.6590909090909091, 0.6666666666666666], 5 of KFold 5\n",
            "ExtraTreesClassifier AUC: [0.7462962962962963, 0.7070370370370369, 0.7412962962962963, 0.6985849056603773, 0.7080188679245283], 5 of KFold 5\n",
            "---------------------------\n",
            "----------FINAL------------\n",
            "ExtraTreesClassifier Acc Train: 1.0\n",
            "ExtraTreesClassifier Acc Test: 0.7642814701638231\n",
            "ExtraTreesClassifier Recall: 0.5744933612858141\n",
            "ExtraTreesClassifier Precission: 0.6982845704518144\n",
            "ExtraTreesClassifier AUC: 0.720246680642907\n",
            "---------------------------\n",
            "----------BEFORE------------\n",
            "XGBClassifier Acc Train: [], 1 of KFold 5\n",
            "XGBClassifier Acc Test: [], 1 of KFold 5\n",
            "XGBClassifier Recall: [], 1 of KFold 5\n",
            "XGBClassifier Precission: [], 1 of KFold 5\n",
            "XGBClassifier AUC: [], 1 of KFold 5\n",
            "---------------------------\n",
            "----------AFTER------------\n",
            "XGBClassifier Acc Train: [0.8811074918566775], 1 of KFold 5\n",
            "XGBClassifier Acc Test: [0.7662337662337663], 1 of KFold 5\n",
            "XGBClassifier Recall: [0.5925925925925926], 1 of KFold 5\n",
            "XGBClassifier Precission: [0.6956521739130435], 1 of KFold 5\n",
            "XGBClassifier AUC: [0.7262962962962962], 1 of KFold 5\n",
            "---------------------------\n",
            "----------BEFORE------------\n",
            "XGBClassifier Acc Train: [0.8811074918566775], 2 of KFold 5\n",
            "XGBClassifier Acc Test: [0.7662337662337663], 2 of KFold 5\n",
            "XGBClassifier Recall: [0.5925925925925926], 2 of KFold 5\n",
            "XGBClassifier Precission: [0.6956521739130435], 2 of KFold 5\n",
            "XGBClassifier AUC: [0.7262962962962962], 2 of KFold 5\n",
            "---------------------------\n",
            "----------AFTER------------\n",
            "XGBClassifier Acc Train: [0.8811074918566775, 0.8973941368078175], 2 of KFold 5\n",
            "XGBClassifier Acc Test: [0.7662337662337663, 0.7857142857142857], 2 of KFold 5\n",
            "XGBClassifier Recall: [0.5925925925925926, 0.5925925925925926], 2 of KFold 5\n",
            "XGBClassifier Precission: [0.6956521739130435, 0.7441860465116279], 2 of KFold 5\n",
            "XGBClassifier AUC: [0.7262962962962962, 0.7412962962962963], 2 of KFold 5\n",
            "---------------------------\n",
            "----------BEFORE------------\n",
            "XGBClassifier Acc Train: [0.8811074918566775, 0.8973941368078175], 3 of KFold 5\n",
            "XGBClassifier Acc Test: [0.7662337662337663, 0.7857142857142857], 3 of KFold 5\n",
            "XGBClassifier Recall: [0.5925925925925926, 0.5925925925925926], 3 of KFold 5\n",
            "XGBClassifier Precission: [0.6956521739130435, 0.7441860465116279], 3 of KFold 5\n",
            "XGBClassifier AUC: [0.7262962962962962, 0.7412962962962963], 3 of KFold 5\n",
            "---------------------------\n",
            "----------AFTER------------\n",
            "XGBClassifier Acc Train: [0.8811074918566775, 0.8973941368078175, 0.8794788273615635], 3 of KFold 5\n",
            "XGBClassifier Acc Test: [0.7662337662337663, 0.7857142857142857, 0.7792207792207793], 3 of KFold 5\n",
            "XGBClassifier Recall: [0.5925925925925926, 0.5925925925925926, 0.6111111111111112], 3 of KFold 5\n",
            "XGBClassifier Precission: [0.6956521739130435, 0.7441860465116279, 0.717391304347826], 3 of KFold 5\n",
            "XGBClassifier AUC: [0.7262962962962962, 0.7412962962962963, 0.7405555555555555], 3 of KFold 5\n",
            "---------------------------\n",
            "----------BEFORE------------\n",
            "XGBClassifier Acc Train: [0.8811074918566775, 0.8973941368078175, 0.8794788273615635], 4 of KFold 5\n",
            "XGBClassifier Acc Test: [0.7662337662337663, 0.7857142857142857, 0.7792207792207793], 4 of KFold 5\n",
            "XGBClassifier Recall: [0.5925925925925926, 0.5925925925925926, 0.6111111111111112], 4 of KFold 5\n",
            "XGBClassifier Precission: [0.6956521739130435, 0.7441860465116279, 0.717391304347826], 4 of KFold 5\n",
            "XGBClassifier AUC: [0.7262962962962962, 0.7412962962962963, 0.7405555555555555], 4 of KFold 5\n",
            "---------------------------\n",
            "----------AFTER------------\n",
            "XGBClassifier Acc Train: [0.8811074918566775, 0.8973941368078175, 0.8794788273615635, 0.8861788617886179], 4 of KFold 5\n",
            "XGBClassifier Acc Test: [0.7662337662337663, 0.7857142857142857, 0.7792207792207793, 0.7581699346405228], 4 of KFold 5\n",
            "XGBClassifier Recall: [0.5925925925925926, 0.5925925925925926, 0.6111111111111112, 0.6415094339622641], 4 of KFold 5\n",
            "XGBClassifier Precission: [0.6956521739130435, 0.7441860465116279, 0.717391304347826, 0.6538461538461539], 4 of KFold 5\n",
            "XGBClassifier AUC: [0.7262962962962962, 0.7412962962962963, 0.7405555555555555, 0.730754716981132], 4 of KFold 5\n",
            "---------------------------\n",
            "----------BEFORE------------\n",
            "XGBClassifier Acc Train: [0.8811074918566775, 0.8973941368078175, 0.8794788273615635, 0.8861788617886179], 5 of KFold 5\n",
            "XGBClassifier Acc Test: [0.7662337662337663, 0.7857142857142857, 0.7792207792207793, 0.7581699346405228], 5 of KFold 5\n",
            "XGBClassifier Recall: [0.5925925925925926, 0.5925925925925926, 0.6111111111111112, 0.6415094339622641], 5 of KFold 5\n",
            "XGBClassifier Precission: [0.6956521739130435, 0.7441860465116279, 0.717391304347826, 0.6538461538461539], 5 of KFold 5\n",
            "XGBClassifier AUC: [0.7262962962962962, 0.7412962962962963, 0.7405555555555555, 0.730754716981132], 5 of KFold 5\n",
            "---------------------------\n",
            "----------AFTER------------\n",
            "XGBClassifier Acc Train: [0.8811074918566775, 0.8973941368078175, 0.8794788273615635, 0.8861788617886179, 0.8975609756097561], 5 of KFold 5\n",
            "XGBClassifier Acc Test: [0.7662337662337663, 0.7857142857142857, 0.7792207792207793, 0.7581699346405228, 0.7450980392156863], 5 of KFold 5\n",
            "XGBClassifier Recall: [0.5925925925925926, 0.5925925925925926, 0.6111111111111112, 0.6415094339622641, 0.6037735849056604], 5 of KFold 5\n",
            "XGBClassifier Precission: [0.6956521739130435, 0.7441860465116279, 0.717391304347826, 0.6538461538461539, 0.64], 5 of KFold 5\n",
            "XGBClassifier AUC: [0.7262962962962962, 0.7412962962962963, 0.7405555555555555, 0.730754716981132, 0.7118867924528303], 5 of KFold 5\n",
            "---------------------------\n",
            "----------FINAL------------\n",
            "XGBClassifier Acc Train: 0.8883440586848865\n",
            "XGBClassifier Acc Test: 0.7668873610050081\n",
            "XGBClassifier Recall: 0.6083158630328441\n",
            "XGBClassifier Precission: 0.6902151357237303\n",
            "XGBClassifier AUC: 0.730157931516422\n",
            "---------------------------\n"
          ]
        }
      ]
    },
    {
      "cell_type": "markdown",
      "source": [
        "##Compare and pick the best model"
      ],
      "metadata": {
        "id": "NcdqPQzfgukD"
      }
    },
    {
      "cell_type": "markdown",
      "source": [
        "Setelah dibuat model kemudia kita melakukan evaluasi model mana yang terbaik"
      ],
      "metadata": {
        "id": "cJpbZeTXkuux"
      }
    },
    {
      "cell_type": "code",
      "source": [
        "## compare model each other\n",
        "data_hasil = pd.DataFrame()\n",
        "data_hasil['model'] = model_name\n",
        "data_hasil['Accuracy training'] = datatr\n",
        "data_hasil['Accuracy test'] = datasc\n",
        "data_hasil['Precision'] = Precision\n",
        "data_hasil['Recall']= Recall\n",
        "data_hasil['AUC']=auc\n",
        "data_hasil['gap'] = abs(data_hasil['Accuracy training'] - data_hasil['Accuracy test'])\n",
        "data_hasil.sort_values(by='Accuracy test',ascending=False)"
      ],
      "metadata": {
        "execution": {
          "iopub.status.busy": "2022-09-03T07:38:33.823445Z",
          "iopub.execute_input": "2022-09-03T07:38:33.823929Z",
          "iopub.status.idle": "2022-09-03T07:38:33.852615Z",
          "shell.execute_reply.started": "2022-09-03T07:38:33.823892Z",
          "shell.execute_reply": "2022-09-03T07:38:33.851120Z"
        },
        "trusted": true,
        "id": "v45Cpg33biCr",
        "colab": {
          "base_uri": "https://localhost:8080/",
          "height": 363
        },
        "outputId": "b258533a-3944-4253-dcd7-8fbf053a34ef"
      },
      "execution_count": null,
      "outputs": [
        {
          "output_type": "execute_result",
          "data": {
            "text/plain": [
              "                        model  Accuracy training  Accuracy test  Precision  \\\n",
              "1          LogisticRegression           0.778318       0.778635   0.739608   \n",
              "9               XGBClassifier           0.888344       0.766887   0.690215   \n",
              "6      RandomForestClassifier           1.000000       0.766853   0.693999   \n",
              "7  GradientBoostingClassifier           0.922201       0.763000   0.679805   \n",
              "4                         SVC           0.768880       0.760368   0.738830   \n",
              "8        ExtraTreesClassifier           1.000000       0.756532   0.685554   \n",
              "3                  GaussianNB           0.764644       0.755165   0.662043   \n",
              "2        KNeighborsClassifier           0.805013       0.697869   0.577913   \n",
              "0      DecisionTreeClassifier           1.000000       0.686096   0.555131   \n",
              "5                   LinearSVC           0.662109       0.684933   0.492273   \n",
              "\n",
              "     Recall       AUC       gap  \n",
              "1  0.567365  0.729683  0.000317  \n",
              "9  0.608316  0.730158  0.121457  \n",
              "6  0.600629  0.728314  0.233147  \n",
              "7  0.615933  0.728966  0.159201  \n",
              "4  0.488819  0.697410  0.008511  \n",
              "8  0.559748  0.710874  0.243468  \n",
              "3  0.619217  0.723609  0.009479  \n",
              "2  0.503634  0.652817  0.107143  \n",
              "0  0.578197  0.661099  0.313904  \n",
              "5  0.350734  0.607367  0.022825  "
            ],
            "text/html": [
              "\n",
              "  <div id=\"df-e5bd8295-6a78-4042-9db2-fb7b22006364\">\n",
              "    <div class=\"colab-df-container\">\n",
              "      <div>\n",
              "<style scoped>\n",
              "    .dataframe tbody tr th:only-of-type {\n",
              "        vertical-align: middle;\n",
              "    }\n",
              "\n",
              "    .dataframe tbody tr th {\n",
              "        vertical-align: top;\n",
              "    }\n",
              "\n",
              "    .dataframe thead th {\n",
              "        text-align: right;\n",
              "    }\n",
              "</style>\n",
              "<table border=\"1\" class=\"dataframe\">\n",
              "  <thead>\n",
              "    <tr style=\"text-align: right;\">\n",
              "      <th></th>\n",
              "      <th>model</th>\n",
              "      <th>Accuracy training</th>\n",
              "      <th>Accuracy test</th>\n",
              "      <th>Precision</th>\n",
              "      <th>Recall</th>\n",
              "      <th>AUC</th>\n",
              "      <th>gap</th>\n",
              "    </tr>\n",
              "  </thead>\n",
              "  <tbody>\n",
              "    <tr>\n",
              "      <th>1</th>\n",
              "      <td>LogisticRegression</td>\n",
              "      <td>0.778318</td>\n",
              "      <td>0.778635</td>\n",
              "      <td>0.739608</td>\n",
              "      <td>0.567365</td>\n",
              "      <td>0.729683</td>\n",
              "      <td>0.000317</td>\n",
              "    </tr>\n",
              "    <tr>\n",
              "      <th>9</th>\n",
              "      <td>XGBClassifier</td>\n",
              "      <td>0.888344</td>\n",
              "      <td>0.766887</td>\n",
              "      <td>0.690215</td>\n",
              "      <td>0.608316</td>\n",
              "      <td>0.730158</td>\n",
              "      <td>0.121457</td>\n",
              "    </tr>\n",
              "    <tr>\n",
              "      <th>6</th>\n",
              "      <td>RandomForestClassifier</td>\n",
              "      <td>1.000000</td>\n",
              "      <td>0.766853</td>\n",
              "      <td>0.693999</td>\n",
              "      <td>0.600629</td>\n",
              "      <td>0.728314</td>\n",
              "      <td>0.233147</td>\n",
              "    </tr>\n",
              "    <tr>\n",
              "      <th>7</th>\n",
              "      <td>GradientBoostingClassifier</td>\n",
              "      <td>0.922201</td>\n",
              "      <td>0.763000</td>\n",
              "      <td>0.679805</td>\n",
              "      <td>0.615933</td>\n",
              "      <td>0.728966</td>\n",
              "      <td>0.159201</td>\n",
              "    </tr>\n",
              "    <tr>\n",
              "      <th>4</th>\n",
              "      <td>SVC</td>\n",
              "      <td>0.768880</td>\n",
              "      <td>0.760368</td>\n",
              "      <td>0.738830</td>\n",
              "      <td>0.488819</td>\n",
              "      <td>0.697410</td>\n",
              "      <td>0.008511</td>\n",
              "    </tr>\n",
              "    <tr>\n",
              "      <th>8</th>\n",
              "      <td>ExtraTreesClassifier</td>\n",
              "      <td>1.000000</td>\n",
              "      <td>0.756532</td>\n",
              "      <td>0.685554</td>\n",
              "      <td>0.559748</td>\n",
              "      <td>0.710874</td>\n",
              "      <td>0.243468</td>\n",
              "    </tr>\n",
              "    <tr>\n",
              "      <th>3</th>\n",
              "      <td>GaussianNB</td>\n",
              "      <td>0.764644</td>\n",
              "      <td>0.755165</td>\n",
              "      <td>0.662043</td>\n",
              "      <td>0.619217</td>\n",
              "      <td>0.723609</td>\n",
              "      <td>0.009479</td>\n",
              "    </tr>\n",
              "    <tr>\n",
              "      <th>2</th>\n",
              "      <td>KNeighborsClassifier</td>\n",
              "      <td>0.805013</td>\n",
              "      <td>0.697869</td>\n",
              "      <td>0.577913</td>\n",
              "      <td>0.503634</td>\n",
              "      <td>0.652817</td>\n",
              "      <td>0.107143</td>\n",
              "    </tr>\n",
              "    <tr>\n",
              "      <th>0</th>\n",
              "      <td>DecisionTreeClassifier</td>\n",
              "      <td>1.000000</td>\n",
              "      <td>0.686096</td>\n",
              "      <td>0.555131</td>\n",
              "      <td>0.578197</td>\n",
              "      <td>0.661099</td>\n",
              "      <td>0.313904</td>\n",
              "    </tr>\n",
              "    <tr>\n",
              "      <th>5</th>\n",
              "      <td>LinearSVC</td>\n",
              "      <td>0.662109</td>\n",
              "      <td>0.684933</td>\n",
              "      <td>0.492273</td>\n",
              "      <td>0.350734</td>\n",
              "      <td>0.607367</td>\n",
              "      <td>0.022825</td>\n",
              "    </tr>\n",
              "  </tbody>\n",
              "</table>\n",
              "</div>\n",
              "      <button class=\"colab-df-convert\" onclick=\"convertToInteractive('df-e5bd8295-6a78-4042-9db2-fb7b22006364')\"\n",
              "              title=\"Convert this dataframe to an interactive table.\"\n",
              "              style=\"display:none;\">\n",
              "        \n",
              "  <svg xmlns=\"http://www.w3.org/2000/svg\" height=\"24px\"viewBox=\"0 0 24 24\"\n",
              "       width=\"24px\">\n",
              "    <path d=\"M0 0h24v24H0V0z\" fill=\"none\"/>\n",
              "    <path d=\"M18.56 5.44l.94 2.06.94-2.06 2.06-.94-2.06-.94-.94-2.06-.94 2.06-2.06.94zm-11 1L8.5 8.5l.94-2.06 2.06-.94-2.06-.94L8.5 2.5l-.94 2.06-2.06.94zm10 10l.94 2.06.94-2.06 2.06-.94-2.06-.94-.94-2.06-.94 2.06-2.06.94z\"/><path d=\"M17.41 7.96l-1.37-1.37c-.4-.4-.92-.59-1.43-.59-.52 0-1.04.2-1.43.59L10.3 9.45l-7.72 7.72c-.78.78-.78 2.05 0 2.83L4 21.41c.39.39.9.59 1.41.59.51 0 1.02-.2 1.41-.59l7.78-7.78 2.81-2.81c.8-.78.8-2.07 0-2.86zM5.41 20L4 18.59l7.72-7.72 1.47 1.35L5.41 20z\"/>\n",
              "  </svg>\n",
              "      </button>\n",
              "      \n",
              "  <style>\n",
              "    .colab-df-container {\n",
              "      display:flex;\n",
              "      flex-wrap:wrap;\n",
              "      gap: 12px;\n",
              "    }\n",
              "\n",
              "    .colab-df-convert {\n",
              "      background-color: #E8F0FE;\n",
              "      border: none;\n",
              "      border-radius: 50%;\n",
              "      cursor: pointer;\n",
              "      display: none;\n",
              "      fill: #1967D2;\n",
              "      height: 32px;\n",
              "      padding: 0 0 0 0;\n",
              "      width: 32px;\n",
              "    }\n",
              "\n",
              "    .colab-df-convert:hover {\n",
              "      background-color: #E2EBFA;\n",
              "      box-shadow: 0px 1px 2px rgba(60, 64, 67, 0.3), 0px 1px 3px 1px rgba(60, 64, 67, 0.15);\n",
              "      fill: #174EA6;\n",
              "    }\n",
              "\n",
              "    [theme=dark] .colab-df-convert {\n",
              "      background-color: #3B4455;\n",
              "      fill: #D2E3FC;\n",
              "    }\n",
              "\n",
              "    [theme=dark] .colab-df-convert:hover {\n",
              "      background-color: #434B5C;\n",
              "      box-shadow: 0px 1px 3px 1px rgba(0, 0, 0, 0.15);\n",
              "      filter: drop-shadow(0px 1px 2px rgba(0, 0, 0, 0.3));\n",
              "      fill: #FFFFFF;\n",
              "    }\n",
              "  </style>\n",
              "\n",
              "      <script>\n",
              "        const buttonEl =\n",
              "          document.querySelector('#df-e5bd8295-6a78-4042-9db2-fb7b22006364 button.colab-df-convert');\n",
              "        buttonEl.style.display =\n",
              "          google.colab.kernel.accessAllowed ? 'block' : 'none';\n",
              "\n",
              "        async function convertToInteractive(key) {\n",
              "          const element = document.querySelector('#df-e5bd8295-6a78-4042-9db2-fb7b22006364');\n",
              "          const dataTable =\n",
              "            await google.colab.kernel.invokeFunction('convertToInteractive',\n",
              "                                                     [key], {});\n",
              "          if (!dataTable) return;\n",
              "\n",
              "          const docLinkHtml = 'Like what you see? Visit the ' +\n",
              "            '<a target=\"_blank\" href=https://colab.research.google.com/notebooks/data_table.ipynb>data table notebook</a>'\n",
              "            + ' to learn more about interactive tables.';\n",
              "          element.innerHTML = '';\n",
              "          dataTable['output_type'] = 'display_data';\n",
              "          await google.colab.output.renderOutput(dataTable, element);\n",
              "          const docLink = document.createElement('div');\n",
              "          docLink.innerHTML = docLinkHtml;\n",
              "          element.appendChild(docLink);\n",
              "        }\n",
              "      </script>\n",
              "    </div>\n",
              "  </div>\n",
              "  "
            ]
          },
          "metadata": {},
          "execution_count": 9
        }
      ]
    },
    {
      "cell_type": "markdown",
      "source": [
        "##Grid Search"
      ],
      "metadata": {
        "id": "Dk5ppyFlhE3m"
      }
    },
    {
      "cell_type": "markdown",
      "source": [
        "Ketika model yang terbaik dipilih maka selanjutnya adalah melakukan grid search untuk mencari hyperparameter terbaik"
      ],
      "metadata": {
        "id": "19v6eDSYk1Ds"
      }
    },
    {
      "cell_type": "code",
      "source": [
        "#Grid Search\n",
        "model = LogisticRegression(max_iter = 4000)\n",
        "\n",
        "param = dict()\n",
        "param['solver'] = ['newton-cg', 'lbfgs', 'liblinear']\n",
        "param['penalty'] = ['none', 'l1', 'l2', 'elasticnet']\n",
        "param['C'] = [0.00001, 0.0001, 0.001,0.003,0.005,0.01,0.03,0.05,0.1,0.3,0.5,1,2,3,3,4,5,10,20, 100]\n",
        "\n",
        "cv = RepeatedStratifiedKFold(n_splits=5, n_repeats=10, random_state=1)\n"
      ],
      "metadata": {
        "execution": {
          "iopub.status.busy": "2022-09-03T07:51:03.703514Z",
          "iopub.execute_input": "2022-09-03T07:51:03.704011Z",
          "iopub.status.idle": "2022-09-03T07:51:03.712156Z",
          "shell.execute_reply.started": "2022-09-03T07:51:03.703965Z",
          "shell.execute_reply": "2022-09-03T07:51:03.710835Z"
        },
        "trusted": true,
        "id": "rpGwMn59biCr"
      },
      "execution_count": null,
      "outputs": []
    },
    {
      "cell_type": "markdown",
      "source": [
        "##Pick the best hyperparameter"
      ],
      "metadata": {
        "id": "yWWbICb9hONY"
      }
    },
    {
      "cell_type": "code",
      "source": [
        "clf1 = GridSearchCV(model,param,  scoring='accuracy', n_jobs=-1, cv=cv, verbose = True)\n",
        "clf1.fit(X,y)"
      ],
      "metadata": {
        "execution": {
          "iopub.status.busy": "2022-09-03T07:51:34.976967Z",
          "iopub.execute_input": "2022-09-03T07:51:34.977377Z",
          "iopub.status.idle": "2022-09-03T07:53:05.547832Z",
          "shell.execute_reply.started": "2022-09-03T07:51:34.977344Z",
          "shell.execute_reply": "2022-09-03T07:53:05.546552Z"
        },
        "trusted": true,
        "id": "kCG_ofrRbiCr",
        "colab": {
          "base_uri": "https://localhost:8080/"
        },
        "outputId": "96d0f921-8661-47a3-d3ce-73fe6bf1b916"
      },
      "execution_count": null,
      "outputs": [
        {
          "output_type": "stream",
          "name": "stdout",
          "text": [
            "Fitting 50 folds for each of 240 candidates, totalling 12000 fits\n"
          ]
        },
        {
          "output_type": "execute_result",
          "data": {
            "text/plain": [
              "GridSearchCV(cv=RepeatedStratifiedKFold(n_repeats=10, n_splits=5, random_state=1),\n",
              "             estimator=LogisticRegression(max_iter=4000), n_jobs=-1,\n",
              "             param_grid={'C': [1e-05, 0.0001, 0.001, 0.003, 0.005, 0.01, 0.03,\n",
              "                               0.05, 0.1, 0.3, 0.5, 1, 2, 3, 3, 4, 5, 10, 20,\n",
              "                               100],\n",
              "                         'penalty': ['none', 'l1', 'l2', 'elasticnet'],\n",
              "                         'solver': ['newton-cg', 'lbfgs', 'liblinear']},\n",
              "             scoring='accuracy', verbose=True)"
            ]
          },
          "metadata": {},
          "execution_count": 22
        }
      ]
    },
    {
      "cell_type": "code",
      "source": [
        "print('Best Score: {}'.format(clf1.best_score_))\n",
        "print('Best Hyperparameters: {}'.format(clf1.best_params_))"
      ],
      "metadata": {
        "execution": {
          "iopub.status.busy": "2022-09-03T07:54:12.242019Z",
          "iopub.execute_input": "2022-09-03T07:54:12.242485Z",
          "iopub.status.idle": "2022-09-03T07:54:12.248886Z",
          "shell.execute_reply.started": "2022-09-03T07:54:12.242445Z",
          "shell.execute_reply": "2022-09-03T07:54:12.247994Z"
        },
        "trusted": true,
        "id": "RK8kbuv5biCr",
        "colab": {
          "base_uri": "https://localhost:8080/"
        },
        "outputId": "7cbf7a42-1b56-471d-c507-54e299219de6"
      },
      "execution_count": null,
      "outputs": [
        {
          "output_type": "stream",
          "name": "stdout",
          "text": [
            "Best Score: 0.7704261098378745\n",
            "Best Hyperparameters: {'C': 100, 'penalty': 'l2', 'solver': 'liblinear'}\n"
          ]
        }
      ]
    },
    {
      "cell_type": "code",
      "source": [
        "# clf2 = GridSearchCV(model,param,  scoring='recall', n_jobs=-1, cv=cv, verbose = True)\n",
        "# clf2.fit(X,y)"
      ],
      "metadata": {
        "execution": {
          "iopub.status.busy": "2022-09-03T07:54:15.535722Z",
          "iopub.execute_input": "2022-09-03T07:54:15.536170Z",
          "iopub.status.idle": "2022-09-03T07:55:48.718394Z",
          "shell.execute_reply.started": "2022-09-03T07:54:15.536137Z",
          "shell.execute_reply": "2022-09-03T07:55:48.717019Z"
        },
        "trusted": true,
        "id": "kg0YDMNzbiCr"
      },
      "execution_count": null,
      "outputs": []
    },
    {
      "cell_type": "code",
      "source": [
        "# print('Best Score: {}'.format(clf2.best_score_))\n",
        "# print('Best Hyperparameters: {}'.format(clf2.best_params_))"
      ],
      "metadata": {
        "execution": {
          "iopub.status.busy": "2022-09-03T07:57:17.539277Z",
          "iopub.execute_input": "2022-09-03T07:57:17.539796Z",
          "iopub.status.idle": "2022-09-03T07:57:17.547632Z",
          "shell.execute_reply.started": "2022-09-03T07:57:17.539735Z",
          "shell.execute_reply": "2022-09-03T07:57:17.546247Z"
        },
        "trusted": true,
        "id": "5-DLYHv-biCs"
      },
      "execution_count": null,
      "outputs": []
    },
    {
      "cell_type": "markdown",
      "source": [
        "##Split Train and Testing Dataset"
      ],
      "metadata": {
        "id": "8uqnFkORhboM"
      }
    },
    {
      "cell_type": "markdown",
      "source": [
        "Di sini kita membagi data train dan testing "
      ],
      "metadata": {
        "id": "5D7CRj3flE0C"
      }
    },
    {
      "cell_type": "code",
      "source": [
        "# Train-test split\n",
        "X_train, X_test, y_train, y_test = train_test_split(X, y, test_size=0.2, random_state=42)\n",
        "\n",
        "print(\"X_train dataset shape: \", X_train.shape)\n",
        "print(\"y_train dataset shape: \", y_train.shape)\n",
        "print(\"X_test dataset shape: \", X_test.shape)\n",
        "print(\"y_test dataset shape: \", y_test.shape)\n"
      ],
      "metadata": {
        "execution": {
          "iopub.status.busy": "2022-09-03T07:59:27.208654Z",
          "iopub.execute_input": "2022-09-03T07:59:27.209133Z",
          "iopub.status.idle": "2022-09-03T07:59:27.221240Z",
          "shell.execute_reply.started": "2022-09-03T07:59:27.209095Z",
          "shell.execute_reply": "2022-09-03T07:59:27.219730Z"
        },
        "trusted": true,
        "id": "AvvaMnQLbiCs",
        "colab": {
          "base_uri": "https://localhost:8080/"
        },
        "outputId": "b96ffa55-f118-40a2-96ec-ba32bf42bf74"
      },
      "execution_count": null,
      "outputs": [
        {
          "output_type": "stream",
          "name": "stdout",
          "text": [
            "X_train dataset shape:  (614, 8)\n",
            "y_train dataset shape:  (614,)\n",
            "X_test dataset shape:  (154, 8)\n",
            "y_test dataset shape:  (154,)\n"
          ]
        }
      ]
    },
    {
      "cell_type": "markdown",
      "source": [
        "##Practice Model"
      ],
      "metadata": {
        "id": "9LeS5ilyhiCh"
      }
    },
    {
      "cell_type": "markdown",
      "source": [
        "Kita melatih model machine learning yang telah kita buat"
      ],
      "metadata": {
        "id": "A1qBf2O2lM03"
      }
    },
    {
      "cell_type": "code",
      "source": [
        "# Melatih Model\n",
        "model = LogisticRegression(**clf1.best_params_).fit(X_train,y_train)"
      ],
      "metadata": {
        "execution": {
          "iopub.status.busy": "2022-09-03T08:01:30.639153Z",
          "iopub.execute_input": "2022-09-03T08:01:30.639619Z",
          "iopub.status.idle": "2022-09-03T08:01:30.690704Z",
          "shell.execute_reply.started": "2022-09-03T08:01:30.639582Z",
          "shell.execute_reply": "2022-09-03T08:01:30.689717Z"
        },
        "trusted": true,
        "id": "taVCR65vbiCs"
      },
      "execution_count": null,
      "outputs": []
    },
    {
      "cell_type": "code",
      "source": [
        "# Test Model\n",
        "y_pred_train=model.predict(X_train)\n",
        "print(classification_report(y_train,y_pred_train))"
      ],
      "metadata": {
        "execution": {
          "iopub.status.busy": "2022-09-03T08:01:28.232411Z",
          "iopub.execute_input": "2022-09-03T08:01:28.232938Z",
          "iopub.status.idle": "2022-09-03T08:01:28.251542Z",
          "shell.execute_reply.started": "2022-09-03T08:01:28.232894Z",
          "shell.execute_reply": "2022-09-03T08:01:28.250222Z"
        },
        "trusted": true,
        "id": "frRO-6DfbiCs",
        "colab": {
          "base_uri": "https://localhost:8080/"
        },
        "outputId": "30ea50a2-0bbf-4920-9325-46d21764fb0c"
      },
      "execution_count": null,
      "outputs": [
        {
          "output_type": "stream",
          "name": "stdout",
          "text": [
            "              precision    recall  f1-score   support\n",
            "\n",
            "         0.0       0.80      0.89      0.84       401\n",
            "         1.0       0.73      0.58      0.64       213\n",
            "\n",
            "    accuracy                           0.78       614\n",
            "   macro avg       0.76      0.73      0.74       614\n",
            "weighted avg       0.77      0.78      0.77       614\n",
            "\n"
          ]
        }
      ]
    },
    {
      "cell_type": "markdown",
      "source": [
        "#Confusion Matrix"
      ],
      "metadata": {
        "id": "sx8fjobdh3Dg"
      }
    },
    {
      "cell_type": "markdown",
      "source": [
        "Hasil akhirnya kita melihat confusion matrix yang terbentuk"
      ],
      "metadata": {
        "id": "vW7l5z0HlQzw"
      }
    },
    {
      "cell_type": "code",
      "source": [
        "cm_train = confusion_matrix(y_pred_train, y_train)\n",
        "print('Confusion Matrix: {}'.format(cm_train))\n",
        "## visualisasi\n",
        "sns.heatmap(cm_train, annot=True, fmt='d', cmap=\"Blues\")"
      ],
      "metadata": {
        "execution": {
          "iopub.status.busy": "2022-09-03T08:08:41.562107Z",
          "iopub.execute_input": "2022-09-03T08:08:41.562521Z",
          "iopub.status.idle": "2022-09-03T08:08:41.831685Z",
          "shell.execute_reply.started": "2022-09-03T08:08:41.562487Z",
          "shell.execute_reply": "2022-09-03T08:08:41.830390Z"
        },
        "trusted": true,
        "id": "PPKAscAVbiCs",
        "colab": {
          "base_uri": "https://localhost:8080/",
          "height": 321
        },
        "outputId": "51b501f9-f76a-4226-ed59-5814a37a049b"
      },
      "execution_count": null,
      "outputs": [
        {
          "output_type": "stream",
          "name": "stdout",
          "text": [
            "Confusion Matrix: [[355  90]\n",
            " [ 46 123]]\n"
          ]
        },
        {
          "output_type": "execute_result",
          "data": {
            "text/plain": [
              "<matplotlib.axes._subplots.AxesSubplot at 0x7fbccd1b5490>"
            ]
          },
          "metadata": {},
          "execution_count": 27
        },
        {
          "output_type": "display_data",
          "data": {
            "text/plain": [
              "<Figure size 432x288 with 2 Axes>"
            ],
            "image/png": "[encoded data removed]"
          },
          "metadata": {
            "needs_background": "light"
          }
        }
      ]
    }
  ]
}