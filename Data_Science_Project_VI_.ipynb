{
  "nbformat": 4,
  "nbformat_minor": 0,
  "metadata": {
    "colab": {
      "provenance": [],
      "collapsed_sections": []
    },
    "kernelspec": {
      "name": "python3",
      "display_name": "Python 3"
    },
    "language_info": {
      "name": "python"
    }
  },
  "cells": [
    {
      "cell_type": "markdown",
      "source": [
        "#Mounting"
      ],
      "metadata": {
        "id": "pmGL89ypcdnN"
      }
    },
    {
      "cell_type": "code",
      "execution_count": 1,
      "metadata": {
        "colab": {
          "base_uri": "https://localhost:8080/"
        },
        "id": "AOGr-DBgb75q",
        "outputId": "38013c61-2525-4d3c-dfb0-82275bad8647"
      },
      "outputs": [
        {
          "output_type": "stream",
          "name": "stdout",
          "text": [
            "Mounted at /content/drive\n"
          ]
        }
      ],
      "source": [
        "from google.colab import drive\n",
        "drive.mount('/content/drive')\n",
        "import os\n",
        "myDirFiles = \"/content/drive/MyDrive/Pandas\"\n",
        "os.chdir(myDirFiles)"
      ]
    },
    {
      "cell_type": "markdown",
      "source": [
        "#Load Data"
      ],
      "metadata": {
        "id": "Y-YSBr3ieq8R"
      }
    },
    {
      "cell_type": "code",
      "source": [
        "import os\n",
        "import sys\n",
        "import pandas as pd\n",
        "import seaborn as sns\n",
        "import numpy as np"
      ],
      "metadata": {
        "id": "gZg80soyesa6"
      },
      "execution_count": 2,
      "outputs": []
    },
    {
      "cell_type": "code",
      "source": [
        "df = pd.read_csv('customer-segmentation.csv')\n",
        "df.head()"
      ],
      "metadata": {
        "colab": {
          "base_uri": "https://localhost:8080/",
          "height": 354
        },
        "id": "_tIyzhkCezaS",
        "outputId": "25dfc3a6-041c-45c1-9f2b-85440f2f6d4a"
      },
      "execution_count": 3,
      "outputs": [
        {
          "output_type": "execute_result",
          "data": {
            "text/plain": [
              "   Row ID        Order ID  Order Date   Ship Date       Ship Mode Customer ID  \\\n",
              "0       1  CA-2017-152156  08/11/2017  11/11/2017    Second Class    CG-12520   \n",
              "1       2  CA-2017-152156  08/11/2017  11/11/2017    Second Class    CG-12520   \n",
              "2       3  CA-2017-138688  12/06/2017  16/06/2017    Second Class    DV-13045   \n",
              "3       4  US-2016-108966  11/10/2016  18/10/2016  Standard Class    SO-20335   \n",
              "4       5  US-2016-108966  11/10/2016  18/10/2016  Standard Class    SO-20335   \n",
              "\n",
              "     Customer Name    Segment        Country             City       State  \\\n",
              "0      Claire Gute   Consumer  United States        Henderson    Kentucky   \n",
              "1      Claire Gute   Consumer  United States        Henderson    Kentucky   \n",
              "2  Darrin Van Huff  Corporate  United States      Los Angeles  California   \n",
              "3   Sean O'Donnell   Consumer  United States  Fort Lauderdale     Florida   \n",
              "4   Sean O'Donnell   Consumer  United States  Fort Lauderdale     Florida   \n",
              "\n",
              "   Postal Code Region       Product ID         Category Sub-Category  \\\n",
              "0      42420.0  South  FUR-BO-10001798        Furniture    Bookcases   \n",
              "1      42420.0  South  FUR-CH-10000454        Furniture       Chairs   \n",
              "2      90036.0   West  OFF-LA-10000240  Office Supplies       Labels   \n",
              "3      33311.0  South  FUR-TA-10000577        Furniture       Tables   \n",
              "4      33311.0  South  OFF-ST-10000760  Office Supplies      Storage   \n",
              "\n",
              "                                        Product Name     Sales  \n",
              "0                  Bush Somerset Collection Bookcase  261.9600  \n",
              "1  Hon Deluxe Fabric Upholstered Stacking Chairs,...  731.9400  \n",
              "2  Self-Adhesive Address Labels for Typewriters b...   14.6200  \n",
              "3      Bretford CR4500 Series Slim Rectangular Table  957.5775  \n",
              "4                     Eldon Fold 'N Roll Cart System   22.3680  "
            ],
            "text/html": [
              "\n",
              "  <div id=\"df-d63c9130-ddb1-4c12-bea8-100642c15e52\">\n",
              "    <div class=\"colab-df-container\">\n",
              "      <div>\n",
              "<style scoped>\n",
              "    .dataframe tbody tr th:only-of-type {\n",
              "        vertical-align: middle;\n",
              "    }\n",
              "\n",
              "    .dataframe tbody tr th {\n",
              "        vertical-align: top;\n",
              "    }\n",
              "\n",
              "    .dataframe thead th {\n",
              "        text-align: right;\n",
              "    }\n",
              "</style>\n",
              "<table border=\"1\" class=\"dataframe\">\n",
              "  <thead>\n",
              "    <tr style=\"text-align: right;\">\n",
              "      <th></th>\n",
              "      <th>Row ID</th>\n",
              "      <th>Order ID</th>\n",
              "      <th>Order Date</th>\n",
              "      <th>Ship Date</th>\n",
              "      <th>Ship Mode</th>\n",
              "      <th>Customer ID</th>\n",
              "      <th>Customer Name</th>\n",
              "      <th>Segment</th>\n",
              "      <th>Country</th>\n",
              "      <th>City</th>\n",
              "      <th>State</th>\n",
              "      <th>Postal Code</th>\n",
              "      <th>Region</th>\n",
              "      <th>Product ID</th>\n",
              "      <th>Category</th>\n",
              "      <th>Sub-Category</th>\n",
              "      <th>Product Name</th>\n",
              "      <th>Sales</th>\n",
              "    </tr>\n",
              "  </thead>\n",
              "  <tbody>\n",
              "    <tr>\n",
              "      <th>0</th>\n",
              "      <td>1</td>\n",
              "      <td>CA-2017-152156</td>\n",
              "      <td>08/11/2017</td>\n",
              "      <td>11/11/2017</td>\n",
              "      <td>Second Class</td>\n",
              "      <td>CG-12520</td>\n",
              "      <td>Claire Gute</td>\n",
              "      <td>Consumer</td>\n",
              "      <td>United States</td>\n",
              "      <td>Henderson</td>\n",
              "      <td>Kentucky</td>\n",
              "      <td>42420.0</td>\n",
              "      <td>South</td>\n",
              "      <td>FUR-BO-10001798</td>\n",
              "      <td>Furniture</td>\n",
              "      <td>Bookcases</td>\n",
              "      <td>Bush Somerset Collection Bookcase</td>\n",
              "      <td>261.9600</td>\n",
              "    </tr>\n",
              "    <tr>\n",
              "      <th>1</th>\n",
              "      <td>2</td>\n",
              "      <td>CA-2017-152156</td>\n",
              "      <td>08/11/2017</td>\n",
              "      <td>11/11/2017</td>\n",
              "      <td>Second Class</td>\n",
              "      <td>CG-12520</td>\n",
              "      <td>Claire Gute</td>\n",
              "      <td>Consumer</td>\n",
              "      <td>United States</td>\n",
              "      <td>Henderson</td>\n",
              "      <td>Kentucky</td>\n",
              "      <td>42420.0</td>\n",
              "      <td>South</td>\n",
              "      <td>FUR-CH-10000454</td>\n",
              "      <td>Furniture</td>\n",
              "      <td>Chairs</td>\n",
              "      <td>Hon Deluxe Fabric Upholstered Stacking Chairs,...</td>\n",
              "      <td>731.9400</td>\n",
              "    </tr>\n",
              "    <tr>\n",
              "      <th>2</th>\n",
              "      <td>3</td>\n",
              "      <td>CA-2017-138688</td>\n",
              "      <td>12/06/2017</td>\n",
              "      <td>16/06/2017</td>\n",
              "      <td>Second Class</td>\n",
              "      <td>DV-13045</td>\n",
              "      <td>Darrin Van Huff</td>\n",
              "      <td>Corporate</td>\n",
              "      <td>United States</td>\n",
              "      <td>Los Angeles</td>\n",
              "      <td>California</td>\n",
              "      <td>90036.0</td>\n",
              "      <td>West</td>\n",
              "      <td>OFF-LA-10000240</td>\n",
              "      <td>Office Supplies</td>\n",
              "      <td>Labels</td>\n",
              "      <td>Self-Adhesive Address Labels for Typewriters b...</td>\n",
              "      <td>14.6200</td>\n",
              "    </tr>\n",
              "    <tr>\n",
              "      <th>3</th>\n",
              "      <td>4</td>\n",
              "      <td>US-2016-108966</td>\n",
              "      <td>11/10/2016</td>\n",
              "      <td>18/10/2016</td>\n",
              "      <td>Standard Class</td>\n",
              "      <td>SO-20335</td>\n",
              "      <td>Sean O'Donnell</td>\n",
              "      <td>Consumer</td>\n",
              "      <td>United States</td>\n",
              "      <td>Fort Lauderdale</td>\n",
              "      <td>Florida</td>\n",
              "      <td>33311.0</td>\n",
              "      <td>South</td>\n",
              "      <td>FUR-TA-10000577</td>\n",
              "      <td>Furniture</td>\n",
              "      <td>Tables</td>\n",
              "      <td>Bretford CR4500 Series Slim Rectangular Table</td>\n",
              "      <td>957.5775</td>\n",
              "    </tr>\n",
              "    <tr>\n",
              "      <th>4</th>\n",
              "      <td>5</td>\n",
              "      <td>US-2016-108966</td>\n",
              "      <td>11/10/2016</td>\n",
              "      <td>18/10/2016</td>\n",
              "      <td>Standard Class</td>\n",
              "      <td>SO-20335</td>\n",
              "      <td>Sean O'Donnell</td>\n",
              "      <td>Consumer</td>\n",
              "      <td>United States</td>\n",
              "      <td>Fort Lauderdale</td>\n",
              "      <td>Florida</td>\n",
              "      <td>33311.0</td>\n",
              "      <td>South</td>\n",
              "      <td>OFF-ST-10000760</td>\n",
              "      <td>Office Supplies</td>\n",
              "      <td>Storage</td>\n",
              "      <td>Eldon Fold 'N Roll Cart System</td>\n",
              "      <td>22.3680</td>\n",
              "    </tr>\n",
              "  </tbody>\n",
              "</table>\n",
              "</div>\n",
              "      <button class=\"colab-df-convert\" onclick=\"convertToInteractive('df-d63c9130-ddb1-4c12-bea8-100642c15e52')\"\n",
              "              title=\"Convert this dataframe to an interactive table.\"\n",
              "              style=\"display:none;\">\n",
              "        \n",
              "  <svg xmlns=\"http://www.w3.org/2000/svg\" height=\"24px\"viewBox=\"0 0 24 24\"\n",
              "       width=\"24px\">\n",
              "    <path d=\"M0 0h24v24H0V0z\" fill=\"none\"/>\n",
              "    <path d=\"M18.56 5.44l.94 2.06.94-2.06 2.06-.94-2.06-.94-.94-2.06-.94 2.06-2.06.94zm-11 1L8.5 8.5l.94-2.06 2.06-.94-2.06-.94L8.5 2.5l-.94 2.06-2.06.94zm10 10l.94 2.06.94-2.06 2.06-.94-2.06-.94-.94-2.06-.94 2.06-2.06.94z\"/><path d=\"M17.41 7.96l-1.37-1.37c-.4-.4-.92-.59-1.43-.59-.52 0-1.04.2-1.43.59L10.3 9.45l-7.72 7.72c-.78.78-.78 2.05 0 2.83L4 21.41c.39.39.9.59 1.41.59.51 0 1.02-.2 1.41-.59l7.78-7.78 2.81-2.81c.8-.78.8-2.07 0-2.86zM5.41 20L4 18.59l7.72-7.72 1.47 1.35L5.41 20z\"/>\n",
              "  </svg>\n",
              "      </button>\n",
              "      \n",
              "  <style>\n",
              "    .colab-df-container {\n",
              "      display:flex;\n",
              "      flex-wrap:wrap;\n",
              "      gap: 12px;\n",
              "    }\n",
              "\n",
              "    .colab-df-convert {\n",
              "      background-color: #E8F0FE;\n",
              "      border: none;\n",
              "      border-radius: 50%;\n",
              "      cursor: pointer;\n",
              "      display: none;\n",
              "      fill: #1967D2;\n",
              "      height: 32px;\n",
              "      padding: 0 0 0 0;\n",
              "      width: 32px;\n",
              "    }\n",
              "\n",
              "    .colab-df-convert:hover {\n",
              "      background-color: #E2EBFA;\n",
              "      box-shadow: 0px 1px 2px rgba(60, 64, 67, 0.3), 0px 1px 3px 1px rgba(60, 64, 67, 0.15);\n",
              "      fill: #174EA6;\n",
              "    }\n",
              "\n",
              "    [theme=dark] .colab-df-convert {\n",
              "      background-color: #3B4455;\n",
              "      fill: #D2E3FC;\n",
              "    }\n",
              "\n",
              "    [theme=dark] .colab-df-convert:hover {\n",
              "      background-color: #434B5C;\n",
              "      box-shadow: 0px 1px 3px 1px rgba(0, 0, 0, 0.15);\n",
              "      filter: drop-shadow(0px 1px 2px rgba(0, 0, 0, 0.3));\n",
              "      fill: #FFFFFF;\n",
              "    }\n",
              "  </style>\n",
              "\n",
              "      <script>\n",
              "        const buttonEl =\n",
              "          document.querySelector('#df-d63c9130-ddb1-4c12-bea8-100642c15e52 button.colab-df-convert');\n",
              "        buttonEl.style.display =\n",
              "          google.colab.kernel.accessAllowed ? 'block' : 'none';\n",
              "\n",
              "        async function convertToInteractive(key) {\n",
              "          const element = document.querySelector('#df-d63c9130-ddb1-4c12-bea8-100642c15e52');\n",
              "          const dataTable =\n",
              "            await google.colab.kernel.invokeFunction('convertToInteractive',\n",
              "                                                     [key], {});\n",
              "          if (!dataTable) return;\n",
              "\n",
              "          const docLinkHtml = 'Like what you see? Visit the ' +\n",
              "            '<a target=\"_blank\" href=https://colab.research.google.com/notebooks/data_table.ipynb>data table notebook</a>'\n",
              "            + ' to learn more about interactive tables.';\n",
              "          element.innerHTML = '';\n",
              "          dataTable['output_type'] = 'display_data';\n",
              "          await google.colab.output.renderOutput(dataTable, element);\n",
              "          const docLink = document.createElement('div');\n",
              "          docLink.innerHTML = docLinkHtml;\n",
              "          element.appendChild(docLink);\n",
              "        }\n",
              "      </script>\n",
              "    </div>\n",
              "  </div>\n",
              "  "
            ]
          },
          "metadata": {},
          "execution_count": 3
        }
      ]
    },
    {
      "cell_type": "code",
      "source": [
        "df.shape"
      ],
      "metadata": {
        "colab": {
          "base_uri": "https://localhost:8080/"
        },
        "id": "cy85j7j5e1R8",
        "outputId": "97361641-13c6-4528-cbb0-0bad0235d374"
      },
      "execution_count": 4,
      "outputs": [
        {
          "output_type": "execute_result",
          "data": {
            "text/plain": [
              "(9800, 18)"
            ]
          },
          "metadata": {},
          "execution_count": 4
        }
      ]
    },
    {
      "cell_type": "code",
      "source": [
        "df.dtypes"
      ],
      "metadata": {
        "colab": {
          "base_uri": "https://localhost:8080/"
        },
        "id": "kS3chSXje3EW",
        "outputId": "4be8ea2a-09ec-405d-876f-15d1be4bda31"
      },
      "execution_count": 5,
      "outputs": [
        {
          "output_type": "execute_result",
          "data": {
            "text/plain": [
              "Row ID             int64\n",
              "Order ID          object\n",
              "Order Date        object\n",
              "Ship Date         object\n",
              "Ship Mode         object\n",
              "Customer ID       object\n",
              "Customer Name     object\n",
              "Segment           object\n",
              "Country           object\n",
              "City              object\n",
              "State             object\n",
              "Postal Code      float64\n",
              "Region            object\n",
              "Product ID        object\n",
              "Category          object\n",
              "Sub-Category      object\n",
              "Product Name      object\n",
              "Sales            float64\n",
              "dtype: object"
            ]
          },
          "metadata": {},
          "execution_count": 5
        }
      ]
    },
    {
      "cell_type": "code",
      "source": [
        "df.isna().sum()"
      ],
      "metadata": {
        "colab": {
          "base_uri": "https://localhost:8080/"
        },
        "id": "lO-2b6qge4sj",
        "outputId": "bd6ef971-92b8-4b7d-d64c-1cd917ccac59"
      },
      "execution_count": 6,
      "outputs": [
        {
          "output_type": "execute_result",
          "data": {
            "text/plain": [
              "Row ID            0\n",
              "Order ID          0\n",
              "Order Date        0\n",
              "Ship Date         0\n",
              "Ship Mode         0\n",
              "Customer ID       0\n",
              "Customer Name     0\n",
              "Segment           0\n",
              "Country           0\n",
              "City              0\n",
              "State             0\n",
              "Postal Code      11\n",
              "Region            0\n",
              "Product ID        0\n",
              "Category          0\n",
              "Sub-Category      0\n",
              "Product Name      0\n",
              "Sales             0\n",
              "dtype: int64"
            ]
          },
          "metadata": {},
          "execution_count": 6
        }
      ]
    },
    {
      "cell_type": "markdown",
      "source": [
        "Hanya ada 11 data yang kosong"
      ],
      "metadata": {
        "id": "KDSsxNXme839"
      }
    },
    {
      "cell_type": "markdown",
      "source": [
        "#Data Exploratory"
      ],
      "metadata": {
        "id": "iSdGRupJfoL3"
      }
    },
    {
      "cell_type": "code",
      "source": [
        "df['Ship Mode'].value_counts()"
      ],
      "metadata": {
        "colab": {
          "base_uri": "https://localhost:8080/"
        },
        "id": "4QbFVenjf6nE",
        "outputId": "6cf385ef-6b1a-4a56-ccf5-0f2c999910a9"
      },
      "execution_count": 7,
      "outputs": [
        {
          "output_type": "execute_result",
          "data": {
            "text/plain": [
              "Standard Class    5859\n",
              "Second Class      1902\n",
              "First Class       1501\n",
              "Same Day           538\n",
              "Name: Ship Mode, dtype: int64"
            ]
          },
          "metadata": {},
          "execution_count": 7
        }
      ]
    },
    {
      "cell_type": "code",
      "source": [
        "df['Segment'].value_counts()"
      ],
      "metadata": {
        "colab": {
          "base_uri": "https://localhost:8080/"
        },
        "id": "OugUXl0PgKDS",
        "outputId": "8bffd8cc-97ca-4b85-a208-fbf67d77025c"
      },
      "execution_count": 8,
      "outputs": [
        {
          "output_type": "execute_result",
          "data": {
            "text/plain": [
              "Consumer       5101\n",
              "Corporate      2953\n",
              "Home Office    1746\n",
              "Name: Segment, dtype: int64"
            ]
          },
          "metadata": {},
          "execution_count": 8
        }
      ]
    },
    {
      "cell_type": "markdown",
      "source": [
        "Pada kali ini kita akan melakukan segmentasi terhadap segment consumer terlebih dahulu"
      ],
      "metadata": {
        "id": "KJ5xZdq5gQFh"
      }
    },
    {
      "cell_type": "code",
      "source": [
        "df['City'].value_counts()"
      ],
      "metadata": {
        "colab": {
          "base_uri": "https://localhost:8080/"
        },
        "id": "0akviZXPgaa8",
        "outputId": "d92a2ae8-0e6a-4631-b669-4a753d8ad505"
      },
      "execution_count": 9,
      "outputs": [
        {
          "output_type": "execute_result",
          "data": {
            "text/plain": [
              "New York City    891\n",
              "Los Angeles      728\n",
              "Philadelphia     532\n",
              "San Francisco    500\n",
              "Seattle          426\n",
              "                ... \n",
              "San Mateo          1\n",
              "Cheyenne           1\n",
              "Conway             1\n",
              "Melbourne          1\n",
              "Springdale         1\n",
              "Name: City, Length: 529, dtype: int64"
            ]
          },
          "metadata": {},
          "execution_count": 9
        }
      ]
    },
    {
      "cell_type": "code",
      "source": [
        "df['State'].value_counts()"
      ],
      "metadata": {
        "colab": {
          "base_uri": "https://localhost:8080/"
        },
        "id": "zlFk1Wxzgfda",
        "outputId": "6fa4b4ab-fa7b-43ff-d16c-8ef0bdc97b96"
      },
      "execution_count": 10,
      "outputs": [
        {
          "output_type": "execute_result",
          "data": {
            "text/plain": [
              "California              1946\n",
              "New York                1097\n",
              "Texas                    973\n",
              "Pennsylvania             582\n",
              "Washington               504\n",
              "Illinois                 483\n",
              "Ohio                     454\n",
              "Florida                  373\n",
              "Michigan                 253\n",
              "North Carolina           247\n",
              "Virginia                 224\n",
              "Arizona                  223\n",
              "Tennessee                183\n",
              "Colorado                 179\n",
              "Georgia                  177\n",
              "Kentucky                 137\n",
              "Indiana                  135\n",
              "Massachusetts            135\n",
              "Oregon                   122\n",
              "New Jersey               122\n",
              "Maryland                 105\n",
              "Wisconsin                105\n",
              "Delaware                  93\n",
              "Minnesota                 89\n",
              "Connecticut               82\n",
              "Missouri                  66\n",
              "Oklahoma                  66\n",
              "Alabama                   61\n",
              "Arkansas                  60\n",
              "Rhode Island              55\n",
              "Mississippi               53\n",
              "Utah                      53\n",
              "South Carolina            42\n",
              "Louisiana                 41\n",
              "Nevada                    39\n",
              "Nebraska                  38\n",
              "New Mexico                37\n",
              "New Hampshire             27\n",
              "Iowa                      26\n",
              "Kansas                    24\n",
              "Idaho                     21\n",
              "Montana                   15\n",
              "South Dakota              12\n",
              "Vermont                   11\n",
              "District of Columbia      10\n",
              "Maine                      8\n",
              "North Dakota               7\n",
              "West Virginia              4\n",
              "Wyoming                    1\n",
              "Name: State, dtype: int64"
            ]
          },
          "metadata": {},
          "execution_count": 10
        }
      ]
    },
    {
      "cell_type": "markdown",
      "source": [
        "Kolom City dan state tidak perlu dimasukan pada saat segemntasi/clustering, tetapi akan digunakan setelah clustering. Karena kita ingin mengetahui behaviour pada clustering."
      ],
      "metadata": {
        "id": "j-sUD0Nghdm4"
      }
    },
    {
      "cell_type": "code",
      "source": [
        "df['Category'].value_counts()"
      ],
      "metadata": {
        "colab": {
          "base_uri": "https://localhost:8080/"
        },
        "id": "mxEzeleTgkoU",
        "outputId": "f67a791d-b3bb-42b0-ca5a-2242d4e2f272"
      },
      "execution_count": 11,
      "outputs": [
        {
          "output_type": "execute_result",
          "data": {
            "text/plain": [
              "Office Supplies    5909\n",
              "Furniture          2078\n",
              "Technology         1813\n",
              "Name: Category, dtype: int64"
            ]
          },
          "metadata": {},
          "execution_count": 11
        }
      ]
    },
    {
      "cell_type": "code",
      "source": [
        "df['Sub-Category'].value_counts()"
      ],
      "metadata": {
        "colab": {
          "base_uri": "https://localhost:8080/"
        },
        "id": "GEQ014Cvgo2k",
        "outputId": "a4560429-c0c8-445e-e60b-c54821237fa6"
      },
      "execution_count": 12,
      "outputs": [
        {
          "output_type": "execute_result",
          "data": {
            "text/plain": [
              "Binders        1492\n",
              "Paper          1338\n",
              "Furnishings     931\n",
              "Phones          876\n",
              "Storage         832\n",
              "Art             785\n",
              "Accessories     756\n",
              "Chairs          607\n",
              "Appliances      459\n",
              "Labels          357\n",
              "Tables          314\n",
              "Envelopes       248\n",
              "Bookcases       226\n",
              "Fasteners       214\n",
              "Supplies        184\n",
              "Machines        115\n",
              "Copiers          66\n",
              "Name: Sub-Category, dtype: int64"
            ]
          },
          "metadata": {},
          "execution_count": 12
        }
      ]
    },
    {
      "cell_type": "markdown",
      "source": [
        "Gunakan salah satu antara Category atau Sub-Category karena memiliki informasi yang sama"
      ],
      "metadata": {
        "id": "m4XvkV7piFF_"
      }
    },
    {
      "cell_type": "markdown",
      "source": [
        "Feature yang akan digunakan \n",
        "1. Ship Mode\n",
        "2. Category\n",
        "3. Sales\n",
        "\n",
        "Tapi hanya untuk customer yang bersegment consumer\n",
        "Ikut sertakan Customer ID untuk aggregasi"
      ],
      "metadata": {
        "id": "0qgCJtvWiOeM"
      }
    },
    {
      "cell_type": "markdown",
      "source": [
        "#Segementasi Consumer"
      ],
      "metadata": {
        "id": "b-wRvpsHJgvb"
      }
    },
    {
      "cell_type": "code",
      "source": [
        "df_consumer = df[df['Segment'] == 'Consumer'][['Customer ID','Ship Mode','Category','Sales']]\n",
        "df_consumer.head()"
      ],
      "metadata": {
        "colab": {
          "base_uri": "https://localhost:8080/",
          "height": 206
        },
        "id": "c8mcRZmhikMz",
        "outputId": "9e0bef28-b9f5-48fb-c421-885e27195424"
      },
      "execution_count": 13,
      "outputs": [
        {
          "output_type": "execute_result",
          "data": {
            "text/plain": [
              "  Customer ID       Ship Mode         Category     Sales\n",
              "0    CG-12520    Second Class        Furniture  261.9600\n",
              "1    CG-12520    Second Class        Furniture  731.9400\n",
              "3    SO-20335  Standard Class        Furniture  957.5775\n",
              "4    SO-20335  Standard Class  Office Supplies   22.3680\n",
              "5    BH-11710  Standard Class        Furniture   48.8600"
            ],
            "text/html": [
              "\n",
              "  <div id=\"df-b3203c15-85d3-40ac-9d8d-81c28df2e93e\">\n",
              "    <div class=\"colab-df-container\">\n",
              "      <div>\n",
              "<style scoped>\n",
              "    .dataframe tbody tr th:only-of-type {\n",
              "        vertical-align: middle;\n",
              "    }\n",
              "\n",
              "    .dataframe tbody tr th {\n",
              "        vertical-align: top;\n",
              "    }\n",
              "\n",
              "    .dataframe thead th {\n",
              "        text-align: right;\n",
              "    }\n",
              "</style>\n",
              "<table border=\"1\" class=\"dataframe\">\n",
              "  <thead>\n",
              "    <tr style=\"text-align: right;\">\n",
              "      <th></th>\n",
              "      <th>Customer ID</th>\n",
              "      <th>Ship Mode</th>\n",
              "      <th>Category</th>\n",
              "      <th>Sales</th>\n",
              "    </tr>\n",
              "  </thead>\n",
              "  <tbody>\n",
              "    <tr>\n",
              "      <th>0</th>\n",
              "      <td>CG-12520</td>\n",
              "      <td>Second Class</td>\n",
              "      <td>Furniture</td>\n",
              "      <td>261.9600</td>\n",
              "    </tr>\n",
              "    <tr>\n",
              "      <th>1</th>\n",
              "      <td>CG-12520</td>\n",
              "      <td>Second Class</td>\n",
              "      <td>Furniture</td>\n",
              "      <td>731.9400</td>\n",
              "    </tr>\n",
              "    <tr>\n",
              "      <th>3</th>\n",
              "      <td>SO-20335</td>\n",
              "      <td>Standard Class</td>\n",
              "      <td>Furniture</td>\n",
              "      <td>957.5775</td>\n",
              "    </tr>\n",
              "    <tr>\n",
              "      <th>4</th>\n",
              "      <td>SO-20335</td>\n",
              "      <td>Standard Class</td>\n",
              "      <td>Office Supplies</td>\n",
              "      <td>22.3680</td>\n",
              "    </tr>\n",
              "    <tr>\n",
              "      <th>5</th>\n",
              "      <td>BH-11710</td>\n",
              "      <td>Standard Class</td>\n",
              "      <td>Furniture</td>\n",
              "      <td>48.8600</td>\n",
              "    </tr>\n",
              "  </tbody>\n",
              "</table>\n",
              "</div>\n",
              "      <button class=\"colab-df-convert\" onclick=\"convertToInteractive('df-b3203c15-85d3-40ac-9d8d-81c28df2e93e')\"\n",
              "              title=\"Convert this dataframe to an interactive table.\"\n",
              "              style=\"display:none;\">\n",
              "        \n",
              "  <svg xmlns=\"http://www.w3.org/2000/svg\" height=\"24px\"viewBox=\"0 0 24 24\"\n",
              "       width=\"24px\">\n",
              "    <path d=\"M0 0h24v24H0V0z\" fill=\"none\"/>\n",
              "    <path d=\"M18.56 5.44l.94 2.06.94-2.06 2.06-.94-2.06-.94-.94-2.06-.94 2.06-2.06.94zm-11 1L8.5 8.5l.94-2.06 2.06-.94-2.06-.94L8.5 2.5l-.94 2.06-2.06.94zm10 10l.94 2.06.94-2.06 2.06-.94-2.06-.94-.94-2.06-.94 2.06-2.06.94z\"/><path d=\"M17.41 7.96l-1.37-1.37c-.4-.4-.92-.59-1.43-.59-.52 0-1.04.2-1.43.59L10.3 9.45l-7.72 7.72c-.78.78-.78 2.05 0 2.83L4 21.41c.39.39.9.59 1.41.59.51 0 1.02-.2 1.41-.59l7.78-7.78 2.81-2.81c.8-.78.8-2.07 0-2.86zM5.41 20L4 18.59l7.72-7.72 1.47 1.35L5.41 20z\"/>\n",
              "  </svg>\n",
              "      </button>\n",
              "      \n",
              "  <style>\n",
              "    .colab-df-container {\n",
              "      display:flex;\n",
              "      flex-wrap:wrap;\n",
              "      gap: 12px;\n",
              "    }\n",
              "\n",
              "    .colab-df-convert {\n",
              "      background-color: #E8F0FE;\n",
              "      border: none;\n",
              "      border-radius: 50%;\n",
              "      cursor: pointer;\n",
              "      display: none;\n",
              "      fill: #1967D2;\n",
              "      height: 32px;\n",
              "      padding: 0 0 0 0;\n",
              "      width: 32px;\n",
              "    }\n",
              "\n",
              "    .colab-df-convert:hover {\n",
              "      background-color: #E2EBFA;\n",
              "      box-shadow: 0px 1px 2px rgba(60, 64, 67, 0.3), 0px 1px 3px 1px rgba(60, 64, 67, 0.15);\n",
              "      fill: #174EA6;\n",
              "    }\n",
              "\n",
              "    [theme=dark] .colab-df-convert {\n",
              "      background-color: #3B4455;\n",
              "      fill: #D2E3FC;\n",
              "    }\n",
              "\n",
              "    [theme=dark] .colab-df-convert:hover {\n",
              "      background-color: #434B5C;\n",
              "      box-shadow: 0px 1px 3px 1px rgba(0, 0, 0, 0.15);\n",
              "      filter: drop-shadow(0px 1px 2px rgba(0, 0, 0, 0.3));\n",
              "      fill: #FFFFFF;\n",
              "    }\n",
              "  </style>\n",
              "\n",
              "      <script>\n",
              "        const buttonEl =\n",
              "          document.querySelector('#df-b3203c15-85d3-40ac-9d8d-81c28df2e93e button.colab-df-convert');\n",
              "        buttonEl.style.display =\n",
              "          google.colab.kernel.accessAllowed ? 'block' : 'none';\n",
              "\n",
              "        async function convertToInteractive(key) {\n",
              "          const element = document.querySelector('#df-b3203c15-85d3-40ac-9d8d-81c28df2e93e');\n",
              "          const dataTable =\n",
              "            await google.colab.kernel.invokeFunction('convertToInteractive',\n",
              "                                                     [key], {});\n",
              "          if (!dataTable) return;\n",
              "\n",
              "          const docLinkHtml = 'Like what you see? Visit the ' +\n",
              "            '<a target=\"_blank\" href=https://colab.research.google.com/notebooks/data_table.ipynb>data table notebook</a>'\n",
              "            + ' to learn more about interactive tables.';\n",
              "          element.innerHTML = '';\n",
              "          dataTable['output_type'] = 'display_data';\n",
              "          await google.colab.output.renderOutput(dataTable, element);\n",
              "          const docLink = document.createElement('div');\n",
              "          docLink.innerHTML = docLinkHtml;\n",
              "          element.appendChild(docLink);\n",
              "        }\n",
              "      </script>\n",
              "    </div>\n",
              "  </div>\n",
              "  "
            ]
          },
          "metadata": {},
          "execution_count": 13
        }
      ]
    },
    {
      "cell_type": "markdown",
      "source": [
        "Selanjutnya kita akan melakukan agregasi. Sebelum itu kita harus mengubah data\n",
        "kategorikal menjadi numerikal"
      ],
      "metadata": {
        "id": "meH2Ck-Hi-ht"
      }
    },
    {
      "cell_type": "markdown",
      "source": [
        "##One Hot Encoding Categorical"
      ],
      "metadata": {
        "id": "Z4_p0d60jKPp"
      }
    },
    {
      "cell_type": "code",
      "source": [
        "df_consumer_category = pd.get_dummies(df_consumer['Category'])\n",
        "df_consumer_ship = pd.get_dummies(df_consumer['Ship Mode'])\n",
        "\n",
        "df_consumer = pd.concat([df_consumer, df_consumer_category, df_consumer_ship], axis = 1)\n",
        "df_consumer"
      ],
      "metadata": {
        "colab": {
          "base_uri": "https://localhost:8080/",
          "height": 424
        },
        "id": "EGrJ0MCkjPmk",
        "outputId": "f1ae8efc-defc-44bd-f1d9-63075a6feb13"
      },
      "execution_count": 14,
      "outputs": [
        {
          "output_type": "execute_result",
          "data": {
            "text/plain": [
              "     Customer ID       Ship Mode         Category     Sales  Furniture  \\\n",
              "0       CG-12520    Second Class        Furniture  261.9600          1   \n",
              "1       CG-12520    Second Class        Furniture  731.9400          1   \n",
              "3       SO-20335  Standard Class        Furniture  957.5775          1   \n",
              "4       SO-20335  Standard Class  Office Supplies   22.3680          0   \n",
              "5       BH-11710  Standard Class        Furniture   48.8600          1   \n",
              "...          ...             ...              ...       ...        ...   \n",
              "9790    CJ-12010  Standard Class        Furniture  211.2460          1   \n",
              "9791    KH-16360    Second Class  Office Supplies   56.0640          0   \n",
              "9792    KH-16360    Second Class        Furniture  107.7720          1   \n",
              "9793    KH-16360    Second Class  Office Supplies    4.8320          0   \n",
              "9794    KH-16360    Second Class  Office Supplies   18.2400          0   \n",
              "\n",
              "      Office Supplies  Technology  First Class  Same Day  Second Class  \\\n",
              "0                   0           0            0         0             1   \n",
              "1                   0           0            0         0             1   \n",
              "3                   0           0            0         0             0   \n",
              "4                   1           0            0         0             0   \n",
              "5                   0           0            0         0             0   \n",
              "...               ...         ...          ...       ...           ...   \n",
              "9790                0           0            0         0             0   \n",
              "9791                1           0            0         0             1   \n",
              "9792                0           0            0         0             1   \n",
              "9793                1           0            0         0             1   \n",
              "9794                1           0            0         0             1   \n",
              "\n",
              "      Standard Class  \n",
              "0                  0  \n",
              "1                  0  \n",
              "3                  1  \n",
              "4                  1  \n",
              "5                  1  \n",
              "...              ...  \n",
              "9790               1  \n",
              "9791               0  \n",
              "9792               0  \n",
              "9793               0  \n",
              "9794               0  \n",
              "\n",
              "[5101 rows x 11 columns]"
            ],
            "text/html": [
              "\n",
              "  <div id=\"df-514689f0-b4df-43c7-aed1-f3d9575ef696\">\n",
              "    <div class=\"colab-df-container\">\n",
              "      <div>\n",
              "<style scoped>\n",
              "    .dataframe tbody tr th:only-of-type {\n",
              "        vertical-align: middle;\n",
              "    }\n",
              "\n",
              "    .dataframe tbody tr th {\n",
              "        vertical-align: top;\n",
              "    }\n",
              "\n",
              "    .dataframe thead th {\n",
              "        text-align: right;\n",
              "    }\n",
              "</style>\n",
              "<table border=\"1\" class=\"dataframe\">\n",
              "  <thead>\n",
              "    <tr style=\"text-align: right;\">\n",
              "      <th></th>\n",
              "      <th>Customer ID</th>\n",
              "      <th>Ship Mode</th>\n",
              "      <th>Category</th>\n",
              "      <th>Sales</th>\n",
              "      <th>Furniture</th>\n",
              "      <th>Office Supplies</th>\n",
              "      <th>Technology</th>\n",
              "      <th>First Class</th>\n",
              "      <th>Same Day</th>\n",
              "      <th>Second Class</th>\n",
              "      <th>Standard Class</th>\n",
              "    </tr>\n",
              "  </thead>\n",
              "  <tbody>\n",
              "    <tr>\n",
              "      <th>0</th>\n",
              "      <td>CG-12520</td>\n",
              "      <td>Second Class</td>\n",
              "      <td>Furniture</td>\n",
              "      <td>261.9600</td>\n",
              "      <td>1</td>\n",
              "      <td>0</td>\n",
              "      <td>0</td>\n",
              "      <td>0</td>\n",
              "      <td>0</td>\n",
              "      <td>1</td>\n",
              "      <td>0</td>\n",
              "    </tr>\n",
              "    <tr>\n",
              "      <th>1</th>\n",
              "      <td>CG-12520</td>\n",
              "      <td>Second Class</td>\n",
              "      <td>Furniture</td>\n",
              "      <td>731.9400</td>\n",
              "      <td>1</td>\n",
              "      <td>0</td>\n",
              "      <td>0</td>\n",
              "      <td>0</td>\n",
              "      <td>0</td>\n",
              "      <td>1</td>\n",
              "      <td>0</td>\n",
              "    </tr>\n",
              "    <tr>\n",
              "      <th>3</th>\n",
              "      <td>SO-20335</td>\n",
              "      <td>Standard Class</td>\n",
              "      <td>Furniture</td>\n",
              "      <td>957.5775</td>\n",
              "      <td>1</td>\n",
              "      <td>0</td>\n",
              "      <td>0</td>\n",
              "      <td>0</td>\n",
              "      <td>0</td>\n",
              "      <td>0</td>\n",
              "      <td>1</td>\n",
              "    </tr>\n",
              "    <tr>\n",
              "      <th>4</th>\n",
              "      <td>SO-20335</td>\n",
              "      <td>Standard Class</td>\n",
              "      <td>Office Supplies</td>\n",
              "      <td>22.3680</td>\n",
              "      <td>0</td>\n",
              "      <td>1</td>\n",
              "      <td>0</td>\n",
              "      <td>0</td>\n",
              "      <td>0</td>\n",
              "      <td>0</td>\n",
              "      <td>1</td>\n",
              "    </tr>\n",
              "    <tr>\n",
              "      <th>5</th>\n",
              "      <td>BH-11710</td>\n",
              "      <td>Standard Class</td>\n",
              "      <td>Furniture</td>\n",
              "      <td>48.8600</td>\n",
              "      <td>1</td>\n",
              "      <td>0</td>\n",
              "      <td>0</td>\n",
              "      <td>0</td>\n",
              "      <td>0</td>\n",
              "      <td>0</td>\n",
              "      <td>1</td>\n",
              "    </tr>\n",
              "    <tr>\n",
              "      <th>...</th>\n",
              "      <td>...</td>\n",
              "      <td>...</td>\n",
              "      <td>...</td>\n",
              "      <td>...</td>\n",
              "      <td>...</td>\n",
              "      <td>...</td>\n",
              "      <td>...</td>\n",
              "      <td>...</td>\n",
              "      <td>...</td>\n",
              "      <td>...</td>\n",
              "      <td>...</td>\n",
              "    </tr>\n",
              "    <tr>\n",
              "      <th>9790</th>\n",
              "      <td>CJ-12010</td>\n",
              "      <td>Standard Class</td>\n",
              "      <td>Furniture</td>\n",
              "      <td>211.2460</td>\n",
              "      <td>1</td>\n",
              "      <td>0</td>\n",
              "      <td>0</td>\n",
              "      <td>0</td>\n",
              "      <td>0</td>\n",
              "      <td>0</td>\n",
              "      <td>1</td>\n",
              "    </tr>\n",
              "    <tr>\n",
              "      <th>9791</th>\n",
              "      <td>KH-16360</td>\n",
              "      <td>Second Class</td>\n",
              "      <td>Office Supplies</td>\n",
              "      <td>56.0640</td>\n",
              "      <td>0</td>\n",
              "      <td>1</td>\n",
              "      <td>0</td>\n",
              "      <td>0</td>\n",
              "      <td>0</td>\n",
              "      <td>1</td>\n",
              "      <td>0</td>\n",
              "    </tr>\n",
              "    <tr>\n",
              "      <th>9792</th>\n",
              "      <td>KH-16360</td>\n",
              "      <td>Second Class</td>\n",
              "      <td>Furniture</td>\n",
              "      <td>107.7720</td>\n",
              "      <td>1</td>\n",
              "      <td>0</td>\n",
              "      <td>0</td>\n",
              "      <td>0</td>\n",
              "      <td>0</td>\n",
              "      <td>1</td>\n",
              "      <td>0</td>\n",
              "    </tr>\n",
              "    <tr>\n",
              "      <th>9793</th>\n",
              "      <td>KH-16360</td>\n",
              "      <td>Second Class</td>\n",
              "      <td>Office Supplies</td>\n",
              "      <td>4.8320</td>\n",
              "      <td>0</td>\n",
              "      <td>1</td>\n",
              "      <td>0</td>\n",
              "      <td>0</td>\n",
              "      <td>0</td>\n",
              "      <td>1</td>\n",
              "      <td>0</td>\n",
              "    </tr>\n",
              "    <tr>\n",
              "      <th>9794</th>\n",
              "      <td>KH-16360</td>\n",
              "      <td>Second Class</td>\n",
              "      <td>Office Supplies</td>\n",
              "      <td>18.2400</td>\n",
              "      <td>0</td>\n",
              "      <td>1</td>\n",
              "      <td>0</td>\n",
              "      <td>0</td>\n",
              "      <td>0</td>\n",
              "      <td>1</td>\n",
              "      <td>0</td>\n",
              "    </tr>\n",
              "  </tbody>\n",
              "</table>\n",
              "<p>5101 rows × 11 columns</p>\n",
              "</div>\n",
              "      <button class=\"colab-df-convert\" onclick=\"convertToInteractive('df-514689f0-b4df-43c7-aed1-f3d9575ef696')\"\n",
              "              title=\"Convert this dataframe to an interactive table.\"\n",
              "              style=\"display:none;\">\n",
              "        \n",
              "  <svg xmlns=\"http://www.w3.org/2000/svg\" height=\"24px\"viewBox=\"0 0 24 24\"\n",
              "       width=\"24px\">\n",
              "    <path d=\"M0 0h24v24H0V0z\" fill=\"none\"/>\n",
              "    <path d=\"M18.56 5.44l.94 2.06.94-2.06 2.06-.94-2.06-.94-.94-2.06-.94 2.06-2.06.94zm-11 1L8.5 8.5l.94-2.06 2.06-.94-2.06-.94L8.5 2.5l-.94 2.06-2.06.94zm10 10l.94 2.06.94-2.06 2.06-.94-2.06-.94-.94-2.06-.94 2.06-2.06.94z\"/><path d=\"M17.41 7.96l-1.37-1.37c-.4-.4-.92-.59-1.43-.59-.52 0-1.04.2-1.43.59L10.3 9.45l-7.72 7.72c-.78.78-.78 2.05 0 2.83L4 21.41c.39.39.9.59 1.41.59.51 0 1.02-.2 1.41-.59l7.78-7.78 2.81-2.81c.8-.78.8-2.07 0-2.86zM5.41 20L4 18.59l7.72-7.72 1.47 1.35L5.41 20z\"/>\n",
              "  </svg>\n",
              "      </button>\n",
              "      \n",
              "  <style>\n",
              "    .colab-df-container {\n",
              "      display:flex;\n",
              "      flex-wrap:wrap;\n",
              "      gap: 12px;\n",
              "    }\n",
              "\n",
              "    .colab-df-convert {\n",
              "      background-color: #E8F0FE;\n",
              "      border: none;\n",
              "      border-radius: 50%;\n",
              "      cursor: pointer;\n",
              "      display: none;\n",
              "      fill: #1967D2;\n",
              "      height: 32px;\n",
              "      padding: 0 0 0 0;\n",
              "      width: 32px;\n",
              "    }\n",
              "\n",
              "    .colab-df-convert:hover {\n",
              "      background-color: #E2EBFA;\n",
              "      box-shadow: 0px 1px 2px rgba(60, 64, 67, 0.3), 0px 1px 3px 1px rgba(60, 64, 67, 0.15);\n",
              "      fill: #174EA6;\n",
              "    }\n",
              "\n",
              "    [theme=dark] .colab-df-convert {\n",
              "      background-color: #3B4455;\n",
              "      fill: #D2E3FC;\n",
              "    }\n",
              "\n",
              "    [theme=dark] .colab-df-convert:hover {\n",
              "      background-color: #434B5C;\n",
              "      box-shadow: 0px 1px 3px 1px rgba(0, 0, 0, 0.15);\n",
              "      filter: drop-shadow(0px 1px 2px rgba(0, 0, 0, 0.3));\n",
              "      fill: #FFFFFF;\n",
              "    }\n",
              "  </style>\n",
              "\n",
              "      <script>\n",
              "        const buttonEl =\n",
              "          document.querySelector('#df-514689f0-b4df-43c7-aed1-f3d9575ef696 button.colab-df-convert');\n",
              "        buttonEl.style.display =\n",
              "          google.colab.kernel.accessAllowed ? 'block' : 'none';\n",
              "\n",
              "        async function convertToInteractive(key) {\n",
              "          const element = document.querySelector('#df-514689f0-b4df-43c7-aed1-f3d9575ef696');\n",
              "          const dataTable =\n",
              "            await google.colab.kernel.invokeFunction('convertToInteractive',\n",
              "                                                     [key], {});\n",
              "          if (!dataTable) return;\n",
              "\n",
              "          const docLinkHtml = 'Like what you see? Visit the ' +\n",
              "            '<a target=\"_blank\" href=https://colab.research.google.com/notebooks/data_table.ipynb>data table notebook</a>'\n",
              "            + ' to learn more about interactive tables.';\n",
              "          element.innerHTML = '';\n",
              "          dataTable['output_type'] = 'display_data';\n",
              "          await google.colab.output.renderOutput(dataTable, element);\n",
              "          const docLink = document.createElement('div');\n",
              "          docLink.innerHTML = docLinkHtml;\n",
              "          element.appendChild(docLink);\n",
              "        }\n",
              "      </script>\n",
              "    </div>\n",
              "  </div>\n",
              "  "
            ]
          },
          "metadata": {},
          "execution_count": 14
        }
      ]
    },
    {
      "cell_type": "code",
      "source": [
        "df_consumer.drop(['Ship Mode','Category'], axis=1, inplace=True)"
      ],
      "metadata": {
        "id": "zESJ70kajpfZ"
      },
      "execution_count": 15,
      "outputs": []
    },
    {
      "cell_type": "code",
      "source": [
        "df_consumer.head()"
      ],
      "metadata": {
        "colab": {
          "base_uri": "https://localhost:8080/",
          "height": 206
        },
        "id": "g5Gp85s_jwvE",
        "outputId": "695658bc-a391-4988-a305-302948a98aaf"
      },
      "execution_count": 16,
      "outputs": [
        {
          "output_type": "execute_result",
          "data": {
            "text/plain": [
              "  Customer ID     Sales  Furniture  Office Supplies  Technology  First Class  \\\n",
              "0    CG-12520  261.9600          1                0           0            0   \n",
              "1    CG-12520  731.9400          1                0           0            0   \n",
              "3    SO-20335  957.5775          1                0           0            0   \n",
              "4    SO-20335   22.3680          0                1           0            0   \n",
              "5    BH-11710   48.8600          1                0           0            0   \n",
              "\n",
              "   Same Day  Second Class  Standard Class  \n",
              "0         0             1               0  \n",
              "1         0             1               0  \n",
              "3         0             0               1  \n",
              "4         0             0               1  \n",
              "5         0             0               1  "
            ],
            "text/html": [
              "\n",
              "  <div id=\"df-a68012d7-9cfb-452c-89fb-b751e93aaf38\">\n",
              "    <div class=\"colab-df-container\">\n",
              "      <div>\n",
              "<style scoped>\n",
              "    .dataframe tbody tr th:only-of-type {\n",
              "        vertical-align: middle;\n",
              "    }\n",
              "\n",
              "    .dataframe tbody tr th {\n",
              "        vertical-align: top;\n",
              "    }\n",
              "\n",
              "    .dataframe thead th {\n",
              "        text-align: right;\n",
              "    }\n",
              "</style>\n",
              "<table border=\"1\" class=\"dataframe\">\n",
              "  <thead>\n",
              "    <tr style=\"text-align: right;\">\n",
              "      <th></th>\n",
              "      <th>Customer ID</th>\n",
              "      <th>Sales</th>\n",
              "      <th>Furniture</th>\n",
              "      <th>Office Supplies</th>\n",
              "      <th>Technology</th>\n",
              "      <th>First Class</th>\n",
              "      <th>Same Day</th>\n",
              "      <th>Second Class</th>\n",
              "      <th>Standard Class</th>\n",
              "    </tr>\n",
              "  </thead>\n",
              "  <tbody>\n",
              "    <tr>\n",
              "      <th>0</th>\n",
              "      <td>CG-12520</td>\n",
              "      <td>261.9600</td>\n",
              "      <td>1</td>\n",
              "      <td>0</td>\n",
              "      <td>0</td>\n",
              "      <td>0</td>\n",
              "      <td>0</td>\n",
              "      <td>1</td>\n",
              "      <td>0</td>\n",
              "    </tr>\n",
              "    <tr>\n",
              "      <th>1</th>\n",
              "      <td>CG-12520</td>\n",
              "      <td>731.9400</td>\n",
              "      <td>1</td>\n",
              "      <td>0</td>\n",
              "      <td>0</td>\n",
              "      <td>0</td>\n",
              "      <td>0</td>\n",
              "      <td>1</td>\n",
              "      <td>0</td>\n",
              "    </tr>\n",
              "    <tr>\n",
              "      <th>3</th>\n",
              "      <td>SO-20335</td>\n",
              "      <td>957.5775</td>\n",
              "      <td>1</td>\n",
              "      <td>0</td>\n",
              "      <td>0</td>\n",
              "      <td>0</td>\n",
              "      <td>0</td>\n",
              "      <td>0</td>\n",
              "      <td>1</td>\n",
              "    </tr>\n",
              "    <tr>\n",
              "      <th>4</th>\n",
              "      <td>SO-20335</td>\n",
              "      <td>22.3680</td>\n",
              "      <td>0</td>\n",
              "      <td>1</td>\n",
              "      <td>0</td>\n",
              "      <td>0</td>\n",
              "      <td>0</td>\n",
              "      <td>0</td>\n",
              "      <td>1</td>\n",
              "    </tr>\n",
              "    <tr>\n",
              "      <th>5</th>\n",
              "      <td>BH-11710</td>\n",
              "      <td>48.8600</td>\n",
              "      <td>1</td>\n",
              "      <td>0</td>\n",
              "      <td>0</td>\n",
              "      <td>0</td>\n",
              "      <td>0</td>\n",
              "      <td>0</td>\n",
              "      <td>1</td>\n",
              "    </tr>\n",
              "  </tbody>\n",
              "</table>\n",
              "</div>\n",
              "      <button class=\"colab-df-convert\" onclick=\"convertToInteractive('df-a68012d7-9cfb-452c-89fb-b751e93aaf38')\"\n",
              "              title=\"Convert this dataframe to an interactive table.\"\n",
              "              style=\"display:none;\">\n",
              "        \n",
              "  <svg xmlns=\"http://www.w3.org/2000/svg\" height=\"24px\"viewBox=\"0 0 24 24\"\n",
              "       width=\"24px\">\n",
              "    <path d=\"M0 0h24v24H0V0z\" fill=\"none\"/>\n",
              "    <path d=\"M18.56 5.44l.94 2.06.94-2.06 2.06-.94-2.06-.94-.94-2.06-.94 2.06-2.06.94zm-11 1L8.5 8.5l.94-2.06 2.06-.94-2.06-.94L8.5 2.5l-.94 2.06-2.06.94zm10 10l.94 2.06.94-2.06 2.06-.94-2.06-.94-.94-2.06-.94 2.06-2.06.94z\"/><path d=\"M17.41 7.96l-1.37-1.37c-.4-.4-.92-.59-1.43-.59-.52 0-1.04.2-1.43.59L10.3 9.45l-7.72 7.72c-.78.78-.78 2.05 0 2.83L4 21.41c.39.39.9.59 1.41.59.51 0 1.02-.2 1.41-.59l7.78-7.78 2.81-2.81c.8-.78.8-2.07 0-2.86zM5.41 20L4 18.59l7.72-7.72 1.47 1.35L5.41 20z\"/>\n",
              "  </svg>\n",
              "      </button>\n",
              "      \n",
              "  <style>\n",
              "    .colab-df-container {\n",
              "      display:flex;\n",
              "      flex-wrap:wrap;\n",
              "      gap: 12px;\n",
              "    }\n",
              "\n",
              "    .colab-df-convert {\n",
              "      background-color: #E8F0FE;\n",
              "      border: none;\n",
              "      border-radius: 50%;\n",
              "      cursor: pointer;\n",
              "      display: none;\n",
              "      fill: #1967D2;\n",
              "      height: 32px;\n",
              "      padding: 0 0 0 0;\n",
              "      width: 32px;\n",
              "    }\n",
              "\n",
              "    .colab-df-convert:hover {\n",
              "      background-color: #E2EBFA;\n",
              "      box-shadow: 0px 1px 2px rgba(60, 64, 67, 0.3), 0px 1px 3px 1px rgba(60, 64, 67, 0.15);\n",
              "      fill: #174EA6;\n",
              "    }\n",
              "\n",
              "    [theme=dark] .colab-df-convert {\n",
              "      background-color: #3B4455;\n",
              "      fill: #D2E3FC;\n",
              "    }\n",
              "\n",
              "    [theme=dark] .colab-df-convert:hover {\n",
              "      background-color: #434B5C;\n",
              "      box-shadow: 0px 1px 3px 1px rgba(0, 0, 0, 0.15);\n",
              "      filter: drop-shadow(0px 1px 2px rgba(0, 0, 0, 0.3));\n",
              "      fill: #FFFFFF;\n",
              "    }\n",
              "  </style>\n",
              "\n",
              "      <script>\n",
              "        const buttonEl =\n",
              "          document.querySelector('#df-a68012d7-9cfb-452c-89fb-b751e93aaf38 button.colab-df-convert');\n",
              "        buttonEl.style.display =\n",
              "          google.colab.kernel.accessAllowed ? 'block' : 'none';\n",
              "\n",
              "        async function convertToInteractive(key) {\n",
              "          const element = document.querySelector('#df-a68012d7-9cfb-452c-89fb-b751e93aaf38');\n",
              "          const dataTable =\n",
              "            await google.colab.kernel.invokeFunction('convertToInteractive',\n",
              "                                                     [key], {});\n",
              "          if (!dataTable) return;\n",
              "\n",
              "          const docLinkHtml = 'Like what you see? Visit the ' +\n",
              "            '<a target=\"_blank\" href=https://colab.research.google.com/notebooks/data_table.ipynb>data table notebook</a>'\n",
              "            + ' to learn more about interactive tables.';\n",
              "          element.innerHTML = '';\n",
              "          dataTable['output_type'] = 'display_data';\n",
              "          await google.colab.output.renderOutput(dataTable, element);\n",
              "          const docLink = document.createElement('div');\n",
              "          docLink.innerHTML = docLinkHtml;\n",
              "          element.appendChild(docLink);\n",
              "        }\n",
              "      </script>\n",
              "    </div>\n",
              "  </div>\n",
              "  "
            ]
          },
          "metadata": {},
          "execution_count": 16
        }
      ]
    },
    {
      "cell_type": "markdown",
      "source": [
        "Hasil di atas masih per transaki, selanjutnya kita akan melakukan agregasi per customer saja"
      ],
      "metadata": {
        "id": "7EQLMya7j214"
      }
    },
    {
      "cell_type": "markdown",
      "source": [
        "##Aggregate per User\n",
        "\n",
        "Apa yang kita butuh per customer:\n",
        "1. Sales : Average,Total\n",
        "2. Total Transaksi\n",
        "3. Furniture, Office Supplies : Average\n",
        "4. First class, Same day, Second class : Average"
      ],
      "metadata": {
        "id": "Ur7ckbQij-ld"
      }
    },
    {
      "cell_type": "code",
      "source": [
        "df_consumer.groupby('Customer ID').mean()"
      ],
      "metadata": {
        "colab": {
          "base_uri": "https://localhost:8080/",
          "height": 455
        },
        "id": "r1Oq1E4CkB1W",
        "outputId": "ecebef36-a0f0-4154-93fd-d1d199dc35f2"
      },
      "execution_count": 17,
      "outputs": [
        {
          "output_type": "execute_result",
          "data": {
            "text/plain": [
              "                  Sales  Furniture  Office Supplies  Technology  First Class  \\\n",
              "Customer ID                                                                    \n",
              "AA-10315     505.778182   0.090909         0.727273    0.181818     0.090909   \n",
              "AA-10375      70.426000   0.066667         0.733333    0.200000     0.266667   \n",
              "AA-10480     149.209333   0.166667         0.666667    0.166667     0.000000   \n",
              "AA-10645     282.607500   0.444444         0.444444    0.111111     0.388889   \n",
              "AB-10015     147.692667   0.333333         0.500000    0.166667     0.833333   \n",
              "...                 ...        ...              ...         ...          ...   \n",
              "VS-21820     131.997625   0.375000         0.500000    0.125000     0.000000   \n",
              "WB-21850     175.134571   0.142857         0.628571    0.228571     0.171429   \n",
              "XP-21865      84.809214   0.142857         0.750000    0.107143     0.071429   \n",
              "ZC-21910     258.893774   0.258065         0.548387    0.193548     0.129032   \n",
              "ZD-21925     165.993778   0.222222         0.444444    0.333333     0.111111   \n",
              "\n",
              "             Same Day  Second Class  Standard Class  \n",
              "Customer ID                                          \n",
              "AA-10315     0.000000      0.000000        0.909091  \n",
              "AA-10375     0.000000      0.200000        0.533333  \n",
              "AA-10480     0.083333      0.000000        0.916667  \n",
              "AA-10645     0.000000      0.000000        0.611111  \n",
              "AB-10015     0.000000      0.000000        0.166667  \n",
              "...               ...           ...             ...  \n",
              "VS-21820     0.000000      0.250000        0.750000  \n",
              "WB-21850     0.314286      0.000000        0.514286  \n",
              "XP-21865     0.000000      0.107143        0.821429  \n",
              "ZC-21910     0.000000      0.032258        0.838710  \n",
              "ZD-21925     0.222222      0.333333        0.333333  \n",
              "\n",
              "[409 rows x 8 columns]"
            ],
            "text/html": [
              "\n",
              "  <div id=\"df-9a200385-898e-44a8-8ad3-7bcb694fb154\">\n",
              "    <div class=\"colab-df-container\">\n",
              "      <div>\n",
              "<style scoped>\n",
              "    .dataframe tbody tr th:only-of-type {\n",
              "        vertical-align: middle;\n",
              "    }\n",
              "\n",
              "    .dataframe tbody tr th {\n",
              "        vertical-align: top;\n",
              "    }\n",
              "\n",
              "    .dataframe thead th {\n",
              "        text-align: right;\n",
              "    }\n",
              "</style>\n",
              "<table border=\"1\" class=\"dataframe\">\n",
              "  <thead>\n",
              "    <tr style=\"text-align: right;\">\n",
              "      <th></th>\n",
              "      <th>Sales</th>\n",
              "      <th>Furniture</th>\n",
              "      <th>Office Supplies</th>\n",
              "      <th>Technology</th>\n",
              "      <th>First Class</th>\n",
              "      <th>Same Day</th>\n",
              "      <th>Second Class</th>\n",
              "      <th>Standard Class</th>\n",
              "    </tr>\n",
              "    <tr>\n",
              "      <th>Customer ID</th>\n",
              "      <th></th>\n",
              "      <th></th>\n",
              "      <th></th>\n",
              "      <th></th>\n",
              "      <th></th>\n",
              "      <th></th>\n",
              "      <th></th>\n",
              "      <th></th>\n",
              "    </tr>\n",
              "  </thead>\n",
              "  <tbody>\n",
              "    <tr>\n",
              "      <th>AA-10315</th>\n",
              "      <td>505.778182</td>\n",
              "      <td>0.090909</td>\n",
              "      <td>0.727273</td>\n",
              "      <td>0.181818</td>\n",
              "      <td>0.090909</td>\n",
              "      <td>0.000000</td>\n",
              "      <td>0.000000</td>\n",
              "      <td>0.909091</td>\n",
              "    </tr>\n",
              "    <tr>\n",
              "      <th>AA-10375</th>\n",
              "      <td>70.426000</td>\n",
              "      <td>0.066667</td>\n",
              "      <td>0.733333</td>\n",
              "      <td>0.200000</td>\n",
              "      <td>0.266667</td>\n",
              "      <td>0.000000</td>\n",
              "      <td>0.200000</td>\n",
              "      <td>0.533333</td>\n",
              "    </tr>\n",
              "    <tr>\n",
              "      <th>AA-10480</th>\n",
              "      <td>149.209333</td>\n",
              "      <td>0.166667</td>\n",
              "      <td>0.666667</td>\n",
              "      <td>0.166667</td>\n",
              "      <td>0.000000</td>\n",
              "      <td>0.083333</td>\n",
              "      <td>0.000000</td>\n",
              "      <td>0.916667</td>\n",
              "    </tr>\n",
              "    <tr>\n",
              "      <th>AA-10645</th>\n",
              "      <td>282.607500</td>\n",
              "      <td>0.444444</td>\n",
              "      <td>0.444444</td>\n",
              "      <td>0.111111</td>\n",
              "      <td>0.388889</td>\n",
              "      <td>0.000000</td>\n",
              "      <td>0.000000</td>\n",
              "      <td>0.611111</td>\n",
              "    </tr>\n",
              "    <tr>\n",
              "      <th>AB-10015</th>\n",
              "      <td>147.692667</td>\n",
              "      <td>0.333333</td>\n",
              "      <td>0.500000</td>\n",
              "      <td>0.166667</td>\n",
              "      <td>0.833333</td>\n",
              "      <td>0.000000</td>\n",
              "      <td>0.000000</td>\n",
              "      <td>0.166667</td>\n",
              "    </tr>\n",
              "    <tr>\n",
              "      <th>...</th>\n",
              "      <td>...</td>\n",
              "      <td>...</td>\n",
              "      <td>...</td>\n",
              "      <td>...</td>\n",
              "      <td>...</td>\n",
              "      <td>...</td>\n",
              "      <td>...</td>\n",
              "      <td>...</td>\n",
              "    </tr>\n",
              "    <tr>\n",
              "      <th>VS-21820</th>\n",
              "      <td>131.997625</td>\n",
              "      <td>0.375000</td>\n",
              "      <td>0.500000</td>\n",
              "      <td>0.125000</td>\n",
              "      <td>0.000000</td>\n",
              "      <td>0.000000</td>\n",
              "      <td>0.250000</td>\n",
              "      <td>0.750000</td>\n",
              "    </tr>\n",
              "    <tr>\n",
              "      <th>WB-21850</th>\n",
              "      <td>175.134571</td>\n",
              "      <td>0.142857</td>\n",
              "      <td>0.628571</td>\n",
              "      <td>0.228571</td>\n",
              "      <td>0.171429</td>\n",
              "      <td>0.314286</td>\n",
              "      <td>0.000000</td>\n",
              "      <td>0.514286</td>\n",
              "    </tr>\n",
              "    <tr>\n",
              "      <th>XP-21865</th>\n",
              "      <td>84.809214</td>\n",
              "      <td>0.142857</td>\n",
              "      <td>0.750000</td>\n",
              "      <td>0.107143</td>\n",
              "      <td>0.071429</td>\n",
              "      <td>0.000000</td>\n",
              "      <td>0.107143</td>\n",
              "      <td>0.821429</td>\n",
              "    </tr>\n",
              "    <tr>\n",
              "      <th>ZC-21910</th>\n",
              "      <td>258.893774</td>\n",
              "      <td>0.258065</td>\n",
              "      <td>0.548387</td>\n",
              "      <td>0.193548</td>\n",
              "      <td>0.129032</td>\n",
              "      <td>0.000000</td>\n",
              "      <td>0.032258</td>\n",
              "      <td>0.838710</td>\n",
              "    </tr>\n",
              "    <tr>\n",
              "      <th>ZD-21925</th>\n",
              "      <td>165.993778</td>\n",
              "      <td>0.222222</td>\n",
              "      <td>0.444444</td>\n",
              "      <td>0.333333</td>\n",
              "      <td>0.111111</td>\n",
              "      <td>0.222222</td>\n",
              "      <td>0.333333</td>\n",
              "      <td>0.333333</td>\n",
              "    </tr>\n",
              "  </tbody>\n",
              "</table>\n",
              "<p>409 rows × 8 columns</p>\n",
              "</div>\n",
              "      <button class=\"colab-df-convert\" onclick=\"convertToInteractive('df-9a200385-898e-44a8-8ad3-7bcb694fb154')\"\n",
              "              title=\"Convert this dataframe to an interactive table.\"\n",
              "              style=\"display:none;\">\n",
              "        \n",
              "  <svg xmlns=\"http://www.w3.org/2000/svg\" height=\"24px\"viewBox=\"0 0 24 24\"\n",
              "       width=\"24px\">\n",
              "    <path d=\"M0 0h24v24H0V0z\" fill=\"none\"/>\n",
              "    <path d=\"M18.56 5.44l.94 2.06.94-2.06 2.06-.94-2.06-.94-.94-2.06-.94 2.06-2.06.94zm-11 1L8.5 8.5l.94-2.06 2.06-.94-2.06-.94L8.5 2.5l-.94 2.06-2.06.94zm10 10l.94 2.06.94-2.06 2.06-.94-2.06-.94-.94-2.06-.94 2.06-2.06.94z\"/><path d=\"M17.41 7.96l-1.37-1.37c-.4-.4-.92-.59-1.43-.59-.52 0-1.04.2-1.43.59L10.3 9.45l-7.72 7.72c-.78.78-.78 2.05 0 2.83L4 21.41c.39.39.9.59 1.41.59.51 0 1.02-.2 1.41-.59l7.78-7.78 2.81-2.81c.8-.78.8-2.07 0-2.86zM5.41 20L4 18.59l7.72-7.72 1.47 1.35L5.41 20z\"/>\n",
              "  </svg>\n",
              "      </button>\n",
              "      \n",
              "  <style>\n",
              "    .colab-df-container {\n",
              "      display:flex;\n",
              "      flex-wrap:wrap;\n",
              "      gap: 12px;\n",
              "    }\n",
              "\n",
              "    .colab-df-convert {\n",
              "      background-color: #E8F0FE;\n",
              "      border: none;\n",
              "      border-radius: 50%;\n",
              "      cursor: pointer;\n",
              "      display: none;\n",
              "      fill: #1967D2;\n",
              "      height: 32px;\n",
              "      padding: 0 0 0 0;\n",
              "      width: 32px;\n",
              "    }\n",
              "\n",
              "    .colab-df-convert:hover {\n",
              "      background-color: #E2EBFA;\n",
              "      box-shadow: 0px 1px 2px rgba(60, 64, 67, 0.3), 0px 1px 3px 1px rgba(60, 64, 67, 0.15);\n",
              "      fill: #174EA6;\n",
              "    }\n",
              "\n",
              "    [theme=dark] .colab-df-convert {\n",
              "      background-color: #3B4455;\n",
              "      fill: #D2E3FC;\n",
              "    }\n",
              "\n",
              "    [theme=dark] .colab-df-convert:hover {\n",
              "      background-color: #434B5C;\n",
              "      box-shadow: 0px 1px 3px 1px rgba(0, 0, 0, 0.15);\n",
              "      filter: drop-shadow(0px 1px 2px rgba(0, 0, 0, 0.3));\n",
              "      fill: #FFFFFF;\n",
              "    }\n",
              "  </style>\n",
              "\n",
              "      <script>\n",
              "        const buttonEl =\n",
              "          document.querySelector('#df-9a200385-898e-44a8-8ad3-7bcb694fb154 button.colab-df-convert');\n",
              "        buttonEl.style.display =\n",
              "          google.colab.kernel.accessAllowed ? 'block' : 'none';\n",
              "\n",
              "        async function convertToInteractive(key) {\n",
              "          const element = document.querySelector('#df-9a200385-898e-44a8-8ad3-7bcb694fb154');\n",
              "          const dataTable =\n",
              "            await google.colab.kernel.invokeFunction('convertToInteractive',\n",
              "                                                     [key], {});\n",
              "          if (!dataTable) return;\n",
              "\n",
              "          const docLinkHtml = 'Like what you see? Visit the ' +\n",
              "            '<a target=\"_blank\" href=https://colab.research.google.com/notebooks/data_table.ipynb>data table notebook</a>'\n",
              "            + ' to learn more about interactive tables.';\n",
              "          element.innerHTML = '';\n",
              "          dataTable['output_type'] = 'display_data';\n",
              "          await google.colab.output.renderOutput(dataTable, element);\n",
              "          const docLink = document.createElement('div');\n",
              "          docLink.innerHTML = docLinkHtml;\n",
              "          element.appendChild(docLink);\n",
              "        }\n",
              "      </script>\n",
              "    </div>\n",
              "  </div>\n",
              "  "
            ]
          },
          "metadata": {},
          "execution_count": 17
        }
      ]
    },
    {
      "cell_type": "markdown",
      "source": [
        "Untuk memudahkan pekerjaan kita akan menggunakan multi aggregasi"
      ],
      "metadata": {
        "id": "xpyupj5Ikpzb"
      }
    },
    {
      "cell_type": "code",
      "source": [
        "df_consumer_agg = df_consumer_agg = df_consumer.groupby('Customer ID').agg({\n",
        "    # Pola ==> \"Kolom\": [('kolom_baru', 'fungsi_aggregasi')]\n",
        "    # ship mode\n",
        "    'First Class': [('avg_first_class', 'mean')],\n",
        "    'Second Class': [('avg_second_class', 'mean')],\n",
        "    'Same Day': [('avg_same_day', 'mean')],\n",
        "    'Standard Class': [('avg_standard_class', 'mean')],\n",
        "    \n",
        "    # category\n",
        "    'Furniture': [('avg_furniture', 'mean')],\n",
        "    'Office Supplies': [('avg_office_sup', 'mean')],\n",
        "    'Technology': [('avg_tech', 'mean')],\n",
        "    \n",
        "    # sales\n",
        "    'Sales': [('avg_sales', 'mean'), ('total_trx', 'count'), ('total_sales', 'sum')]\n",
        "})"
      ],
      "metadata": {
        "id": "Fp4zK_jPkvRB"
      },
      "execution_count": 18,
      "outputs": []
    },
    {
      "cell_type": "code",
      "source": [
        "df_consumer_agg "
      ],
      "metadata": {
        "colab": {
          "base_uri": "https://localhost:8080/",
          "height": 486
        },
        "id": "s83y7WyToX9M",
        "outputId": "f13963a4-f874-4537-bc7c-8c70d43139a5"
      },
      "execution_count": 19,
      "outputs": [
        {
          "output_type": "execute_result",
          "data": {
            "text/plain": [
              "                First Class     Second Class     Same Day     Standard Class  \\\n",
              "            avg_first_class avg_second_class avg_same_day avg_standard_class   \n",
              "Customer ID                                                                    \n",
              "AA-10315           0.090909         0.000000     0.000000           0.909091   \n",
              "AA-10375           0.266667         0.200000     0.000000           0.533333   \n",
              "AA-10480           0.000000         0.000000     0.083333           0.916667   \n",
              "AA-10645           0.388889         0.000000     0.000000           0.611111   \n",
              "AB-10015           0.833333         0.000000     0.000000           0.166667   \n",
              "...                     ...              ...          ...                ...   \n",
              "VS-21820           0.000000         0.250000     0.000000           0.750000   \n",
              "WB-21850           0.171429         0.000000     0.314286           0.514286   \n",
              "XP-21865           0.071429         0.107143     0.000000           0.821429   \n",
              "ZC-21910           0.129032         0.032258     0.000000           0.838710   \n",
              "ZD-21925           0.111111         0.333333     0.222222           0.333333   \n",
              "\n",
              "                Furniture Office Supplies Technology       Sales            \\\n",
              "            avg_furniture  avg_office_sup   avg_tech   avg_sales total_trx   \n",
              "Customer ID                                                                  \n",
              "AA-10315         0.090909        0.727273   0.181818  505.778182        11   \n",
              "AA-10375         0.066667        0.733333   0.200000   70.426000        15   \n",
              "AA-10480         0.166667        0.666667   0.166667  149.209333        12   \n",
              "AA-10645         0.444444        0.444444   0.111111  282.607500        18   \n",
              "AB-10015         0.333333        0.500000   0.166667  147.692667         6   \n",
              "...                   ...             ...        ...         ...       ...   \n",
              "VS-21820         0.375000        0.500000   0.125000  131.997625         8   \n",
              "WB-21850         0.142857        0.628571   0.228571  175.134571        35   \n",
              "XP-21865         0.142857        0.750000   0.107143   84.809214        28   \n",
              "ZC-21910         0.258065        0.548387   0.193548  258.893774        31   \n",
              "ZD-21925         0.222222        0.444444   0.333333  165.993778         9   \n",
              "\n",
              "                         \n",
              "            total_sales  \n",
              "Customer ID              \n",
              "AA-10315       5563.560  \n",
              "AA-10375       1056.390  \n",
              "AA-10480       1790.512  \n",
              "AA-10645       5086.935  \n",
              "AB-10015        886.156  \n",
              "...                 ...  \n",
              "VS-21820       1055.981  \n",
              "WB-21850       6129.710  \n",
              "XP-21865       2374.658  \n",
              "ZC-21910       8025.707  \n",
              "ZD-21925       1493.944  \n",
              "\n",
              "[409 rows x 10 columns]"
            ],
            "text/html": [
              "\n",
              "  <div id=\"df-b94d0b3f-af94-4592-a674-3b378c3b9414\">\n",
              "    <div class=\"colab-df-container\">\n",
              "      <div>\n",
              "<style scoped>\n",
              "    .dataframe tbody tr th:only-of-type {\n",
              "        vertical-align: middle;\n",
              "    }\n",
              "\n",
              "    .dataframe tbody tr th {\n",
              "        vertical-align: top;\n",
              "    }\n",
              "\n",
              "    .dataframe thead tr th {\n",
              "        text-align: left;\n",
              "    }\n",
              "\n",
              "    .dataframe thead tr:last-of-type th {\n",
              "        text-align: right;\n",
              "    }\n",
              "</style>\n",
              "<table border=\"1\" class=\"dataframe\">\n",
              "  <thead>\n",
              "    <tr>\n",
              "      <th></th>\n",
              "      <th>First Class</th>\n",
              "      <th>Second Class</th>\n",
              "      <th>Same Day</th>\n",
              "      <th>Standard Class</th>\n",
              "      <th>Furniture</th>\n",
              "      <th>Office Supplies</th>\n",
              "      <th>Technology</th>\n",
              "      <th colspan=\"3\" halign=\"left\">Sales</th>\n",
              "    </tr>\n",
              "    <tr>\n",
              "      <th></th>\n",
              "      <th>avg_first_class</th>\n",
              "      <th>avg_second_class</th>\n",
              "      <th>avg_same_day</th>\n",
              "      <th>avg_standard_class</th>\n",
              "      <th>avg_furniture</th>\n",
              "      <th>avg_office_sup</th>\n",
              "      <th>avg_tech</th>\n",
              "      <th>avg_sales</th>\n",
              "      <th>total_trx</th>\n",
              "      <th>total_sales</th>\n",
              "    </tr>\n",
              "    <tr>\n",
              "      <th>Customer ID</th>\n",
              "      <th></th>\n",
              "      <th></th>\n",
              "      <th></th>\n",
              "      <th></th>\n",
              "      <th></th>\n",
              "      <th></th>\n",
              "      <th></th>\n",
              "      <th></th>\n",
              "      <th></th>\n",
              "      <th></th>\n",
              "    </tr>\n",
              "  </thead>\n",
              "  <tbody>\n",
              "    <tr>\n",
              "      <th>AA-10315</th>\n",
              "      <td>0.090909</td>\n",
              "      <td>0.000000</td>\n",
              "      <td>0.000000</td>\n",
              "      <td>0.909091</td>\n",
              "      <td>0.090909</td>\n",
              "      <td>0.727273</td>\n",
              "      <td>0.181818</td>\n",
              "      <td>505.778182</td>\n",
              "      <td>11</td>\n",
              "      <td>5563.560</td>\n",
              "    </tr>\n",
              "    <tr>\n",
              "      <th>AA-10375</th>\n",
              "      <td>0.266667</td>\n",
              "      <td>0.200000</td>\n",
              "      <td>0.000000</td>\n",
              "      <td>0.533333</td>\n",
              "      <td>0.066667</td>\n",
              "      <td>0.733333</td>\n",
              "      <td>0.200000</td>\n",
              "      <td>70.426000</td>\n",
              "      <td>15</td>\n",
              "      <td>1056.390</td>\n",
              "    </tr>\n",
              "    <tr>\n",
              "      <th>AA-10480</th>\n",
              "      <td>0.000000</td>\n",
              "      <td>0.000000</td>\n",
              "      <td>0.083333</td>\n",
              "      <td>0.916667</td>\n",
              "      <td>0.166667</td>\n",
              "      <td>0.666667</td>\n",
              "      <td>0.166667</td>\n",
              "      <td>149.209333</td>\n",
              "      <td>12</td>\n",
              "      <td>1790.512</td>\n",
              "    </tr>\n",
              "    <tr>\n",
              "      <th>AA-10645</th>\n",
              "      <td>0.388889</td>\n",
              "      <td>0.000000</td>\n",
              "      <td>0.000000</td>\n",
              "      <td>0.611111</td>\n",
              "      <td>0.444444</td>\n",
              "      <td>0.444444</td>\n",
              "      <td>0.111111</td>\n",
              "      <td>282.607500</td>\n",
              "      <td>18</td>\n",
              "      <td>5086.935</td>\n",
              "    </tr>\n",
              "    <tr>\n",
              "      <th>AB-10015</th>\n",
              "      <td>0.833333</td>\n",
              "      <td>0.000000</td>\n",
              "      <td>0.000000</td>\n",
              "      <td>0.166667</td>\n",
              "      <td>0.333333</td>\n",
              "      <td>0.500000</td>\n",
              "      <td>0.166667</td>\n",
              "      <td>147.692667</td>\n",
              "      <td>6</td>\n",
              "      <td>886.156</td>\n",
              "    </tr>\n",
              "    <tr>\n",
              "      <th>...</th>\n",
              "      <td>...</td>\n",
              "      <td>...</td>\n",
              "      <td>...</td>\n",
              "      <td>...</td>\n",
              "      <td>...</td>\n",
              "      <td>...</td>\n",
              "      <td>...</td>\n",
              "      <td>...</td>\n",
              "      <td>...</td>\n",
              "      <td>...</td>\n",
              "    </tr>\n",
              "    <tr>\n",
              "      <th>VS-21820</th>\n",
              "      <td>0.000000</td>\n",
              "      <td>0.250000</td>\n",
              "      <td>0.000000</td>\n",
              "      <td>0.750000</td>\n",
              "      <td>0.375000</td>\n",
              "      <td>0.500000</td>\n",
              "      <td>0.125000</td>\n",
              "      <td>131.997625</td>\n",
              "      <td>8</td>\n",
              "      <td>1055.981</td>\n",
              "    </tr>\n",
              "    <tr>\n",
              "      <th>WB-21850</th>\n",
              "      <td>0.171429</td>\n",
              "      <td>0.000000</td>\n",
              "      <td>0.314286</td>\n",
              "      <td>0.514286</td>\n",
              "      <td>0.142857</td>\n",
              "      <td>0.628571</td>\n",
              "      <td>0.228571</td>\n",
              "      <td>175.134571</td>\n",
              "      <td>35</td>\n",
              "      <td>6129.710</td>\n",
              "    </tr>\n",
              "    <tr>\n",
              "      <th>XP-21865</th>\n",
              "      <td>0.071429</td>\n",
              "      <td>0.107143</td>\n",
              "      <td>0.000000</td>\n",
              "      <td>0.821429</td>\n",
              "      <td>0.142857</td>\n",
              "      <td>0.750000</td>\n",
              "      <td>0.107143</td>\n",
              "      <td>84.809214</td>\n",
              "      <td>28</td>\n",
              "      <td>2374.658</td>\n",
              "    </tr>\n",
              "    <tr>\n",
              "      <th>ZC-21910</th>\n",
              "      <td>0.129032</td>\n",
              "      <td>0.032258</td>\n",
              "      <td>0.000000</td>\n",
              "      <td>0.838710</td>\n",
              "      <td>0.258065</td>\n",
              "      <td>0.548387</td>\n",
              "      <td>0.193548</td>\n",
              "      <td>258.893774</td>\n",
              "      <td>31</td>\n",
              "      <td>8025.707</td>\n",
              "    </tr>\n",
              "    <tr>\n",
              "      <th>ZD-21925</th>\n",
              "      <td>0.111111</td>\n",
              "      <td>0.333333</td>\n",
              "      <td>0.222222</td>\n",
              "      <td>0.333333</td>\n",
              "      <td>0.222222</td>\n",
              "      <td>0.444444</td>\n",
              "      <td>0.333333</td>\n",
              "      <td>165.993778</td>\n",
              "      <td>9</td>\n",
              "      <td>1493.944</td>\n",
              "    </tr>\n",
              "  </tbody>\n",
              "</table>\n",
              "<p>409 rows × 10 columns</p>\n",
              "</div>\n",
              "      <button class=\"colab-df-convert\" onclick=\"convertToInteractive('df-b94d0b3f-af94-4592-a674-3b378c3b9414')\"\n",
              "              title=\"Convert this dataframe to an interactive table.\"\n",
              "              style=\"display:none;\">\n",
              "        \n",
              "  <svg xmlns=\"http://www.w3.org/2000/svg\" height=\"24px\"viewBox=\"0 0 24 24\"\n",
              "       width=\"24px\">\n",
              "    <path d=\"M0 0h24v24H0V0z\" fill=\"none\"/>\n",
              "    <path d=\"M18.56 5.44l.94 2.06.94-2.06 2.06-.94-2.06-.94-.94-2.06-.94 2.06-2.06.94zm-11 1L8.5 8.5l.94-2.06 2.06-.94-2.06-.94L8.5 2.5l-.94 2.06-2.06.94zm10 10l.94 2.06.94-2.06 2.06-.94-2.06-.94-.94-2.06-.94 2.06-2.06.94z\"/><path d=\"M17.41 7.96l-1.37-1.37c-.4-.4-.92-.59-1.43-.59-.52 0-1.04.2-1.43.59L10.3 9.45l-7.72 7.72c-.78.78-.78 2.05 0 2.83L4 21.41c.39.39.9.59 1.41.59.51 0 1.02-.2 1.41-.59l7.78-7.78 2.81-2.81c.8-.78.8-2.07 0-2.86zM5.41 20L4 18.59l7.72-7.72 1.47 1.35L5.41 20z\"/>\n",
              "  </svg>\n",
              "      </button>\n",
              "      \n",
              "  <style>\n",
              "    .colab-df-container {\n",
              "      display:flex;\n",
              "      flex-wrap:wrap;\n",
              "      gap: 12px;\n",
              "    }\n",
              "\n",
              "    .colab-df-convert {\n",
              "      background-color: #E8F0FE;\n",
              "      border: none;\n",
              "      border-radius: 50%;\n",
              "      cursor: pointer;\n",
              "      display: none;\n",
              "      fill: #1967D2;\n",
              "      height: 32px;\n",
              "      padding: 0 0 0 0;\n",
              "      width: 32px;\n",
              "    }\n",
              "\n",
              "    .colab-df-convert:hover {\n",
              "      background-color: #E2EBFA;\n",
              "      box-shadow: 0px 1px 2px rgba(60, 64, 67, 0.3), 0px 1px 3px 1px rgba(60, 64, 67, 0.15);\n",
              "      fill: #174EA6;\n",
              "    }\n",
              "\n",
              "    [theme=dark] .colab-df-convert {\n",
              "      background-color: #3B4455;\n",
              "      fill: #D2E3FC;\n",
              "    }\n",
              "\n",
              "    [theme=dark] .colab-df-convert:hover {\n",
              "      background-color: #434B5C;\n",
              "      box-shadow: 0px 1px 3px 1px rgba(0, 0, 0, 0.15);\n",
              "      filter: drop-shadow(0px 1px 2px rgba(0, 0, 0, 0.3));\n",
              "      fill: #FFFFFF;\n",
              "    }\n",
              "  </style>\n",
              "\n",
              "      <script>\n",
              "        const buttonEl =\n",
              "          document.querySelector('#df-b94d0b3f-af94-4592-a674-3b378c3b9414 button.colab-df-convert');\n",
              "        buttonEl.style.display =\n",
              "          google.colab.kernel.accessAllowed ? 'block' : 'none';\n",
              "\n",
              "        async function convertToInteractive(key) {\n",
              "          const element = document.querySelector('#df-b94d0b3f-af94-4592-a674-3b378c3b9414');\n",
              "          const dataTable =\n",
              "            await google.colab.kernel.invokeFunction('convertToInteractive',\n",
              "                                                     [key], {});\n",
              "          if (!dataTable) return;\n",
              "\n",
              "          const docLinkHtml = 'Like what you see? Visit the ' +\n",
              "            '<a target=\"_blank\" href=https://colab.research.google.com/notebooks/data_table.ipynb>data table notebook</a>'\n",
              "            + ' to learn more about interactive tables.';\n",
              "          element.innerHTML = '';\n",
              "          dataTable['output_type'] = 'display_data';\n",
              "          await google.colab.output.renderOutput(dataTable, element);\n",
              "          const docLink = document.createElement('div');\n",
              "          docLink.innerHTML = docLinkHtml;\n",
              "          element.appendChild(docLink);\n",
              "        }\n",
              "      </script>\n",
              "    </div>\n",
              "  </div>\n",
              "  "
            ]
          },
          "metadata": {},
          "execution_count": 19
        }
      ]
    },
    {
      "cell_type": "code",
      "source": [
        "df_consumer_agg['First Class']['avg_first_class']"
      ],
      "metadata": {
        "colab": {
          "base_uri": "https://localhost:8080/"
        },
        "id": "upy0GCgDoZy2",
        "outputId": "a22a5ff0-5124-4846-af8b-13d03042e63b"
      },
      "execution_count": 20,
      "outputs": [
        {
          "output_type": "execute_result",
          "data": {
            "text/plain": [
              "Customer ID\n",
              "AA-10315    0.090909\n",
              "AA-10375    0.266667\n",
              "AA-10480    0.000000\n",
              "AA-10645    0.388889\n",
              "AB-10015    0.833333\n",
              "              ...   \n",
              "VS-21820    0.000000\n",
              "WB-21850    0.171429\n",
              "XP-21865    0.071429\n",
              "ZC-21910    0.129032\n",
              "ZD-21925    0.111111\n",
              "Name: avg_first_class, Length: 409, dtype: float64"
            ]
          },
          "metadata": {},
          "execution_count": 20
        }
      ]
    },
    {
      "cell_type": "code",
      "source": [
        "#menghilangkan multi level column\n",
        "df_consumer_agg.columns = df_consumer_agg.columns.droplevel()"
      ],
      "metadata": {
        "id": "L5KshyrWoqQz"
      },
      "execution_count": 21,
      "outputs": []
    },
    {
      "cell_type": "code",
      "source": [
        "df_consumer_agg.head()"
      ],
      "metadata": {
        "colab": {
          "base_uri": "https://localhost:8080/",
          "height": 238
        },
        "id": "Bb9ztf8bo8oh",
        "outputId": "5382b864-25c2-4791-8bcf-f11499211355"
      },
      "execution_count": 22,
      "outputs": [
        {
          "output_type": "execute_result",
          "data": {
            "text/plain": [
              "             avg_first_class  avg_second_class  avg_same_day  \\\n",
              "Customer ID                                                    \n",
              "AA-10315            0.090909               0.0      0.000000   \n",
              "AA-10375            0.266667               0.2      0.000000   \n",
              "AA-10480            0.000000               0.0      0.083333   \n",
              "AA-10645            0.388889               0.0      0.000000   \n",
              "AB-10015            0.833333               0.0      0.000000   \n",
              "\n",
              "             avg_standard_class  avg_furniture  avg_office_sup  avg_tech  \\\n",
              "Customer ID                                                                \n",
              "AA-10315               0.909091       0.090909        0.727273  0.181818   \n",
              "AA-10375               0.533333       0.066667        0.733333  0.200000   \n",
              "AA-10480               0.916667       0.166667        0.666667  0.166667   \n",
              "AA-10645               0.611111       0.444444        0.444444  0.111111   \n",
              "AB-10015               0.166667       0.333333        0.500000  0.166667   \n",
              "\n",
              "              avg_sales  total_trx  total_sales  \n",
              "Customer ID                                      \n",
              "AA-10315     505.778182         11     5563.560  \n",
              "AA-10375      70.426000         15     1056.390  \n",
              "AA-10480     149.209333         12     1790.512  \n",
              "AA-10645     282.607500         18     5086.935  \n",
              "AB-10015     147.692667          6      886.156  "
            ],
            "text/html": [
              "\n",
              "  <div id=\"df-c95f7077-7bcf-422e-9f89-bcac1ab5b60b\">\n",
              "    <div class=\"colab-df-container\">\n",
              "      <div>\n",
              "<style scoped>\n",
              "    .dataframe tbody tr th:only-of-type {\n",
              "        vertical-align: middle;\n",
              "    }\n",
              "\n",
              "    .dataframe tbody tr th {\n",
              "        vertical-align: top;\n",
              "    }\n",
              "\n",
              "    .dataframe thead th {\n",
              "        text-align: right;\n",
              "    }\n",
              "</style>\n",
              "<table border=\"1\" class=\"dataframe\">\n",
              "  <thead>\n",
              "    <tr style=\"text-align: right;\">\n",
              "      <th></th>\n",
              "      <th>avg_first_class</th>\n",
              "      <th>avg_second_class</th>\n",
              "      <th>avg_same_day</th>\n",
              "      <th>avg_standard_class</th>\n",
              "      <th>avg_furniture</th>\n",
              "      <th>avg_office_sup</th>\n",
              "      <th>avg_tech</th>\n",
              "      <th>avg_sales</th>\n",
              "      <th>total_trx</th>\n",
              "      <th>total_sales</th>\n",
              "    </tr>\n",
              "    <tr>\n",
              "      <th>Customer ID</th>\n",
              "      <th></th>\n",
              "      <th></th>\n",
              "      <th></th>\n",
              "      <th></th>\n",
              "      <th></th>\n",
              "      <th></th>\n",
              "      <th></th>\n",
              "      <th></th>\n",
              "      <th></th>\n",
              "      <th></th>\n",
              "    </tr>\n",
              "  </thead>\n",
              "  <tbody>\n",
              "    <tr>\n",
              "      <th>AA-10315</th>\n",
              "      <td>0.090909</td>\n",
              "      <td>0.0</td>\n",
              "      <td>0.000000</td>\n",
              "      <td>0.909091</td>\n",
              "      <td>0.090909</td>\n",
              "      <td>0.727273</td>\n",
              "      <td>0.181818</td>\n",
              "      <td>505.778182</td>\n",
              "      <td>11</td>\n",
              "      <td>5563.560</td>\n",
              "    </tr>\n",
              "    <tr>\n",
              "      <th>AA-10375</th>\n",
              "      <td>0.266667</td>\n",
              "      <td>0.2</td>\n",
              "      <td>0.000000</td>\n",
              "      <td>0.533333</td>\n",
              "      <td>0.066667</td>\n",
              "      <td>0.733333</td>\n",
              "      <td>0.200000</td>\n",
              "      <td>70.426000</td>\n",
              "      <td>15</td>\n",
              "      <td>1056.390</td>\n",
              "    </tr>\n",
              "    <tr>\n",
              "      <th>AA-10480</th>\n",
              "      <td>0.000000</td>\n",
              "      <td>0.0</td>\n",
              "      <td>0.083333</td>\n",
              "      <td>0.916667</td>\n",
              "      <td>0.166667</td>\n",
              "      <td>0.666667</td>\n",
              "      <td>0.166667</td>\n",
              "      <td>149.209333</td>\n",
              "      <td>12</td>\n",
              "      <td>1790.512</td>\n",
              "    </tr>\n",
              "    <tr>\n",
              "      <th>AA-10645</th>\n",
              "      <td>0.388889</td>\n",
              "      <td>0.0</td>\n",
              "      <td>0.000000</td>\n",
              "      <td>0.611111</td>\n",
              "      <td>0.444444</td>\n",
              "      <td>0.444444</td>\n",
              "      <td>0.111111</td>\n",
              "      <td>282.607500</td>\n",
              "      <td>18</td>\n",
              "      <td>5086.935</td>\n",
              "    </tr>\n",
              "    <tr>\n",
              "      <th>AB-10015</th>\n",
              "      <td>0.833333</td>\n",
              "      <td>0.0</td>\n",
              "      <td>0.000000</td>\n",
              "      <td>0.166667</td>\n",
              "      <td>0.333333</td>\n",
              "      <td>0.500000</td>\n",
              "      <td>0.166667</td>\n",
              "      <td>147.692667</td>\n",
              "      <td>6</td>\n",
              "      <td>886.156</td>\n",
              "    </tr>\n",
              "  </tbody>\n",
              "</table>\n",
              "</div>\n",
              "      <button class=\"colab-df-convert\" onclick=\"convertToInteractive('df-c95f7077-7bcf-422e-9f89-bcac1ab5b60b')\"\n",
              "              title=\"Convert this dataframe to an interactive table.\"\n",
              "              style=\"display:none;\">\n",
              "        \n",
              "  <svg xmlns=\"http://www.w3.org/2000/svg\" height=\"24px\"viewBox=\"0 0 24 24\"\n",
              "       width=\"24px\">\n",
              "    <path d=\"M0 0h24v24H0V0z\" fill=\"none\"/>\n",
              "    <path d=\"M18.56 5.44l.94 2.06.94-2.06 2.06-.94-2.06-.94-.94-2.06-.94 2.06-2.06.94zm-11 1L8.5 8.5l.94-2.06 2.06-.94-2.06-.94L8.5 2.5l-.94 2.06-2.06.94zm10 10l.94 2.06.94-2.06 2.06-.94-2.06-.94-.94-2.06-.94 2.06-2.06.94z\"/><path d=\"M17.41 7.96l-1.37-1.37c-.4-.4-.92-.59-1.43-.59-.52 0-1.04.2-1.43.59L10.3 9.45l-7.72 7.72c-.78.78-.78 2.05 0 2.83L4 21.41c.39.39.9.59 1.41.59.51 0 1.02-.2 1.41-.59l7.78-7.78 2.81-2.81c.8-.78.8-2.07 0-2.86zM5.41 20L4 18.59l7.72-7.72 1.47 1.35L5.41 20z\"/>\n",
              "  </svg>\n",
              "      </button>\n",
              "      \n",
              "  <style>\n",
              "    .colab-df-container {\n",
              "      display:flex;\n",
              "      flex-wrap:wrap;\n",
              "      gap: 12px;\n",
              "    }\n",
              "\n",
              "    .colab-df-convert {\n",
              "      background-color: #E8F0FE;\n",
              "      border: none;\n",
              "      border-radius: 50%;\n",
              "      cursor: pointer;\n",
              "      display: none;\n",
              "      fill: #1967D2;\n",
              "      height: 32px;\n",
              "      padding: 0 0 0 0;\n",
              "      width: 32px;\n",
              "    }\n",
              "\n",
              "    .colab-df-convert:hover {\n",
              "      background-color: #E2EBFA;\n",
              "      box-shadow: 0px 1px 2px rgba(60, 64, 67, 0.3), 0px 1px 3px 1px rgba(60, 64, 67, 0.15);\n",
              "      fill: #174EA6;\n",
              "    }\n",
              "\n",
              "    [theme=dark] .colab-df-convert {\n",
              "      background-color: #3B4455;\n",
              "      fill: #D2E3FC;\n",
              "    }\n",
              "\n",
              "    [theme=dark] .colab-df-convert:hover {\n",
              "      background-color: #434B5C;\n",
              "      box-shadow: 0px 1px 3px 1px rgba(0, 0, 0, 0.15);\n",
              "      filter: drop-shadow(0px 1px 2px rgba(0, 0, 0, 0.3));\n",
              "      fill: #FFFFFF;\n",
              "    }\n",
              "  </style>\n",
              "\n",
              "      <script>\n",
              "        const buttonEl =\n",
              "          document.querySelector('#df-c95f7077-7bcf-422e-9f89-bcac1ab5b60b button.colab-df-convert');\n",
              "        buttonEl.style.display =\n",
              "          google.colab.kernel.accessAllowed ? 'block' : 'none';\n",
              "\n",
              "        async function convertToInteractive(key) {\n",
              "          const element = document.querySelector('#df-c95f7077-7bcf-422e-9f89-bcac1ab5b60b');\n",
              "          const dataTable =\n",
              "            await google.colab.kernel.invokeFunction('convertToInteractive',\n",
              "                                                     [key], {});\n",
              "          if (!dataTable) return;\n",
              "\n",
              "          const docLinkHtml = 'Like what you see? Visit the ' +\n",
              "            '<a target=\"_blank\" href=https://colab.research.google.com/notebooks/data_table.ipynb>data table notebook</a>'\n",
              "            + ' to learn more about interactive tables.';\n",
              "          element.innerHTML = '';\n",
              "          dataTable['output_type'] = 'display_data';\n",
              "          await google.colab.output.renderOutput(dataTable, element);\n",
              "          const docLink = document.createElement('div');\n",
              "          docLink.innerHTML = docLinkHtml;\n",
              "          element.appendChild(docLink);\n",
              "        }\n",
              "      </script>\n",
              "    </div>\n",
              "  </div>\n",
              "  "
            ]
          },
          "metadata": {},
          "execution_count": 22
        }
      ]
    },
    {
      "cell_type": "code",
      "source": [
        "df_consumer_agg['avg_first_class']"
      ],
      "metadata": {
        "colab": {
          "base_uri": "https://localhost:8080/"
        },
        "id": "jMJsM4GVpFpM",
        "outputId": "7e28c818-ba43-4b23-a607-b79ba01a523d"
      },
      "execution_count": 23,
      "outputs": [
        {
          "output_type": "execute_result",
          "data": {
            "text/plain": [
              "Customer ID\n",
              "AA-10315    0.090909\n",
              "AA-10375    0.266667\n",
              "AA-10480    0.000000\n",
              "AA-10645    0.388889\n",
              "AB-10015    0.833333\n",
              "              ...   \n",
              "VS-21820    0.000000\n",
              "WB-21850    0.171429\n",
              "XP-21865    0.071429\n",
              "ZC-21910    0.129032\n",
              "ZD-21925    0.111111\n",
              "Name: avg_first_class, Length: 409, dtype: float64"
            ]
          },
          "metadata": {},
          "execution_count": 23
        }
      ]
    },
    {
      "cell_type": "markdown",
      "source": [
        "Data kita sudah tersusun berdasarkan customer sehingganya bisa dilanjut ke tahap clustering"
      ],
      "metadata": {
        "id": "nWHHfbiUpLda"
      }
    },
    {
      "cell_type": "markdown",
      "source": [
        "Dikarenakan perbedaan skala di df_consumer_agg maka diharuskan dilakukan scaling"
      ],
      "metadata": {
        "id": "mPiE-dPHpUj0"
      }
    },
    {
      "cell_type": "markdown",
      "source": [
        "##Scaling"
      ],
      "metadata": {
        "id": "lKXqIH5YpdcW"
      }
    },
    {
      "cell_type": "code",
      "source": [
        "from sklearn.preprocessing import StandardScaler\n",
        "scaler = StandardScaler()\n",
        "scaler.fit(df_consumer_agg)"
      ],
      "metadata": {
        "colab": {
          "base_uri": "https://localhost:8080/"
        },
        "id": "cA5cDRdJppvN",
        "outputId": "1d84a155-db17-40ea-9511-b3592c5efca3"
      },
      "execution_count": 24,
      "outputs": [
        {
          "output_type": "execute_result",
          "data": {
            "text/plain": [
              "StandardScaler()"
            ]
          },
          "metadata": {},
          "execution_count": 24
        }
      ]
    },
    {
      "cell_type": "code",
      "source": [
        "df_consumer_agg.columns"
      ],
      "metadata": {
        "colab": {
          "base_uri": "https://localhost:8080/"
        },
        "id": "uvgw2MyOpvvt",
        "outputId": "918999e7-1e06-4778-9e07-2825f6af0a6d"
      },
      "execution_count": 25,
      "outputs": [
        {
          "output_type": "execute_result",
          "data": {
            "text/plain": [
              "Index(['avg_first_class', 'avg_second_class', 'avg_same_day',\n",
              "       'avg_standard_class', 'avg_furniture', 'avg_office_sup', 'avg_tech',\n",
              "       'avg_sales', 'total_trx', 'total_sales'],\n",
              "      dtype='object')"
            ]
          },
          "metadata": {},
          "execution_count": 25
        }
      ]
    },
    {
      "cell_type": "code",
      "source": [
        "X = scaler.transform(df_consumer_agg)\n",
        "X.shape"
      ],
      "metadata": {
        "colab": {
          "base_uri": "https://localhost:8080/"
        },
        "id": "opCe5tjAp1Du",
        "outputId": "131f4359-0153-46c8-fbe3-7a121ffe2fa6"
      },
      "execution_count": 26,
      "outputs": [
        {
          "output_type": "execute_result",
          "data": {
            "text/plain": [
              "(409, 10)"
            ]
          },
          "metadata": {},
          "execution_count": 26
        }
      ]
    },
    {
      "cell_type": "code",
      "source": [
        "X"
      ],
      "metadata": {
        "colab": {
          "base_uri": "https://localhost:8080/"
        },
        "id": "kzTq3Fxyp6JV",
        "outputId": "7d51582b-66aa-454b-ae05-1ffec3695b50"
      },
      "execution_count": 27,
      "outputs": [
        {
          "output_type": "execute_result",
          "data": {
            "text/plain": [
              "array([[-0.33345614, -0.92878641, -0.49676041, ...,  1.80657524,\n",
              "        -0.23430635,  1.06674543],\n",
              "       [ 0.64500967,  0.02881738, -0.49676041, ..., -0.90936659,\n",
              "         0.40244646, -0.67745476],\n",
              "       [-0.83955915, -0.92878641,  0.14606687, ..., -0.41787726,\n",
              "        -0.07511815, -0.39336169],\n",
              "       ...,\n",
              "       [-0.44190679, -0.41578438, -0.49676041, ..., -0.819637  ,\n",
              "         2.47189307, -0.16730686],\n",
              "       [-0.1212194 , -0.77433419, -0.49676041, ...,  0.26638843,\n",
              "         2.94945768,  2.01955556],\n",
              "       [-0.22098881,  0.66721991,  1.21744566, ..., -0.31316761,\n",
              "        -0.55268275, -0.5081286 ]])"
            ]
          },
          "metadata": {},
          "execution_count": 27
        }
      ]
    },
    {
      "cell_type": "markdown",
      "source": [
        "##KMeans"
      ],
      "metadata": {
        "id": "i9pa12Z2qCS9"
      }
    },
    {
      "cell_type": "code",
      "source": [
        "from sklearn.cluster import KMeans\n",
        "km =KMeans(3) #Ambil contoh jumlah cluster\n",
        "km.fit(X)"
      ],
      "metadata": {
        "colab": {
          "base_uri": "https://localhost:8080/"
        },
        "id": "fE3eu0hYqImI",
        "outputId": "17263420-2489-4817-8f09-11d3e074dab6"
      },
      "execution_count": 28,
      "outputs": [
        {
          "output_type": "execute_result",
          "data": {
            "text/plain": [
              "KMeans(n_clusters=3)"
            ]
          },
          "metadata": {},
          "execution_count": 28
        }
      ]
    },
    {
      "cell_type": "code",
      "source": [
        "km.predict(X)"
      ],
      "metadata": {
        "colab": {
          "base_uri": "https://localhost:8080/"
        },
        "id": "l7-elSbtqnSQ",
        "outputId": "8f2059df-e736-4784-ec50-30963f0be6c8"
      },
      "execution_count": 29,
      "outputs": [
        {
          "output_type": "execute_result",
          "data": {
            "text/plain": [
              "array([2, 0, 0, 2, 1, 2, 1, 0, 2, 1, 0, 1, 0, 1, 1, 1, 0, 2, 1, 1, 1, 0,\n",
              "       0, 2, 0, 0, 2, 0, 0, 0, 0, 1, 0, 2, 2, 0, 1, 1, 1, 0, 1, 1, 0, 1,\n",
              "       2, 0, 2, 1, 0, 0, 1, 0, 0, 0, 0, 0, 0, 0, 0, 0, 1, 0, 0, 0, 1, 2,\n",
              "       0, 0, 1, 0, 0, 0, 1, 1, 2, 0, 1, 1, 2, 0, 1, 0, 1, 0, 2, 1, 0, 0,\n",
              "       0, 0, 0, 0, 2, 0, 0, 0, 1, 0, 1, 0, 0, 0, 0, 0, 0, 0, 0, 0, 0, 1,\n",
              "       0, 0, 1, 1, 1, 0, 1, 0, 0, 1, 1, 0, 0, 0, 1, 0, 0, 1, 0, 0, 0, 0,\n",
              "       1, 1, 1, 1, 2, 0, 0, 0, 0, 0, 0, 0, 0, 0, 0, 0, 0, 0, 2, 0, 0, 0,\n",
              "       0, 1, 0, 0, 0, 2, 0, 0, 0, 2, 0, 0, 2, 1, 0, 0, 0, 1, 0, 0, 1, 0,\n",
              "       2, 2, 0, 0, 1, 1, 0, 1, 1, 2, 1, 1, 0, 2, 0, 0, 0, 1, 2, 1, 0, 0,\n",
              "       0, 0, 2, 0, 0, 0, 0, 2, 1, 1, 0, 0, 2, 1, 0, 1, 0, 0, 0, 2, 2, 1,\n",
              "       1, 2, 2, 0, 2, 0, 1, 2, 1, 1, 1, 2, 1, 1, 1, 0, 1, 1, 0, 1, 1, 1,\n",
              "       0, 1, 0, 2, 0, 1, 1, 0, 1, 1, 1, 0, 0, 0, 1, 0, 0, 1, 0, 0, 0, 1,\n",
              "       2, 0, 0, 1, 0, 0, 1, 1, 1, 0, 2, 1, 1, 0, 0, 0, 1, 0, 2, 1, 0, 1,\n",
              "       2, 0, 1, 1, 2, 2, 0, 1, 2, 0, 0, 0, 2, 0, 1, 1, 0, 1, 2, 0, 2, 0,\n",
              "       1, 1, 1, 1, 1, 0, 1, 0, 2, 1, 1, 1, 1, 0, 0, 0, 1, 0, 1, 1, 0, 0,\n",
              "       1, 0, 1, 1, 2, 0, 1, 1, 1, 1, 1, 0, 0, 2, 0, 2, 0, 2, 0, 2, 0, 0,\n",
              "       2, 1, 0, 1, 1, 0, 0, 0, 0, 0, 0, 1, 0, 0, 0, 0, 0, 1, 2, 0, 0, 0,\n",
              "       0, 0, 1, 0, 0, 2, 0, 1, 1, 1, 1, 1, 1, 0, 0, 1, 2, 2, 0, 0, 0, 0,\n",
              "       1, 0, 2, 0, 0, 2, 0, 1, 0, 2, 0, 2, 1], dtype=int32)"
            ]
          },
          "metadata": {},
          "execution_count": 29
        }
      ]
    },
    {
      "cell_type": "code",
      "source": [
        "df_consumer_agg['cluster'] = km.predict(X)\n",
        "df_consumer_agg"
      ],
      "metadata": {
        "colab": {
          "base_uri": "https://localhost:8080/",
          "height": 455
        },
        "id": "z0VarE8uqqD_",
        "outputId": "bc7d1cae-bc14-41f6-b34f-5e81d782bd54"
      },
      "execution_count": 30,
      "outputs": [
        {
          "output_type": "execute_result",
          "data": {
            "text/plain": [
              "             avg_first_class  avg_second_class  avg_same_day  \\\n",
              "Customer ID                                                    \n",
              "AA-10315            0.090909          0.000000      0.000000   \n",
              "AA-10375            0.266667          0.200000      0.000000   \n",
              "AA-10480            0.000000          0.000000      0.083333   \n",
              "AA-10645            0.388889          0.000000      0.000000   \n",
              "AB-10015            0.833333          0.000000      0.000000   \n",
              "...                      ...               ...           ...   \n",
              "VS-21820            0.000000          0.250000      0.000000   \n",
              "WB-21850            0.171429          0.000000      0.314286   \n",
              "XP-21865            0.071429          0.107143      0.000000   \n",
              "ZC-21910            0.129032          0.032258      0.000000   \n",
              "ZD-21925            0.111111          0.333333      0.222222   \n",
              "\n",
              "             avg_standard_class  avg_furniture  avg_office_sup  avg_tech  \\\n",
              "Customer ID                                                                \n",
              "AA-10315               0.909091       0.090909        0.727273  0.181818   \n",
              "AA-10375               0.533333       0.066667        0.733333  0.200000   \n",
              "AA-10480               0.916667       0.166667        0.666667  0.166667   \n",
              "AA-10645               0.611111       0.444444        0.444444  0.111111   \n",
              "AB-10015               0.166667       0.333333        0.500000  0.166667   \n",
              "...                         ...            ...             ...       ...   \n",
              "VS-21820               0.750000       0.375000        0.500000  0.125000   \n",
              "WB-21850               0.514286       0.142857        0.628571  0.228571   \n",
              "XP-21865               0.821429       0.142857        0.750000  0.107143   \n",
              "ZC-21910               0.838710       0.258065        0.548387  0.193548   \n",
              "ZD-21925               0.333333       0.222222        0.444444  0.333333   \n",
              "\n",
              "              avg_sales  total_trx  total_sales  cluster  \n",
              "Customer ID                                               \n",
              "AA-10315     505.778182         11     5563.560        2  \n",
              "AA-10375      70.426000         15     1056.390        0  \n",
              "AA-10480     149.209333         12     1790.512        0  \n",
              "AA-10645     282.607500         18     5086.935        2  \n",
              "AB-10015     147.692667          6      886.156        1  \n",
              "...                 ...        ...          ...      ...  \n",
              "VS-21820     131.997625          8     1055.981        0  \n",
              "WB-21850     175.134571         35     6129.710        2  \n",
              "XP-21865      84.809214         28     2374.658        0  \n",
              "ZC-21910     258.893774         31     8025.707        2  \n",
              "ZD-21925     165.993778          9     1493.944        1  \n",
              "\n",
              "[409 rows x 11 columns]"
            ],
            "text/html": [
              "\n",
              "  <div id=\"df-5d995359-7b69-4912-9339-bd75d2f797bd\">\n",
              "    <div class=\"colab-df-container\">\n",
              "      <div>\n",
              "<style scoped>\n",
              "    .dataframe tbody tr th:only-of-type {\n",
              "        vertical-align: middle;\n",
              "    }\n",
              "\n",
              "    .dataframe tbody tr th {\n",
              "        vertical-align: top;\n",
              "    }\n",
              "\n",
              "    .dataframe thead th {\n",
              "        text-align: right;\n",
              "    }\n",
              "</style>\n",
              "<table border=\"1\" class=\"dataframe\">\n",
              "  <thead>\n",
              "    <tr style=\"text-align: right;\">\n",
              "      <th></th>\n",
              "      <th>avg_first_class</th>\n",
              "      <th>avg_second_class</th>\n",
              "      <th>avg_same_day</th>\n",
              "      <th>avg_standard_class</th>\n",
              "      <th>avg_furniture</th>\n",
              "      <th>avg_office_sup</th>\n",
              "      <th>avg_tech</th>\n",
              "      <th>avg_sales</th>\n",
              "      <th>total_trx</th>\n",
              "      <th>total_sales</th>\n",
              "      <th>cluster</th>\n",
              "    </tr>\n",
              "    <tr>\n",
              "      <th>Customer ID</th>\n",
              "      <th></th>\n",
              "      <th></th>\n",
              "      <th></th>\n",
              "      <th></th>\n",
              "      <th></th>\n",
              "      <th></th>\n",
              "      <th></th>\n",
              "      <th></th>\n",
              "      <th></th>\n",
              "      <th></th>\n",
              "      <th></th>\n",
              "    </tr>\n",
              "  </thead>\n",
              "  <tbody>\n",
              "    <tr>\n",
              "      <th>AA-10315</th>\n",
              "      <td>0.090909</td>\n",
              "      <td>0.000000</td>\n",
              "      <td>0.000000</td>\n",
              "      <td>0.909091</td>\n",
              "      <td>0.090909</td>\n",
              "      <td>0.727273</td>\n",
              "      <td>0.181818</td>\n",
              "      <td>505.778182</td>\n",
              "      <td>11</td>\n",
              "      <td>5563.560</td>\n",
              "      <td>2</td>\n",
              "    </tr>\n",
              "    <tr>\n",
              "      <th>AA-10375</th>\n",
              "      <td>0.266667</td>\n",
              "      <td>0.200000</td>\n",
              "      <td>0.000000</td>\n",
              "      <td>0.533333</td>\n",
              "      <td>0.066667</td>\n",
              "      <td>0.733333</td>\n",
              "      <td>0.200000</td>\n",
              "      <td>70.426000</td>\n",
              "      <td>15</td>\n",
              "      <td>1056.390</td>\n",
              "      <td>0</td>\n",
              "    </tr>\n",
              "    <tr>\n",
              "      <th>AA-10480</th>\n",
              "      <td>0.000000</td>\n",
              "      <td>0.000000</td>\n",
              "      <td>0.083333</td>\n",
              "      <td>0.916667</td>\n",
              "      <td>0.166667</td>\n",
              "      <td>0.666667</td>\n",
              "      <td>0.166667</td>\n",
              "      <td>149.209333</td>\n",
              "      <td>12</td>\n",
              "      <td>1790.512</td>\n",
              "      <td>0</td>\n",
              "    </tr>\n",
              "    <tr>\n",
              "      <th>AA-10645</th>\n",
              "      <td>0.388889</td>\n",
              "      <td>0.000000</td>\n",
              "      <td>0.000000</td>\n",
              "      <td>0.611111</td>\n",
              "      <td>0.444444</td>\n",
              "      <td>0.444444</td>\n",
              "      <td>0.111111</td>\n",
              "      <td>282.607500</td>\n",
              "      <td>18</td>\n",
              "      <td>5086.935</td>\n",
              "      <td>2</td>\n",
              "    </tr>\n",
              "    <tr>\n",
              "      <th>AB-10015</th>\n",
              "      <td>0.833333</td>\n",
              "      <td>0.000000</td>\n",
              "      <td>0.000000</td>\n",
              "      <td>0.166667</td>\n",
              "      <td>0.333333</td>\n",
              "      <td>0.500000</td>\n",
              "      <td>0.166667</td>\n",
              "      <td>147.692667</td>\n",
              "      <td>6</td>\n",
              "      <td>886.156</td>\n",
              "      <td>1</td>\n",
              "    </tr>\n",
              "    <tr>\n",
              "      <th>...</th>\n",
              "      <td>...</td>\n",
              "      <td>...</td>\n",
              "      <td>...</td>\n",
              "      <td>...</td>\n",
              "      <td>...</td>\n",
              "      <td>...</td>\n",
              "      <td>...</td>\n",
              "      <td>...</td>\n",
              "      <td>...</td>\n",
              "      <td>...</td>\n",
              "      <td>...</td>\n",
              "    </tr>\n",
              "    <tr>\n",
              "      <th>VS-21820</th>\n",
              "      <td>0.000000</td>\n",
              "      <td>0.250000</td>\n",
              "      <td>0.000000</td>\n",
              "      <td>0.750000</td>\n",
              "      <td>0.375000</td>\n",
              "      <td>0.500000</td>\n",
              "      <td>0.125000</td>\n",
              "      <td>131.997625</td>\n",
              "      <td>8</td>\n",
              "      <td>1055.981</td>\n",
              "      <td>0</td>\n",
              "    </tr>\n",
              "    <tr>\n",
              "      <th>WB-21850</th>\n",
              "      <td>0.171429</td>\n",
              "      <td>0.000000</td>\n",
              "      <td>0.314286</td>\n",
              "      <td>0.514286</td>\n",
              "      <td>0.142857</td>\n",
              "      <td>0.628571</td>\n",
              "      <td>0.228571</td>\n",
              "      <td>175.134571</td>\n",
              "      <td>35</td>\n",
              "      <td>6129.710</td>\n",
              "      <td>2</td>\n",
              "    </tr>\n",
              "    <tr>\n",
              "      <th>XP-21865</th>\n",
              "      <td>0.071429</td>\n",
              "      <td>0.107143</td>\n",
              "      <td>0.000000</td>\n",
              "      <td>0.821429</td>\n",
              "      <td>0.142857</td>\n",
              "      <td>0.750000</td>\n",
              "      <td>0.107143</td>\n",
              "      <td>84.809214</td>\n",
              "      <td>28</td>\n",
              "      <td>2374.658</td>\n",
              "      <td>0</td>\n",
              "    </tr>\n",
              "    <tr>\n",
              "      <th>ZC-21910</th>\n",
              "      <td>0.129032</td>\n",
              "      <td>0.032258</td>\n",
              "      <td>0.000000</td>\n",
              "      <td>0.838710</td>\n",
              "      <td>0.258065</td>\n",
              "      <td>0.548387</td>\n",
              "      <td>0.193548</td>\n",
              "      <td>258.893774</td>\n",
              "      <td>31</td>\n",
              "      <td>8025.707</td>\n",
              "      <td>2</td>\n",
              "    </tr>\n",
              "    <tr>\n",
              "      <th>ZD-21925</th>\n",
              "      <td>0.111111</td>\n",
              "      <td>0.333333</td>\n",
              "      <td>0.222222</td>\n",
              "      <td>0.333333</td>\n",
              "      <td>0.222222</td>\n",
              "      <td>0.444444</td>\n",
              "      <td>0.333333</td>\n",
              "      <td>165.993778</td>\n",
              "      <td>9</td>\n",
              "      <td>1493.944</td>\n",
              "      <td>1</td>\n",
              "    </tr>\n",
              "  </tbody>\n",
              "</table>\n",
              "<p>409 rows × 11 columns</p>\n",
              "</div>\n",
              "      <button class=\"colab-df-convert\" onclick=\"convertToInteractive('df-5d995359-7b69-4912-9339-bd75d2f797bd')\"\n",
              "              title=\"Convert this dataframe to an interactive table.\"\n",
              "              style=\"display:none;\">\n",
              "        \n",
              "  <svg xmlns=\"http://www.w3.org/2000/svg\" height=\"24px\"viewBox=\"0 0 24 24\"\n",
              "       width=\"24px\">\n",
              "    <path d=\"M0 0h24v24H0V0z\" fill=\"none\"/>\n",
              "    <path d=\"M18.56 5.44l.94 2.06.94-2.06 2.06-.94-2.06-.94-.94-2.06-.94 2.06-2.06.94zm-11 1L8.5 8.5l.94-2.06 2.06-.94-2.06-.94L8.5 2.5l-.94 2.06-2.06.94zm10 10l.94 2.06.94-2.06 2.06-.94-2.06-.94-.94-2.06-.94 2.06-2.06.94z\"/><path d=\"M17.41 7.96l-1.37-1.37c-.4-.4-.92-.59-1.43-.59-.52 0-1.04.2-1.43.59L10.3 9.45l-7.72 7.72c-.78.78-.78 2.05 0 2.83L4 21.41c.39.39.9.59 1.41.59.51 0 1.02-.2 1.41-.59l7.78-7.78 2.81-2.81c.8-.78.8-2.07 0-2.86zM5.41 20L4 18.59l7.72-7.72 1.47 1.35L5.41 20z\"/>\n",
              "  </svg>\n",
              "      </button>\n",
              "      \n",
              "  <style>\n",
              "    .colab-df-container {\n",
              "      display:flex;\n",
              "      flex-wrap:wrap;\n",
              "      gap: 12px;\n",
              "    }\n",
              "\n",
              "    .colab-df-convert {\n",
              "      background-color: #E8F0FE;\n",
              "      border: none;\n",
              "      border-radius: 50%;\n",
              "      cursor: pointer;\n",
              "      display: none;\n",
              "      fill: #1967D2;\n",
              "      height: 32px;\n",
              "      padding: 0 0 0 0;\n",
              "      width: 32px;\n",
              "    }\n",
              "\n",
              "    .colab-df-convert:hover {\n",
              "      background-color: #E2EBFA;\n",
              "      box-shadow: 0px 1px 2px rgba(60, 64, 67, 0.3), 0px 1px 3px 1px rgba(60, 64, 67, 0.15);\n",
              "      fill: #174EA6;\n",
              "    }\n",
              "\n",
              "    [theme=dark] .colab-df-convert {\n",
              "      background-color: #3B4455;\n",
              "      fill: #D2E3FC;\n",
              "    }\n",
              "\n",
              "    [theme=dark] .colab-df-convert:hover {\n",
              "      background-color: #434B5C;\n",
              "      box-shadow: 0px 1px 3px 1px rgba(0, 0, 0, 0.15);\n",
              "      filter: drop-shadow(0px 1px 2px rgba(0, 0, 0, 0.3));\n",
              "      fill: #FFFFFF;\n",
              "    }\n",
              "  </style>\n",
              "\n",
              "      <script>\n",
              "        const buttonEl =\n",
              "          document.querySelector('#df-5d995359-7b69-4912-9339-bd75d2f797bd button.colab-df-convert');\n",
              "        buttonEl.style.display =\n",
              "          google.colab.kernel.accessAllowed ? 'block' : 'none';\n",
              "\n",
              "        async function convertToInteractive(key) {\n",
              "          const element = document.querySelector('#df-5d995359-7b69-4912-9339-bd75d2f797bd');\n",
              "          const dataTable =\n",
              "            await google.colab.kernel.invokeFunction('convertToInteractive',\n",
              "                                                     [key], {});\n",
              "          if (!dataTable) return;\n",
              "\n",
              "          const docLinkHtml = 'Like what you see? Visit the ' +\n",
              "            '<a target=\"_blank\" href=https://colab.research.google.com/notebooks/data_table.ipynb>data table notebook</a>'\n",
              "            + ' to learn more about interactive tables.';\n",
              "          element.innerHTML = '';\n",
              "          dataTable['output_type'] = 'display_data';\n",
              "          await google.colab.output.renderOutput(dataTable, element);\n",
              "          const docLink = document.createElement('div');\n",
              "          docLink.innerHTML = docLinkHtml;\n",
              "          element.appendChild(docLink);\n",
              "        }\n",
              "      </script>\n",
              "    </div>\n",
              "  </div>\n",
              "  "
            ]
          },
          "metadata": {},
          "execution_count": 30
        }
      ]
    },
    {
      "cell_type": "markdown",
      "source": [
        "## Elbow Method\n",
        "Jika sebelumnya kita menebak jumlah cluster, maka dengan elbow method dapat diketahui perhitungan paling baik jumlah cluster yang digunakan "
      ],
      "metadata": {
        "id": "kz8v-Cvfq9E9"
      }
    },
    {
      "cell_type": "code",
      "source": [
        "km.inertia_"
      ],
      "metadata": {
        "colab": {
          "base_uri": "https://localhost:8080/"
        },
        "id": "x3W-dnyPrEIp",
        "outputId": "eb6e3c3c-733c-4cc1-d672-b8b0dcc59255"
      },
      "execution_count": 31,
      "outputs": [
        {
          "output_type": "execute_result",
          "data": {
            "text/plain": [
              "3113.144987722233"
            ]
          },
          "metadata": {},
          "execution_count": 31
        }
      ]
    },
    {
      "cell_type": "code",
      "source": [
        "#flow, coba cluster dengan k yang beragam dari 1 sampai 20 \n",
        "INERTIA =[]\n",
        "for i in range(20):\n",
        "  km_i = KMeans(i+1) #+1 karena KMeans dimulai dari 1\n",
        "  km_i.fit(X)\n",
        "  INERTIA.append(km_i.inertia_)"
      ],
      "metadata": {
        "id": "zk3skhG-rfbl"
      },
      "execution_count": 32,
      "outputs": []
    },
    {
      "cell_type": "code",
      "source": [
        "sns.lineplot(y=INERTIA, x=range(1,21))"
      ],
      "metadata": {
        "colab": {
          "base_uri": "https://localhost:8080/",
          "height": 282
        },
        "id": "LexuqIN_rvkr",
        "outputId": "de479326-2e3d-46dc-cc4f-808f038bfd00"
      },
      "execution_count": 33,
      "outputs": [
        {
          "output_type": "execute_result",
          "data": {
            "text/plain": [
              "<matplotlib.axes._subplots.AxesSubplot at 0x7fa55bcc5210>"
            ]
          },
          "metadata": {},
          "execution_count": 33
        },
        {
          "output_type": "display_data",
          "data": {
            "text/plain": [
              "<Figure size 432x288 with 1 Axes>"
            ],
            "image/png": "[encoded data removed]"
          },
          "metadata": {
            "needs_background": "light"
          }
        }
      ]
    },
    {
      "cell_type": "markdown",
      "source": [
        "Kesimpulan : Dari grafik, penurunan drastis ada di k = 6,7,8"
      ],
      "metadata": {
        "id": "ft10pqZcsBtn"
      }
    },
    {
      "cell_type": "markdown",
      "source": [
        "##Yellowbrick"
      ],
      "metadata": {
        "id": "nOujOF5bsU71"
      }
    },
    {
      "cell_type": "code",
      "source": [
        "np.random.seed(31415)\n",
        "from yellowbrick.cluster import KElbowVisualizer\n",
        "\n",
        "model = KMeans()\n",
        "visualizer = KElbowVisualizer(model, k=(1,20))\n",
        "\n",
        "visualizer.fit(X)        # Fit the data to the visualizer\n",
        "visualizer.show()        # Finalize and render the figure"
      ],
      "metadata": {
        "colab": {
          "base_uri": "https://localhost:8080/",
          "height": 393
        },
        "id": "k4R8eMkxsX6N",
        "outputId": "21817aae-9c33-43c8-affe-25ab9dff9bd9"
      },
      "execution_count": 34,
      "outputs": [
        {
          "output_type": "display_data",
          "data": {
            "text/plain": [
              "<Figure size 576x396 with 2 Axes>"
            ],
            "image/png": "[encoded data removed]"
          },
          "metadata": {}
        },
        {
          "output_type": "execute_result",
          "data": {
            "text/plain": [
              "<matplotlib.axes._subplots.AxesSubplot at 0x7fa555301bd0>"
            ]
          },
          "metadata": {},
          "execution_count": 34
        }
      ]
    },
    {
      "cell_type": "markdown",
      "source": [
        "Kesimpulan dari Yellowbrick, k yang digunakan = 7"
      ],
      "metadata": {
        "id": "epx5WtyXsv8T"
      }
    },
    {
      "cell_type": "code",
      "source": [
        "km = KMeans(n_clusters=7)\n",
        "km.fit(X)\n",
        "df_consumer_agg['cluster'] = km.predict(X)\n",
        "df_consumer_agg"
      ],
      "metadata": {
        "colab": {
          "base_uri": "https://localhost:8080/",
          "height": 455
        },
        "id": "Mm-wHeIftGaZ",
        "outputId": "f31bbd87-f8cc-4a6e-d572-fb9d91baacf2"
      },
      "execution_count": 35,
      "outputs": [
        {
          "output_type": "execute_result",
          "data": {
            "text/plain": [
              "             avg_first_class  avg_second_class  avg_same_day  \\\n",
              "Customer ID                                                    \n",
              "AA-10315            0.090909          0.000000      0.000000   \n",
              "AA-10375            0.266667          0.200000      0.000000   \n",
              "AA-10480            0.000000          0.000000      0.083333   \n",
              "AA-10645            0.388889          0.000000      0.000000   \n",
              "AB-10015            0.833333          0.000000      0.000000   \n",
              "...                      ...               ...           ...   \n",
              "VS-21820            0.000000          0.250000      0.000000   \n",
              "WB-21850            0.171429          0.000000      0.314286   \n",
              "XP-21865            0.071429          0.107143      0.000000   \n",
              "ZC-21910            0.129032          0.032258      0.000000   \n",
              "ZD-21925            0.111111          0.333333      0.222222   \n",
              "\n",
              "             avg_standard_class  avg_furniture  avg_office_sup  avg_tech  \\\n",
              "Customer ID                                                                \n",
              "AA-10315               0.909091       0.090909        0.727273  0.181818   \n",
              "AA-10375               0.533333       0.066667        0.733333  0.200000   \n",
              "AA-10480               0.916667       0.166667        0.666667  0.166667   \n",
              "AA-10645               0.611111       0.444444        0.444444  0.111111   \n",
              "AB-10015               0.166667       0.333333        0.500000  0.166667   \n",
              "...                         ...            ...             ...       ...   \n",
              "VS-21820               0.750000       0.375000        0.500000  0.125000   \n",
              "WB-21850               0.514286       0.142857        0.628571  0.228571   \n",
              "XP-21865               0.821429       0.142857        0.750000  0.107143   \n",
              "ZC-21910               0.838710       0.258065        0.548387  0.193548   \n",
              "ZD-21925               0.333333       0.222222        0.444444  0.333333   \n",
              "\n",
              "              avg_sales  total_trx  total_sales  cluster  \n",
              "Customer ID                                               \n",
              "AA-10315     505.778182         11     5563.560        0  \n",
              "AA-10375      70.426000         15     1056.390        3  \n",
              "AA-10480     149.209333         12     1790.512        3  \n",
              "AA-10645     282.607500         18     5086.935        0  \n",
              "AB-10015     147.692667          6      886.156        4  \n",
              "...                 ...        ...          ...      ...  \n",
              "VS-21820     131.997625          8     1055.981        1  \n",
              "WB-21850     175.134571         35     6129.710        0  \n",
              "XP-21865      84.809214         28     2374.658        0  \n",
              "ZC-21910     258.893774         31     8025.707        0  \n",
              "ZD-21925     165.993778          9     1493.944        2  \n",
              "\n",
              "[409 rows x 11 columns]"
            ],
            "text/html": [
              "\n",
              "  <div id=\"df-eb414ac4-2f8a-43d6-9fa7-b02c789ef0e6\">\n",
              "    <div class=\"colab-df-container\">\n",
              "      <div>\n",
              "<style scoped>\n",
              "    .dataframe tbody tr th:only-of-type {\n",
              "        vertical-align: middle;\n",
              "    }\n",
              "\n",
              "    .dataframe tbody tr th {\n",
              "        vertical-align: top;\n",
              "    }\n",
              "\n",
              "    .dataframe thead th {\n",
              "        text-align: right;\n",
              "    }\n",
              "</style>\n",
              "<table border=\"1\" class=\"dataframe\">\n",
              "  <thead>\n",
              "    <tr style=\"text-align: right;\">\n",
              "      <th></th>\n",
              "      <th>avg_first_class</th>\n",
              "      <th>avg_second_class</th>\n",
              "      <th>avg_same_day</th>\n",
              "      <th>avg_standard_class</th>\n",
              "      <th>avg_furniture</th>\n",
              "      <th>avg_office_sup</th>\n",
              "      <th>avg_tech</th>\n",
              "      <th>avg_sales</th>\n",
              "      <th>total_trx</th>\n",
              "      <th>total_sales</th>\n",
              "      <th>cluster</th>\n",
              "    </tr>\n",
              "    <tr>\n",
              "      <th>Customer ID</th>\n",
              "      <th></th>\n",
              "      <th></th>\n",
              "      <th></th>\n",
              "      <th></th>\n",
              "      <th></th>\n",
              "      <th></th>\n",
              "      <th></th>\n",
              "      <th></th>\n",
              "      <th></th>\n",
              "      <th></th>\n",
              "      <th></th>\n",
              "    </tr>\n",
              "  </thead>\n",
              "  <tbody>\n",
              "    <tr>\n",
              "      <th>AA-10315</th>\n",
              "      <td>0.090909</td>\n",
              "      <td>0.000000</td>\n",
              "      <td>0.000000</td>\n",
              "      <td>0.909091</td>\n",
              "      <td>0.090909</td>\n",
              "      <td>0.727273</td>\n",
              "      <td>0.181818</td>\n",
              "      <td>505.778182</td>\n",
              "      <td>11</td>\n",
              "      <td>5563.560</td>\n",
              "      <td>0</td>\n",
              "    </tr>\n",
              "    <tr>\n",
              "      <th>AA-10375</th>\n",
              "      <td>0.266667</td>\n",
              "      <td>0.200000</td>\n",
              "      <td>0.000000</td>\n",
              "      <td>0.533333</td>\n",
              "      <td>0.066667</td>\n",
              "      <td>0.733333</td>\n",
              "      <td>0.200000</td>\n",
              "      <td>70.426000</td>\n",
              "      <td>15</td>\n",
              "      <td>1056.390</td>\n",
              "      <td>3</td>\n",
              "    </tr>\n",
              "    <tr>\n",
              "      <th>AA-10480</th>\n",
              "      <td>0.000000</td>\n",
              "      <td>0.000000</td>\n",
              "      <td>0.083333</td>\n",
              "      <td>0.916667</td>\n",
              "      <td>0.166667</td>\n",
              "      <td>0.666667</td>\n",
              "      <td>0.166667</td>\n",
              "      <td>149.209333</td>\n",
              "      <td>12</td>\n",
              "      <td>1790.512</td>\n",
              "      <td>3</td>\n",
              "    </tr>\n",
              "    <tr>\n",
              "      <th>AA-10645</th>\n",
              "      <td>0.388889</td>\n",
              "      <td>0.000000</td>\n",
              "      <td>0.000000</td>\n",
              "      <td>0.611111</td>\n",
              "      <td>0.444444</td>\n",
              "      <td>0.444444</td>\n",
              "      <td>0.111111</td>\n",
              "      <td>282.607500</td>\n",
              "      <td>18</td>\n",
              "      <td>5086.935</td>\n",
              "      <td>0</td>\n",
              "    </tr>\n",
              "    <tr>\n",
              "      <th>AB-10015</th>\n",
              "      <td>0.833333</td>\n",
              "      <td>0.000000</td>\n",
              "      <td>0.000000</td>\n",
              "      <td>0.166667</td>\n",
              "      <td>0.333333</td>\n",
              "      <td>0.500000</td>\n",
              "      <td>0.166667</td>\n",
              "      <td>147.692667</td>\n",
              "      <td>6</td>\n",
              "      <td>886.156</td>\n",
              "      <td>4</td>\n",
              "    </tr>\n",
              "    <tr>\n",
              "      <th>...</th>\n",
              "      <td>...</td>\n",
              "      <td>...</td>\n",
              "      <td>...</td>\n",
              "      <td>...</td>\n",
              "      <td>...</td>\n",
              "      <td>...</td>\n",
              "      <td>...</td>\n",
              "      <td>...</td>\n",
              "      <td>...</td>\n",
              "      <td>...</td>\n",
              "      <td>...</td>\n",
              "    </tr>\n",
              "    <tr>\n",
              "      <th>VS-21820</th>\n",
              "      <td>0.000000</td>\n",
              "      <td>0.250000</td>\n",
              "      <td>0.000000</td>\n",
              "      <td>0.750000</td>\n",
              "      <td>0.375000</td>\n",
              "      <td>0.500000</td>\n",
              "      <td>0.125000</td>\n",
              "      <td>131.997625</td>\n",
              "      <td>8</td>\n",
              "      <td>1055.981</td>\n",
              "      <td>1</td>\n",
              "    </tr>\n",
              "    <tr>\n",
              "      <th>WB-21850</th>\n",
              "      <td>0.171429</td>\n",
              "      <td>0.000000</td>\n",
              "      <td>0.314286</td>\n",
              "      <td>0.514286</td>\n",
              "      <td>0.142857</td>\n",
              "      <td>0.628571</td>\n",
              "      <td>0.228571</td>\n",
              "      <td>175.134571</td>\n",
              "      <td>35</td>\n",
              "      <td>6129.710</td>\n",
              "      <td>0</td>\n",
              "    </tr>\n",
              "    <tr>\n",
              "      <th>XP-21865</th>\n",
              "      <td>0.071429</td>\n",
              "      <td>0.107143</td>\n",
              "      <td>0.000000</td>\n",
              "      <td>0.821429</td>\n",
              "      <td>0.142857</td>\n",
              "      <td>0.750000</td>\n",
              "      <td>0.107143</td>\n",
              "      <td>84.809214</td>\n",
              "      <td>28</td>\n",
              "      <td>2374.658</td>\n",
              "      <td>0</td>\n",
              "    </tr>\n",
              "    <tr>\n",
              "      <th>ZC-21910</th>\n",
              "      <td>0.129032</td>\n",
              "      <td>0.032258</td>\n",
              "      <td>0.000000</td>\n",
              "      <td>0.838710</td>\n",
              "      <td>0.258065</td>\n",
              "      <td>0.548387</td>\n",
              "      <td>0.193548</td>\n",
              "      <td>258.893774</td>\n",
              "      <td>31</td>\n",
              "      <td>8025.707</td>\n",
              "      <td>0</td>\n",
              "    </tr>\n",
              "    <tr>\n",
              "      <th>ZD-21925</th>\n",
              "      <td>0.111111</td>\n",
              "      <td>0.333333</td>\n",
              "      <td>0.222222</td>\n",
              "      <td>0.333333</td>\n",
              "      <td>0.222222</td>\n",
              "      <td>0.444444</td>\n",
              "      <td>0.333333</td>\n",
              "      <td>165.993778</td>\n",
              "      <td>9</td>\n",
              "      <td>1493.944</td>\n",
              "      <td>2</td>\n",
              "    </tr>\n",
              "  </tbody>\n",
              "</table>\n",
              "<p>409 rows × 11 columns</p>\n",
              "</div>\n",
              "      <button class=\"colab-df-convert\" onclick=\"convertToInteractive('df-eb414ac4-2f8a-43d6-9fa7-b02c789ef0e6')\"\n",
              "              title=\"Convert this dataframe to an interactive table.\"\n",
              "              style=\"display:none;\">\n",
              "        \n",
              "  <svg xmlns=\"http://www.w3.org/2000/svg\" height=\"24px\"viewBox=\"0 0 24 24\"\n",
              "       width=\"24px\">\n",
              "    <path d=\"M0 0h24v24H0V0z\" fill=\"none\"/>\n",
              "    <path d=\"M18.56 5.44l.94 2.06.94-2.06 2.06-.94-2.06-.94-.94-2.06-.94 2.06-2.06.94zm-11 1L8.5 8.5l.94-2.06 2.06-.94-2.06-.94L8.5 2.5l-.94 2.06-2.06.94zm10 10l.94 2.06.94-2.06 2.06-.94-2.06-.94-.94-2.06-.94 2.06-2.06.94z\"/><path d=\"M17.41 7.96l-1.37-1.37c-.4-.4-.92-.59-1.43-.59-.52 0-1.04.2-1.43.59L10.3 9.45l-7.72 7.72c-.78.78-.78 2.05 0 2.83L4 21.41c.39.39.9.59 1.41.59.51 0 1.02-.2 1.41-.59l7.78-7.78 2.81-2.81c.8-.78.8-2.07 0-2.86zM5.41 20L4 18.59l7.72-7.72 1.47 1.35L5.41 20z\"/>\n",
              "  </svg>\n",
              "      </button>\n",
              "      \n",
              "  <style>\n",
              "    .colab-df-container {\n",
              "      display:flex;\n",
              "      flex-wrap:wrap;\n",
              "      gap: 12px;\n",
              "    }\n",
              "\n",
              "    .colab-df-convert {\n",
              "      background-color: #E8F0FE;\n",
              "      border: none;\n",
              "      border-radius: 50%;\n",
              "      cursor: pointer;\n",
              "      display: none;\n",
              "      fill: #1967D2;\n",
              "      height: 32px;\n",
              "      padding: 0 0 0 0;\n",
              "      width: 32px;\n",
              "    }\n",
              "\n",
              "    .colab-df-convert:hover {\n",
              "      background-color: #E2EBFA;\n",
              "      box-shadow: 0px 1px 2px rgba(60, 64, 67, 0.3), 0px 1px 3px 1px rgba(60, 64, 67, 0.15);\n",
              "      fill: #174EA6;\n",
              "    }\n",
              "\n",
              "    [theme=dark] .colab-df-convert {\n",
              "      background-color: #3B4455;\n",
              "      fill: #D2E3FC;\n",
              "    }\n",
              "\n",
              "    [theme=dark] .colab-df-convert:hover {\n",
              "      background-color: #434B5C;\n",
              "      box-shadow: 0px 1px 3px 1px rgba(0, 0, 0, 0.15);\n",
              "      filter: drop-shadow(0px 1px 2px rgba(0, 0, 0, 0.3));\n",
              "      fill: #FFFFFF;\n",
              "    }\n",
              "  </style>\n",
              "\n",
              "      <script>\n",
              "        const buttonEl =\n",
              "          document.querySelector('#df-eb414ac4-2f8a-43d6-9fa7-b02c789ef0e6 button.colab-df-convert');\n",
              "        buttonEl.style.display =\n",
              "          google.colab.kernel.accessAllowed ? 'block' : 'none';\n",
              "\n",
              "        async function convertToInteractive(key) {\n",
              "          const element = document.querySelector('#df-eb414ac4-2f8a-43d6-9fa7-b02c789ef0e6');\n",
              "          const dataTable =\n",
              "            await google.colab.kernel.invokeFunction('convertToInteractive',\n",
              "                                                     [key], {});\n",
              "          if (!dataTable) return;\n",
              "\n",
              "          const docLinkHtml = 'Like what you see? Visit the ' +\n",
              "            '<a target=\"_blank\" href=https://colab.research.google.com/notebooks/data_table.ipynb>data table notebook</a>'\n",
              "            + ' to learn more about interactive tables.';\n",
              "          element.innerHTML = '';\n",
              "          dataTable['output_type'] = 'display_data';\n",
              "          await google.colab.output.renderOutput(dataTable, element);\n",
              "          const docLink = document.createElement('div');\n",
              "          docLink.innerHTML = docLinkHtml;\n",
              "          element.appendChild(docLink);\n",
              "        }\n",
              "      </script>\n",
              "    </div>\n",
              "  </div>\n",
              "  "
            ]
          },
          "metadata": {},
          "execution_count": 35
        }
      ]
    },
    {
      "cell_type": "markdown",
      "source": [
        "##Segement Analysis - Sales"
      ],
      "metadata": {
        "id": "LUZ2nXlhs9EP"
      }
    },
    {
      "cell_type": "code",
      "source": [
        "df_consumer_agg['cluster'].value_counts()"
      ],
      "metadata": {
        "colab": {
          "base_uri": "https://localhost:8080/"
        },
        "id": "cSl9WH_EtXvT",
        "outputId": "a12e2d53-e75f-46b8-d1b1-b2812ae77202"
      },
      "execution_count": 36,
      "outputs": [
        {
          "output_type": "execute_result",
          "data": {
            "text/plain": [
              "0    95\n",
              "3    82\n",
              "1    67\n",
              "5    56\n",
              "4    46\n",
              "2    36\n",
              "6    27\n",
              "Name: cluster, dtype: int64"
            ]
          },
          "metadata": {},
          "execution_count": 36
        }
      ]
    },
    {
      "cell_type": "code",
      "source": [
        "sns.histplot(data=df_consumer_agg, x='avg_sales', hue='cluster', palette='tab10')"
      ],
      "metadata": {
        "colab": {
          "base_uri": "https://localhost:8080/",
          "height": 378
        },
        "id": "sKpPURN-tiB8",
        "outputId": "4d652721-cb84-4788-cc0b-d4af5539e57a"
      },
      "execution_count": 37,
      "outputs": [
        {
          "output_type": "execute_result",
          "data": {
            "text/plain": [
              "<matplotlib.axes._subplots.AxesSubplot at 0x7fa553c08910>"
            ]
          },
          "metadata": {},
          "execution_count": 37
        },
        {
          "output_type": "display_data",
          "data": {
            "text/plain": [
              "<Figure size 576x396 with 1 Axes>"
            ],
            "image/png": "[encoded data removed]"
          },
          "metadata": {}
        }
      ]
    },
    {
      "cell_type": "markdown",
      "source": [
        "Karena sebaran datanya saling tumpang tindih, maka digunakan bootstrap untuk lebih jelas dalam melihat data"
      ],
      "metadata": {
        "id": "UzDxeFaJt6l1"
      }
    },
    {
      "cell_type": "markdown",
      "source": [
        "##Bootstrapping"
      ],
      "metadata": {
        "id": "bGfnHnAZuCc4"
      }
    },
    {
      "cell_type": "code",
      "source": [
        "def bootstrap(df,column):\n",
        "  BOOTS = []\n",
        "  for i in range(200):\n",
        "    for j in range(7):\n",
        "      #with replacement\n",
        "      mean = df[df['cluster'] == j].sample(100, replace=True)[column].mean()\n",
        "      BOOTS.append((j,mean))\n",
        "  df_boots = pd.DataFrame(BOOTS,columns=['cluster',column])\n",
        "  return df_boots"
      ],
      "metadata": {
        "id": "nf6npuCyuNDL"
      },
      "execution_count": 38,
      "outputs": []
    },
    {
      "cell_type": "code",
      "source": [
        "column = 'avg_sales'\n",
        "df_boots = bootstrap(df_consumer_agg, column)\n",
        "sns.histplot(data=df_boots, x=column, hue='cluster', palette='tab10')"
      ],
      "metadata": {
        "colab": {
          "base_uri": "https://localhost:8080/",
          "height": 378
        },
        "id": "TGSGpYl_vl1C",
        "outputId": "5d07d66e-eb6b-4a30-b46d-e1a1a77858e7"
      },
      "execution_count": 39,
      "outputs": [
        {
          "output_type": "execute_result",
          "data": {
            "text/plain": [
              "<matplotlib.axes._subplots.AxesSubplot at 0x7fa55bc2ac90>"
            ]
          },
          "metadata": {},
          "execution_count": 39
        },
        {
          "output_type": "display_data",
          "data": {
            "text/plain": [
              "<Figure size 576x396 with 1 Axes>"
            ],
            "image/png": "[encoded data removed]"
          },
          "metadata": {}
        }
      ]
    },
    {
      "cell_type": "code",
      "source": [
        "column = 'total_trx'\n",
        "df_boots = bootstrap(df_consumer_agg, column)\n",
        "sns.histplot(data=df_boots, x=column, hue='cluster', palette='tab10')"
      ],
      "metadata": {
        "colab": {
          "base_uri": "https://localhost:8080/",
          "height": 378
        },
        "id": "78xLwoVIv3XB",
        "outputId": "2ebc9f86-016c-4c6d-f383-a538532406ba"
      },
      "execution_count": 40,
      "outputs": [
        {
          "output_type": "execute_result",
          "data": {
            "text/plain": [
              "<matplotlib.axes._subplots.AxesSubplot at 0x7fa553a3b850>"
            ]
          },
          "metadata": {},
          "execution_count": 40
        },
        {
          "output_type": "display_data",
          "data": {
            "text/plain": [
              "<Figure size 576x396 with 1 Axes>"
            ],
            "image/png": "[encoded data removed]"
          },
          "metadata": {}
        }
      ]
    },
    {
      "cell_type": "code",
      "source": [
        "column = 'avg_standard_class'\n",
        "df_boots = bootstrap(df_consumer_agg, column)\n",
        "sns.histplot(data=df_boots, x=column, hue='cluster', palette='tab10')"
      ],
      "metadata": {
        "colab": {
          "base_uri": "https://localhost:8080/",
          "height": 378
        },
        "id": "OvFGMafDwDjz",
        "outputId": "4d299bd1-d103-410c-b6b2-36bfc3a34f3d"
      },
      "execution_count": 41,
      "outputs": [
        {
          "output_type": "execute_result",
          "data": {
            "text/plain": [
              "<matplotlib.axes._subplots.AxesSubplot at 0x7fa5533c7490>"
            ]
          },
          "metadata": {},
          "execution_count": 41
        },
        {
          "output_type": "display_data",
          "data": {
            "text/plain": [
              "<Figure size 576x396 with 1 Axes>"
            ],
            "image/png": "[encoded data removed]"
          },
          "metadata": {}
        }
      ]
    },
    {
      "cell_type": "code",
      "source": [
        "column = 'avg_same_day'\n",
        "df_boots = bootstrap(df_consumer_agg, column)\n",
        "sns.histplot(data=df_boots, x=column, hue='cluster', palette='tab10')"
      ],
      "metadata": {
        "colab": {
          "base_uri": "https://localhost:8080/",
          "height": 378
        },
        "id": "xJZ-h1-zwZAk",
        "outputId": "64f91e17-f5c6-43aa-801e-2a1360c8312d"
      },
      "execution_count": 42,
      "outputs": [
        {
          "output_type": "execute_result",
          "data": {
            "text/plain": [
              "<matplotlib.axes._subplots.AxesSubplot at 0x7fa5530f06d0>"
            ]
          },
          "metadata": {},
          "execution_count": 42
        },
        {
          "output_type": "display_data",
          "data": {
            "text/plain": [
              "<Figure size 576x396 with 1 Axes>"
            ],
            "image/png": "[encoded data removed]"
          },
          "metadata": {}
        }
      ]
    },
    {
      "cell_type": "code",
      "source": [
        "column = 'avg_first_class'\n",
        "df_boots = bootstrap(df_consumer_agg, column)\n",
        "sns.histplot(data=df_boots, x=column, hue='cluster', palette='tab10')"
      ],
      "metadata": {
        "colab": {
          "base_uri": "https://localhost:8080/",
          "height": 378
        },
        "id": "Go9wD1NGwmIC",
        "outputId": "085071eb-fbe9-4ce1-ae32-186f0fcf6ac3"
      },
      "execution_count": 43,
      "outputs": [
        {
          "output_type": "execute_result",
          "data": {
            "text/plain": [
              "<matplotlib.axes._subplots.AxesSubplot at 0x7fa5530d2710>"
            ]
          },
          "metadata": {},
          "execution_count": 43
        },
        {
          "output_type": "display_data",
          "data": {
            "text/plain": [
              "<Figure size 576x396 with 1 Axes>"
            ],
            "image/png": "[encoded data removed]"
          },
          "metadata": {}
        }
      ]
    },
    {
      "cell_type": "code",
      "source": [
        "column = 'avg_second_class'\n",
        "df_boots = bootstrap(df_consumer_agg, column)\n",
        "sns.histplot(data=df_boots, x=column, hue='cluster', palette='tab10')"
      ],
      "metadata": {
        "colab": {
          "base_uri": "https://localhost:8080/",
          "height": 378
        },
        "id": "jE3G1p53wsG6",
        "outputId": "e8b4cf4d-d52d-4b7c-8dfa-2034327eeb7e"
      },
      "execution_count": 44,
      "outputs": [
        {
          "output_type": "execute_result",
          "data": {
            "text/plain": [
              "<matplotlib.axes._subplots.AxesSubplot at 0x7fa553530710>"
            ]
          },
          "metadata": {},
          "execution_count": 44
        },
        {
          "output_type": "display_data",
          "data": {
            "text/plain": [
              "<Figure size 576x396 with 1 Axes>"
            ],
            "image/png": "[encoded data removed]"
          },
          "metadata": {}
        }
      ]
    },
    {
      "cell_type": "markdown",
      "source": [
        "## Agregasi per Cluster"
      ],
      "metadata": {
        "id": "HS_XRTH8xOhI"
      }
    },
    {
      "cell_type": "code",
      "source": [
        "df_cluster_agg = df_consumer_agg.groupby('cluster').median().reset_index()\n",
        "df_cluster_agg"
      ],
      "metadata": {
        "colab": {
          "base_uri": "https://localhost:8080/",
          "height": 269
        },
        "id": "JkfwvpLQxQBW",
        "outputId": "f876acb1-9689-43ce-bda8-d58fed2c671a"
      },
      "execution_count": 45,
      "outputs": [
        {
          "output_type": "execute_result",
          "data": {
            "text/plain": [
              "   cluster  avg_first_class  avg_second_class  avg_same_day  \\\n",
              "0        0         0.107143          0.133333         0.000   \n",
              "1        1         0.000000          0.100000         0.000   \n",
              "2        2         0.095455          0.125000         0.375   \n",
              "3        3         0.000000          0.000000         0.000   \n",
              "4        4         0.476190          0.100000         0.000   \n",
              "5        5         0.000000          0.559028         0.000   \n",
              "6        6         0.076923          0.125000         0.000   \n",
              "\n",
              "   avg_standard_class  avg_furniture  avg_office_sup  avg_tech   avg_sales  \\\n",
              "0            0.705882       0.200000        0.607143  0.181818  214.799857   \n",
              "1            0.750000       0.333333        0.428571  0.222222  209.732286   \n",
              "2            0.296703       0.193750        0.591667  0.181985  159.988389   \n",
              "3            0.800000       0.118056        0.750000  0.105556  115.502850   \n",
              "4            0.333333       0.258333        0.555556  0.178571  147.248379   \n",
              "5            0.352941       0.175192        0.607692  0.193750  166.922868   \n",
              "6            0.636364       0.187500        0.562500  0.222222  607.937115   \n",
              "\n",
              "   total_trx  total_sales  \n",
              "0       18.0     3670.258  \n",
              "1        9.0     2095.064  \n",
              "2       10.0     1581.052  \n",
              "3        8.0      972.862  \n",
              "4        9.5     1696.035  \n",
              "5       12.0     1923.058  \n",
              "6       16.0     9062.864  "
            ],
            "text/html": [
              "\n",
              "  <div id=\"df-6cadbe50-17e6-44b6-9786-1f871fb36668\">\n",
              "    <div class=\"colab-df-container\">\n",
              "      <div>\n",
              "<style scoped>\n",
              "    .dataframe tbody tr th:only-of-type {\n",
              "        vertical-align: middle;\n",
              "    }\n",
              "\n",
              "    .dataframe tbody tr th {\n",
              "        vertical-align: top;\n",
              "    }\n",
              "\n",
              "    .dataframe thead th {\n",
              "        text-align: right;\n",
              "    }\n",
              "</style>\n",
              "<table border=\"1\" class=\"dataframe\">\n",
              "  <thead>\n",
              "    <tr style=\"text-align: right;\">\n",
              "      <th></th>\n",
              "      <th>cluster</th>\n",
              "      <th>avg_first_class</th>\n",
              "      <th>avg_second_class</th>\n",
              "      <th>avg_same_day</th>\n",
              "      <th>avg_standard_class</th>\n",
              "      <th>avg_furniture</th>\n",
              "      <th>avg_office_sup</th>\n",
              "      <th>avg_tech</th>\n",
              "      <th>avg_sales</th>\n",
              "      <th>total_trx</th>\n",
              "      <th>total_sales</th>\n",
              "    </tr>\n",
              "  </thead>\n",
              "  <tbody>\n",
              "    <tr>\n",
              "      <th>0</th>\n",
              "      <td>0</td>\n",
              "      <td>0.107143</td>\n",
              "      <td>0.133333</td>\n",
              "      <td>0.000</td>\n",
              "      <td>0.705882</td>\n",
              "      <td>0.200000</td>\n",
              "      <td>0.607143</td>\n",
              "      <td>0.181818</td>\n",
              "      <td>214.799857</td>\n",
              "      <td>18.0</td>\n",
              "      <td>3670.258</td>\n",
              "    </tr>\n",
              "    <tr>\n",
              "      <th>1</th>\n",
              "      <td>1</td>\n",
              "      <td>0.000000</td>\n",
              "      <td>0.100000</td>\n",
              "      <td>0.000</td>\n",
              "      <td>0.750000</td>\n",
              "      <td>0.333333</td>\n",
              "      <td>0.428571</td>\n",
              "      <td>0.222222</td>\n",
              "      <td>209.732286</td>\n",
              "      <td>9.0</td>\n",
              "      <td>2095.064</td>\n",
              "    </tr>\n",
              "    <tr>\n",
              "      <th>2</th>\n",
              "      <td>2</td>\n",
              "      <td>0.095455</td>\n",
              "      <td>0.125000</td>\n",
              "      <td>0.375</td>\n",
              "      <td>0.296703</td>\n",
              "      <td>0.193750</td>\n",
              "      <td>0.591667</td>\n",
              "      <td>0.181985</td>\n",
              "      <td>159.988389</td>\n",
              "      <td>10.0</td>\n",
              "      <td>1581.052</td>\n",
              "    </tr>\n",
              "    <tr>\n",
              "      <th>3</th>\n",
              "      <td>3</td>\n",
              "      <td>0.000000</td>\n",
              "      <td>0.000000</td>\n",
              "      <td>0.000</td>\n",
              "      <td>0.800000</td>\n",
              "      <td>0.118056</td>\n",
              "      <td>0.750000</td>\n",
              "      <td>0.105556</td>\n",
              "      <td>115.502850</td>\n",
              "      <td>8.0</td>\n",
              "      <td>972.862</td>\n",
              "    </tr>\n",
              "    <tr>\n",
              "      <th>4</th>\n",
              "      <td>4</td>\n",
              "      <td>0.476190</td>\n",
              "      <td>0.100000</td>\n",
              "      <td>0.000</td>\n",
              "      <td>0.333333</td>\n",
              "      <td>0.258333</td>\n",
              "      <td>0.555556</td>\n",
              "      <td>0.178571</td>\n",
              "      <td>147.248379</td>\n",
              "      <td>9.5</td>\n",
              "      <td>1696.035</td>\n",
              "    </tr>\n",
              "    <tr>\n",
              "      <th>5</th>\n",
              "      <td>5</td>\n",
              "      <td>0.000000</td>\n",
              "      <td>0.559028</td>\n",
              "      <td>0.000</td>\n",
              "      <td>0.352941</td>\n",
              "      <td>0.175192</td>\n",
              "      <td>0.607692</td>\n",
              "      <td>0.193750</td>\n",
              "      <td>166.922868</td>\n",
              "      <td>12.0</td>\n",
              "      <td>1923.058</td>\n",
              "    </tr>\n",
              "    <tr>\n",
              "      <th>6</th>\n",
              "      <td>6</td>\n",
              "      <td>0.076923</td>\n",
              "      <td>0.125000</td>\n",
              "      <td>0.000</td>\n",
              "      <td>0.636364</td>\n",
              "      <td>0.187500</td>\n",
              "      <td>0.562500</td>\n",
              "      <td>0.222222</td>\n",
              "      <td>607.937115</td>\n",
              "      <td>16.0</td>\n",
              "      <td>9062.864</td>\n",
              "    </tr>\n",
              "  </tbody>\n",
              "</table>\n",
              "</div>\n",
              "      <button class=\"colab-df-convert\" onclick=\"convertToInteractive('df-6cadbe50-17e6-44b6-9786-1f871fb36668')\"\n",
              "              title=\"Convert this dataframe to an interactive table.\"\n",
              "              style=\"display:none;\">\n",
              "        \n",
              "  <svg xmlns=\"http://www.w3.org/2000/svg\" height=\"24px\"viewBox=\"0 0 24 24\"\n",
              "       width=\"24px\">\n",
              "    <path d=\"M0 0h24v24H0V0z\" fill=\"none\"/>\n",
              "    <path d=\"M18.56 5.44l.94 2.06.94-2.06 2.06-.94-2.06-.94-.94-2.06-.94 2.06-2.06.94zm-11 1L8.5 8.5l.94-2.06 2.06-.94-2.06-.94L8.5 2.5l-.94 2.06-2.06.94zm10 10l.94 2.06.94-2.06 2.06-.94-2.06-.94-.94-2.06-.94 2.06-2.06.94z\"/><path d=\"M17.41 7.96l-1.37-1.37c-.4-.4-.92-.59-1.43-.59-.52 0-1.04.2-1.43.59L10.3 9.45l-7.72 7.72c-.78.78-.78 2.05 0 2.83L4 21.41c.39.39.9.59 1.41.59.51 0 1.02-.2 1.41-.59l7.78-7.78 2.81-2.81c.8-.78.8-2.07 0-2.86zM5.41 20L4 18.59l7.72-7.72 1.47 1.35L5.41 20z\"/>\n",
              "  </svg>\n",
              "      </button>\n",
              "      \n",
              "  <style>\n",
              "    .colab-df-container {\n",
              "      display:flex;\n",
              "      flex-wrap:wrap;\n",
              "      gap: 12px;\n",
              "    }\n",
              "\n",
              "    .colab-df-convert {\n",
              "      background-color: #E8F0FE;\n",
              "      border: none;\n",
              "      border-radius: 50%;\n",
              "      cursor: pointer;\n",
              "      display: none;\n",
              "      fill: #1967D2;\n",
              "      height: 32px;\n",
              "      padding: 0 0 0 0;\n",
              "      width: 32px;\n",
              "    }\n",
              "\n",
              "    .colab-df-convert:hover {\n",
              "      background-color: #E2EBFA;\n",
              "      box-shadow: 0px 1px 2px rgba(60, 64, 67, 0.3), 0px 1px 3px 1px rgba(60, 64, 67, 0.15);\n",
              "      fill: #174EA6;\n",
              "    }\n",
              "\n",
              "    [theme=dark] .colab-df-convert {\n",
              "      background-color: #3B4455;\n",
              "      fill: #D2E3FC;\n",
              "    }\n",
              "\n",
              "    [theme=dark] .colab-df-convert:hover {\n",
              "      background-color: #434B5C;\n",
              "      box-shadow: 0px 1px 3px 1px rgba(0, 0, 0, 0.15);\n",
              "      filter: drop-shadow(0px 1px 2px rgba(0, 0, 0, 0.3));\n",
              "      fill: #FFFFFF;\n",
              "    }\n",
              "  </style>\n",
              "\n",
              "      <script>\n",
              "        const buttonEl =\n",
              "          document.querySelector('#df-6cadbe50-17e6-44b6-9786-1f871fb36668 button.colab-df-convert');\n",
              "        buttonEl.style.display =\n",
              "          google.colab.kernel.accessAllowed ? 'block' : 'none';\n",
              "\n",
              "        async function convertToInteractive(key) {\n",
              "          const element = document.querySelector('#df-6cadbe50-17e6-44b6-9786-1f871fb36668');\n",
              "          const dataTable =\n",
              "            await google.colab.kernel.invokeFunction('convertToInteractive',\n",
              "                                                     [key], {});\n",
              "          if (!dataTable) return;\n",
              "\n",
              "          const docLinkHtml = 'Like what you see? Visit the ' +\n",
              "            '<a target=\"_blank\" href=https://colab.research.google.com/notebooks/data_table.ipynb>data table notebook</a>'\n",
              "            + ' to learn more about interactive tables.';\n",
              "          element.innerHTML = '';\n",
              "          dataTable['output_type'] = 'display_data';\n",
              "          await google.colab.output.renderOutput(dataTable, element);\n",
              "          const docLink = document.createElement('div');\n",
              "          docLink.innerHTML = docLinkHtml;\n",
              "          element.appendChild(docLink);\n",
              "        }\n",
              "      </script>\n",
              "    </div>\n",
              "  </div>\n",
              "  "
            ]
          },
          "metadata": {},
          "execution_count": 45
        }
      ]
    },
    {
      "cell_type": "code",
      "source": [
        "import matplotlib.pyplot as plt"
      ],
      "metadata": {
        "id": "7jyp_9t7xkhu"
      },
      "execution_count": 46,
      "outputs": []
    },
    {
      "cell_type": "code",
      "source": [
        "sns.set(font_scale=2)"
      ],
      "metadata": {
        "id": "Y-kJxRsxWnmi"
      },
      "execution_count": 47,
      "outputs": []
    },
    {
      "cell_type": "code",
      "source": [
        "columns = df_cluster_agg.columns[1:] #Dimulai dari 1 karena tidak melibatkan kolom cluster\n",
        "\n",
        "fig, axs = plt.subplots(ncols=2, nrows=5, figsize=(20, 40))\n",
        "for r in range(5): # jumlah baris / rows\n",
        "    for c in range(2):  # jumlah column\n",
        "        # avg_second_class => r=0, c=1\n",
        "        column_idx = (r*2) + c # --> ngambil index columns yang ke (0*2) + 1 = 1\n",
        "        sns.barplot( \n",
        "            data=df_cluster_agg, x='cluster', y=columns[column_idx], ax=axs[r][c])"
      ],
      "metadata": {
        "colab": {
          "base_uri": "https://localhost:8080/",
          "height": 1000
        },
        "id": "xo9J-KRYxvqI",
        "outputId": "cf26fbd9-e845-4f37-aaf9-efc233701956"
      },
      "execution_count": 48,
      "outputs": [
        {
          "output_type": "display_data",
          "data": {
            "text/plain": [
              "<Figure size 1440x2880 with 10 Axes>"
            ],
            "image/png": "[encoded data removed]"
          },
          "metadata": {}
        }
      ]
    },
    {
      "cell_type": "code",
      "source": [
        "# hvc = high value customer berdasarkan total_sales dan average sales\n",
        "customer_id_hvc = df_consumer_agg[df_consumer_agg['cluster'] == 6].index\n",
        "df[df['Customer ID'].isin(customer_id_hvc)].groupby('Sub-Category').size().sort_values(ascending=False)"
      ],
      "metadata": {
        "colab": {
          "base_uri": "https://localhost:8080/"
        },
        "id": "E4f35AU5zilX",
        "outputId": "2e2eb896-73ef-4394-a70c-312b5a38ce86"
      },
      "execution_count": 49,
      "outputs": [
        {
          "output_type": "execute_result",
          "data": {
            "text/plain": [
              "Sub-Category\n",
              "Binders        63\n",
              "Paper          50\n",
              "Phones         45\n",
              "Storage        40\n",
              "Furnishings    39\n",
              "Chairs         34\n",
              "Art            33\n",
              "Accessories    30\n",
              "Appliances     17\n",
              "Machines       14\n",
              "Tables         14\n",
              "Bookcases      13\n",
              "Labels         12\n",
              "Envelopes      10\n",
              "Supplies        9\n",
              "Fasteners       9\n",
              "Copiers         7\n",
              "dtype: int64"
            ]
          },
          "metadata": {},
          "execution_count": 49
        }
      ]
    },
    {
      "cell_type": "markdown",
      "source": [
        "# Data Science Mini project\n",
        "\n",
        "Ambil segment lain selain \"Consumer\", lakukan segmentasi, berikan minimal 3 insight yang didapat."
      ],
      "metadata": {
        "id": "0547PSJSzokp"
      }
    },
    {
      "cell_type": "markdown",
      "source": [
        "#Segementasi Corporate"
      ],
      "metadata": {
        "id": "PKF4-cDuIhNU"
      }
    },
    {
      "cell_type": "markdown",
      "source": [
        "Di sini kita akan mencoba melakukan segementasi customer yang termasuk corporate"
      ],
      "metadata": {
        "id": "Nl5fPL1_ImzA"
      }
    },
    {
      "cell_type": "code",
      "source": [
        "df.Segment.value_counts()"
      ],
      "metadata": {
        "colab": {
          "base_uri": "https://localhost:8080/"
        },
        "id": "iSAP86vOI7vK",
        "outputId": "57339f2d-ba29-47a6-f55c-5c14aa14a232"
      },
      "execution_count": 50,
      "outputs": [
        {
          "output_type": "execute_result",
          "data": {
            "text/plain": [
              "Consumer       5101\n",
              "Corporate      2953\n",
              "Home Office    1746\n",
              "Name: Segment, dtype: int64"
            ]
          },
          "metadata": {},
          "execution_count": 50
        }
      ]
    },
    {
      "cell_type": "code",
      "source": [
        "df_corporate = df[df['Segment'] == 'Corporate'][['Customer ID','Ship Mode','Category','Sales']]\n",
        "df_corporate.head()"
      ],
      "metadata": {
        "colab": {
          "base_uri": "https://localhost:8080/",
          "height": 206
        },
        "id": "7-lRp4QMIgOf",
        "outputId": "f28ef341-78e0-49da-dfe6-e0ae24b69dbe"
      },
      "execution_count": 51,
      "outputs": [
        {
          "output_type": "execute_result",
          "data": {
            "text/plain": [
              "   Customer ID       Ship Mode         Category     Sales\n",
              "2     DV-13045    Second Class  Office Supplies    14.620\n",
              "21    KB-16585  Standard Class  Office Supplies    19.460\n",
              "22    KB-16585  Standard Class  Office Supplies    60.340\n",
              "35    GH-14485     First Class       Technology  1097.544\n",
              "36    GH-14485     First Class        Furniture   190.920"
            ],
            "text/html": [
              "\n",
              "  <div id=\"df-fc9cf2a3-cf34-4191-9258-2f1a31743879\">\n",
              "    <div class=\"colab-df-container\">\n",
              "      <div>\n",
              "<style scoped>\n",
              "    .dataframe tbody tr th:only-of-type {\n",
              "        vertical-align: middle;\n",
              "    }\n",
              "\n",
              "    .dataframe tbody tr th {\n",
              "        vertical-align: top;\n",
              "    }\n",
              "\n",
              "    .dataframe thead th {\n",
              "        text-align: right;\n",
              "    }\n",
              "</style>\n",
              "<table border=\"1\" class=\"dataframe\">\n",
              "  <thead>\n",
              "    <tr style=\"text-align: right;\">\n",
              "      <th></th>\n",
              "      <th>Customer ID</th>\n",
              "      <th>Ship Mode</th>\n",
              "      <th>Category</th>\n",
              "      <th>Sales</th>\n",
              "    </tr>\n",
              "  </thead>\n",
              "  <tbody>\n",
              "    <tr>\n",
              "      <th>2</th>\n",
              "      <td>DV-13045</td>\n",
              "      <td>Second Class</td>\n",
              "      <td>Office Supplies</td>\n",
              "      <td>14.620</td>\n",
              "    </tr>\n",
              "    <tr>\n",
              "      <th>21</th>\n",
              "      <td>KB-16585</td>\n",
              "      <td>Standard Class</td>\n",
              "      <td>Office Supplies</td>\n",
              "      <td>19.460</td>\n",
              "    </tr>\n",
              "    <tr>\n",
              "      <th>22</th>\n",
              "      <td>KB-16585</td>\n",
              "      <td>Standard Class</td>\n",
              "      <td>Office Supplies</td>\n",
              "      <td>60.340</td>\n",
              "    </tr>\n",
              "    <tr>\n",
              "      <th>35</th>\n",
              "      <td>GH-14485</td>\n",
              "      <td>First Class</td>\n",
              "      <td>Technology</td>\n",
              "      <td>1097.544</td>\n",
              "    </tr>\n",
              "    <tr>\n",
              "      <th>36</th>\n",
              "      <td>GH-14485</td>\n",
              "      <td>First Class</td>\n",
              "      <td>Furniture</td>\n",
              "      <td>190.920</td>\n",
              "    </tr>\n",
              "  </tbody>\n",
              "</table>\n",
              "</div>\n",
              "      <button class=\"colab-df-convert\" onclick=\"convertToInteractive('df-fc9cf2a3-cf34-4191-9258-2f1a31743879')\"\n",
              "              title=\"Convert this dataframe to an interactive table.\"\n",
              "              style=\"display:none;\">\n",
              "        \n",
              "  <svg xmlns=\"http://www.w3.org/2000/svg\" height=\"24px\"viewBox=\"0 0 24 24\"\n",
              "       width=\"24px\">\n",
              "    <path d=\"M0 0h24v24H0V0z\" fill=\"none\"/>\n",
              "    <path d=\"M18.56 5.44l.94 2.06.94-2.06 2.06-.94-2.06-.94-.94-2.06-.94 2.06-2.06.94zm-11 1L8.5 8.5l.94-2.06 2.06-.94-2.06-.94L8.5 2.5l-.94 2.06-2.06.94zm10 10l.94 2.06.94-2.06 2.06-.94-2.06-.94-.94-2.06-.94 2.06-2.06.94z\"/><path d=\"M17.41 7.96l-1.37-1.37c-.4-.4-.92-.59-1.43-.59-.52 0-1.04.2-1.43.59L10.3 9.45l-7.72 7.72c-.78.78-.78 2.05 0 2.83L4 21.41c.39.39.9.59 1.41.59.51 0 1.02-.2 1.41-.59l7.78-7.78 2.81-2.81c.8-.78.8-2.07 0-2.86zM5.41 20L4 18.59l7.72-7.72 1.47 1.35L5.41 20z\"/>\n",
              "  </svg>\n",
              "      </button>\n",
              "      \n",
              "  <style>\n",
              "    .colab-df-container {\n",
              "      display:flex;\n",
              "      flex-wrap:wrap;\n",
              "      gap: 12px;\n",
              "    }\n",
              "\n",
              "    .colab-df-convert {\n",
              "      background-color: #E8F0FE;\n",
              "      border: none;\n",
              "      border-radius: 50%;\n",
              "      cursor: pointer;\n",
              "      display: none;\n",
              "      fill: #1967D2;\n",
              "      height: 32px;\n",
              "      padding: 0 0 0 0;\n",
              "      width: 32px;\n",
              "    }\n",
              "\n",
              "    .colab-df-convert:hover {\n",
              "      background-color: #E2EBFA;\n",
              "      box-shadow: 0px 1px 2px rgba(60, 64, 67, 0.3), 0px 1px 3px 1px rgba(60, 64, 67, 0.15);\n",
              "      fill: #174EA6;\n",
              "    }\n",
              "\n",
              "    [theme=dark] .colab-df-convert {\n",
              "      background-color: #3B4455;\n",
              "      fill: #D2E3FC;\n",
              "    }\n",
              "\n",
              "    [theme=dark] .colab-df-convert:hover {\n",
              "      background-color: #434B5C;\n",
              "      box-shadow: 0px 1px 3px 1px rgba(0, 0, 0, 0.15);\n",
              "      filter: drop-shadow(0px 1px 2px rgba(0, 0, 0, 0.3));\n",
              "      fill: #FFFFFF;\n",
              "    }\n",
              "  </style>\n",
              "\n",
              "      <script>\n",
              "        const buttonEl =\n",
              "          document.querySelector('#df-fc9cf2a3-cf34-4191-9258-2f1a31743879 button.colab-df-convert');\n",
              "        buttonEl.style.display =\n",
              "          google.colab.kernel.accessAllowed ? 'block' : 'none';\n",
              "\n",
              "        async function convertToInteractive(key) {\n",
              "          const element = document.querySelector('#df-fc9cf2a3-cf34-4191-9258-2f1a31743879');\n",
              "          const dataTable =\n",
              "            await google.colab.kernel.invokeFunction('convertToInteractive',\n",
              "                                                     [key], {});\n",
              "          if (!dataTable) return;\n",
              "\n",
              "          const docLinkHtml = 'Like what you see? Visit the ' +\n",
              "            '<a target=\"_blank\" href=https://colab.research.google.com/notebooks/data_table.ipynb>data table notebook</a>'\n",
              "            + ' to learn more about interactive tables.';\n",
              "          element.innerHTML = '';\n",
              "          dataTable['output_type'] = 'display_data';\n",
              "          await google.colab.output.renderOutput(dataTable, element);\n",
              "          const docLink = document.createElement('div');\n",
              "          docLink.innerHTML = docLinkHtml;\n",
              "          element.appendChild(docLink);\n",
              "        }\n",
              "      </script>\n",
              "    </div>\n",
              "  </div>\n",
              "  "
            ]
          },
          "metadata": {},
          "execution_count": 51
        }
      ]
    },
    {
      "cell_type": "markdown",
      "source": [
        "Kita akan melakukan step-step seperti pada segmentasi consumer sebelumnya"
      ],
      "metadata": {
        "id": "xHZP8EDsJ95N"
      }
    },
    {
      "cell_type": "markdown",
      "source": [
        "##One Hot Encoding Categorical"
      ],
      "metadata": {
        "id": "ibaxeN9lLJZN"
      }
    },
    {
      "cell_type": "code",
      "source": [
        "#One Hot Encoding\n",
        "\n",
        "df_corporate_category = pd.get_dummies(df_corporate['Category'])\n",
        "df_corporate_ship = pd.get_dummies(df_corporate['Ship Mode'])\n",
        "\n",
        "df_corporate = pd.concat([df_corporate, df_corporate_category, df_corporate_ship], axis = 1)\n",
        "df_corporate"
      ],
      "metadata": {
        "colab": {
          "base_uri": "https://localhost:8080/",
          "height": 424
        },
        "id": "7bWqxWDgKE7D",
        "outputId": "a6304428-1bfe-4c53-f414-b99a5e039c5e"
      },
      "execution_count": 52,
      "outputs": [
        {
          "output_type": "execute_result",
          "data": {
            "text/plain": [
              "     Customer ID       Ship Mode         Category     Sales  Furniture  \\\n",
              "2       DV-13045    Second Class  Office Supplies    14.620          0   \n",
              "21      KB-16585  Standard Class  Office Supplies    19.460          0   \n",
              "22      KB-16585  Standard Class  Office Supplies    60.340          0   \n",
              "35      GH-14485     First Class       Technology  1097.544          0   \n",
              "36      GH-14485     First Class        Furniture   190.920          1   \n",
              "...          ...             ...              ...       ...        ...   \n",
              "9795    SH-19975  Standard Class  Office Supplies     3.798          0   \n",
              "9796    CS-12490  Standard Class  Office Supplies    10.368          0   \n",
              "9797    CS-12490  Standard Class       Technology   235.188          0   \n",
              "9798    CS-12490  Standard Class       Technology    26.376          0   \n",
              "9799    CS-12490  Standard Class       Technology    10.384          0   \n",
              "\n",
              "      Office Supplies  Technology  First Class  Same Day  Second Class  \\\n",
              "2                   1           0            0         0             1   \n",
              "21                  1           0            0         0             0   \n",
              "22                  1           0            0         0             0   \n",
              "35                  0           1            1         0             0   \n",
              "36                  0           0            1         0             0   \n",
              "...               ...         ...          ...       ...           ...   \n",
              "9795                1           0            0         0             0   \n",
              "9796                1           0            0         0             0   \n",
              "9797                0           1            0         0             0   \n",
              "9798                0           1            0         0             0   \n",
              "9799                0           1            0         0             0   \n",
              "\n",
              "      Standard Class  \n",
              "2                  0  \n",
              "21                 1  \n",
              "22                 1  \n",
              "35                 0  \n",
              "36                 0  \n",
              "...              ...  \n",
              "9795               1  \n",
              "9796               1  \n",
              "9797               1  \n",
              "9798               1  \n",
              "9799               1  \n",
              "\n",
              "[2953 rows x 11 columns]"
            ],
            "text/html": [
              "\n",
              "  <div id=\"df-d5522b9c-fa78-45a6-8df9-546c5b65a762\">\n",
              "    <div class=\"colab-df-container\">\n",
              "      <div>\n",
              "<style scoped>\n",
              "    .dataframe tbody tr th:only-of-type {\n",
              "        vertical-align: middle;\n",
              "    }\n",
              "\n",
              "    .dataframe tbody tr th {\n",
              "        vertical-align: top;\n",
              "    }\n",
              "\n",
              "    .dataframe thead th {\n",
              "        text-align: right;\n",
              "    }\n",
              "</style>\n",
              "<table border=\"1\" class=\"dataframe\">\n",
              "  <thead>\n",
              "    <tr style=\"text-align: right;\">\n",
              "      <th></th>\n",
              "      <th>Customer ID</th>\n",
              "      <th>Ship Mode</th>\n",
              "      <th>Category</th>\n",
              "      <th>Sales</th>\n",
              "      <th>Furniture</th>\n",
              "      <th>Office Supplies</th>\n",
              "      <th>Technology</th>\n",
              "      <th>First Class</th>\n",
              "      <th>Same Day</th>\n",
              "      <th>Second Class</th>\n",
              "      <th>Standard Class</th>\n",
              "    </tr>\n",
              "  </thead>\n",
              "  <tbody>\n",
              "    <tr>\n",
              "      <th>2</th>\n",
              "      <td>DV-13045</td>\n",
              "      <td>Second Class</td>\n",
              "      <td>Office Supplies</td>\n",
              "      <td>14.620</td>\n",
              "      <td>0</td>\n",
              "      <td>1</td>\n",
              "      <td>0</td>\n",
              "      <td>0</td>\n",
              "      <td>0</td>\n",
              "      <td>1</td>\n",
              "      <td>0</td>\n",
              "    </tr>\n",
              "    <tr>\n",
              "      <th>21</th>\n",
              "      <td>KB-16585</td>\n",
              "      <td>Standard Class</td>\n",
              "      <td>Office Supplies</td>\n",
              "      <td>19.460</td>\n",
              "      <td>0</td>\n",
              "      <td>1</td>\n",
              "      <td>0</td>\n",
              "      <td>0</td>\n",
              "      <td>0</td>\n",
              "      <td>0</td>\n",
              "      <td>1</td>\n",
              "    </tr>\n",
              "    <tr>\n",
              "      <th>22</th>\n",
              "      <td>KB-16585</td>\n",
              "      <td>Standard Class</td>\n",
              "      <td>Office Supplies</td>\n",
              "      <td>60.340</td>\n",
              "      <td>0</td>\n",
              "      <td>1</td>\n",
              "      <td>0</td>\n",
              "      <td>0</td>\n",
              "      <td>0</td>\n",
              "      <td>0</td>\n",
              "      <td>1</td>\n",
              "    </tr>\n",
              "    <tr>\n",
              "      <th>35</th>\n",
              "      <td>GH-14485</td>\n",
              "      <td>First Class</td>\n",
              "      <td>Technology</td>\n",
              "      <td>1097.544</td>\n",
              "      <td>0</td>\n",
              "      <td>0</td>\n",
              "      <td>1</td>\n",
              "      <td>1</td>\n",
              "      <td>0</td>\n",
              "      <td>0</td>\n",
              "      <td>0</td>\n",
              "    </tr>\n",
              "    <tr>\n",
              "      <th>36</th>\n",
              "      <td>GH-14485</td>\n",
              "      <td>First Class</td>\n",
              "      <td>Furniture</td>\n",
              "      <td>190.920</td>\n",
              "      <td>1</td>\n",
              "      <td>0</td>\n",
              "      <td>0</td>\n",
              "      <td>1</td>\n",
              "      <td>0</td>\n",
              "      <td>0</td>\n",
              "      <td>0</td>\n",
              "    </tr>\n",
              "    <tr>\n",
              "      <th>...</th>\n",
              "      <td>...</td>\n",
              "      <td>...</td>\n",
              "      <td>...</td>\n",
              "      <td>...</td>\n",
              "      <td>...</td>\n",
              "      <td>...</td>\n",
              "      <td>...</td>\n",
              "      <td>...</td>\n",
              "      <td>...</td>\n",
              "      <td>...</td>\n",
              "      <td>...</td>\n",
              "    </tr>\n",
              "    <tr>\n",
              "      <th>9795</th>\n",
              "      <td>SH-19975</td>\n",
              "      <td>Standard Class</td>\n",
              "      <td>Office Supplies</td>\n",
              "      <td>3.798</td>\n",
              "      <td>0</td>\n",
              "      <td>1</td>\n",
              "      <td>0</td>\n",
              "      <td>0</td>\n",
              "      <td>0</td>\n",
              "      <td>0</td>\n",
              "      <td>1</td>\n",
              "    </tr>\n",
              "    <tr>\n",
              "      <th>9796</th>\n",
              "      <td>CS-12490</td>\n",
              "      <td>Standard Class</td>\n",
              "      <td>Office Supplies</td>\n",
              "      <td>10.368</td>\n",
              "      <td>0</td>\n",
              "      <td>1</td>\n",
              "      <td>0</td>\n",
              "      <td>0</td>\n",
              "      <td>0</td>\n",
              "      <td>0</td>\n",
              "      <td>1</td>\n",
              "    </tr>\n",
              "    <tr>\n",
              "      <th>9797</th>\n",
              "      <td>CS-12490</td>\n",
              "      <td>Standard Class</td>\n",
              "      <td>Technology</td>\n",
              "      <td>235.188</td>\n",
              "      <td>0</td>\n",
              "      <td>0</td>\n",
              "      <td>1</td>\n",
              "      <td>0</td>\n",
              "      <td>0</td>\n",
              "      <td>0</td>\n",
              "      <td>1</td>\n",
              "    </tr>\n",
              "    <tr>\n",
              "      <th>9798</th>\n",
              "      <td>CS-12490</td>\n",
              "      <td>Standard Class</td>\n",
              "      <td>Technology</td>\n",
              "      <td>26.376</td>\n",
              "      <td>0</td>\n",
              "      <td>0</td>\n",
              "      <td>1</td>\n",
              "      <td>0</td>\n",
              "      <td>0</td>\n",
              "      <td>0</td>\n",
              "      <td>1</td>\n",
              "    </tr>\n",
              "    <tr>\n",
              "      <th>9799</th>\n",
              "      <td>CS-12490</td>\n",
              "      <td>Standard Class</td>\n",
              "      <td>Technology</td>\n",
              "      <td>10.384</td>\n",
              "      <td>0</td>\n",
              "      <td>0</td>\n",
              "      <td>1</td>\n",
              "      <td>0</td>\n",
              "      <td>0</td>\n",
              "      <td>0</td>\n",
              "      <td>1</td>\n",
              "    </tr>\n",
              "  </tbody>\n",
              "</table>\n",
              "<p>2953 rows × 11 columns</p>\n",
              "</div>\n",
              "      <button class=\"colab-df-convert\" onclick=\"convertToInteractive('df-d5522b9c-fa78-45a6-8df9-546c5b65a762')\"\n",
              "              title=\"Convert this dataframe to an interactive table.\"\n",
              "              style=\"display:none;\">\n",
              "        \n",
              "  <svg xmlns=\"http://www.w3.org/2000/svg\" height=\"24px\"viewBox=\"0 0 24 24\"\n",
              "       width=\"24px\">\n",
              "    <path d=\"M0 0h24v24H0V0z\" fill=\"none\"/>\n",
              "    <path d=\"M18.56 5.44l.94 2.06.94-2.06 2.06-.94-2.06-.94-.94-2.06-.94 2.06-2.06.94zm-11 1L8.5 8.5l.94-2.06 2.06-.94-2.06-.94L8.5 2.5l-.94 2.06-2.06.94zm10 10l.94 2.06.94-2.06 2.06-.94-2.06-.94-.94-2.06-.94 2.06-2.06.94z\"/><path d=\"M17.41 7.96l-1.37-1.37c-.4-.4-.92-.59-1.43-.59-.52 0-1.04.2-1.43.59L10.3 9.45l-7.72 7.72c-.78.78-.78 2.05 0 2.83L4 21.41c.39.39.9.59 1.41.59.51 0 1.02-.2 1.41-.59l7.78-7.78 2.81-2.81c.8-.78.8-2.07 0-2.86zM5.41 20L4 18.59l7.72-7.72 1.47 1.35L5.41 20z\"/>\n",
              "  </svg>\n",
              "      </button>\n",
              "      \n",
              "  <style>\n",
              "    .colab-df-container {\n",
              "      display:flex;\n",
              "      flex-wrap:wrap;\n",
              "      gap: 12px;\n",
              "    }\n",
              "\n",
              "    .colab-df-convert {\n",
              "      background-color: #E8F0FE;\n",
              "      border: none;\n",
              "      border-radius: 50%;\n",
              "      cursor: pointer;\n",
              "      display: none;\n",
              "      fill: #1967D2;\n",
              "      height: 32px;\n",
              "      padding: 0 0 0 0;\n",
              "      width: 32px;\n",
              "    }\n",
              "\n",
              "    .colab-df-convert:hover {\n",
              "      background-color: #E2EBFA;\n",
              "      box-shadow: 0px 1px 2px rgba(60, 64, 67, 0.3), 0px 1px 3px 1px rgba(60, 64, 67, 0.15);\n",
              "      fill: #174EA6;\n",
              "    }\n",
              "\n",
              "    [theme=dark] .colab-df-convert {\n",
              "      background-color: #3B4455;\n",
              "      fill: #D2E3FC;\n",
              "    }\n",
              "\n",
              "    [theme=dark] .colab-df-convert:hover {\n",
              "      background-color: #434B5C;\n",
              "      box-shadow: 0px 1px 3px 1px rgba(0, 0, 0, 0.15);\n",
              "      filter: drop-shadow(0px 1px 2px rgba(0, 0, 0, 0.3));\n",
              "      fill: #FFFFFF;\n",
              "    }\n",
              "  </style>\n",
              "\n",
              "      <script>\n",
              "        const buttonEl =\n",
              "          document.querySelector('#df-d5522b9c-fa78-45a6-8df9-546c5b65a762 button.colab-df-convert');\n",
              "        buttonEl.style.display =\n",
              "          google.colab.kernel.accessAllowed ? 'block' : 'none';\n",
              "\n",
              "        async function convertToInteractive(key) {\n",
              "          const element = document.querySelector('#df-d5522b9c-fa78-45a6-8df9-546c5b65a762');\n",
              "          const dataTable =\n",
              "            await google.colab.kernel.invokeFunction('convertToInteractive',\n",
              "                                                     [key], {});\n",
              "          if (!dataTable) return;\n",
              "\n",
              "          const docLinkHtml = 'Like what you see? Visit the ' +\n",
              "            '<a target=\"_blank\" href=https://colab.research.google.com/notebooks/data_table.ipynb>data table notebook</a>'\n",
              "            + ' to learn more about interactive tables.';\n",
              "          element.innerHTML = '';\n",
              "          dataTable['output_type'] = 'display_data';\n",
              "          await google.colab.output.renderOutput(dataTable, element);\n",
              "          const docLink = document.createElement('div');\n",
              "          docLink.innerHTML = docLinkHtml;\n",
              "          element.appendChild(docLink);\n",
              "        }\n",
              "      </script>\n",
              "    </div>\n",
              "  </div>\n",
              "  "
            ]
          },
          "metadata": {},
          "execution_count": 52
        }
      ]
    },
    {
      "cell_type": "code",
      "source": [
        "df_corporate.drop(['Ship Mode','Category'], axis=1, inplace=True)\n",
        "df_corporate.head()"
      ],
      "metadata": {
        "colab": {
          "base_uri": "https://localhost:8080/",
          "height": 206
        },
        "id": "0YvkEeY0KZ-r",
        "outputId": "33aa2873-48fa-499e-c186-5ae45cb163d8"
      },
      "execution_count": 53,
      "outputs": [
        {
          "output_type": "execute_result",
          "data": {
            "text/plain": [
              "   Customer ID     Sales  Furniture  Office Supplies  Technology  First Class  \\\n",
              "2     DV-13045    14.620          0                1           0            0   \n",
              "21    KB-16585    19.460          0                1           0            0   \n",
              "22    KB-16585    60.340          0                1           0            0   \n",
              "35    GH-14485  1097.544          0                0           1            1   \n",
              "36    GH-14485   190.920          1                0           0            1   \n",
              "\n",
              "    Same Day  Second Class  Standard Class  \n",
              "2          0             1               0  \n",
              "21         0             0               1  \n",
              "22         0             0               1  \n",
              "35         0             0               0  \n",
              "36         0             0               0  "
            ],
            "text/html": [
              "\n",
              "  <div id=\"df-17ebc4ac-8b00-48b7-8039-5a1a9072e175\">\n",
              "    <div class=\"colab-df-container\">\n",
              "      <div>\n",
              "<style scoped>\n",
              "    .dataframe tbody tr th:only-of-type {\n",
              "        vertical-align: middle;\n",
              "    }\n",
              "\n",
              "    .dataframe tbody tr th {\n",
              "        vertical-align: top;\n",
              "    }\n",
              "\n",
              "    .dataframe thead th {\n",
              "        text-align: right;\n",
              "    }\n",
              "</style>\n",
              "<table border=\"1\" class=\"dataframe\">\n",
              "  <thead>\n",
              "    <tr style=\"text-align: right;\">\n",
              "      <th></th>\n",
              "      <th>Customer ID</th>\n",
              "      <th>Sales</th>\n",
              "      <th>Furniture</th>\n",
              "      <th>Office Supplies</th>\n",
              "      <th>Technology</th>\n",
              "      <th>First Class</th>\n",
              "      <th>Same Day</th>\n",
              "      <th>Second Class</th>\n",
              "      <th>Standard Class</th>\n",
              "    </tr>\n",
              "  </thead>\n",
              "  <tbody>\n",
              "    <tr>\n",
              "      <th>2</th>\n",
              "      <td>DV-13045</td>\n",
              "      <td>14.620</td>\n",
              "      <td>0</td>\n",
              "      <td>1</td>\n",
              "      <td>0</td>\n",
              "      <td>0</td>\n",
              "      <td>0</td>\n",
              "      <td>1</td>\n",
              "      <td>0</td>\n",
              "    </tr>\n",
              "    <tr>\n",
              "      <th>21</th>\n",
              "      <td>KB-16585</td>\n",
              "      <td>19.460</td>\n",
              "      <td>0</td>\n",
              "      <td>1</td>\n",
              "      <td>0</td>\n",
              "      <td>0</td>\n",
              "      <td>0</td>\n",
              "      <td>0</td>\n",
              "      <td>1</td>\n",
              "    </tr>\n",
              "    <tr>\n",
              "      <th>22</th>\n",
              "      <td>KB-16585</td>\n",
              "      <td>60.340</td>\n",
              "      <td>0</td>\n",
              "      <td>1</td>\n",
              "      <td>0</td>\n",
              "      <td>0</td>\n",
              "      <td>0</td>\n",
              "      <td>0</td>\n",
              "      <td>1</td>\n",
              "    </tr>\n",
              "    <tr>\n",
              "      <th>35</th>\n",
              "      <td>GH-14485</td>\n",
              "      <td>1097.544</td>\n",
              "      <td>0</td>\n",
              "      <td>0</td>\n",
              "      <td>1</td>\n",
              "      <td>1</td>\n",
              "      <td>0</td>\n",
              "      <td>0</td>\n",
              "      <td>0</td>\n",
              "    </tr>\n",
              "    <tr>\n",
              "      <th>36</th>\n",
              "      <td>GH-14485</td>\n",
              "      <td>190.920</td>\n",
              "      <td>1</td>\n",
              "      <td>0</td>\n",
              "      <td>0</td>\n",
              "      <td>1</td>\n",
              "      <td>0</td>\n",
              "      <td>0</td>\n",
              "      <td>0</td>\n",
              "    </tr>\n",
              "  </tbody>\n",
              "</table>\n",
              "</div>\n",
              "      <button class=\"colab-df-convert\" onclick=\"convertToInteractive('df-17ebc4ac-8b00-48b7-8039-5a1a9072e175')\"\n",
              "              title=\"Convert this dataframe to an interactive table.\"\n",
              "              style=\"display:none;\">\n",
              "        \n",
              "  <svg xmlns=\"http://www.w3.org/2000/svg\" height=\"24px\"viewBox=\"0 0 24 24\"\n",
              "       width=\"24px\">\n",
              "    <path d=\"M0 0h24v24H0V0z\" fill=\"none\"/>\n",
              "    <path d=\"M18.56 5.44l.94 2.06.94-2.06 2.06-.94-2.06-.94-.94-2.06-.94 2.06-2.06.94zm-11 1L8.5 8.5l.94-2.06 2.06-.94-2.06-.94L8.5 2.5l-.94 2.06-2.06.94zm10 10l.94 2.06.94-2.06 2.06-.94-2.06-.94-.94-2.06-.94 2.06-2.06.94z\"/><path d=\"M17.41 7.96l-1.37-1.37c-.4-.4-.92-.59-1.43-.59-.52 0-1.04.2-1.43.59L10.3 9.45l-7.72 7.72c-.78.78-.78 2.05 0 2.83L4 21.41c.39.39.9.59 1.41.59.51 0 1.02-.2 1.41-.59l7.78-7.78 2.81-2.81c.8-.78.8-2.07 0-2.86zM5.41 20L4 18.59l7.72-7.72 1.47 1.35L5.41 20z\"/>\n",
              "  </svg>\n",
              "      </button>\n",
              "      \n",
              "  <style>\n",
              "    .colab-df-container {\n",
              "      display:flex;\n",
              "      flex-wrap:wrap;\n",
              "      gap: 12px;\n",
              "    }\n",
              "\n",
              "    .colab-df-convert {\n",
              "      background-color: #E8F0FE;\n",
              "      border: none;\n",
              "      border-radius: 50%;\n",
              "      cursor: pointer;\n",
              "      display: none;\n",
              "      fill: #1967D2;\n",
              "      height: 32px;\n",
              "      padding: 0 0 0 0;\n",
              "      width: 32px;\n",
              "    }\n",
              "\n",
              "    .colab-df-convert:hover {\n",
              "      background-color: #E2EBFA;\n",
              "      box-shadow: 0px 1px 2px rgba(60, 64, 67, 0.3), 0px 1px 3px 1px rgba(60, 64, 67, 0.15);\n",
              "      fill: #174EA6;\n",
              "    }\n",
              "\n",
              "    [theme=dark] .colab-df-convert {\n",
              "      background-color: #3B4455;\n",
              "      fill: #D2E3FC;\n",
              "    }\n",
              "\n",
              "    [theme=dark] .colab-df-convert:hover {\n",
              "      background-color: #434B5C;\n",
              "      box-shadow: 0px 1px 3px 1px rgba(0, 0, 0, 0.15);\n",
              "      filter: drop-shadow(0px 1px 2px rgba(0, 0, 0, 0.3));\n",
              "      fill: #FFFFFF;\n",
              "    }\n",
              "  </style>\n",
              "\n",
              "      <script>\n",
              "        const buttonEl =\n",
              "          document.querySelector('#df-17ebc4ac-8b00-48b7-8039-5a1a9072e175 button.colab-df-convert');\n",
              "        buttonEl.style.display =\n",
              "          google.colab.kernel.accessAllowed ? 'block' : 'none';\n",
              "\n",
              "        async function convertToInteractive(key) {\n",
              "          const element = document.querySelector('#df-17ebc4ac-8b00-48b7-8039-5a1a9072e175');\n",
              "          const dataTable =\n",
              "            await google.colab.kernel.invokeFunction('convertToInteractive',\n",
              "                                                     [key], {});\n",
              "          if (!dataTable) return;\n",
              "\n",
              "          const docLinkHtml = 'Like what you see? Visit the ' +\n",
              "            '<a target=\"_blank\" href=https://colab.research.google.com/notebooks/data_table.ipynb>data table notebook</a>'\n",
              "            + ' to learn more about interactive tables.';\n",
              "          element.innerHTML = '';\n",
              "          dataTable['output_type'] = 'display_data';\n",
              "          await google.colab.output.renderOutput(dataTable, element);\n",
              "          const docLink = document.createElement('div');\n",
              "          docLink.innerHTML = docLinkHtml;\n",
              "          element.appendChild(docLink);\n",
              "        }\n",
              "      </script>\n",
              "    </div>\n",
              "  </div>\n",
              "  "
            ]
          },
          "metadata": {},
          "execution_count": 53
        }
      ]
    },
    {
      "cell_type": "markdown",
      "source": [
        "##Aggregate per User"
      ],
      "metadata": {
        "id": "wHu1nPv0LrqL"
      }
    },
    {
      "cell_type": "code",
      "source": [
        "df_corporate_agg = df_corporate_agg = df_corporate.groupby('Customer ID').agg({\n",
        "    # Pola ==> \"Kolom\": [('kolom_baru', 'fungsi_aggregasi')]\n",
        "    # ship mode\n",
        "    'First Class': [('avg_first_class', 'mean')],\n",
        "    'Second Class': [('avg_second_class', 'mean')],\n",
        "    'Same Day': [('avg_same_day', 'mean')],\n",
        "    'Standard Class': [('avg_standard_class', 'mean')],\n",
        "    \n",
        "    # category\n",
        "    'Furniture': [('avg_furniture', 'mean')],\n",
        "    'Office Supplies': [('avg_office_sup', 'mean')],\n",
        "    'Technology': [('avg_tech', 'mean')],\n",
        "    \n",
        "    # sales\n",
        "    'Sales': [('avg_sales', 'mean'), ('total_trx', 'count'), ('total_sales', 'sum')]\n",
        "})\n",
        "df_corporate_agg "
      ],
      "metadata": {
        "colab": {
          "base_uri": "https://localhost:8080/",
          "height": 486
        },
        "id": "ntgzaUPcLy1o",
        "outputId": "58bf0d8f-9dd1-4bc4-a359-b80f427c1c44"
      },
      "execution_count": 54,
      "outputs": [
        {
          "output_type": "execute_result",
          "data": {
            "text/plain": [
              "                First Class     Second Class     Same Day     Standard Class  \\\n",
              "            avg_first_class avg_second_class avg_same_day avg_standard_class   \n",
              "Customer ID                                                                    \n",
              "AB-10600           0.750000         0.000000     0.000000           0.250000   \n",
              "AC-10420           0.000000         0.400000     0.000000           0.600000   \n",
              "AC-10615           0.000000         0.000000     0.055556           0.944444   \n",
              "AG-10300           0.200000         0.000000     0.000000           0.800000   \n",
              "AG-10495           0.071429         0.142857     0.142857           0.642857   \n",
              "...                     ...              ...          ...                ...   \n",
              "VG-21805           0.200000         0.000000     0.000000           0.800000   \n",
              "VP-21760           0.571429         0.000000     0.000000           0.428571   \n",
              "VW-21775           0.166667         0.222222     0.000000           0.611111   \n",
              "YC-21895           0.250000         0.000000     0.125000           0.625000   \n",
              "YS-21880           0.083333         0.000000     0.000000           0.916667   \n",
              "\n",
              "                Furniture Office Supplies Technology       Sales            \\\n",
              "            avg_furniture  avg_office_sup   avg_tech   avg_sales total_trx   \n",
              "Customer ID                                                                  \n",
              "AB-10600         0.250000        0.375000   0.375000  189.482750         8   \n",
              "AC-10420         0.200000        0.800000   0.000000  185.160000         5   \n",
              "AC-10615         0.222222        0.555556   0.222222  140.982556        18   \n",
              "AG-10300         0.400000        0.600000   0.000000   73.509600         5   \n",
              "AG-10495         0.142857        0.714286   0.142857  101.374786        14   \n",
              "...                   ...             ...        ...         ...       ...   \n",
              "VG-21805         0.000000        0.800000   0.200000   83.686400         5   \n",
              "VP-21760         0.357143        0.428571   0.214286  240.037571        14   \n",
              "VW-21775         0.222222        0.444444   0.333333  340.779889        18   \n",
              "YC-21895         0.125000        0.625000   0.250000  681.793750         8   \n",
              "YS-21880         0.250000        0.666667   0.083333  560.037000        12   \n",
              "\n",
              "                         \n",
              "            total_sales  \n",
              "Customer ID              \n",
              "AB-10600       1515.862  \n",
              "AC-10420        925.800  \n",
              "AC-10615       2537.686  \n",
              "AG-10300        367.548  \n",
              "AG-10495       1419.247  \n",
              "...                 ...  \n",
              "VG-21805        418.432  \n",
              "VP-21760       3360.526  \n",
              "VW-21775       6134.038  \n",
              "YC-21895       5454.350  \n",
              "YS-21880       6720.444  \n",
              "\n",
              "[236 rows x 10 columns]"
            ],
            "text/html": [
              "\n",
              "  <div id=\"df-eace92f3-9cc2-4ad0-90b1-9c975f25b082\">\n",
              "    <div class=\"colab-df-container\">\n",
              "      <div>\n",
              "<style scoped>\n",
              "    .dataframe tbody tr th:only-of-type {\n",
              "        vertical-align: middle;\n",
              "    }\n",
              "\n",
              "    .dataframe tbody tr th {\n",
              "        vertical-align: top;\n",
              "    }\n",
              "\n",
              "    .dataframe thead tr th {\n",
              "        text-align: left;\n",
              "    }\n",
              "\n",
              "    .dataframe thead tr:last-of-type th {\n",
              "        text-align: right;\n",
              "    }\n",
              "</style>\n",
              "<table border=\"1\" class=\"dataframe\">\n",
              "  <thead>\n",
              "    <tr>\n",
              "      <th></th>\n",
              "      <th>First Class</th>\n",
              "      <th>Second Class</th>\n",
              "      <th>Same Day</th>\n",
              "      <th>Standard Class</th>\n",
              "      <th>Furniture</th>\n",
              "      <th>Office Supplies</th>\n",
              "      <th>Technology</th>\n",
              "      <th colspan=\"3\" halign=\"left\">Sales</th>\n",
              "    </tr>\n",
              "    <tr>\n",
              "      <th></th>\n",
              "      <th>avg_first_class</th>\n",
              "      <th>avg_second_class</th>\n",
              "      <th>avg_same_day</th>\n",
              "      <th>avg_standard_class</th>\n",
              "      <th>avg_furniture</th>\n",
              "      <th>avg_office_sup</th>\n",
              "      <th>avg_tech</th>\n",
              "      <th>avg_sales</th>\n",
              "      <th>total_trx</th>\n",
              "      <th>total_sales</th>\n",
              "    </tr>\n",
              "    <tr>\n",
              "      <th>Customer ID</th>\n",
              "      <th></th>\n",
              "      <th></th>\n",
              "      <th></th>\n",
              "      <th></th>\n",
              "      <th></th>\n",
              "      <th></th>\n",
              "      <th></th>\n",
              "      <th></th>\n",
              "      <th></th>\n",
              "      <th></th>\n",
              "    </tr>\n",
              "  </thead>\n",
              "  <tbody>\n",
              "    <tr>\n",
              "      <th>AB-10600</th>\n",
              "      <td>0.750000</td>\n",
              "      <td>0.000000</td>\n",
              "      <td>0.000000</td>\n",
              "      <td>0.250000</td>\n",
              "      <td>0.250000</td>\n",
              "      <td>0.375000</td>\n",
              "      <td>0.375000</td>\n",
              "      <td>189.482750</td>\n",
              "      <td>8</td>\n",
              "      <td>1515.862</td>\n",
              "    </tr>\n",
              "    <tr>\n",
              "      <th>AC-10420</th>\n",
              "      <td>0.000000</td>\n",
              "      <td>0.400000</td>\n",
              "      <td>0.000000</td>\n",
              "      <td>0.600000</td>\n",
              "      <td>0.200000</td>\n",
              "      <td>0.800000</td>\n",
              "      <td>0.000000</td>\n",
              "      <td>185.160000</td>\n",
              "      <td>5</td>\n",
              "      <td>925.800</td>\n",
              "    </tr>\n",
              "    <tr>\n",
              "      <th>AC-10615</th>\n",
              "      <td>0.000000</td>\n",
              "      <td>0.000000</td>\n",
              "      <td>0.055556</td>\n",
              "      <td>0.944444</td>\n",
              "      <td>0.222222</td>\n",
              "      <td>0.555556</td>\n",
              "      <td>0.222222</td>\n",
              "      <td>140.982556</td>\n",
              "      <td>18</td>\n",
              "      <td>2537.686</td>\n",
              "    </tr>\n",
              "    <tr>\n",
              "      <th>AG-10300</th>\n",
              "      <td>0.200000</td>\n",
              "      <td>0.000000</td>\n",
              "      <td>0.000000</td>\n",
              "      <td>0.800000</td>\n",
              "      <td>0.400000</td>\n",
              "      <td>0.600000</td>\n",
              "      <td>0.000000</td>\n",
              "      <td>73.509600</td>\n",
              "      <td>5</td>\n",
              "      <td>367.548</td>\n",
              "    </tr>\n",
              "    <tr>\n",
              "      <th>AG-10495</th>\n",
              "      <td>0.071429</td>\n",
              "      <td>0.142857</td>\n",
              "      <td>0.142857</td>\n",
              "      <td>0.642857</td>\n",
              "      <td>0.142857</td>\n",
              "      <td>0.714286</td>\n",
              "      <td>0.142857</td>\n",
              "      <td>101.374786</td>\n",
              "      <td>14</td>\n",
              "      <td>1419.247</td>\n",
              "    </tr>\n",
              "    <tr>\n",
              "      <th>...</th>\n",
              "      <td>...</td>\n",
              "      <td>...</td>\n",
              "      <td>...</td>\n",
              "      <td>...</td>\n",
              "      <td>...</td>\n",
              "      <td>...</td>\n",
              "      <td>...</td>\n",
              "      <td>...</td>\n",
              "      <td>...</td>\n",
              "      <td>...</td>\n",
              "    </tr>\n",
              "    <tr>\n",
              "      <th>VG-21805</th>\n",
              "      <td>0.200000</td>\n",
              "      <td>0.000000</td>\n",
              "      <td>0.000000</td>\n",
              "      <td>0.800000</td>\n",
              "      <td>0.000000</td>\n",
              "      <td>0.800000</td>\n",
              "      <td>0.200000</td>\n",
              "      <td>83.686400</td>\n",
              "      <td>5</td>\n",
              "      <td>418.432</td>\n",
              "    </tr>\n",
              "    <tr>\n",
              "      <th>VP-21760</th>\n",
              "      <td>0.571429</td>\n",
              "      <td>0.000000</td>\n",
              "      <td>0.000000</td>\n",
              "      <td>0.428571</td>\n",
              "      <td>0.357143</td>\n",
              "      <td>0.428571</td>\n",
              "      <td>0.214286</td>\n",
              "      <td>240.037571</td>\n",
              "      <td>14</td>\n",
              "      <td>3360.526</td>\n",
              "    </tr>\n",
              "    <tr>\n",
              "      <th>VW-21775</th>\n",
              "      <td>0.166667</td>\n",
              "      <td>0.222222</td>\n",
              "      <td>0.000000</td>\n",
              "      <td>0.611111</td>\n",
              "      <td>0.222222</td>\n",
              "      <td>0.444444</td>\n",
              "      <td>0.333333</td>\n",
              "      <td>340.779889</td>\n",
              "      <td>18</td>\n",
              "      <td>6134.038</td>\n",
              "    </tr>\n",
              "    <tr>\n",
              "      <th>YC-21895</th>\n",
              "      <td>0.250000</td>\n",
              "      <td>0.000000</td>\n",
              "      <td>0.125000</td>\n",
              "      <td>0.625000</td>\n",
              "      <td>0.125000</td>\n",
              "      <td>0.625000</td>\n",
              "      <td>0.250000</td>\n",
              "      <td>681.793750</td>\n",
              "      <td>8</td>\n",
              "      <td>5454.350</td>\n",
              "    </tr>\n",
              "    <tr>\n",
              "      <th>YS-21880</th>\n",
              "      <td>0.083333</td>\n",
              "      <td>0.000000</td>\n",
              "      <td>0.000000</td>\n",
              "      <td>0.916667</td>\n",
              "      <td>0.250000</td>\n",
              "      <td>0.666667</td>\n",
              "      <td>0.083333</td>\n",
              "      <td>560.037000</td>\n",
              "      <td>12</td>\n",
              "      <td>6720.444</td>\n",
              "    </tr>\n",
              "  </tbody>\n",
              "</table>\n",
              "<p>236 rows × 10 columns</p>\n",
              "</div>\n",
              "      <button class=\"colab-df-convert\" onclick=\"convertToInteractive('df-eace92f3-9cc2-4ad0-90b1-9c975f25b082')\"\n",
              "              title=\"Convert this dataframe to an interactive table.\"\n",
              "              style=\"display:none;\">\n",
              "        \n",
              "  <svg xmlns=\"http://www.w3.org/2000/svg\" height=\"24px\"viewBox=\"0 0 24 24\"\n",
              "       width=\"24px\">\n",
              "    <path d=\"M0 0h24v24H0V0z\" fill=\"none\"/>\n",
              "    <path d=\"M18.56 5.44l.94 2.06.94-2.06 2.06-.94-2.06-.94-.94-2.06-.94 2.06-2.06.94zm-11 1L8.5 8.5l.94-2.06 2.06-.94-2.06-.94L8.5 2.5l-.94 2.06-2.06.94zm10 10l.94 2.06.94-2.06 2.06-.94-2.06-.94-.94-2.06-.94 2.06-2.06.94z\"/><path d=\"M17.41 7.96l-1.37-1.37c-.4-.4-.92-.59-1.43-.59-.52 0-1.04.2-1.43.59L10.3 9.45l-7.72 7.72c-.78.78-.78 2.05 0 2.83L4 21.41c.39.39.9.59 1.41.59.51 0 1.02-.2 1.41-.59l7.78-7.78 2.81-2.81c.8-.78.8-2.07 0-2.86zM5.41 20L4 18.59l7.72-7.72 1.47 1.35L5.41 20z\"/>\n",
              "  </svg>\n",
              "      </button>\n",
              "      \n",
              "  <style>\n",
              "    .colab-df-container {\n",
              "      display:flex;\n",
              "      flex-wrap:wrap;\n",
              "      gap: 12px;\n",
              "    }\n",
              "\n",
              "    .colab-df-convert {\n",
              "      background-color: #E8F0FE;\n",
              "      border: none;\n",
              "      border-radius: 50%;\n",
              "      cursor: pointer;\n",
              "      display: none;\n",
              "      fill: #1967D2;\n",
              "      height: 32px;\n",
              "      padding: 0 0 0 0;\n",
              "      width: 32px;\n",
              "    }\n",
              "\n",
              "    .colab-df-convert:hover {\n",
              "      background-color: #E2EBFA;\n",
              "      box-shadow: 0px 1px 2px rgba(60, 64, 67, 0.3), 0px 1px 3px 1px rgba(60, 64, 67, 0.15);\n",
              "      fill: #174EA6;\n",
              "    }\n",
              "\n",
              "    [theme=dark] .colab-df-convert {\n",
              "      background-color: #3B4455;\n",
              "      fill: #D2E3FC;\n",
              "    }\n",
              "\n",
              "    [theme=dark] .colab-df-convert:hover {\n",
              "      background-color: #434B5C;\n",
              "      box-shadow: 0px 1px 3px 1px rgba(0, 0, 0, 0.15);\n",
              "      filter: drop-shadow(0px 1px 2px rgba(0, 0, 0, 0.3));\n",
              "      fill: #FFFFFF;\n",
              "    }\n",
              "  </style>\n",
              "\n",
              "      <script>\n",
              "        const buttonEl =\n",
              "          document.querySelector('#df-eace92f3-9cc2-4ad0-90b1-9c975f25b082 button.colab-df-convert');\n",
              "        buttonEl.style.display =\n",
              "          google.colab.kernel.accessAllowed ? 'block' : 'none';\n",
              "\n",
              "        async function convertToInteractive(key) {\n",
              "          const element = document.querySelector('#df-eace92f3-9cc2-4ad0-90b1-9c975f25b082');\n",
              "          const dataTable =\n",
              "            await google.colab.kernel.invokeFunction('convertToInteractive',\n",
              "                                                     [key], {});\n",
              "          if (!dataTable) return;\n",
              "\n",
              "          const docLinkHtml = 'Like what you see? Visit the ' +\n",
              "            '<a target=\"_blank\" href=https://colab.research.google.com/notebooks/data_table.ipynb>data table notebook</a>'\n",
              "            + ' to learn more about interactive tables.';\n",
              "          element.innerHTML = '';\n",
              "          dataTable['output_type'] = 'display_data';\n",
              "          await google.colab.output.renderOutput(dataTable, element);\n",
              "          const docLink = document.createElement('div');\n",
              "          docLink.innerHTML = docLinkHtml;\n",
              "          element.appendChild(docLink);\n",
              "        }\n",
              "      </script>\n",
              "    </div>\n",
              "  </div>\n",
              "  "
            ]
          },
          "metadata": {},
          "execution_count": 54
        }
      ]
    },
    {
      "cell_type": "code",
      "source": [
        "#menghilangkan multi level column\n",
        "df_corporate_agg.columns = df_corporate_agg.columns.droplevel()\n",
        "df_corporate_agg.head()"
      ],
      "metadata": {
        "colab": {
          "base_uri": "https://localhost:8080/",
          "height": 238
        },
        "id": "VoPKdGndMOys",
        "outputId": "0907895b-04b7-45c2-97c8-1322307b943e"
      },
      "execution_count": 55,
      "outputs": [
        {
          "output_type": "execute_result",
          "data": {
            "text/plain": [
              "             avg_first_class  avg_second_class  avg_same_day  \\\n",
              "Customer ID                                                    \n",
              "AB-10600            0.750000          0.000000      0.000000   \n",
              "AC-10420            0.000000          0.400000      0.000000   \n",
              "AC-10615            0.000000          0.000000      0.055556   \n",
              "AG-10300            0.200000          0.000000      0.000000   \n",
              "AG-10495            0.071429          0.142857      0.142857   \n",
              "\n",
              "             avg_standard_class  avg_furniture  avg_office_sup  avg_tech  \\\n",
              "Customer ID                                                                \n",
              "AB-10600               0.250000       0.250000        0.375000  0.375000   \n",
              "AC-10420               0.600000       0.200000        0.800000  0.000000   \n",
              "AC-10615               0.944444       0.222222        0.555556  0.222222   \n",
              "AG-10300               0.800000       0.400000        0.600000  0.000000   \n",
              "AG-10495               0.642857       0.142857        0.714286  0.142857   \n",
              "\n",
              "              avg_sales  total_trx  total_sales  \n",
              "Customer ID                                      \n",
              "AB-10600     189.482750          8     1515.862  \n",
              "AC-10420     185.160000          5      925.800  \n",
              "AC-10615     140.982556         18     2537.686  \n",
              "AG-10300      73.509600          5      367.548  \n",
              "AG-10495     101.374786         14     1419.247  "
            ],
            "text/html": [
              "\n",
              "  <div id=\"df-8eec9984-cd1e-4efb-92e6-54dbe4fc231d\">\n",
              "    <div class=\"colab-df-container\">\n",
              "      <div>\n",
              "<style scoped>\n",
              "    .dataframe tbody tr th:only-of-type {\n",
              "        vertical-align: middle;\n",
              "    }\n",
              "\n",
              "    .dataframe tbody tr th {\n",
              "        vertical-align: top;\n",
              "    }\n",
              "\n",
              "    .dataframe thead th {\n",
              "        text-align: right;\n",
              "    }\n",
              "</style>\n",
              "<table border=\"1\" class=\"dataframe\">\n",
              "  <thead>\n",
              "    <tr style=\"text-align: right;\">\n",
              "      <th></th>\n",
              "      <th>avg_first_class</th>\n",
              "      <th>avg_second_class</th>\n",
              "      <th>avg_same_day</th>\n",
              "      <th>avg_standard_class</th>\n",
              "      <th>avg_furniture</th>\n",
              "      <th>avg_office_sup</th>\n",
              "      <th>avg_tech</th>\n",
              "      <th>avg_sales</th>\n",
              "      <th>total_trx</th>\n",
              "      <th>total_sales</th>\n",
              "    </tr>\n",
              "    <tr>\n",
              "      <th>Customer ID</th>\n",
              "      <th></th>\n",
              "      <th></th>\n",
              "      <th></th>\n",
              "      <th></th>\n",
              "      <th></th>\n",
              "      <th></th>\n",
              "      <th></th>\n",
              "      <th></th>\n",
              "      <th></th>\n",
              "      <th></th>\n",
              "    </tr>\n",
              "  </thead>\n",
              "  <tbody>\n",
              "    <tr>\n",
              "      <th>AB-10600</th>\n",
              "      <td>0.750000</td>\n",
              "      <td>0.000000</td>\n",
              "      <td>0.000000</td>\n",
              "      <td>0.250000</td>\n",
              "      <td>0.250000</td>\n",
              "      <td>0.375000</td>\n",
              "      <td>0.375000</td>\n",
              "      <td>189.482750</td>\n",
              "      <td>8</td>\n",
              "      <td>1515.862</td>\n",
              "    </tr>\n",
              "    <tr>\n",
              "      <th>AC-10420</th>\n",
              "      <td>0.000000</td>\n",
              "      <td>0.400000</td>\n",
              "      <td>0.000000</td>\n",
              "      <td>0.600000</td>\n",
              "      <td>0.200000</td>\n",
              "      <td>0.800000</td>\n",
              "      <td>0.000000</td>\n",
              "      <td>185.160000</td>\n",
              "      <td>5</td>\n",
              "      <td>925.800</td>\n",
              "    </tr>\n",
              "    <tr>\n",
              "      <th>AC-10615</th>\n",
              "      <td>0.000000</td>\n",
              "      <td>0.000000</td>\n",
              "      <td>0.055556</td>\n",
              "      <td>0.944444</td>\n",
              "      <td>0.222222</td>\n",
              "      <td>0.555556</td>\n",
              "      <td>0.222222</td>\n",
              "      <td>140.982556</td>\n",
              "      <td>18</td>\n",
              "      <td>2537.686</td>\n",
              "    </tr>\n",
              "    <tr>\n",
              "      <th>AG-10300</th>\n",
              "      <td>0.200000</td>\n",
              "      <td>0.000000</td>\n",
              "      <td>0.000000</td>\n",
              "      <td>0.800000</td>\n",
              "      <td>0.400000</td>\n",
              "      <td>0.600000</td>\n",
              "      <td>0.000000</td>\n",
              "      <td>73.509600</td>\n",
              "      <td>5</td>\n",
              "      <td>367.548</td>\n",
              "    </tr>\n",
              "    <tr>\n",
              "      <th>AG-10495</th>\n",
              "      <td>0.071429</td>\n",
              "      <td>0.142857</td>\n",
              "      <td>0.142857</td>\n",
              "      <td>0.642857</td>\n",
              "      <td>0.142857</td>\n",
              "      <td>0.714286</td>\n",
              "      <td>0.142857</td>\n",
              "      <td>101.374786</td>\n",
              "      <td>14</td>\n",
              "      <td>1419.247</td>\n",
              "    </tr>\n",
              "  </tbody>\n",
              "</table>\n",
              "</div>\n",
              "      <button class=\"colab-df-convert\" onclick=\"convertToInteractive('df-8eec9984-cd1e-4efb-92e6-54dbe4fc231d')\"\n",
              "              title=\"Convert this dataframe to an interactive table.\"\n",
              "              style=\"display:none;\">\n",
              "        \n",
              "  <svg xmlns=\"http://www.w3.org/2000/svg\" height=\"24px\"viewBox=\"0 0 24 24\"\n",
              "       width=\"24px\">\n",
              "    <path d=\"M0 0h24v24H0V0z\" fill=\"none\"/>\n",
              "    <path d=\"M18.56 5.44l.94 2.06.94-2.06 2.06-.94-2.06-.94-.94-2.06-.94 2.06-2.06.94zm-11 1L8.5 8.5l.94-2.06 2.06-.94-2.06-.94L8.5 2.5l-.94 2.06-2.06.94zm10 10l.94 2.06.94-2.06 2.06-.94-2.06-.94-.94-2.06-.94 2.06-2.06.94z\"/><path d=\"M17.41 7.96l-1.37-1.37c-.4-.4-.92-.59-1.43-.59-.52 0-1.04.2-1.43.59L10.3 9.45l-7.72 7.72c-.78.78-.78 2.05 0 2.83L4 21.41c.39.39.9.59 1.41.59.51 0 1.02-.2 1.41-.59l7.78-7.78 2.81-2.81c.8-.78.8-2.07 0-2.86zM5.41 20L4 18.59l7.72-7.72 1.47 1.35L5.41 20z\"/>\n",
              "  </svg>\n",
              "      </button>\n",
              "      \n",
              "  <style>\n",
              "    .colab-df-container {\n",
              "      display:flex;\n",
              "      flex-wrap:wrap;\n",
              "      gap: 12px;\n",
              "    }\n",
              "\n",
              "    .colab-df-convert {\n",
              "      background-color: #E8F0FE;\n",
              "      border: none;\n",
              "      border-radius: 50%;\n",
              "      cursor: pointer;\n",
              "      display: none;\n",
              "      fill: #1967D2;\n",
              "      height: 32px;\n",
              "      padding: 0 0 0 0;\n",
              "      width: 32px;\n",
              "    }\n",
              "\n",
              "    .colab-df-convert:hover {\n",
              "      background-color: #E2EBFA;\n",
              "      box-shadow: 0px 1px 2px rgba(60, 64, 67, 0.3), 0px 1px 3px 1px rgba(60, 64, 67, 0.15);\n",
              "      fill: #174EA6;\n",
              "    }\n",
              "\n",
              "    [theme=dark] .colab-df-convert {\n",
              "      background-color: #3B4455;\n",
              "      fill: #D2E3FC;\n",
              "    }\n",
              "\n",
              "    [theme=dark] .colab-df-convert:hover {\n",
              "      background-color: #434B5C;\n",
              "      box-shadow: 0px 1px 3px 1px rgba(0, 0, 0, 0.15);\n",
              "      filter: drop-shadow(0px 1px 2px rgba(0, 0, 0, 0.3));\n",
              "      fill: #FFFFFF;\n",
              "    }\n",
              "  </style>\n",
              "\n",
              "      <script>\n",
              "        const buttonEl =\n",
              "          document.querySelector('#df-8eec9984-cd1e-4efb-92e6-54dbe4fc231d button.colab-df-convert');\n",
              "        buttonEl.style.display =\n",
              "          google.colab.kernel.accessAllowed ? 'block' : 'none';\n",
              "\n",
              "        async function convertToInteractive(key) {\n",
              "          const element = document.querySelector('#df-8eec9984-cd1e-4efb-92e6-54dbe4fc231d');\n",
              "          const dataTable =\n",
              "            await google.colab.kernel.invokeFunction('convertToInteractive',\n",
              "                                                     [key], {});\n",
              "          if (!dataTable) return;\n",
              "\n",
              "          const docLinkHtml = 'Like what you see? Visit the ' +\n",
              "            '<a target=\"_blank\" href=https://colab.research.google.com/notebooks/data_table.ipynb>data table notebook</a>'\n",
              "            + ' to learn more about interactive tables.';\n",
              "          element.innerHTML = '';\n",
              "          dataTable['output_type'] = 'display_data';\n",
              "          await google.colab.output.renderOutput(dataTable, element);\n",
              "          const docLink = document.createElement('div');\n",
              "          docLink.innerHTML = docLinkHtml;\n",
              "          element.appendChild(docLink);\n",
              "        }\n",
              "      </script>\n",
              "    </div>\n",
              "  </div>\n",
              "  "
            ]
          },
          "metadata": {},
          "execution_count": 55
        }
      ]
    },
    {
      "cell_type": "markdown",
      "source": [
        "##Scaling"
      ],
      "metadata": {
        "id": "3ZzYwu-0Sxup"
      }
    },
    {
      "cell_type": "code",
      "source": [
        "scaler = StandardScaler()\n",
        "scaler.fit(df_corporate_agg)"
      ],
      "metadata": {
        "colab": {
          "base_uri": "https://localhost:8080/"
        },
        "id": "3Azr709wSzBn",
        "outputId": "f0f6844c-04c0-47e3-8e22-f08ef756f627"
      },
      "execution_count": 56,
      "outputs": [
        {
          "output_type": "execute_result",
          "data": {
            "text/plain": [
              "StandardScaler()"
            ]
          },
          "metadata": {},
          "execution_count": 56
        }
      ]
    },
    {
      "cell_type": "code",
      "source": [
        "X = scaler.transform(df_corporate_agg)\n",
        "X.shape"
      ],
      "metadata": {
        "colab": {
          "base_uri": "https://localhost:8080/"
        },
        "id": "OVk9ufYNS2Tn",
        "outputId": "19b7f3b3-f951-4799-f409-fdec9d44cee2"
      },
      "execution_count": 57,
      "outputs": [
        {
          "output_type": "execute_result",
          "data": {
            "text/plain": [
              "(236, 10)"
            ]
          },
          "metadata": {},
          "execution_count": 57
        }
      ]
    },
    {
      "cell_type": "code",
      "source": [
        "X"
      ],
      "metadata": {
        "colab": {
          "base_uri": "https://localhost:8080/"
        },
        "id": "5apgKJ1eS29v",
        "outputId": "4d479d7b-d75a-436d-899c-787a697a4196"
      },
      "execution_count": 58,
      "outputs": [
        {
          "output_type": "execute_result",
          "data": {
            "text/plain": [
              "array([[ 3.118945  , -0.9698398 , -0.44278868, ..., -0.22923443,\n",
              "        -0.75066388, -0.57452289],\n",
              "       [-0.87789674,  0.99936344, -0.44278868, ..., -0.24897564,\n",
              "        -1.24969677, -0.81641198],\n",
              "       [-0.87789674, -0.9698398 ,  0.24241936, ..., -0.45072592,\n",
              "         0.91277909, -0.15563795],\n",
              "       ...,\n",
              "       [ 0.01029031,  0.124162  , -0.44278868, ...,  0.46171183,\n",
              "         0.91277909,  1.31864496],\n",
              "       [ 0.45438384, -0.9698398 ,  1.09892942, ...,  2.01905955,\n",
              "        -0.75066388,  1.04001472],\n",
              "       [-0.43380322, -0.9698398 , -0.44278868, ...,  1.46301882,\n",
              "        -0.08528669,  1.55903532]])"
            ]
          },
          "metadata": {},
          "execution_count": 58
        }
      ]
    },
    {
      "cell_type": "markdown",
      "source": [
        "##Elbow Method"
      ],
      "metadata": {
        "id": "6qzOdQxpTI-w"
      }
    },
    {
      "cell_type": "code",
      "source": [
        "#flow, coba cluster dengan k yang beragam dari 1 sampai 20 \n",
        "INERTIA =[]\n",
        "for i in range(20):\n",
        "  km_i = KMeans(i+1) #+1 karena KMeans dimulai dari 1\n",
        "  km_i.fit(X)\n",
        "  INERTIA.append(km_i.inertia_)"
      ],
      "metadata": {
        "id": "5e1HRBF6TK6S"
      },
      "execution_count": 59,
      "outputs": []
    },
    {
      "cell_type": "code",
      "source": [
        "sns.lineplot(y=INERTIA, x=range(1,21))"
      ],
      "metadata": {
        "colab": {
          "base_uri": "https://localhost:8080/",
          "height": 380
        },
        "id": "ZKr64LwmTNP1",
        "outputId": "11008986-0ad9-4699-b26d-cb10f1686a89"
      },
      "execution_count": 60,
      "outputs": [
        {
          "output_type": "execute_result",
          "data": {
            "text/plain": [
              "<matplotlib.axes._subplots.AxesSubplot at 0x7fa552ab37d0>"
            ]
          },
          "metadata": {},
          "execution_count": 60
        },
        {
          "output_type": "display_data",
          "data": {
            "text/plain": [
              "<Figure size 576x396 with 1 Axes>"
            ],
            "image/png": "[encoded data removed]"
          },
          "metadata": {}
        }
      ]
    },
    {
      "cell_type": "markdown",
      "source": [
        "##Yellowbrick"
      ],
      "metadata": {
        "id": "Oksa7Yo4TSwL"
      }
    },
    {
      "cell_type": "code",
      "source": [
        "model = KMeans()\n",
        "visualizer = KElbowVisualizer(model, k=(1,20))\n",
        "\n",
        "visualizer.fit(X)        # Fit the data to the visualizer\n",
        "visualizer.show()        # Finalize and render the figure"
      ],
      "metadata": {
        "colab": {
          "base_uri": "https://localhost:8080/",
          "height": 433
        },
        "id": "MmBXkeVRTWGE",
        "outputId": "4130eb3c-b436-4b33-c232-00aebca2e124"
      },
      "execution_count": 61,
      "outputs": [
        {
          "output_type": "display_data",
          "data": {
            "text/plain": [
              "<Figure size 576x396 with 2 Axes>"
            ],
            "image/png": "[encoded data removed]"
          },
          "metadata": {}
        },
        {
          "output_type": "execute_result",
          "data": {
            "text/plain": [
              "<matplotlib.axes._subplots.AxesSubplot at 0x7fa55136ad50>"
            ]
          },
          "metadata": {},
          "execution_count": 61
        }
      ]
    },
    {
      "cell_type": "markdown",
      "source": [
        "Didapat jumlah cluster terbaik adalah 8"
      ],
      "metadata": {
        "id": "oLyPKSO1Tezy"
      }
    },
    {
      "cell_type": "code",
      "source": [
        "km = KMeans(n_clusters=8)\n",
        "km.fit(X)\n",
        "df_corporate_agg['cluster'] = km.predict(X)\n",
        "df_corporate_agg"
      ],
      "metadata": {
        "colab": {
          "base_uri": "https://localhost:8080/",
          "height": 455
        },
        "id": "8Y10au8XTdzn",
        "outputId": "4ad1bd55-d4b1-4530-873e-1fdefbbda781"
      },
      "execution_count": 62,
      "outputs": [
        {
          "output_type": "execute_result",
          "data": {
            "text/plain": [
              "             avg_first_class  avg_second_class  avg_same_day  \\\n",
              "Customer ID                                                    \n",
              "AB-10600            0.750000          0.000000      0.000000   \n",
              "AC-10420            0.000000          0.400000      0.000000   \n",
              "AC-10615            0.000000          0.000000      0.055556   \n",
              "AG-10300            0.200000          0.000000      0.000000   \n",
              "AG-10495            0.071429          0.142857      0.142857   \n",
              "...                      ...               ...           ...   \n",
              "VG-21805            0.200000          0.000000      0.000000   \n",
              "VP-21760            0.571429          0.000000      0.000000   \n",
              "VW-21775            0.166667          0.222222      0.000000   \n",
              "YC-21895            0.250000          0.000000      0.125000   \n",
              "YS-21880            0.083333          0.000000      0.000000   \n",
              "\n",
              "             avg_standard_class  avg_furniture  avg_office_sup  avg_tech  \\\n",
              "Customer ID                                                                \n",
              "AB-10600               0.250000       0.250000        0.375000  0.375000   \n",
              "AC-10420               0.600000       0.200000        0.800000  0.000000   \n",
              "AC-10615               0.944444       0.222222        0.555556  0.222222   \n",
              "AG-10300               0.800000       0.400000        0.600000  0.000000   \n",
              "AG-10495               0.642857       0.142857        0.714286  0.142857   \n",
              "...                         ...            ...             ...       ...   \n",
              "VG-21805               0.800000       0.000000        0.800000  0.200000   \n",
              "VP-21760               0.428571       0.357143        0.428571  0.214286   \n",
              "VW-21775               0.611111       0.222222        0.444444  0.333333   \n",
              "YC-21895               0.625000       0.125000        0.625000  0.250000   \n",
              "YS-21880               0.916667       0.250000        0.666667  0.083333   \n",
              "\n",
              "              avg_sales  total_trx  total_sales  cluster  \n",
              "Customer ID                                               \n",
              "AB-10600     189.482750          8     1515.862        3  \n",
              "AC-10420     185.160000          5      925.800        1  \n",
              "AC-10615     140.982556         18     2537.686        2  \n",
              "AG-10300      73.509600          5      367.548        1  \n",
              "AG-10495     101.374786         14     1419.247        1  \n",
              "...                 ...        ...          ...      ...  \n",
              "VG-21805      83.686400          5      418.432        1  \n",
              "VP-21760     240.037571         14     3360.526        3  \n",
              "VW-21775     340.779889         18     6134.038        7  \n",
              "YC-21895     681.793750          8     5454.350        7  \n",
              "YS-21880     560.037000         12     6720.444        7  \n",
              "\n",
              "[236 rows x 11 columns]"
            ],
            "text/html": [
              "\n",
              "  <div id=\"df-d068b4bf-e61a-4e40-b751-920761d45c0a\">\n",
              "    <div class=\"colab-df-container\">\n",
              "      <div>\n",
              "<style scoped>\n",
              "    .dataframe tbody tr th:only-of-type {\n",
              "        vertical-align: middle;\n",
              "    }\n",
              "\n",
              "    .dataframe tbody tr th {\n",
              "        vertical-align: top;\n",
              "    }\n",
              "\n",
              "    .dataframe thead th {\n",
              "        text-align: right;\n",
              "    }\n",
              "</style>\n",
              "<table border=\"1\" class=\"dataframe\">\n",
              "  <thead>\n",
              "    <tr style=\"text-align: right;\">\n",
              "      <th></th>\n",
              "      <th>avg_first_class</th>\n",
              "      <th>avg_second_class</th>\n",
              "      <th>avg_same_day</th>\n",
              "      <th>avg_standard_class</th>\n",
              "      <th>avg_furniture</th>\n",
              "      <th>avg_office_sup</th>\n",
              "      <th>avg_tech</th>\n",
              "      <th>avg_sales</th>\n",
              "      <th>total_trx</th>\n",
              "      <th>total_sales</th>\n",
              "      <th>cluster</th>\n",
              "    </tr>\n",
              "    <tr>\n",
              "      <th>Customer ID</th>\n",
              "      <th></th>\n",
              "      <th></th>\n",
              "      <th></th>\n",
              "      <th></th>\n",
              "      <th></th>\n",
              "      <th></th>\n",
              "      <th></th>\n",
              "      <th></th>\n",
              "      <th></th>\n",
              "      <th></th>\n",
              "      <th></th>\n",
              "    </tr>\n",
              "  </thead>\n",
              "  <tbody>\n",
              "    <tr>\n",
              "      <th>AB-10600</th>\n",
              "      <td>0.750000</td>\n",
              "      <td>0.000000</td>\n",
              "      <td>0.000000</td>\n",
              "      <td>0.250000</td>\n",
              "      <td>0.250000</td>\n",
              "      <td>0.375000</td>\n",
              "      <td>0.375000</td>\n",
              "      <td>189.482750</td>\n",
              "      <td>8</td>\n",
              "      <td>1515.862</td>\n",
              "      <td>3</td>\n",
              "    </tr>\n",
              "    <tr>\n",
              "      <th>AC-10420</th>\n",
              "      <td>0.000000</td>\n",
              "      <td>0.400000</td>\n",
              "      <td>0.000000</td>\n",
              "      <td>0.600000</td>\n",
              "      <td>0.200000</td>\n",
              "      <td>0.800000</td>\n",
              "      <td>0.000000</td>\n",
              "      <td>185.160000</td>\n",
              "      <td>5</td>\n",
              "      <td>925.800</td>\n",
              "      <td>1</td>\n",
              "    </tr>\n",
              "    <tr>\n",
              "      <th>AC-10615</th>\n",
              "      <td>0.000000</td>\n",
              "      <td>0.000000</td>\n",
              "      <td>0.055556</td>\n",
              "      <td>0.944444</td>\n",
              "      <td>0.222222</td>\n",
              "      <td>0.555556</td>\n",
              "      <td>0.222222</td>\n",
              "      <td>140.982556</td>\n",
              "      <td>18</td>\n",
              "      <td>2537.686</td>\n",
              "      <td>2</td>\n",
              "    </tr>\n",
              "    <tr>\n",
              "      <th>AG-10300</th>\n",
              "      <td>0.200000</td>\n",
              "      <td>0.000000</td>\n",
              "      <td>0.000000</td>\n",
              "      <td>0.800000</td>\n",
              "      <td>0.400000</td>\n",
              "      <td>0.600000</td>\n",
              "      <td>0.000000</td>\n",
              "      <td>73.509600</td>\n",
              "      <td>5</td>\n",
              "      <td>367.548</td>\n",
              "      <td>1</td>\n",
              "    </tr>\n",
              "    <tr>\n",
              "      <th>AG-10495</th>\n",
              "      <td>0.071429</td>\n",
              "      <td>0.142857</td>\n",
              "      <td>0.142857</td>\n",
              "      <td>0.642857</td>\n",
              "      <td>0.142857</td>\n",
              "      <td>0.714286</td>\n",
              "      <td>0.142857</td>\n",
              "      <td>101.374786</td>\n",
              "      <td>14</td>\n",
              "      <td>1419.247</td>\n",
              "      <td>1</td>\n",
              "    </tr>\n",
              "    <tr>\n",
              "      <th>...</th>\n",
              "      <td>...</td>\n",
              "      <td>...</td>\n",
              "      <td>...</td>\n",
              "      <td>...</td>\n",
              "      <td>...</td>\n",
              "      <td>...</td>\n",
              "      <td>...</td>\n",
              "      <td>...</td>\n",
              "      <td>...</td>\n",
              "      <td>...</td>\n",
              "      <td>...</td>\n",
              "    </tr>\n",
              "    <tr>\n",
              "      <th>VG-21805</th>\n",
              "      <td>0.200000</td>\n",
              "      <td>0.000000</td>\n",
              "      <td>0.000000</td>\n",
              "      <td>0.800000</td>\n",
              "      <td>0.000000</td>\n",
              "      <td>0.800000</td>\n",
              "      <td>0.200000</td>\n",
              "      <td>83.686400</td>\n",
              "      <td>5</td>\n",
              "      <td>418.432</td>\n",
              "      <td>1</td>\n",
              "    </tr>\n",
              "    <tr>\n",
              "      <th>VP-21760</th>\n",
              "      <td>0.571429</td>\n",
              "      <td>0.000000</td>\n",
              "      <td>0.000000</td>\n",
              "      <td>0.428571</td>\n",
              "      <td>0.357143</td>\n",
              "      <td>0.428571</td>\n",
              "      <td>0.214286</td>\n",
              "      <td>240.037571</td>\n",
              "      <td>14</td>\n",
              "      <td>3360.526</td>\n",
              "      <td>3</td>\n",
              "    </tr>\n",
              "    <tr>\n",
              "      <th>VW-21775</th>\n",
              "      <td>0.166667</td>\n",
              "      <td>0.222222</td>\n",
              "      <td>0.000000</td>\n",
              "      <td>0.611111</td>\n",
              "      <td>0.222222</td>\n",
              "      <td>0.444444</td>\n",
              "      <td>0.333333</td>\n",
              "      <td>340.779889</td>\n",
              "      <td>18</td>\n",
              "      <td>6134.038</td>\n",
              "      <td>7</td>\n",
              "    </tr>\n",
              "    <tr>\n",
              "      <th>YC-21895</th>\n",
              "      <td>0.250000</td>\n",
              "      <td>0.000000</td>\n",
              "      <td>0.125000</td>\n",
              "      <td>0.625000</td>\n",
              "      <td>0.125000</td>\n",
              "      <td>0.625000</td>\n",
              "      <td>0.250000</td>\n",
              "      <td>681.793750</td>\n",
              "      <td>8</td>\n",
              "      <td>5454.350</td>\n",
              "      <td>7</td>\n",
              "    </tr>\n",
              "    <tr>\n",
              "      <th>YS-21880</th>\n",
              "      <td>0.083333</td>\n",
              "      <td>0.000000</td>\n",
              "      <td>0.000000</td>\n",
              "      <td>0.916667</td>\n",
              "      <td>0.250000</td>\n",
              "      <td>0.666667</td>\n",
              "      <td>0.083333</td>\n",
              "      <td>560.037000</td>\n",
              "      <td>12</td>\n",
              "      <td>6720.444</td>\n",
              "      <td>7</td>\n",
              "    </tr>\n",
              "  </tbody>\n",
              "</table>\n",
              "<p>236 rows × 11 columns</p>\n",
              "</div>\n",
              "      <button class=\"colab-df-convert\" onclick=\"convertToInteractive('df-d068b4bf-e61a-4e40-b751-920761d45c0a')\"\n",
              "              title=\"Convert this dataframe to an interactive table.\"\n",
              "              style=\"display:none;\">\n",
              "        \n",
              "  <svg xmlns=\"http://www.w3.org/2000/svg\" height=\"24px\"viewBox=\"0 0 24 24\"\n",
              "       width=\"24px\">\n",
              "    <path d=\"M0 0h24v24H0V0z\" fill=\"none\"/>\n",
              "    <path d=\"M18.56 5.44l.94 2.06.94-2.06 2.06-.94-2.06-.94-.94-2.06-.94 2.06-2.06.94zm-11 1L8.5 8.5l.94-2.06 2.06-.94-2.06-.94L8.5 2.5l-.94 2.06-2.06.94zm10 10l.94 2.06.94-2.06 2.06-.94-2.06-.94-.94-2.06-.94 2.06-2.06.94z\"/><path d=\"M17.41 7.96l-1.37-1.37c-.4-.4-.92-.59-1.43-.59-.52 0-1.04.2-1.43.59L10.3 9.45l-7.72 7.72c-.78.78-.78 2.05 0 2.83L4 21.41c.39.39.9.59 1.41.59.51 0 1.02-.2 1.41-.59l7.78-7.78 2.81-2.81c.8-.78.8-2.07 0-2.86zM5.41 20L4 18.59l7.72-7.72 1.47 1.35L5.41 20z\"/>\n",
              "  </svg>\n",
              "      </button>\n",
              "      \n",
              "  <style>\n",
              "    .colab-df-container {\n",
              "      display:flex;\n",
              "      flex-wrap:wrap;\n",
              "      gap: 12px;\n",
              "    }\n",
              "\n",
              "    .colab-df-convert {\n",
              "      background-color: #E8F0FE;\n",
              "      border: none;\n",
              "      border-radius: 50%;\n",
              "      cursor: pointer;\n",
              "      display: none;\n",
              "      fill: #1967D2;\n",
              "      height: 32px;\n",
              "      padding: 0 0 0 0;\n",
              "      width: 32px;\n",
              "    }\n",
              "\n",
              "    .colab-df-convert:hover {\n",
              "      background-color: #E2EBFA;\n",
              "      box-shadow: 0px 1px 2px rgba(60, 64, 67, 0.3), 0px 1px 3px 1px rgba(60, 64, 67, 0.15);\n",
              "      fill: #174EA6;\n",
              "    }\n",
              "\n",
              "    [theme=dark] .colab-df-convert {\n",
              "      background-color: #3B4455;\n",
              "      fill: #D2E3FC;\n",
              "    }\n",
              "\n",
              "    [theme=dark] .colab-df-convert:hover {\n",
              "      background-color: #434B5C;\n",
              "      box-shadow: 0px 1px 3px 1px rgba(0, 0, 0, 0.15);\n",
              "      filter: drop-shadow(0px 1px 2px rgba(0, 0, 0, 0.3));\n",
              "      fill: #FFFFFF;\n",
              "    }\n",
              "  </style>\n",
              "\n",
              "      <script>\n",
              "        const buttonEl =\n",
              "          document.querySelector('#df-d068b4bf-e61a-4e40-b751-920761d45c0a button.colab-df-convert');\n",
              "        buttonEl.style.display =\n",
              "          google.colab.kernel.accessAllowed ? 'block' : 'none';\n",
              "\n",
              "        async function convertToInteractive(key) {\n",
              "          const element = document.querySelector('#df-d068b4bf-e61a-4e40-b751-920761d45c0a');\n",
              "          const dataTable =\n",
              "            await google.colab.kernel.invokeFunction('convertToInteractive',\n",
              "                                                     [key], {});\n",
              "          if (!dataTable) return;\n",
              "\n",
              "          const docLinkHtml = 'Like what you see? Visit the ' +\n",
              "            '<a target=\"_blank\" href=https://colab.research.google.com/notebooks/data_table.ipynb>data table notebook</a>'\n",
              "            + ' to learn more about interactive tables.';\n",
              "          element.innerHTML = '';\n",
              "          dataTable['output_type'] = 'display_data';\n",
              "          await google.colab.output.renderOutput(dataTable, element);\n",
              "          const docLink = document.createElement('div');\n",
              "          docLink.innerHTML = docLinkHtml;\n",
              "          element.appendChild(docLink);\n",
              "        }\n",
              "      </script>\n",
              "    </div>\n",
              "  </div>\n",
              "  "
            ]
          },
          "metadata": {},
          "execution_count": 62
        }
      ]
    },
    {
      "cell_type": "markdown",
      "source": [
        "##Segement Analysis - Sales"
      ],
      "metadata": {
        "id": "4mFx8YwyT_27"
      }
    },
    {
      "cell_type": "code",
      "source": [
        "df_corporate_agg['cluster'].value_counts()"
      ],
      "metadata": {
        "colab": {
          "base_uri": "https://localhost:8080/"
        },
        "id": "bMi0PyNmUCoh",
        "outputId": "8540f580-8395-44ce-a1f3-def990bbcf7e"
      },
      "execution_count": 63,
      "outputs": [
        {
          "output_type": "execute_result",
          "data": {
            "text/plain": [
              "1    58\n",
              "7    49\n",
              "2    39\n",
              "3    36\n",
              "5    27\n",
              "4    18\n",
              "0     5\n",
              "6     4\n",
              "Name: cluster, dtype: int64"
            ]
          },
          "metadata": {},
          "execution_count": 63
        }
      ]
    },
    {
      "cell_type": "markdown",
      "source": [
        "Dapat dilihat bahwa cluster ke 0 dan 6 datanya minim sehingga dapat kita abaikan dalam pembuatan grafik"
      ],
      "metadata": {
        "id": "3c3SwBSQUKZ7"
      }
    },
    {
      "cell_type": "code",
      "source": [
        "# #Drop cluster yang minim data\n",
        "# df_corporate_agg = df_corporate_agg[~df_corporate_agg['cluster'].isin([0,6])]"
      ],
      "metadata": {
        "id": "j36vIxBWUl0i"
      },
      "execution_count": 64,
      "outputs": []
    },
    {
      "cell_type": "code",
      "source": [
        "sns.set(font_scale=1)"
      ],
      "metadata": {
        "id": "V4kRMaoQw72C"
      },
      "execution_count": 78,
      "outputs": []
    },
    {
      "cell_type": "code",
      "source": [
        "sns.histplot(data=df_corporate_agg, x='avg_sales', hue='cluster', palette='tab10')"
      ],
      "metadata": {
        "colab": {
          "base_uri": "https://localhost:8080/",
          "height": 387
        },
        "id": "_kwxCVAWVso_",
        "outputId": "976aae24-0536-4931-a8a7-cb1781bdc548"
      },
      "execution_count": 79,
      "outputs": [
        {
          "output_type": "execute_result",
          "data": {
            "text/plain": [
              "<matplotlib.axes._subplots.AxesSubplot at 0x7fa55bc2ac10>"
            ]
          },
          "metadata": {},
          "execution_count": 79
        },
        {
          "output_type": "display_data",
          "data": {
            "text/plain": [
              "<Figure size 576x396 with 1 Axes>"
            ],
            "image/png": "[encoded data removed]"
          },
          "metadata": {}
        }
      ]
    },
    {
      "cell_type": "markdown",
      "source": [
        "##Bootstrapping"
      ],
      "metadata": {
        "id": "3yFyUqJZVzCC"
      }
    },
    {
      "cell_type": "code",
      "source": [
        "def bootstrap_corporate(df,column):\n",
        "  BOOTS = []\n",
        "  for i in range(200):\n",
        "    for j in range(8):\n",
        "      #with replacement\n",
        "      mean = df[df['cluster'] == j].sample(100, replace=True)[column].mean()\n",
        "      BOOTS.append((j,mean))\n",
        "  df_boots = pd.DataFrame(BOOTS,columns=['cluster',column])\n",
        "  return df_boots"
      ],
      "metadata": {
        "id": "TzbWQDiKV1ZW"
      },
      "execution_count": 66,
      "outputs": []
    },
    {
      "cell_type": "code",
      "source": [
        "column = 'total_trx'\n",
        "df_boots = bootstrap_corporate(df_corporate_agg, column)\n",
        "sns.histplot(data=df_boots, x=column, hue='cluster', palette='tab10')"
      ],
      "metadata": {
        "colab": {
          "base_uri": "https://localhost:8080/",
          "height": 387
        },
        "id": "Umtl8HQZXEjq",
        "outputId": "a4b4b1f5-3653-418a-db0e-455295f44dc2"
      },
      "execution_count": 80,
      "outputs": [
        {
          "output_type": "execute_result",
          "data": {
            "text/plain": [
              "<matplotlib.axes._subplots.AxesSubplot at 0x7fa55136a790>"
            ]
          },
          "metadata": {},
          "execution_count": 80
        },
        {
          "output_type": "display_data",
          "data": {
            "text/plain": [
              "<Figure size 576x396 with 1 Axes>"
            ],
            "image/png": "[encoded data removed]"
          },
          "metadata": {}
        }
      ]
    },
    {
      "cell_type": "code",
      "source": [
        "column = 'avg_sales'\n",
        "df_boots = bootstrap_corporate(df_corporate_agg, column)\n",
        "sns.histplot(data=df_boots, x=column, hue='cluster', palette='tab10')"
      ],
      "metadata": {
        "colab": {
          "base_uri": "https://localhost:8080/",
          "height": 387
        },
        "id": "0j3OJ4iyl7GM",
        "outputId": "c4304232-d577-45f6-e6ff-52f94c002b44"
      },
      "execution_count": 81,
      "outputs": [
        {
          "output_type": "execute_result",
          "data": {
            "text/plain": [
              "<matplotlib.axes._subplots.AxesSubplot at 0x7fa54dd9d750>"
            ]
          },
          "metadata": {},
          "execution_count": 81
        },
        {
          "output_type": "display_data",
          "data": {
            "text/plain": [
              "<Figure size 576x396 with 1 Axes>"
            ],
            "image/png": "[encoded data removed]"
          },
          "metadata": {}
        }
      ]
    },
    {
      "cell_type": "code",
      "source": [
        "column = 'avg_same_day'\n",
        "df_boots = bootstrap_corporate(df_corporate_agg, column)\n",
        "sns.histplot(data=df_boots, x=column, hue='cluster', palette='tab10')"
      ],
      "metadata": {
        "colab": {
          "base_uri": "https://localhost:8080/",
          "height": 387
        },
        "id": "cAdR0lvEmDkW",
        "outputId": "36675e47-4d16-44d1-db14-14f10644d685"
      },
      "execution_count": 82,
      "outputs": [
        {
          "output_type": "execute_result",
          "data": {
            "text/plain": [
              "<matplotlib.axes._subplots.AxesSubplot at 0x7fa54db4a890>"
            ]
          },
          "metadata": {},
          "execution_count": 82
        },
        {
          "output_type": "display_data",
          "data": {
            "text/plain": [
              "<Figure size 576x396 with 1 Axes>"
            ],
            "image/png": "[encoded data removed]"
          },
          "metadata": {}
        }
      ]
    },
    {
      "cell_type": "code",
      "source": [
        "column = 'avg_second_class'\n",
        "df_boots = bootstrap_corporate(df_corporate_agg, column)\n",
        "sns.histplot(data=df_boots, x=column, hue='cluster', palette='tab10')"
      ],
      "metadata": {
        "colab": {
          "base_uri": "https://localhost:8080/",
          "height": 387
        },
        "id": "p-ZJPXhNmKOc",
        "outputId": "1c7e5294-2574-4ccd-ff20-a303db79b81b"
      },
      "execution_count": 83,
      "outputs": [
        {
          "output_type": "execute_result",
          "data": {
            "text/plain": [
              "<matplotlib.axes._subplots.AxesSubplot at 0x7fa54dad8410>"
            ]
          },
          "metadata": {},
          "execution_count": 83
        },
        {
          "output_type": "display_data",
          "data": {
            "text/plain": [
              "<Figure size 576x396 with 1 Axes>"
            ],
            "image/png": "[encoded data removed]"
          },
          "metadata": {}
        }
      ]
    },
    {
      "cell_type": "markdown",
      "source": [
        "## Agregasi per Cluster"
      ],
      "metadata": {
        "id": "k02bDLaQmcz1"
      }
    },
    {
      "cell_type": "code",
      "source": [
        "df_cluster_agg = df_corporate_agg.groupby('cluster').median().reset_index()\n",
        "df_cluster_agg"
      ],
      "metadata": {
        "colab": {
          "base_uri": "https://localhost:8080/",
          "height": 300
        },
        "id": "xntUYC5PmfNQ",
        "outputId": "1404c88c-f62d-4c95-9f47-a5b95ec648df"
      },
      "execution_count": 71,
      "outputs": [
        {
          "output_type": "execute_result",
          "data": {
            "text/plain": [
              "   cluster  avg_first_class  avg_second_class  avg_same_day  \\\n",
              "0        0         0.166667          0.000000      0.111111   \n",
              "1        1         0.065126          0.125000      0.000000   \n",
              "2        2         0.000000          0.066667      0.000000   \n",
              "3        3         0.400000          0.118056      0.000000   \n",
              "4        4         0.226496          0.087121      0.215839   \n",
              "5        5         0.100000          0.538462      0.000000   \n",
              "6        6         0.433333          0.000000      0.000000   \n",
              "7        7         0.083333          0.214286      0.000000   \n",
              "\n",
              "   avg_standard_class  avg_furniture  avg_office_sup  avg_tech    avg_sales  \\\n",
              "0            0.666667       0.166667        0.400000  0.222222  1558.535333   \n",
              "1            0.714286       0.148352        0.750000  0.090909   134.193443   \n",
              "2            0.866667       0.250000        0.500000  0.250000   220.168600   \n",
              "3            0.449495       0.153846        0.618056  0.222222   202.696163   \n",
              "4            0.453416       0.306250        0.643182  0.094298   129.910206   \n",
              "5            0.375000       0.300000        0.500000  0.153846   193.664000   \n",
              "6            0.366667       0.900000        0.000000  0.000000   428.126000   \n",
              "7            0.636364       0.187500        0.600000  0.210526   272.001417   \n",
              "\n",
              "   total_trx  total_sales  \n",
              "0        9.0   10501.6530  \n",
              "1        9.0    1270.6620  \n",
              "2       11.0    2454.6220  \n",
              "3       11.5    2248.1265  \n",
              "4       12.5    2222.1790  \n",
              "5       10.0    1804.1460  \n",
              "6        2.5    1686.8820  \n",
              "7       19.0    4802.3940  "
            ],
            "text/html": [
              "\n",
              "  <div id=\"df-a37b91bd-b3c7-40ef-8fdd-e9a8c5d88602\">\n",
              "    <div class=\"colab-df-container\">\n",
              "      <div>\n",
              "<style scoped>\n",
              "    .dataframe tbody tr th:only-of-type {\n",
              "        vertical-align: middle;\n",
              "    }\n",
              "\n",
              "    .dataframe tbody tr th {\n",
              "        vertical-align: top;\n",
              "    }\n",
              "\n",
              "    .dataframe thead th {\n",
              "        text-align: right;\n",
              "    }\n",
              "</style>\n",
              "<table border=\"1\" class=\"dataframe\">\n",
              "  <thead>\n",
              "    <tr style=\"text-align: right;\">\n",
              "      <th></th>\n",
              "      <th>cluster</th>\n",
              "      <th>avg_first_class</th>\n",
              "      <th>avg_second_class</th>\n",
              "      <th>avg_same_day</th>\n",
              "      <th>avg_standard_class</th>\n",
              "      <th>avg_furniture</th>\n",
              "      <th>avg_office_sup</th>\n",
              "      <th>avg_tech</th>\n",
              "      <th>avg_sales</th>\n",
              "      <th>total_trx</th>\n",
              "      <th>total_sales</th>\n",
              "    </tr>\n",
              "  </thead>\n",
              "  <tbody>\n",
              "    <tr>\n",
              "      <th>0</th>\n",
              "      <td>0</td>\n",
              "      <td>0.166667</td>\n",
              "      <td>0.000000</td>\n",
              "      <td>0.111111</td>\n",
              "      <td>0.666667</td>\n",
              "      <td>0.166667</td>\n",
              "      <td>0.400000</td>\n",
              "      <td>0.222222</td>\n",
              "      <td>1558.535333</td>\n",
              "      <td>9.0</td>\n",
              "      <td>10501.6530</td>\n",
              "    </tr>\n",
              "    <tr>\n",
              "      <th>1</th>\n",
              "      <td>1</td>\n",
              "      <td>0.065126</td>\n",
              "      <td>0.125000</td>\n",
              "      <td>0.000000</td>\n",
              "      <td>0.714286</td>\n",
              "      <td>0.148352</td>\n",
              "      <td>0.750000</td>\n",
              "      <td>0.090909</td>\n",
              "      <td>134.193443</td>\n",
              "      <td>9.0</td>\n",
              "      <td>1270.6620</td>\n",
              "    </tr>\n",
              "    <tr>\n",
              "      <th>2</th>\n",
              "      <td>2</td>\n",
              "      <td>0.000000</td>\n",
              "      <td>0.066667</td>\n",
              "      <td>0.000000</td>\n",
              "      <td>0.866667</td>\n",
              "      <td>0.250000</td>\n",
              "      <td>0.500000</td>\n",
              "      <td>0.250000</td>\n",
              "      <td>220.168600</td>\n",
              "      <td>11.0</td>\n",
              "      <td>2454.6220</td>\n",
              "    </tr>\n",
              "    <tr>\n",
              "      <th>3</th>\n",
              "      <td>3</td>\n",
              "      <td>0.400000</td>\n",
              "      <td>0.118056</td>\n",
              "      <td>0.000000</td>\n",
              "      <td>0.449495</td>\n",
              "      <td>0.153846</td>\n",
              "      <td>0.618056</td>\n",
              "      <td>0.222222</td>\n",
              "      <td>202.696163</td>\n",
              "      <td>11.5</td>\n",
              "      <td>2248.1265</td>\n",
              "    </tr>\n",
              "    <tr>\n",
              "      <th>4</th>\n",
              "      <td>4</td>\n",
              "      <td>0.226496</td>\n",
              "      <td>0.087121</td>\n",
              "      <td>0.215839</td>\n",
              "      <td>0.453416</td>\n",
              "      <td>0.306250</td>\n",
              "      <td>0.643182</td>\n",
              "      <td>0.094298</td>\n",
              "      <td>129.910206</td>\n",
              "      <td>12.5</td>\n",
              "      <td>2222.1790</td>\n",
              "    </tr>\n",
              "    <tr>\n",
              "      <th>5</th>\n",
              "      <td>5</td>\n",
              "      <td>0.100000</td>\n",
              "      <td>0.538462</td>\n",
              "      <td>0.000000</td>\n",
              "      <td>0.375000</td>\n",
              "      <td>0.300000</td>\n",
              "      <td>0.500000</td>\n",
              "      <td>0.153846</td>\n",
              "      <td>193.664000</td>\n",
              "      <td>10.0</td>\n",
              "      <td>1804.1460</td>\n",
              "    </tr>\n",
              "    <tr>\n",
              "      <th>6</th>\n",
              "      <td>6</td>\n",
              "      <td>0.433333</td>\n",
              "      <td>0.000000</td>\n",
              "      <td>0.000000</td>\n",
              "      <td>0.366667</td>\n",
              "      <td>0.900000</td>\n",
              "      <td>0.000000</td>\n",
              "      <td>0.000000</td>\n",
              "      <td>428.126000</td>\n",
              "      <td>2.5</td>\n",
              "      <td>1686.8820</td>\n",
              "    </tr>\n",
              "    <tr>\n",
              "      <th>7</th>\n",
              "      <td>7</td>\n",
              "      <td>0.083333</td>\n",
              "      <td>0.214286</td>\n",
              "      <td>0.000000</td>\n",
              "      <td>0.636364</td>\n",
              "      <td>0.187500</td>\n",
              "      <td>0.600000</td>\n",
              "      <td>0.210526</td>\n",
              "      <td>272.001417</td>\n",
              "      <td>19.0</td>\n",
              "      <td>4802.3940</td>\n",
              "    </tr>\n",
              "  </tbody>\n",
              "</table>\n",
              "</div>\n",
              "      <button class=\"colab-df-convert\" onclick=\"convertToInteractive('df-a37b91bd-b3c7-40ef-8fdd-e9a8c5d88602')\"\n",
              "              title=\"Convert this dataframe to an interactive table.\"\n",
              "              style=\"display:none;\">\n",
              "        \n",
              "  <svg xmlns=\"http://www.w3.org/2000/svg\" height=\"24px\"viewBox=\"0 0 24 24\"\n",
              "       width=\"24px\">\n",
              "    <path d=\"M0 0h24v24H0V0z\" fill=\"none\"/>\n",
              "    <path d=\"M18.56 5.44l.94 2.06.94-2.06 2.06-.94-2.06-.94-.94-2.06-.94 2.06-2.06.94zm-11 1L8.5 8.5l.94-2.06 2.06-.94-2.06-.94L8.5 2.5l-.94 2.06-2.06.94zm10 10l.94 2.06.94-2.06 2.06-.94-2.06-.94-.94-2.06-.94 2.06-2.06.94z\"/><path d=\"M17.41 7.96l-1.37-1.37c-.4-.4-.92-.59-1.43-.59-.52 0-1.04.2-1.43.59L10.3 9.45l-7.72 7.72c-.78.78-.78 2.05 0 2.83L4 21.41c.39.39.9.59 1.41.59.51 0 1.02-.2 1.41-.59l7.78-7.78 2.81-2.81c.8-.78.8-2.07 0-2.86zM5.41 20L4 18.59l7.72-7.72 1.47 1.35L5.41 20z\"/>\n",
              "  </svg>\n",
              "      </button>\n",
              "      \n",
              "  <style>\n",
              "    .colab-df-container {\n",
              "      display:flex;\n",
              "      flex-wrap:wrap;\n",
              "      gap: 12px;\n",
              "    }\n",
              "\n",
              "    .colab-df-convert {\n",
              "      background-color: #E8F0FE;\n",
              "      border: none;\n",
              "      border-radius: 50%;\n",
              "      cursor: pointer;\n",
              "      display: none;\n",
              "      fill: #1967D2;\n",
              "      height: 32px;\n",
              "      padding: 0 0 0 0;\n",
              "      width: 32px;\n",
              "    }\n",
              "\n",
              "    .colab-df-convert:hover {\n",
              "      background-color: #E2EBFA;\n",
              "      box-shadow: 0px 1px 2px rgba(60, 64, 67, 0.3), 0px 1px 3px 1px rgba(60, 64, 67, 0.15);\n",
              "      fill: #174EA6;\n",
              "    }\n",
              "\n",
              "    [theme=dark] .colab-df-convert {\n",
              "      background-color: #3B4455;\n",
              "      fill: #D2E3FC;\n",
              "    }\n",
              "\n",
              "    [theme=dark] .colab-df-convert:hover {\n",
              "      background-color: #434B5C;\n",
              "      box-shadow: 0px 1px 3px 1px rgba(0, 0, 0, 0.15);\n",
              "      filter: drop-shadow(0px 1px 2px rgba(0, 0, 0, 0.3));\n",
              "      fill: #FFFFFF;\n",
              "    }\n",
              "  </style>\n",
              "\n",
              "      <script>\n",
              "        const buttonEl =\n",
              "          document.querySelector('#df-a37b91bd-b3c7-40ef-8fdd-e9a8c5d88602 button.colab-df-convert');\n",
              "        buttonEl.style.display =\n",
              "          google.colab.kernel.accessAllowed ? 'block' : 'none';\n",
              "\n",
              "        async function convertToInteractive(key) {\n",
              "          const element = document.querySelector('#df-a37b91bd-b3c7-40ef-8fdd-e9a8c5d88602');\n",
              "          const dataTable =\n",
              "            await google.colab.kernel.invokeFunction('convertToInteractive',\n",
              "                                                     [key], {});\n",
              "          if (!dataTable) return;\n",
              "\n",
              "          const docLinkHtml = 'Like what you see? Visit the ' +\n",
              "            '<a target=\"_blank\" href=https://colab.research.google.com/notebooks/data_table.ipynb>data table notebook</a>'\n",
              "            + ' to learn more about interactive tables.';\n",
              "          element.innerHTML = '';\n",
              "          dataTable['output_type'] = 'display_data';\n",
              "          await google.colab.output.renderOutput(dataTable, element);\n",
              "          const docLink = document.createElement('div');\n",
              "          docLink.innerHTML = docLinkHtml;\n",
              "          element.appendChild(docLink);\n",
              "        }\n",
              "      </script>\n",
              "    </div>\n",
              "  </div>\n",
              "  "
            ]
          },
          "metadata": {},
          "execution_count": 71
        }
      ]
    },
    {
      "cell_type": "code",
      "source": [
        "#Drop cluster yang minim data\n",
        "df_cluster_agg = df_cluster_agg[~df_cluster_agg['cluster'].isin([0,6])]\n",
        "df_cluster_agg"
      ],
      "metadata": {
        "colab": {
          "base_uri": "https://localhost:8080/",
          "height": 238
        },
        "id": "5OTw1bYumniU",
        "outputId": "0f40868d-349d-43f7-a63d-89b065cfb5ef"
      },
      "execution_count": 72,
      "outputs": [
        {
          "output_type": "execute_result",
          "data": {
            "text/plain": [
              "   cluster  avg_first_class  avg_second_class  avg_same_day  \\\n",
              "1        1         0.065126          0.125000      0.000000   \n",
              "2        2         0.000000          0.066667      0.000000   \n",
              "3        3         0.400000          0.118056      0.000000   \n",
              "4        4         0.226496          0.087121      0.215839   \n",
              "5        5         0.100000          0.538462      0.000000   \n",
              "7        7         0.083333          0.214286      0.000000   \n",
              "\n",
              "   avg_standard_class  avg_furniture  avg_office_sup  avg_tech   avg_sales  \\\n",
              "1            0.714286       0.148352        0.750000  0.090909  134.193443   \n",
              "2            0.866667       0.250000        0.500000  0.250000  220.168600   \n",
              "3            0.449495       0.153846        0.618056  0.222222  202.696163   \n",
              "4            0.453416       0.306250        0.643182  0.094298  129.910206   \n",
              "5            0.375000       0.300000        0.500000  0.153846  193.664000   \n",
              "7            0.636364       0.187500        0.600000  0.210526  272.001417   \n",
              "\n",
              "   total_trx  total_sales  \n",
              "1        9.0    1270.6620  \n",
              "2       11.0    2454.6220  \n",
              "3       11.5    2248.1265  \n",
              "4       12.5    2222.1790  \n",
              "5       10.0    1804.1460  \n",
              "7       19.0    4802.3940  "
            ],
            "text/html": [
              "\n",
              "  <div id=\"df-26b11d16-fe7c-4180-987a-505f3cb185d8\">\n",
              "    <div class=\"colab-df-container\">\n",
              "      <div>\n",
              "<style scoped>\n",
              "    .dataframe tbody tr th:only-of-type {\n",
              "        vertical-align: middle;\n",
              "    }\n",
              "\n",
              "    .dataframe tbody tr th {\n",
              "        vertical-align: top;\n",
              "    }\n",
              "\n",
              "    .dataframe thead th {\n",
              "        text-align: right;\n",
              "    }\n",
              "</style>\n",
              "<table border=\"1\" class=\"dataframe\">\n",
              "  <thead>\n",
              "    <tr style=\"text-align: right;\">\n",
              "      <th></th>\n",
              "      <th>cluster</th>\n",
              "      <th>avg_first_class</th>\n",
              "      <th>avg_second_class</th>\n",
              "      <th>avg_same_day</th>\n",
              "      <th>avg_standard_class</th>\n",
              "      <th>avg_furniture</th>\n",
              "      <th>avg_office_sup</th>\n",
              "      <th>avg_tech</th>\n",
              "      <th>avg_sales</th>\n",
              "      <th>total_trx</th>\n",
              "      <th>total_sales</th>\n",
              "    </tr>\n",
              "  </thead>\n",
              "  <tbody>\n",
              "    <tr>\n",
              "      <th>1</th>\n",
              "      <td>1</td>\n",
              "      <td>0.065126</td>\n",
              "      <td>0.125000</td>\n",
              "      <td>0.000000</td>\n",
              "      <td>0.714286</td>\n",
              "      <td>0.148352</td>\n",
              "      <td>0.750000</td>\n",
              "      <td>0.090909</td>\n",
              "      <td>134.193443</td>\n",
              "      <td>9.0</td>\n",
              "      <td>1270.6620</td>\n",
              "    </tr>\n",
              "    <tr>\n",
              "      <th>2</th>\n",
              "      <td>2</td>\n",
              "      <td>0.000000</td>\n",
              "      <td>0.066667</td>\n",
              "      <td>0.000000</td>\n",
              "      <td>0.866667</td>\n",
              "      <td>0.250000</td>\n",
              "      <td>0.500000</td>\n",
              "      <td>0.250000</td>\n",
              "      <td>220.168600</td>\n",
              "      <td>11.0</td>\n",
              "      <td>2454.6220</td>\n",
              "    </tr>\n",
              "    <tr>\n",
              "      <th>3</th>\n",
              "      <td>3</td>\n",
              "      <td>0.400000</td>\n",
              "      <td>0.118056</td>\n",
              "      <td>0.000000</td>\n",
              "      <td>0.449495</td>\n",
              "      <td>0.153846</td>\n",
              "      <td>0.618056</td>\n",
              "      <td>0.222222</td>\n",
              "      <td>202.696163</td>\n",
              "      <td>11.5</td>\n",
              "      <td>2248.1265</td>\n",
              "    </tr>\n",
              "    <tr>\n",
              "      <th>4</th>\n",
              "      <td>4</td>\n",
              "      <td>0.226496</td>\n",
              "      <td>0.087121</td>\n",
              "      <td>0.215839</td>\n",
              "      <td>0.453416</td>\n",
              "      <td>0.306250</td>\n",
              "      <td>0.643182</td>\n",
              "      <td>0.094298</td>\n",
              "      <td>129.910206</td>\n",
              "      <td>12.5</td>\n",
              "      <td>2222.1790</td>\n",
              "    </tr>\n",
              "    <tr>\n",
              "      <th>5</th>\n",
              "      <td>5</td>\n",
              "      <td>0.100000</td>\n",
              "      <td>0.538462</td>\n",
              "      <td>0.000000</td>\n",
              "      <td>0.375000</td>\n",
              "      <td>0.300000</td>\n",
              "      <td>0.500000</td>\n",
              "      <td>0.153846</td>\n",
              "      <td>193.664000</td>\n",
              "      <td>10.0</td>\n",
              "      <td>1804.1460</td>\n",
              "    </tr>\n",
              "    <tr>\n",
              "      <th>7</th>\n",
              "      <td>7</td>\n",
              "      <td>0.083333</td>\n",
              "      <td>0.214286</td>\n",
              "      <td>0.000000</td>\n",
              "      <td>0.636364</td>\n",
              "      <td>0.187500</td>\n",
              "      <td>0.600000</td>\n",
              "      <td>0.210526</td>\n",
              "      <td>272.001417</td>\n",
              "      <td>19.0</td>\n",
              "      <td>4802.3940</td>\n",
              "    </tr>\n",
              "  </tbody>\n",
              "</table>\n",
              "</div>\n",
              "      <button class=\"colab-df-convert\" onclick=\"convertToInteractive('df-26b11d16-fe7c-4180-987a-505f3cb185d8')\"\n",
              "              title=\"Convert this dataframe to an interactive table.\"\n",
              "              style=\"display:none;\">\n",
              "        \n",
              "  <svg xmlns=\"http://www.w3.org/2000/svg\" height=\"24px\"viewBox=\"0 0 24 24\"\n",
              "       width=\"24px\">\n",
              "    <path d=\"M0 0h24v24H0V0z\" fill=\"none\"/>\n",
              "    <path d=\"M18.56 5.44l.94 2.06.94-2.06 2.06-.94-2.06-.94-.94-2.06-.94 2.06-2.06.94zm-11 1L8.5 8.5l.94-2.06 2.06-.94-2.06-.94L8.5 2.5l-.94 2.06-2.06.94zm10 10l.94 2.06.94-2.06 2.06-.94-2.06-.94-.94-2.06-.94 2.06-2.06.94z\"/><path d=\"M17.41 7.96l-1.37-1.37c-.4-.4-.92-.59-1.43-.59-.52 0-1.04.2-1.43.59L10.3 9.45l-7.72 7.72c-.78.78-.78 2.05 0 2.83L4 21.41c.39.39.9.59 1.41.59.51 0 1.02-.2 1.41-.59l7.78-7.78 2.81-2.81c.8-.78.8-2.07 0-2.86zM5.41 20L4 18.59l7.72-7.72 1.47 1.35L5.41 20z\"/>\n",
              "  </svg>\n",
              "      </button>\n",
              "      \n",
              "  <style>\n",
              "    .colab-df-container {\n",
              "      display:flex;\n",
              "      flex-wrap:wrap;\n",
              "      gap: 12px;\n",
              "    }\n",
              "\n",
              "    .colab-df-convert {\n",
              "      background-color: #E8F0FE;\n",
              "      border: none;\n",
              "      border-radius: 50%;\n",
              "      cursor: pointer;\n",
              "      display: none;\n",
              "      fill: #1967D2;\n",
              "      height: 32px;\n",
              "      padding: 0 0 0 0;\n",
              "      width: 32px;\n",
              "    }\n",
              "\n",
              "    .colab-df-convert:hover {\n",
              "      background-color: #E2EBFA;\n",
              "      box-shadow: 0px 1px 2px rgba(60, 64, 67, 0.3), 0px 1px 3px 1px rgba(60, 64, 67, 0.15);\n",
              "      fill: #174EA6;\n",
              "    }\n",
              "\n",
              "    [theme=dark] .colab-df-convert {\n",
              "      background-color: #3B4455;\n",
              "      fill: #D2E3FC;\n",
              "    }\n",
              "\n",
              "    [theme=dark] .colab-df-convert:hover {\n",
              "      background-color: #434B5C;\n",
              "      box-shadow: 0px 1px 3px 1px rgba(0, 0, 0, 0.15);\n",
              "      filter: drop-shadow(0px 1px 2px rgba(0, 0, 0, 0.3));\n",
              "      fill: #FFFFFF;\n",
              "    }\n",
              "  </style>\n",
              "\n",
              "      <script>\n",
              "        const buttonEl =\n",
              "          document.querySelector('#df-26b11d16-fe7c-4180-987a-505f3cb185d8 button.colab-df-convert');\n",
              "        buttonEl.style.display =\n",
              "          google.colab.kernel.accessAllowed ? 'block' : 'none';\n",
              "\n",
              "        async function convertToInteractive(key) {\n",
              "          const element = document.querySelector('#df-26b11d16-fe7c-4180-987a-505f3cb185d8');\n",
              "          const dataTable =\n",
              "            await google.colab.kernel.invokeFunction('convertToInteractive',\n",
              "                                                     [key], {});\n",
              "          if (!dataTable) return;\n",
              "\n",
              "          const docLinkHtml = 'Like what you see? Visit the ' +\n",
              "            '<a target=\"_blank\" href=https://colab.research.google.com/notebooks/data_table.ipynb>data table notebook</a>'\n",
              "            + ' to learn more about interactive tables.';\n",
              "          element.innerHTML = '';\n",
              "          dataTable['output_type'] = 'display_data';\n",
              "          await google.colab.output.renderOutput(dataTable, element);\n",
              "          const docLink = document.createElement('div');\n",
              "          docLink.innerHTML = docLinkHtml;\n",
              "          element.appendChild(docLink);\n",
              "        }\n",
              "      </script>\n",
              "    </div>\n",
              "  </div>\n",
              "  "
            ]
          },
          "metadata": {},
          "execution_count": 72
        }
      ]
    },
    {
      "cell_type": "code",
      "source": [
        "columns = df_cluster_agg.columns[1:] #Dimulai dari 1 karena tidak melibatkan "
      ],
      "metadata": {
        "id": "4rwkr7Mkm7hZ"
      },
      "execution_count": 73,
      "outputs": []
    },
    {
      "cell_type": "code",
      "source": [
        "df_corporate_agg['cluster'].value_counts()"
      ],
      "metadata": {
        "colab": {
          "base_uri": "https://localhost:8080/"
        },
        "id": "R8Se4fMvngCR",
        "outputId": "f8ec33a2-4c26-473e-82ee-0de19dd3c375"
      },
      "execution_count": 74,
      "outputs": [
        {
          "output_type": "execute_result",
          "data": {
            "text/plain": [
              "1    58\n",
              "7    49\n",
              "2    39\n",
              "3    36\n",
              "5    27\n",
              "4    18\n",
              "0     5\n",
              "6     4\n",
              "Name: cluster, dtype: int64"
            ]
          },
          "metadata": {},
          "execution_count": 74
        }
      ]
    },
    {
      "cell_type": "code",
      "source": [
        "fig, axs = plt.subplots(ncols=2, nrows=5, figsize=(20, 40))\n",
        "for r in range(5): # jumlah baris / rows\n",
        "    for c in range(2):  # jumlah column\n",
        "        # avg_second_class => r=0, c=1\n",
        "        column_idx = (r*2) + c # --> ngambil index columns yang ke (0*2) + 1 = 1\n",
        "        sns.barplot(data=df_cluster_agg, x='cluster', y=columns[column_idx], ax=axs[r][c])"
      ],
      "metadata": {
        "colab": {
          "base_uri": "https://localhost:8080/",
          "height": 1000
        },
        "id": "L_4RIJVGm_kW",
        "outputId": "496f6895-a614-448b-aa9e-c6b8f2405a16"
      },
      "execution_count": 84,
      "outputs": [
        {
          "output_type": "display_data",
          "data": {
            "text/plain": [
              "<Figure size 1440x2880 with 10 Axes>"
            ],
            "image/png": "[encoded data removed]"
          },
          "metadata": {}
        }
      ]
    },
    {
      "cell_type": "code",
      "source": [
        "# hvc = high value customer berdasarkan total_sales dan average sales\n",
        "customer_id_hvc = df_corporate_agg[df_corporate_agg['cluster'] == 7].index\n",
        "df[df['Customer ID'].isin(customer_id_hvc)].groupby('Sub-Category').size().sort_values(ascending=False)"
      ],
      "metadata": {
        "colab": {
          "base_uri": "https://localhost:8080/"
        },
        "id": "54q0iwj9plcS",
        "outputId": "e5b3b346-281b-4c0f-bade-922a81364e95"
      },
      "execution_count": 76,
      "outputs": [
        {
          "output_type": "execute_result",
          "data": {
            "text/plain": [
              "Sub-Category\n",
              "Binders        140\n",
              "Paper          132\n",
              "Phones         100\n",
              "Furnishings     83\n",
              "Storage         81\n",
              "Accessories     72\n",
              "Art             71\n",
              "Chairs          61\n",
              "Appliances      45\n",
              "Envelopes       31\n",
              "Labels          30\n",
              "Tables          28\n",
              "Fasteners       18\n",
              "Bookcases       16\n",
              "Machines        15\n",
              "Supplies        13\n",
              "Copiers          5\n",
              "dtype: int64"
            ]
          },
          "metadata": {},
          "execution_count": 76
        }
      ]
    },
    {
      "cell_type": "code",
      "source": [
        "df[df['Customer ID'].isin(customer_id_hvc)].groupby('Category').size().sort_values(ascending=False)"
      ],
      "metadata": {
        "colab": {
          "base_uri": "https://localhost:8080/"
        },
        "id": "LZUBQrd0tcQB",
        "outputId": "0e4fde52-e394-4444-e5bb-4821d1f16952"
      },
      "execution_count": 77,
      "outputs": [
        {
          "output_type": "execute_result",
          "data": {
            "text/plain": [
              "Category\n",
              "Office Supplies    561\n",
              "Technology         192\n",
              "Furniture          188\n",
              "dtype: int64"
            ]
          },
          "metadata": {},
          "execution_count": 77
        }
      ]
    },
    {
      "cell_type": "markdown",
      "source": [
        "##Insight"
      ],
      "metadata": {
        "id": "Kn6Al86AnKT6"
      }
    },
    {
      "cell_type": "markdown",
      "source": [
        "-\tPembelian dengan tipe ship mode “First Class” didominasi oleh cluster 3\n",
        "-\tPembelian dengan tipe ship mode “Second Class” didominasi oleh cluster 5\n",
        "-\tPembelian dengan tipe ship mode “Same day”  hanya ada di cluster 4\n",
        "-\tPembelian Category  “Furniture”  secara umum ada pada cluster 4 dan 5\n",
        "-\tPembelian Category  “tech”  tertinggi ada pada cluster 2\n",
        "-\tPembelian Category  “Office supply”  tertinggi ada pada cluster 1\n",
        "-\tTotal transaksi terbanyak ada pada cluster 7\n",
        "-\tRata-rate penjualan dan total penjualan terbanyak ada di cluster 7 yang bisa kita katakan sebagai high value customer\n"
      ],
      "metadata": {
        "id": "SeEPV2GFqZF8"
      }
    },
    {
      "cell_type": "markdown",
      "source": [
        "##Kesimpulan"
      ],
      "metadata": {
        "id": "-zzdVYDNqhpG"
      }
    },
    {
      "cell_type": "markdown",
      "source": [
        "Berikut adalah kesimpulan berdasarkan insight yang telah kita dapatkan dari visualisasi grafik pada segment corporate "
      ],
      "metadata": {
        "id": "x3wCrwWHqv9A"
      }
    },
    {
      "cell_type": "markdown",
      "source": [
        "- Segment corporate dapat dibagi menjadi 8 segment berdasarkan polanya tetapi cluster 0 dan 6 dapat diabaikan dikarenakan jumlah data yang minim\n",
        "- Cluster 5 biasanya membeli \"Furniture\" dengan ship mode \"Second Class\". Kedepannya kita bisa memberikan penawaran promo berupa diskon atau free barang setiap pembelian furniture\n",
        "- Cluster 2 didominasi oleh pembelian \"tech\". Kedepannya kita bisa memberikan penawaran berupa diskon untuk produk \"tech\" tertentu agar bisa lebih banyak traffic pembeliannya.\n",
        "-Cluster 1 didominasi oleh pembelian \"Office Supply\". Kedepannya kita bisa memberikan penawaran berupa buy one get one free atau berupa diskon produk \"Office Supply\"\n",
        "-Cluster 7 merupakan High value customer kita dimana memiliki total transaksi,rata-rata sales, dan total sales terbesar di antara cluster lainnya sehingga kita harus lebih concern kepada cluster ini. Pemberian promo khusus cluster ini bisa berupa diskon yang lebih besar terhadap cluster lainnya. Pemberian rekomendasi pada tampilan Home customer ini harus disesuaikan dengan pembelian terbanyak yang dilakukan cluster ini. Pembelian terbanyaknya pada Sub-Category yaitu adalah Binders dan Papers yang termasuk ke dalam Category Office Supplies. "
      ],
      "metadata": {
        "id": "bu2EWmKFrC6v"
      }
    }
  ]
}